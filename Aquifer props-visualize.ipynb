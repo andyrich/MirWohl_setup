{
 "cells": [
  {
   "cell_type": "code",
   "execution_count": null,
   "id": "c49de4ea-b882-4416-aae0-a58dd9d5c2e6",
   "metadata": {},
   "outputs": [],
   "source": [
    "import basic\n",
    "import matplotlib.pyplot as plt\n",
    "import matplotlib as mpl\n",
    "import numpy as np\n",
    "import cartopy.crs as ccrs\n",
    "import matplotlib.gridspec as gridspec\n",
    "from mpl_toolkits.axes_grid1 import make_axes_locatable\n",
    "import contextily as ctx\n",
    "import pandas as pd\n",
    "import geopandas as gpd\n",
    "import basic\n",
    "import flopy"
   ]
  },
  {
   "cell_type": "code",
   "execution_count": null,
   "id": "63e6d6b0-5274-4f51-bb15-2ed8ce99b370",
   "metadata": {},
   "outputs": [],
   "source": []
  },
  {
   "cell_type": "code",
   "execution_count": null,
   "id": "47aed365-552e-4de2-92d0-6e4240f5a267",
   "metadata": {},
   "outputs": [],
   "source": []
  },
  {
   "cell_type": "code",
   "execution_count": null,
   "id": "6176cc13-d92c-43e1-85fc-1b0871627678",
   "metadata": {},
   "outputs": [],
   "source": []
  },
  {
   "cell_type": "code",
   "execution_count": null,
   "id": "fdf06726-2175-4e33-99b2-9286cddc9afd",
   "metadata": {},
   "outputs": [],
   "source": [
    "ml = basic.load_model()"
   ]
  },
  {
   "cell_type": "code",
   "execution_count": null,
   "id": "0fc5e8b0-782f-4562-a079-25b07bc8c765",
   "metadata": {},
   "outputs": [],
   "source": [
    "thick = ml.dis.top.array-ml.dis.botm.array[0]\n",
    "\n",
    "ib = ml.bas6.ibound.array[0]\n",
    "\n",
    "thick[ib==0] = np.nan\n",
    "\n",
    "plt.imshow(thick)\n",
    "plt.colorbar()"
   ]
  },
  {
   "cell_type": "code",
   "execution_count": null,
   "id": "961df8c7-d00a-46c1-9a1b-e361d6e87e72",
   "metadata": {},
   "outputs": [],
   "source": [
    "import xyzservices"
   ]
  },
  {
   "cell_type": "code",
   "execution_count": null,
   "id": "dbddd7e6-907b-47b6-b7f4-3648896954c5",
   "metadata": {},
   "outputs": [],
   "source": []
  },
  {
   "cell_type": "code",
   "execution_count": null,
   "id": "be571a6a-19c5-431f-9deb-41ede2b53668",
   "metadata": {},
   "outputs": [],
   "source": []
  },
  {
   "cell_type": "code",
   "execution_count": null,
   "id": "5a38de71-4fcf-4ac6-ba87-b5b1e997b097",
   "metadata": {},
   "outputs": [],
   "source": [
    "(ml.upw.vka.array/ml.upw.hk.array).shape"
   ]
  },
  {
   "cell_type": "code",
   "execution_count": null,
   "id": "76f9381f-ec3c-4b8a-a059-8a61cd6e9ab0",
   "metadata": {},
   "outputs": [],
   "source": [
    "for i in range(3):\n",
    "    print(np.nanmean(an[i].reshape(-1)))"
   ]
  },
  {
   "cell_type": "code",
   "execution_count": null,
   "id": "2a316783-3396-4bbb-b0c6-432c0f33033a",
   "metadata": {},
   "outputs": [],
   "source": [
    "an = ml.upw.vka.array/ml.upw.hk.array\n",
    "\n",
    "an[np.isinf(an)] = np.nan\n",
    "\n",
    "fig = basic.plot_aquifer_prop(ml,an,vmin = .01,vmax = .2,\n",
    "                              title='Anisotropy\\nVertical Hydraulic Conductivity : Horizontal Hydraulic Conductivity')"
   ]
  },
  {
   "cell_type": "code",
   "execution_count": null,
   "id": "061b41f3-b555-45d2-a065-745e1c0066d2",
   "metadata": {},
   "outputs": [],
   "source": [
    "an = ml.upw.vka.array/ml.upw.hk.array\n",
    "\n",
    "an[np.isinf(an)] = np.nan\n",
    "\n",
    "fig = basic.plot_aquifer_prop(ml,an,vmin = .01,vmax = .2,\n",
    "                              title='Anisotropy\\nVertical Hydraulic Conductivity : Horizontal Hydraulic Conductivity')\n"
   ]
  },
  {
   "cell_type": "code",
   "execution_count": null,
   "id": "6d6edd6b-daf9-4f16-91c1-3376909f9bbf",
   "metadata": {},
   "outputs": [],
   "source": [
    "fig = basic.plot_aquifer_prop(ml,  ml.upw.hk.array)"
   ]
  },
  {
   "cell_type": "code",
   "execution_count": null,
   "id": "407eb307-5bbb-4ae4-a641-28e08f033b21",
   "metadata": {},
   "outputs": [],
   "source": [
    "fig = basic.plot_aquifer_prop(ml,  ml.upw.hk.array)"
   ]
  },
  {
   "cell_type": "code",
   "execution_count": null,
   "id": "2b9fd92a-6788-4da4-8cde-f6a9f4d849ea",
   "metadata": {},
   "outputs": [],
   "source": [
    "fig = basic.plot_aquifer_prop(ml, ml.upw.vka.array*ml.upw.hk.array, title='Vertical Hydraulic Conductivity')"
   ]
  },
  {
   "cell_type": "code",
   "execution_count": null,
   "id": "549b3ac9-e848-4d85-8474-054efc8f52b2",
   "metadata": {},
   "outputs": [],
   "source": [
    "fig = basic.plot_aquifer_prop(ml,  ml.upw.ss.array, vmin = 0.001, vmax = 0.1, title = 'Specific Storage')"
   ]
  },
  {
   "cell_type": "code",
   "execution_count": null,
   "id": "3fc3a1bd-48c7-4db1-a933-3f4de245e54c",
   "metadata": {},
   "outputs": [],
   "source": []
  },
  {
   "cell_type": "code",
   "execution_count": null,
   "id": "0c93c2e7-95eb-4324-bb4f-69dcf1396393",
   "metadata": {},
   "outputs": [],
   "source": []
  },
  {
   "cell_type": "code",
   "execution_count": null,
   "id": "5953eedb-7e9b-4e73-a36b-906feff79443",
   "metadata": {},
   "outputs": [],
   "source": [
    "plt.figure(figsize = (10,10))\n",
    "ml.ghb.plot(kper = 0, inactive = False, color = 'r', mflay = 0, figsize = (10,10))"
   ]
  },
  {
   "cell_type": "code",
   "execution_count": null,
   "id": "595c44a9-6019-4ef5-ae0b-1ed024f3e866",
   "metadata": {},
   "outputs": [],
   "source": [
    "import conda_scripts.arich_functions as af\n",
    "import conda_scripts.plot_help as ph\n",
    "import conda_scripts.rich_gis"
   ]
  },
  {
   "cell_type": "code",
   "execution_count": null,
   "id": "cfdd8190-f16e-4b27-8d02-11e43d14b317",
   "metadata": {},
   "outputs": [],
   "source": [
    "mg = ml.modelgrid\n",
    "grid = af.get_model_shp(mg)\n",
    "\n",
    "grid = grid.drop(columns = ['row', 'col'])\n",
    "\n",
    "grid.head()"
   ]
  },
  {
   "cell_type": "code",
   "execution_count": null,
   "id": "651ad10c-8bed-4590-b884-4326eb2b8236",
   "metadata": {},
   "outputs": [],
   "source": [
    "flopy.modflow.Modflow.load()"
   ]
  },
  {
   "cell_type": "markdown",
   "id": "ac496b3b-4875-4b49-9abc-9c28152c4cfe",
   "metadata": {},
   "source": [
    "## use the following to export arrays and then edit."
   ]
  },
  {
   "cell_type": "code",
   "execution_count": null,
   "id": "30e7e030-6682-4fd1-b651-522af363dc64",
   "metadata": {},
   "outputs": [],
   "source": [
    "hk = af.array2rc(ml.upw.hk.array[1], name = 'hk')\n",
    "\n",
    "hk = pd.merge(hk, grid, on = ['i', 'j'])\n",
    "\n",
    "hk = gpd.GeoDataFrame(hk, geometry = 'geometry', crs = 2226)"
   ]
  },
  {
   "cell_type": "code",
   "execution_count": null,
   "id": "7e4b1e26-f080-4493-8bbd-62940e996dd1",
   "metadata": {},
   "outputs": [],
   "source": [
    "hk.explore('hk')"
   ]
  },
  {
   "cell_type": "code",
   "execution_count": null,
   "id": "ea3fe01f-3bdf-4d4e-b960-47615f15d533",
   "metadata": {},
   "outputs": [],
   "source": [
    "import os"
   ]
  },
  {
   "cell_type": "code",
   "execution_count": null,
   "id": "1c895b07-26d5-4a15-9228-a7d57e1bced5",
   "metadata": {},
   "outputs": [],
   "source": [
    "os.mkdir('tmp')"
   ]
  },
  {
   "cell_type": "code",
   "execution_count": null,
   "id": "4abc4616-99dd-4bcc-8ac1-2c9848e642e1",
   "metadata": {},
   "outputs": [],
   "source": [
    "hk.to_file('tmp/hk2.shp')"
   ]
  },
  {
   "cell_type": "code",
   "execution_count": null,
   "id": "0adcb545-cfd0-4d14-83d8-676259c982bc",
   "metadata": {},
   "outputs": [],
   "source": [
    "hk = gpd.read_file('tmp/hk2.shp')"
   ]
  },
  {
   "cell_type": "code",
   "execution_count": null,
   "id": "c1a6cb68-641e-4fed-9fff-3637421f57ee",
   "metadata": {},
   "outputs": [],
   "source": [
    "hk = af.rw2aray(ml.dis.nrow, ml.dis.ncol, hk.loc[:,'i'].astype(int)+1,hk.loc[:,'j'].astype(int)+1, hk.loc[:,'hk'], 'hk'  )"
   ]
  },
  {
   "cell_type": "code",
   "execution_count": null,
   "id": "fbbca96a-9ab5-4923-a58e-f849a9d1145d",
   "metadata": {},
   "outputs": [],
   "source": [
    "hk['hk']"
   ]
  },
  {
   "cell_type": "code",
   "execution_count": null,
   "id": "d5cf21db-8a72-4647-a2c7-33c64a4b8015",
   "metadata": {},
   "outputs": [],
   "source": [
    "plt.imshow(hk['hk'])"
   ]
  },
  {
   "cell_type": "code",
   "execution_count": null,
   "id": "f84b5fc6-a617-4b56-b3ec-0ae2f7148c7c",
   "metadata": {},
   "outputs": [],
   "source": [
    "np.savetxt('RR_2022/hklay2_thck.txt',hk['hk'], fmt = '%.15f', delimiter = ',')"
   ]
  },
  {
   "cell_type": "code",
   "execution_count": null,
   "id": "e381cbd9-fb05-4ab2-a042-139a2ec14dc1",
   "metadata": {},
   "outputs": [],
   "source": []
  }
 ],
 "metadata": {
  "kernelspec": {
   "display_name": "Python 3 (ipykernel)",
   "language": "python",
   "name": "python3"
  },
  "language_info": {
   "codemirror_mode": {
    "name": "ipython",
    "version": 3
   },
   "file_extension": ".py",
   "mimetype": "text/x-python",
   "name": "python",
   "nbconvert_exporter": "python",
   "pygments_lexer": "ipython3",
   "version": "3.10.4"
  }
 },
 "nbformat": 4,
 "nbformat_minor": 5
}
