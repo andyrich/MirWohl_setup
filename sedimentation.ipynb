{
 "cells": [
  {
   "cell_type": "code",
   "execution_count": null,
   "id": "08b2052c-7d48-4051-a5c5-ac3d8fa5de9b",
   "metadata": {},
   "outputs": [],
   "source": [
    "\n",
    "import os\n",
    "import geopandas as gpd\n",
    "\n",
    "import matplotlib.pyplot as plt\n",
    "import geopandas as gpd\n",
    "import basic\n",
    "import contextily as ctx\n",
    "import pandas as pd\n",
    "import numpy as np\n",
    "import cartopy.crs as ccrs\n",
    "import os\n",
    "import matplotlib.pyplot as plt\n",
    "import pathlib\n",
    "import conda_scripts.plot_help as ph\n",
    "from scipy.spatial.distance import pdist, squareform\n",
    "from matplotlib import ticker\n",
    "\n",
    "import write_inflows\n",
    "import flopy.utils.binaryfile as bf\n",
    "\n",
    "import warnings"
   ]
  },
  {
   "cell_type": "code",
   "execution_count": null,
   "id": "b462763f-6c3b-41be-aaf6-5c93d5214d05",
   "metadata": {},
   "outputs": [],
   "source": []
  },
  {
   "cell_type": "code",
   "execution_count": null,
   "id": "e989407b-bcfa-477b-8f07-23190ed9c521",
   "metadata": {},
   "outputs": [],
   "source": [
    "info, swr_info, sfr_info, riv_keys_info = basic.load_params('June2016')\n",
    "\n",
    "datestart = info['start_date']\n",
    "\n",
    "name = info['name']\n",
    "\n",
    "out_folder = basic.out_folder('June2016')\n",
    "\n",
    "\n",
    "print(datestart)\n",
    "print(out_folder)"
   ]
  },
  {
   "cell_type": "code",
   "execution_count": null,
   "id": "7ff62dd4-069a-4417-bd90-4fe4101de56c",
   "metadata": {},
   "outputs": [],
   "source": [
    "import conda_scripts.arich_functions as af"
   ]
  },
  {
   "cell_type": "code",
   "execution_count": null,
   "id": "0d282a56-5db7-44af-b0c7-037ab19c1298",
   "metadata": {},
   "outputs": [],
   "source": [
    "basic"
   ]
  },
  {
   "cell_type": "code",
   "execution_count": null,
   "id": "6351f7f6-c390-4581-b9d6-ff7f3e28649d",
   "metadata": {},
   "outputs": [],
   "source": []
  },
  {
   "cell_type": "code",
   "execution_count": null,
   "id": "4713bbf2-eb4f-44b4-9cde-c96374138830",
   "metadata": {},
   "outputs": [],
   "source": []
  },
  {
   "cell_type": "code",
   "execution_count": null,
   "id": "d6cd0da4-f262-441e-937a-ff2465e03fa7",
   "metadata": {},
   "outputs": [],
   "source": []
  },
  {
   "cell_type": "code",
   "execution_count": null,
   "id": "85b1e612-4f34-4d09-919a-d25e8e62de7e",
   "metadata": {},
   "outputs": [],
   "source": []
  },
  {
   "cell_type": "code",
   "execution_count": null,
   "id": "1610c134-afd0-4285-926e-99be04e61c01",
   "metadata": {},
   "outputs": [],
   "source": [
    "grid = gpd.read_file(\"GIS/grid.shp\")\n"
   ]
  },
  {
   "cell_type": "code",
   "execution_count": null,
   "id": "d456b42a-f4cf-4076-a97e-1b411becd79e",
   "metadata": {},
   "outputs": [],
   "source": [
    "ml = basic.load_model()\n"
   ]
  },
  {
   "cell_type": "code",
   "execution_count": null,
   "id": "a9cf7590-f0ba-4e80-8cda-205c4c5de6e7",
   "metadata": {},
   "outputs": [],
   "source": [
    "routing = gpd.read_file('GIS/nhd_hr_demo_sfr_routing.shp')"
   ]
  },
  {
   "cell_type": "code",
   "execution_count": null,
   "id": "326bd902-0887-4334-847e-b574abf2aec3",
   "metadata": {},
   "outputs": [],
   "source": []
  },
  {
   "cell_type": "code",
   "execution_count": null,
   "id": "e6583f42-53bd-43de-a2b9-1726b91b0dd6",
   "metadata": {},
   "outputs": [],
   "source": [
    "# bottom = 765\n"
   ]
  },
  {
   "cell_type": "code",
   "execution_count": null,
   "id": "cab322dd-4ab6-4965-ae6f-225d87d6839a",
   "metadata": {},
   "outputs": [],
   "source": [
    "# kper = None"
   ]
  },
  {
   "cell_type": "code",
   "execution_count": null,
   "id": "8a421d44-b83e-4684-9008-ac6b45b683e3",
   "metadata": {},
   "outputs": [],
   "source": [
    "# def load_params():\n",
    "    \n",
    "#     import json\n",
    "\n",
    "#     with open(\"model_params.txt\") as json_data_file:\n",
    "#         data = json.load(json_data_file)\n",
    "    \n",
    "#     info = data['calibration']\n",
    "#     swr = data['calibration']['parameters']['SWR']\n",
    "#     sfr = data['calibration']['parameters']['SFR']\n",
    "#     riv_keys = data['riv_keys']\n",
    "    \n",
    "#     return info, swr, sfr, riv_keys\n",
    "\n",
    "\n",
    "\n",
    "info, swr_info,sfr_info, riv_keys = basic.load_params(run_name = 'June2013')\n",
    "riv_keys"
   ]
  },
  {
   "cell_type": "code",
   "execution_count": null,
   "id": "f650f1d2-0634-439b-a831-985f457b7bdf",
   "metadata": {},
   "outputs": [],
   "source": [
    "swr_info"
   ]
  },
  {
   "cell_type": "code",
   "execution_count": null,
   "id": "cefe6e3d-9f22-4a00-b4cb-dcb4349c417b",
   "metadata": {},
   "outputs": [],
   "source": [
    "IGEOTYPE = swr_info[\"IGEOTYPE\"] \n",
    "IGCNDOP = swr_info[\"IGCNDOP\" ]\n",
    "GMANNING = swr_info[\"GMANNING\" ]   \n",
    "LEAKANCE = swr_info[\"LEAKANCE\"]\n",
    "getextd = swr_info[\"getextd\"] \n",
    "bottom = swr_info['dam_swr_rno']\n",
    "reach_min = swr_info[\"reach_main\"]\n",
    "IROUTETYPE = swr_info[\"IROUTETYPE\"]\n",
    "use_average_reach_len = swr_info[\"use_average_reach_len\"]\n",
    "use_thalweg = swr_info['use_thalweg']\n",
    "kper = None if swr_info[\"kper\"].lower()=='none' else swr_info[\"kper\"]\n",
    "SWR_processor = swr_info[\"SWR_processor\"]\n",
    "rain = swr_info['rain']\n",
    "evap = swr_info['evap']\n",
    "\n",
    "kper"
   ]
  },
  {
   "cell_type": "code",
   "execution_count": null,
   "id": "3574a612-5d1a-4aec-a901-72c9cbefbb17",
   "metadata": {},
   "outputs": [],
   "source": [
    "\n",
    "datestart = '1/1/2012'\n",
    "enddate= '1/1/2022'\n",
    "\n",
    "numdays = (pd.to_datetime(enddate) - pd.to_datetime(datestart)).days\n",
    "rr, dry, mw, total, stg = write_inflows.run('June2012', m = ml, minvalue=0, max_value = 100, numdays = numdays, datestart = '1/1/2012', cleandamdata = False)"
   ]
  },
  {
   "cell_type": "code",
   "execution_count": null,
   "id": "54d127d6-afe0-4096-a73c-61507bda0775",
   "metadata": {},
   "outputs": [],
   "source": [
    "stg = stg.drop(columns = ['FillValue'])"
   ]
  },
  {
   "cell_type": "code",
   "execution_count": null,
   "id": "c8b0eb5d-94ec-4910-8107-fb521f4857e0",
   "metadata": {},
   "outputs": [],
   "source": []
  },
  {
   "cell_type": "code",
   "execution_count": null,
   "id": "eb15d18a-d796-47cf-84f3-7aee047b3ee6",
   "metadata": {},
   "outputs": [],
   "source": [
    "fig, ax = plt.subplots(figsize= (6,6))\n",
    "\n",
    "\n",
    "def line(flow):\n",
    "    \n",
    "    minflow = 38\n",
    "    yint = 28\n",
    "    slope1 = .0023\n",
    "    slope2 = .0005\n",
    "    slope3 = .0002\n",
    "    cutoff = 7000\n",
    "    \n",
    "    cutoff2 = 45000\n",
    "    \n",
    "    if flow < 500:\n",
    "        return 28.5\n",
    "    elif flow<cutoff:\n",
    "        return yint+slope1*flow\n",
    "    elif flow < cutoff2:\n",
    "        return yint+13+slope2*flow\n",
    "    else:\n",
    "        return yint+26.5+slope3*flow\n",
    "    \n",
    "scatter = ax.scatter(stg.rrtotal, stg.Original_Value, c = stg.index.year, facecolor = 'None', marker = 'o', alpha = .9,cmap  = plt.get_cmap('tab20'))\n",
    "ax.grid(True)\n",
    "x = np.arange(1, 75000,500)\n",
    "y = [line(xi) for xi in x]\n",
    "\n",
    "l = ax.plot(x, y, 'r', marker = '.', label = 'Rating Curve')\n",
    "\n",
    "ax.set_xlabel('Russian River Discharge (Healdsburg + Dry Creek Flows) cfs')\n",
    "ax.set_ylabel('RDS Observed Stage (ft)')\n",
    "ax.set_title('Stage Discharge Relationship for\\nEstimating Overland Flows Along Russian River')\n",
    "\n",
    "legend1 = ax.legend(*scatter.legend_elements(),\n",
    "                    title=\"Year\", loc = 'lower right', bbox_to_anchor = (1,0))\n",
    "ax.add_artist(legend1, )\n",
    "\n",
    "# plt.savefig('Overland_Flow/ovr_relationship.png', dpi = 300)\n",
    "# plt.savefig('versions/website_info/ovr_relationship.png', dpi = 300)"
   ]
  },
  {
   "cell_type": "code",
   "execution_count": null,
   "id": "a263250f-ba90-4409-9a9f-09a647dae11e",
   "metadata": {},
   "outputs": [],
   "source": [
    "stg.loc[:,'stage_est'] = stg.rrtotal.apply(line)\n",
    "\n",
    "# stg = stg.loc['2019',:]"
   ]
  },
  {
   "cell_type": "code",
   "execution_count": null,
   "id": "f25f038f-046a-45ce-9f19-ba03c485f60b",
   "metadata": {},
   "outputs": [],
   "source": []
  },
  {
   "cell_type": "code",
   "execution_count": null,
   "id": "7a6b4ddc-9310-4e2d-a83b-059beb0fdb3c",
   "metadata": {},
   "outputs": [],
   "source": [
    "stg.loc[:,'Original_Value':].plot(subplots = True)\n"
   ]
  },
  {
   "cell_type": "code",
   "execution_count": null,
   "id": "8c7ccde9-cef9-4928-b0ee-cfde4e179edf",
   "metadata": {},
   "outputs": [],
   "source": [
    "stg.plot(subplots = True)"
   ]
  },
  {
   "cell_type": "code",
   "execution_count": null,
   "id": "e01f1786-a78c-4b56-acbd-61e511630cff",
   "metadata": {},
   "outputs": [],
   "source": [
    "\n",
    "plt.figure( figsize = (6,6), dpi = 300)\n",
    "ax = stg.loc[:,'stage_est'].plot( label = 'Estimated Stage')\n",
    "stg.loc[:,'Original_Value'].plot( label = 'Actual Stage', ls = '--')\n",
    "stg.query('stage_est>40').loc[:,'stage_est'].plot(ax = ax, marker = '.', ls = 'None', label = 'Stage Exceedance Events')\n",
    "ax.set_ylabel('ft')\n",
    "ax.axhline(40, c = 'k')\n",
    "ax.text(1, 40,   'Cutoff', ha = 'left', va = 'center', transform = ax.get_yaxis_transform())\n",
    "ax.axhline(28, c = 'brown')\n",
    "ax.text(1, 28,   'Ground Surface', ha = 'left', va = 'center', transform = ax.get_yaxis_transform())\n",
    "\n",
    "date = stg.stage_est.idxmax()+pd.to_timedelta(10, 'D')\n",
    "maxvalue = stg.stage_est.max()\n",
    "ax.set_ylim([25, 70])\n",
    "\n",
    "ax.annotate('Offset Value', xy=(date, 28),\n",
    "            ha = 'center',\n",
    "             xycoords='data',\n",
    "             xytext=(date, maxvalue),\n",
    "             textcoords='data',\n",
    "             arrowprops=dict(arrowstyle= '|-|',\n",
    "                             color='blue',\n",
    "                             lw=3,\n",
    "                             ls='--')\n",
    "           )\n",
    "\n",
    "ax.set_title(\"RDS Estimated Stage\")\n",
    "\n",
    "ax.legend()\n",
    "\n",
    "# plt.savefig('Overland_Flow/stage_exceedance.png', dpi = 300, bbox_inches = 'tight')\n",
    "# plt.savefig('versions/website_info/stage_exceedance.png', dpi = 300, bbox_inches = 'tight')"
   ]
  },
  {
   "cell_type": "code",
   "execution_count": null,
   "id": "7c26d0eb-2540-4a56-90f2-105ecaae01c8",
   "metadata": {},
   "outputs": [],
   "source": []
  },
  {
   "cell_type": "code",
   "execution_count": null,
   "id": "09674482-2605-4bf7-8201-90c9857e5b7e",
   "metadata": {},
   "outputs": [],
   "source": [
    "    varsall = dict(mult_shear = .005,\n",
    "    mult_sed = .05,\n",
    "    sedlimit = 5,\n",
    "    power = 1/3,\n",
    "    sed_depth_rate = .025)"
   ]
  },
  {
   "cell_type": "code",
   "execution_count": null,
   "id": "d4a45f43-c2f9-40e9-8ef3-0d98cb0f1947",
   "metadata": {},
   "outputs": [],
   "source": [
    "\n",
    "\n",
    "def get_fac(par):\n",
    "\n",
    "    \n",
    "    # fac = np.array([1/20, 1/10, 1/2, 1., 2, 10, 20])\n",
    "    fac = np.array([ 1/4, 1/2, 1., 2, 4])\n",
    "    \n",
    "    return fac\n",
    "\n",
    "def sed(stages, \n",
    "    mult_shear = None,\n",
    "    mult_sed = None,\n",
    "    sedlimit = None,\n",
    "    sedlast = None,\n",
    "    power = None,\n",
    "    sed_depth_rate = None):\n",
    "      \n",
    "    mult_shear = varsall['mult_shear'] if mult_shear is None else mult_shear\n",
    "    mult_sed = varsall['mult_sed'] if mult_sed is None else mult_sed\n",
    "    sedlimit = varsall['sedlimit'] if sedlimit is None else sedlimit\n",
    "    # sedlast = varsall['sedlast'] if sedlast is None else sedlast\n",
    "    power = varsall['power'] if power is None else power\n",
    "    sed_depth_rate = varsall['sed_depth_rate'] if sed_depth_rate is None else sed_depth_rate\n",
    "    \n",
    "    st = stages.copy()\n",
    "    \n",
    "    sedlast = 0.\n",
    "\n",
    "    st.loc[:,'Shear'] = mult_shear*((st.loc[:,'rrtotal'] )**(power))\n",
    "    st.loc[:,'erode'] = np.nan\n",
    "    \n",
    "    st.loc[:,'Sedrate'] = np.nan\n",
    "    \n",
    "    for ind, row in st.iterrows():\n",
    "\n",
    "        erode = st.loc[ind, 'Shear']\n",
    "        if row.loc['Value']>10:\n",
    "            erode = 0\n",
    "        \n",
    "        st.loc[ind, 'erode'] = erode\n",
    "        \n",
    "        sedrate =  sed_depth_rate -  erode\n",
    "        sedlast = sedlast + sedrate\n",
    "\n",
    "        if sedlast<0:\n",
    "            sedlast =0\n",
    "        elif sedlast>sedlimit:\n",
    "            sedlast = sedlimit\n",
    "        \n",
    "        st.loc[ind, 'Sedrate'] = sedrate\n",
    "        st.loc[ind, 'sed_depth'] = sedlast \n",
    "        \n",
    "        \n",
    "        if np.isnan(sedlast) or np.isnan(sedrate):\n",
    "            print(sedlast, sedrate)\n",
    "            raise ValueError('sedlast or sedrate are nans')\n",
    "        \n",
    "    return st\n"
   ]
  },
  {
   "cell_type": "code",
   "execution_count": null,
   "id": "3b860f4f-3c4b-4d53-8bee-b76a79a11f70",
   "metadata": {},
   "outputs": [],
   "source": [
    "\n",
    "st_q = sed(stg)\n",
    "st_q.drop(columns = [ 'Original_Value','Value']).plot(subplots = True)"
   ]
  },
  {
   "cell_type": "code",
   "execution_count": null,
   "id": "1054f122-67cc-48f8-b2ff-deedf1c14f3f",
   "metadata": {},
   "outputs": [],
   "source": []
  },
  {
   "cell_type": "code",
   "execution_count": null,
   "id": "9ffe4927-07a7-456b-93df-6f2476b1b895",
   "metadata": {},
   "outputs": [],
   "source": []
  },
  {
   "cell_type": "code",
   "execution_count": null,
   "id": "f4b95ce9-4ccf-4b89-8342-9f350b31cfa8",
   "metadata": {},
   "outputs": [],
   "source": []
  },
  {
   "cell_type": "code",
   "execution_count": null,
   "id": "03d41189-1e4c-4bc6-9d65-2131c56902ce",
   "metadata": {},
   "outputs": [],
   "source": [
    "def plot_par(var, stages, base_only = False):\n",
    "    \n",
    "    \n",
    "    fig, ax = plt.subplots(figsize = (7,7))\n",
    "\n",
    "    if base_only:\n",
    "        \n",
    "        stages = sed(stages)\n",
    "        \n",
    "        ax.plot(stages.index, stages.loc[:,'sed_depth'], label =var, c = 'r' )\n",
    "        \n",
    "    else:\n",
    "        par_range = get_fac(var)\n",
    "\n",
    "        for seddepth in par_range:\n",
    "            stages = sed(stages, **{var:seddepth * varsall[var]})\n",
    "\n",
    "            ax.plot(stages.index, stages.loc[:,'sed_depth'], label =f'{seddepth * varsall[var]:.3G} ({seddepth:.3G}x)' )\n",
    "\n",
    "    \n",
    "    ax.legend(bbox_to_anchor = (1,1), loc = 'upper left')\n",
    "    ax.set_ylabel('sediment depth (units unknown)', color = 'r')\n",
    "    ax.set_title(f\"{var} Parameter Sensitivity\")\n",
    "    ax.grid(True)\n",
    "    # plt.savefig(os.path.join('Sedimentation', var+'.png'), bbox_inches = 'tight', dpi = 250)\n",
    "    \n",
    "    return ax\n",
    "    \n"
   ]
  },
  {
   "cell_type": "code",
   "execution_count": null,
   "id": "25bdc242-5ac3-4bc9-9739-54d47bac2e77",
   "metadata": {},
   "outputs": [],
   "source": [
    "[plot_par(vari, stg) for vari in varsall.keys()]"
   ]
  },
  {
   "cell_type": "code",
   "execution_count": null,
   "id": "130ffe86-f624-4e09-8255-81ead27d61b8",
   "metadata": {},
   "outputs": [],
   "source": []
  },
  {
   "cell_type": "code",
   "execution_count": null,
   "id": "7a1b31d1-278b-4bb7-bfe3-0201f7af0ac3",
   "metadata": {},
   "outputs": [],
   "source": []
  },
  {
   "cell_type": "code",
   "execution_count": null,
   "id": "8235ec85-9113-41a5-8d5c-87d81a17bd83",
   "metadata": {},
   "outputs": [],
   "source": [
    "import textwrap\n",
    "ax = plot_par('sed_depth_rate', stg, True)\n",
    "ax.legend(bbox_to_anchor = (1,0), loc = 'upper left')\n",
    "ax2 = ax.twinx()\n",
    "\n",
    "att = dict(a=(5,'c',1), b=(5,'g',2), c=(2,'lightgrey',3), d=(2,'grey',4),e=(2,'darkgrey',5),f=(6,'b',6))\n",
    "\n",
    "for _, mm in  att.items():\n",
    "    caiss = mm[2]\n",
    "    caisson6 = dfall.query(f\"station_no=='Caisson{caiss}'\").dropna(0,subset = 'Observed')\n",
    "    caisson6 = caisson6.loc[(caisson6.index.month>5) & (caisson6.index.month<11)]\n",
    "    caisson6.loc[:,'Resid'] = -(caisson6.loc[:,'Observed'] -  caisson6.loc[:,'Simulated'])\n",
    "    caisson6.loc[:,'Resid'] = caisson6.loc[:,'Resid'] - caisson6.loc[:,'Resid'].mean()\n",
    "    cam = caisson6.resample('1M').median()\n",
    "    # ax2.plot(cam.resample('1Q').median().dropna().index, cam.resample('1Q').median().dropna().Resid, lw = .5,  ls = '-', \n",
    "    #          marker = None, markersize = mm[0], color = mm[1], label = 'nolabel')\n",
    "    ax2.plot(cam.index, cam.Resid, lw = 2, marker = 'o', ls = 'None', markersize = mm[0], color = mm[1], label = f\"Caisson {caiss}\")\n",
    "\n",
    "ax.set_title('Esimated Sediment Depth,\\nPotential Clogging as Indicated by Model Residuals')\n",
    "ax2.set_ylim([-30, 20])\n",
    "ax2.set_ylabel('Residual (Normalized - feet)', color = 'k')\n",
    "text = '\\n'.join(textwrap.wrap('Residuals are the difference between the observed and simulated groundwater levels. Greater differences are interpreted to indicate thicker clogging layer', 20))\n",
    "props = dict(boxstyle='round', facecolor='wheat', alpha=1.0)\n",
    "ax2.text(1.1, 0,text, transform = ax.transAxes,  bbox=props  )\n",
    "ax2.legend(bbox_to_anchor = (1.1,1), loc = 'upper left')\n",
    "\n",
    "plt.savefig(os.path.join('Sedimentation', 'model_clogging.png'), bbox_inches = 'tight', dpi = 250)"
   ]
  },
  {
   "cell_type": "code",
   "execution_count": null,
   "id": "8659cf64-153f-45b1-ae7a-f5827995c08a",
   "metadata": {},
   "outputs": [],
   "source": [
    "import fiona\n",
    "import geopandas as gpd"
   ]
  },
  {
   "cell_type": "code",
   "execution_count": null,
   "id": "f9c3ea24-8bbd-4145-9c15-f1f9172a4175",
   "metadata": {},
   "outputs": [],
   "source": []
  },
  {
   "cell_type": "code",
   "execution_count": null,
   "id": "ebb4c93d-804f-44b6-a210-aaa99760c7db",
   "metadata": {},
   "outputs": [],
   "source": []
  },
  {
   "cell_type": "code",
   "execution_count": null,
   "id": "6db1e95f-a90a-498d-985c-a2dc1ca8ab54",
   "metadata": {},
   "outputs": [],
   "source": [
    "ax = cam.loc[:,['Simulated','Observed']].plot()\n",
    "\n",
    "ax2 = ax.twinx()\n",
    "\n",
    "cam.loc[:,'Resid'].plot(ax = ax2, c = 'r')"
   ]
  },
  {
   "cell_type": "code",
   "execution_count": null,
   "id": "e3e92f3c-522c-4d29-9282-c2f41c7773e4",
   "metadata": {},
   "outputs": [],
   "source": [
    "dfall = pd.DataFrame()\n",
    "\n",
    "for year in range(2012, 2021):\n",
    "    file = os.path.join('versions', f'June{year}', 'hydrographs', 'all_meas.csv')\n",
    "    df = pd.read_csv(file, index_col=[0], parse_dates= True)\n",
    "    \n",
    "    dfall = dfall.append(df)"
   ]
  },
  {
   "cell_type": "code",
   "execution_count": null,
   "id": "84701141-fa51-41a3-8aa8-24e6a4439825",
   "metadata": {},
   "outputs": [],
   "source": [
    "grid = gpd.read_file(\"GIS/grid.shp\")\n",
    "\n",
    "# need to update model top for streambed locations\n",
    "grid.loc[:,'model_top'] = ml.dis.top.array[grid.loc[:,'row']-1, grid.loc[:,'column']-1]\n",
    "grid.loc[:,'ibound'] = ml.bas6.ibound.array[0][grid.loc[:,'row']-1, grid.loc[:,'column']-1]\n",
    "\n",
    "\n",
    "m = grid.query(\"ibound==1\").explore('model_top',vmax = 75, vmin = 30)\n",
    "sfr.set_geometry(sfr.geometry.centroid).explore( m=m)"
   ]
  },
  {
   "cell_type": "code",
   "execution_count": null,
   "id": "71c6ee6f-4ca5-437f-aec3-f2511a2bfbdc",
   "metadata": {},
   "outputs": [],
   "source": []
  },
  {
   "cell_type": "code",
   "execution_count": null,
   "id": "0224afeb-ba2a-42ce-9c65-4a58df28f1fb",
   "metadata": {},
   "outputs": [],
   "source": [
    "\n",
    "grid_simp = grid.query(\"ibound==1\").loc[:,['model_top','node','geometry']].rename(columns ={'node':'node_grid'})\n",
    "sfr_simp = sfr.set_geometry(sfr.geometry.centroid).loc[:,[ 'geometry', 'node', 'iseg', 'ireach']].rename(columns ={'node':'node_sfr'}).drop_duplicates('node_sfr')\n",
    "\n",
    "gridnear = gpd.sjoin_nearest(grid_simp,\n",
    "                            sfr_simp,\n",
    "                            how = 'left')\n",
    "\n",
    "print(f\"shape {gridnear.shape[0]}\")\n",
    "gridnear = gridnear.drop_duplicates('node_grid')\n",
    "print(f\"shape {gridnear.shape[0]}\")"
   ]
  },
  {
   "cell_type": "code",
   "execution_count": null,
   "id": "59fa213f-3764-4eea-901b-7ce056b585de",
   "metadata": {},
   "outputs": [],
   "source": []
  },
  {
   "cell_type": "code",
   "execution_count": null,
   "id": "9ad6f31b-f8a6-4263-b0fe-a4c9b8a4a26b",
   "metadata": {
    "tags": []
   },
   "outputs": [],
   "source": [
    "dfall = pd.DataFrame()\n",
    "for date, row in stg.query('stage_est>40').iterrows():\n",
    "    s = sfr.copy().drop_duplicates('node').loc[:,['model_top', 'node']].rename(columns = {'node':'node_sfr'})\n",
    "    s.loc[:,'Date'] = date\n",
    "    s.loc[:,'offset'] = row['stage_est']-28\n",
    "    s.loc[:,'WSE'] = s.loc[:,'model_top'] + s.loc[:,'offset']\n",
    "    s = s.drop(columns = 'model_top')\n",
    "    dfall = dfall.append(s)\n",
    "    \n"
   ]
  },
  {
   "cell_type": "code",
   "execution_count": null,
   "id": "2b97d140-3c05-4274-bfa1-ba106b686959",
   "metadata": {},
   "outputs": [],
   "source": []
  },
  {
   "cell_type": "code",
   "execution_count": null,
   "id": "e7b715e5-c6a2-4381-85b3-96e4479431d8",
   "metadata": {},
   "outputs": [],
   "source": [
    "floods = pd.merge(dfall, gridnear, on = 'node_sfr')\n",
    "\n",
    "floods = floods.query(\"WSE>model_top\")\n",
    "\n",
    "fig = plt.figure(figsize = (6,6), dpi =300)\n",
    "ax = floods.groupby('Date').count().loc[:,'WSE'].plot(marker = 'o', ls = 'None')\n",
    "ax.grid(True)\n",
    "ax.set_title('Number of Overland flow events')\n",
    "ax.set_ylabel('Number of cells with overland flow events')\n",
    "ax.set_xlabel('')\n",
    "plt.savefig('Overland_Flow/stage_exceedance_count.png', dpi = 300, bbox_inches = 'tight')\n",
    "plt.savefig('versions/website_info/stage_exceedance_count.png', dpi = 300, bbox_inches = 'tight')"
   ]
  },
  {
   "cell_type": "code",
   "execution_count": null,
   "id": "3b363417-ce45-4e52-a305-6832f0a4a68a",
   "metadata": {},
   "outputs": [],
   "source": []
  },
  {
   "cell_type": "code",
   "execution_count": null,
   "id": "7b6eb854-7d43-4031-a926-f5b404e16392",
   "metadata": {},
   "outputs": [],
   "source": []
  },
  {
   "cell_type": "code",
   "execution_count": null,
   "id": "2545298c-8447-4204-8f7f-6c00cc8d2376",
   "metadata": {},
   "outputs": [],
   "source": [
    "import conda_scripts.utils.folium_maps as fm"
   ]
  },
  {
   "cell_type": "code",
   "execution_count": null,
   "id": "47ff9667-ae51-4da0-85f4-f2bd0cbb0002",
   "metadata": {},
   "outputs": [],
   "source": [
    "floods_sum = pd.merge(floods.drop(columns = 'geometry').groupby('node_grid').count().reset_index().loc[:,['node_grid','WSE']], \n",
    "                      gridnear.drop_duplicates('node_grid').loc[:,['node_grid', 'geometry','model_top', 'node_sfr']], on = 'node_grid', how = 'right')\n",
    "# floods_sum = floods_sum.fillna(0)\n",
    "floods_sum = floods_sum.rename(columns = {'WSE': 'Number of flood days'})\n",
    "floods_sum = gpd.GeoDataFrame(floods_sum, geometry = 'geometry', crs = 2226)\n",
    "m = floods_sum.explore('Number of flood days', tooltip  = ['Number of flood days', 'model_top', 'node_sfr'], name = 'Number of flood days')\n",
    "\n",
    "# gridnear.explore('model_top',tooltip  = [ 'model_top'], m = m, name = 'gridnerar', vmin = 20, vmax = 75)\n",
    "# sfr.explore( 'model_top', m=m, color= 'r', name = 'sfr', vmin = 20, vmax = 75)\n",
    "sfr.set_geometry(sfr.geometry.centroid).explore( m=m, color= 'r', name = 'SFR Cells')\n",
    "fm.add_layers(m)\n",
    "fm.add_title('Number of Overland Flow Events per Cell, from 2012 to 2021',m)\n",
    "m.save('versions/website_info/overland_flow_count.html')\n",
    "m.save('Overland_Flow//overland_flow_count.html')"
   ]
  },
  {
   "cell_type": "code",
   "execution_count": null,
   "id": "415221ba-cd45-46f8-8141-607521e00800",
   "metadata": {},
   "outputs": [],
   "source": [
    "floods.sort_values(['Date', 'node_grid']).loc[:,['Date','node_grid','WSE', 'model_top']].to_csv('Overland_Flow/overland_flow_ts.csv',\n",
    "                                                                                                float_format=\"%.0f\",index = False)"
   ]
  },
  {
   "cell_type": "code",
   "execution_count": null,
   "id": "f64092f2-52db-4203-9e91-54eb3250274e",
   "metadata": {},
   "outputs": [],
   "source": [
    "def read_overland(m):\n",
    "    ovr = pd.read_csv('Overland_Flow/overland_flow_ts.csv', index_col = [0],parse_dates=True )\n",
    "    ovr.loc[:, ['k','i', 'j']] = m.dis.get_lrc(list(ovr.loc[:,'node_grid'].values))\n",
    "    \n",
    "    return ovr\n",
    "\n",
    "ovr = read_overland(ml)"
   ]
  },
  {
   "cell_type": "code",
   "execution_count": null,
   "id": "378e7a85-3fef-45cd-ae35-97124bbded2d",
   "metadata": {},
   "outputs": [],
   "source": [
    "1000*86400/43560"
   ]
  },
  {
   "cell_type": "code",
   "execution_count": null,
   "id": "66c15974-93ff-4928-8c3b-ab73ea56fc60",
   "metadata": {},
   "outputs": [],
   "source": [
    "def plot_ovr(ovr, datestart, folder, recharge_rate, numdays = 365):\n",
    "    \n",
    "    q = ovr.groupby(ovr.index).count().loc[:,['WSE']] * 200*200*recharge_rate/43560\n",
    "    end_date = (pd.to_datetime(datestart ) + pd.to_timedelta(numdays+5, 'D')).strftime('%m/%d/%Y')\n",
    "    q = q.resample('1D').sum()\n",
    "    qm = q.max()\n",
    "    q = q.loc[datestart:end_date,:].rename(columns = {'WSE':\"Overland Recharge\"})\n",
    "    plt.figure( figsize = (6,6), dpi =300)\n",
    "    ax = q.plot(drawstyle=\"steps-post\", linewidth=2, ylabel = 'recharge (acre-feet)', c = 'b')\n",
    "    ax.set_ylim([0, qm.values[0]]); \n",
    "    ax.grid(True); \n",
    "    ax.yaxis.get_label().set_color('b')\n",
    "    # ax.text(1,1, f'Recharge rate = {recharge_rate}ft.', transform = ax.transAxes, ha = 'right', va = 'bottom')\n",
    "    ax.legend().remove()\n",
    "    ax.set_title(f'Daily Recharge from Overland Flow.\\nRecharge rate = {recharge_rate}ft/d')\n",
    "    \n",
    "    ax2 = ax.twinx()\n",
    "    \n",
    "    p2 = q.cumsum().plot(ax = ax2, label = 'Cumulative', c = 'r', ylabel = 'cumulative recharge (acre-feet)')\n",
    "    ax.get_yaxis().set_major_formatter(\n",
    "            ticker.FuncFormatter(lambda x, p: format(int(x), ',')))\n",
    "    \n",
    "    ax2.get_yaxis().set_major_formatter(\n",
    "        ticker.FuncFormatter(lambda x, p: format(int(x), ',')))\n",
    "    \n",
    "    ax2.yaxis.get_label().set_color('r')\n",
    "    \n",
    "    plt.savefig(os.path.join(folder, 'ovr_total.png'), bbox_inches = 'tight', dpi = 250, figsize = (6,6))\n",
    "    \n",
    "    return ax\n",
    "\n",
    "for year in range(2012, 2021):\n",
    "    z = plot_ovr(ovr, f'1/1/{year}', f'versions/June{year}', 0.5)"
   ]
  },
  {
   "cell_type": "code",
   "execution_count": null,
   "id": "c81c85b9-dbe3-4ae8-a5ff-aa0646b9a115",
   "metadata": {},
   "outputs": [],
   "source": []
  },
  {
   "cell_type": "code",
   "execution_count": null,
   "id": "c8ee7e78-ca06-4834-add0-95abda3e3dd1",
   "metadata": {},
   "outputs": [],
   "source": []
  },
  {
   "cell_type": "code",
   "execution_count": null,
   "id": "d8dbb56d-f3b2-4a0c-b7b9-7f308603f179",
   "metadata": {},
   "outputs": [],
   "source": []
  },
  {
   "cell_type": "code",
   "execution_count": null,
   "id": "4377198c-9754-4e49-9e58-9961fa6e4dfb",
   "metadata": {},
   "outputs": [],
   "source": [
    "gridnear.explore('node_sfr')"
   ]
  }
 ],
 "metadata": {
  "kernelspec": {
   "display_name": "Python 3 (ipykernel)",
   "language": "python",
   "name": "python3"
  },
  "language_info": {
   "codemirror_mode": {
    "name": "ipython",
    "version": 3
   },
   "file_extension": ".py",
   "mimetype": "text/x-python",
   "name": "python",
   "nbconvert_exporter": "python",
   "pygments_lexer": "ipython3",
   "version": "3.10.4"
  }
 },
 "nbformat": 4,
 "nbformat_minor": 5
}
