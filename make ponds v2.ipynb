{
 "cells": [
  {
   "cell_type": "code",
   "execution_count": null,
   "id": "a6b97677-a0fa-4ee7-a108-ee243250b74e",
   "metadata": {},
   "outputs": [],
   "source": [
    "import flopy\n",
    "import os\n",
    "import geopandas as gpd\n",
    "import basic\n",
    "import contextily as ctx\n",
    "import pandas as pd\n",
    "import numpy as np\n",
    "import os\n",
    "import matplotlib.pyplot as plt\n",
    "\n",
    "import pathlib\n",
    "import geopandas as gpd\n",
    "import conda_scripts.plot_help as ph\n",
    "import basic\n",
    "import conda_scripts.arich_functions as af\n",
    "import cartopy.crs as ccrs\n",
    "\n",
    "import pathlib "
   ]
  },
  {
   "cell_type": "code",
   "execution_count": null,
   "id": "5f33a4f8-8e2c-4cb4-b573-fa1e93dfad06",
   "metadata": {},
   "outputs": [],
   "source": [
    "import postprocess"
   ]
  },
  {
   "cell_type": "code",
   "execution_count": null,
   "id": "7a1d3c49-3913-45a3-a130-747ffc2fbc3e",
   "metadata": {},
   "outputs": [],
   "source": [
    "import basic\n",
    "\n",
    "m = basic.load_model()"
   ]
  },
  {
   "cell_type": "code",
   "execution_count": null,
   "id": "75fdb96f-41f8-4c08-92d1-3ed5ca806ff5",
   "metadata": {},
   "outputs": [],
   "source": [
    "ISWRPQAQ, ISWRPRGF, ISWRPSTG, ISWRPSTR, ISWRPQM = postprocess.SWR(m, datestart, max_reach = 116, remove_ponds = True  )"
   ]
  },
  {
   "cell_type": "code",
   "execution_count": null,
   "id": "cd1ea0c0-7aed-4e24-b916-fa9e5f344c39",
   "metadata": {},
   "outputs": [],
   "source": []
  },
  {
   "cell_type": "code",
   "execution_count": null,
   "id": "611bf98b-b53b-4edf-b1d4-a1262dbd69e3",
   "metadata": {},
   "outputs": [],
   "source": [
    "ax = ISWRPQAQ.plot(figsize = (15, 10), subplots = True, title = 'Pond Water Levels', color = 'b')\n",
    "\n",
    "wl.plot(ax = ax, subplots = True, color = 'k')"
   ]
  },
  {
   "cell_type": "code",
   "execution_count": null,
   "id": "c806b8ae-40be-44d0-bc8d-2beaae0334ed",
   "metadata": {},
   "outputs": [],
   "source": [
    "postprocess.plot_rds_stage(m, datestart, out_folder, numdays = 109)"
   ]
  },
  {
   "cell_type": "code",
   "execution_count": null,
   "id": "6f41c1fc-c1a3-44dd-8131-d897bafb57c9",
   "metadata": {},
   "outputs": [],
   "source": [
    "ISWRPQAQ, wl = postprocess.plot_ponds(m, datestart)"
   ]
  },
  {
   "cell_type": "code",
   "execution_count": null,
   "id": "8eee8b09-a1ab-40c3-aa77-5412f7a70951",
   "metadata": {
    "tags": []
   },
   "outputs": [],
   "source": [
    "import pond_inflows\n",
    "\n",
    "pond_inflows.run('June2012')"
   ]
  },
  {
   "cell_type": "code",
   "execution_count": null,
   "id": "869aa232-1d7c-4897-95f4-d39a780023e5",
   "metadata": {},
   "outputs": [],
   "source": [
    "import geopandas as gpd\n",
    "import numpy as np"
   ]
  },
  {
   "cell_type": "code",
   "execution_count": null,
   "id": "d403f652-0ed7-4b54-9d0e-de8c6c246b2b",
   "metadata": {},
   "outputs": [],
   "source": [
    "pp = gpd.read_file(\"ponds/ponds.geojson\")"
   ]
  },
  {
   "cell_type": "code",
   "execution_count": null,
   "id": "c80381f4-eee6-448c-a51e-a870eb5ae015",
   "metadata": {},
   "outputs": [],
   "source": [
    "import pandas as pd\n",
    "import pathlib"
   ]
  },
  {
   "cell_type": "code",
   "execution_count": null,
   "id": "ae1356db-94ef-4c24-af63-bdcd2cdf8b4f",
   "metadata": {},
   "outputs": [],
   "source": [
    "m = basic.load_model()\n",
    "\n",
    "info, swr_info, sfr_info, riv_keys_info = basic.load_params('June2012')\n",
    "\n",
    "datestart = info['start_date']\n",
    "numdays = info['numdays']\n",
    "\n",
    "name = info['name']\n",
    "\n",
    "out_folder = basic.out_folder('June2012')\n",
    "\n",
    "basic\n",
    "print(datestart)\n",
    "print(out_folder)"
   ]
  },
  {
   "cell_type": "code",
   "execution_count": null,
   "id": "afd144dc-50bf-4338-a142-5779ceef2d79",
   "metadata": {},
   "outputs": [],
   "source": [
    "phist.columns.to_frame().to_clipboard()"
   ]
  },
  {
   "cell_type": "code",
   "execution_count": null,
   "id": "e8be270f-487b-47e2-a006-44ff2e3d73da",
   "metadata": {},
   "outputs": [],
   "source": []
  },
  {
   "cell_type": "code",
   "execution_count": null,
   "id": "850d4c52-05e9-4fec-904a-d1bcffbde24a",
   "metadata": {},
   "outputs": [],
   "source": [
    "phist.shape"
   ]
  },
  {
   "cell_type": "code",
   "execution_count": null,
   "id": "357b9c37-79bb-418e-8718-90a7f6ac3ac5",
   "metadata": {},
   "outputs": [],
   "source": [
    "cols.shape"
   ]
  },
  {
   "cell_type": "code",
   "execution_count": null,
   "id": "e6440e26-37bd-4435-b969-018f8fb36685",
   "metadata": {},
   "outputs": [],
   "source": [
    "phist.head()"
   ]
  },
  {
   "cell_type": "code",
   "execution_count": null,
   "id": "9e7a28bc-6177-4e78-b757-bb858e84ecbe",
   "metadata": {},
   "outputs": [],
   "source": [
    "import re\n",
    "pattern = '[a-z]+'\n",
    "string = 'Account Number - 12345, Amount - 586.32'\n",
    "repl = ''\n",
    "\n",
    "print('Original string')\n",
    "print(string)\n",
    "\n",
    "result = re.sub(pattern, repl, string, flags=re.IGNORECASE)\n",
    "\n",
    "print('After replacement')\n",
    "print(result)"
   ]
  },
  {
   "cell_type": "code",
   "execution_count": null,
   "id": "98de5713-eb7a-4782-a46b-0921bffc84d1",
   "metadata": {},
   "outputs": [],
   "source": [
    "fold = r\"T:\\arich\\Russian_River\\MirabelWohler_2022\\Waterlevel_Data\\MWs_Caissons - AvailableDailyAverages\\DailyData\\Caissons\"\n",
    "name = 'Caisson6WaterLevel.csv'\n",
    "path = pathlib.Path(fold).joinpath(name)\n",
    "\n",
    "pattern = '[a-z]+'\n",
    "repl = ''\n",
    "result = re.sub(pattern, repl, path.name.replace('.csv',''), flags=re.IGNORECASE)\n",
    "\n",
    "result"
   ]
  },
  {
   "cell_type": "code",
   "execution_count": null,
   "id": "4919053c-1e3a-4ff7-9b10-44a2ab8920c6",
   "metadata": {},
   "outputs": [],
   "source": [
    "def load_river_report(year=2020):\n",
    "    p = pathlib.Path(r\"S:\\Ops\\RiverReport\\Production_and_Demand_Report_PHIST01.xlsm\")\n",
    "\n",
    "    sheet = f\"Data_{year}\"\n",
    "\n",
    "    tab = pd.read_excel(p, sheet_name=sheet, header=[3, 4, 5, 6, 7, 8], skiprows=[9, 10, 11, 12], index_col=[0])\n",
    "    cc = ',Level 1,Level 2,Level 3,Level 4,Level 5,units,Label\\r\\n0,Day,Day,Day,Day,Day,Day,Day\\r\\n1,River Diversion,Midnight to Midnight,Midnight to Midnight,Pump 1,100HP,Runtime,Pump 1 Runtime\\r\\n2,River Diversion,Midnight to Midnight,Midnight to Midnight,Pump 2,50HP,Runtime,Pump 2 Runtime\\r\\n3,River Diversion,Midnight to Midnight,Midnight to Midnight,Pump 3,100HP,Runtime,Pump 3 Runtime\\r\\n4,River Diversion,Midnight to Midnight,Midnight to Midnight,Total,Diversion,AF,Total Diversion\\r\\n5,River Diversion,Avg,Avg,River,Level,Feet,River Level\\r\\n6,Caisson 1,Daily,Daily,Average,Depth,Feet,Depth\\r\\n7,Caisson 1,Daily,Daily,P1 + P2,Runtime,Hours,Runtime\\r\\n8,Caisson 2,Daily,Daily,Average,Depth,Feet,Depth\\r\\n9,Caisson 2,Daily,Daily,P3 + P4,Runtime,Hours,Runtime\\r\\n10,Caisson 3,Daily,Daily,Average,Depth,Feet,Depth\\r\\n11,Caisson 3,Daily,Daily,P5 + P6,Runtime,Hours,Runtime\\r\\n12,Caisson 4,Daily,Daily,Average,Depth,Feet,Depth\\r\\n13,Caisson 4,Daily,Daily,P7 + P8,Runtime,Hours,Runtime\\r\\n14,Caisson 5,Daily,Daily,Average,Depth,Feet,Depth\\r\\n15,Caisson 5,Daily,Daily,P9 + P10,Runtime,Hours,Runtime\\r\\n16,Caisson 6,Daily,Daily,Average,Depth,Feet,Depth\\r\\n17,Caisson 6,Daily,Daily,P11 + P12,Runtime,Hours,Runtime\\r\\n18,Production,Midnight to Midnight,Midnight to Midnight,Unnamed: 19_level_3,SR AQ ,MGD,SR AQ \\r\\n19,Production,Midnight to Midnight,Midnight to Midnight,Unnamed: 20_level_3,Cot AQ ,MGD,Cot AQ \\r\\n20,Production,Midnight to Midnight,Midnight to Midnight,54-in,Total,MGD,54-in Total MGD\\r\\n21,Production,Midnight to Midnight,Midnight to Midnight,54-in ,North,MGD,54-in  North MGD\\r\\n22,Production,Midnight to Midnight,Midnight to Midnight,54-in,South,MGD,54-in South MGD\\r\\n23,Production,Midnight to Midnight,Midnight to Midnight,Occidental,Well,MGD,Occidental Well MGD\\r\\n24,Production,Midnight to Midnight,Midnight to Midnight,Sebastopol,Well,MGD,Sebastopol Well MGD\\r\\n25,Production,Midnight to Midnight,Midnight to Midnight,Todd,Well,MGD,Todd Well MGD\\r\\n26,Production,Midnight to Midnight,Midnight to Midnight,Todd,Wohler,MGD,Todd Wohler MGD\\r\\n27,Production,Midnight to Midnight,Midnight to Midnight,Todd,Mirabel,MGD,Todd Mirabel MGD\\r\\n28,Production,Midnight to Midnight,Midnight to Midnight,Todd,Total,MGD,Todd Total MGD\\r\\n29,Storage,Midnight,Midnight,Midnight,Total,MG,Total MG\\r\\n30,Storage,Midnight,Midnight,Midnight,Total,% Full,Total % Full\\r\\n31,Demand,Demand,Demand,Daily,System,MGD,System MGD\\r\\n32,Demand,Demand,Demand,Avg 7-Day,System,MGD,System MGD\\r\\n33,Climate,Daily,Daily,Santa Rosa,Rainfall,Inches,Santa Rosa Rainfall\\r\\n34,Climate,Daily,Daily,Santa Rosa,Hi Temp,oF,Santa Rosa Hi Temp\\r\\n35,Climate,Daily,Daily,Santa Rosa,Low Temp,oF,Santa Rosa Low Temp\\r\\n36,Climate,Daily,Daily,Operations,Rainfall,Inches,Operations Rainfall\\r\\n37,Climate,Daily,Daily,Operations,Hi Temp,F,Operations Hi Temp\\r\\n38,Climate,Daily,Daily,Operations,Low Temp,F,Operations Low Temp\\r\\n39,Climate,Production,Minus,Demand,Negative is Red,MGD,Demand MGD\\r\\n40,Climate,Production,Minus,Comments,Unnamed: 41_level_4,text,Comments\\r\\n'\n",
    "    from io import StringIO\n",
    "    cind = pd.read_csv(StringIO(cc), sep = ',')\n",
    "    cind = cind.drop(columns = cind.columns[0])\n",
    "    \n",
    "    \n",
    "    \n",
    "    tab = pd.DataFrame(tab.values, index = tab.index, columns = pd.MultiIndex.from_frame(cind))\n",
    "    \n",
    "    tab = tab.droplevel( [1,2,3,4,5], 1)\n",
    "    \n",
    "    return tab\n",
    "\n",
    "\n",
    "phist= load_river_report()\n",
    "\n",
    "phist"
   ]
  },
  {
   "cell_type": "code",
   "execution_count": null,
   "id": "f62a5aae-c40f-4fd6-aa60-106ad38c3264",
   "metadata": {},
   "outputs": [],
   "source": []
  },
  {
   "cell_type": "code",
   "execution_count": null,
   "id": "b501b31a-e841-44b5-b161-24510d744731",
   "metadata": {},
   "outputs": [],
   "source": [
    "cc = ',Level 1,Level 2,Level 3,Level 4,Level 5,units\\r\\n0,Remove,Remove,Remove,Remove,Remove,Remove\\r\\n1,River Diversion,Midnight to Midnight,Unnamed: 2_level_2,Pump 1,100HP,Runtime\\r\\n2,River Diversion,Midnight to Midnight,Unnamed: 3_level_2,Pump 2,50HP,Runtime\\r\\n3,River Diversion,Midnight to Midnight,Midnight to Midnight,Pump 3,100HP,Runtime\\r\\n4,River Diversion,Midnight to Midnight,Midnight to Midnight,Total,Diversion,AF\\r\\n5,River Diversion,Avg,Avg,River,Level,Feet\\r\\n6,Caisson 1,Daily,Daily,Average,Depth,Feet\\r\\n7,Caisson 1,Daily,Daily,P1 + P2,Runtime,Hours\\r\\n8,Caisson 2,Daily,Daily,Average,Depth,Feet\\r\\n9,Caisson 2,Daily,Daily,P3 + P4,Runtime,Hours\\r\\n10,Caisson 3,Daily,Daily,Average,Depth,Feet\\r\\n11,Caisson 3,Daily,Daily,P5 + P6,Runtime,Hours\\r\\n12,Caisson 4,Daily,Daily,Average,Depth,Feet\\r\\n13,Caisson 4,Daily,Daily,P7 + P8,Runtime,Hours\\r\\n14,Caisson 5,Daily,Daily,Average,Depth,Feet\\r\\n15,Caisson 5,Daily,Daily,P9 + P10,Runtime,Hours\\r\\n16,Caisson 6,Daily,Daily,Average,Depth,Feet\\r\\n17,Caisson 6,Daily,Daily,P11 + P12,Runtime,Hours\\r\\n18,Production,Midnight to Midnight,Midnight to Midnight,Unnamed: 19_level_3,SR AQ ,MGD\\r\\n19,Production,Midnight to Midnight,Midnight to Midnight,Unnamed: 20_level_3,Cot AQ ,MGD\\r\\n20,Production,Midnight to Midnight,Midnight to Midnight,54-in,Total,MGD\\r\\n21,Production,Midnight to Midnight,Midnight to Midnight,54-in ,North,MGD\\r\\n22,Production,Midnight to Midnight,Midnight to Midnight,54-in,South,MGD\\r\\n23,Production,Midnight to Midnight,Midnight to Midnight,Occidental,Well,MGD\\r\\n24,Production,Midnight to Midnight,Midnight to Midnight,Sebastopol,Well,MGD\\r\\n25,Production,Midnight to Midnight,Midnight to Midnight,Todd,Well,MGD\\r\\n26,Production,Midnight to Midnight,Midnight to Midnight,Todd,Wohler,MGD\\r\\n27,Production,Midnight to Midnight,Midnight to Midnight,Todd,Mirabel,MGD\\r\\n28,Production,Midnight to Midnight,Midnight to Midnight,Todd,Total,MGD\\r\\n29,Storage,Midnight,Midnight,Midnight,Total,MG\\r\\n30,Storage,Midnight,Midnight,Midnight,Total,% Full\\r\\n31,Demand,Demand,Demand,Daily,System,MGD\\r\\n32,Demand,Demand,Demand,Avg 7-Day,System,MGD\\r\\n33,Climate,Daily,Daily,Santa Rosa,Rainfall,Inches\\r\\n34,Climate,Daily,Daily,Santa Rosa,Hi Temp,oF\\r\\n35,Climate,Daily,Daily,Santa Rosa,Low Temp,oF\\r\\n36,Climate,Daily,Daily,Operations,Rainfall,Inches\\r\\n37,Climate,Daily,Daily,Operations,Hi Temp,oF\\r\\n38,Climate,Daily,Daily,Operations,Low Temp,oF\\r\\n39,Climate,Production,Minus,Demand,Negative is,Red\\r\\n40,Climate,Production,Minus,Comments,Unnamed: 41_level_4,text\\r\\n'\n",
    "from io import StringIO\n",
    "cind = pd.read_csv(StringIO(cc), sep = ',')\n",
    "cind = cind.drop(columns = cind.columns[0])"
   ]
  },
  {
   "cell_type": "code",
   "execution_count": null,
   "id": "a39a415b-6902-4d7c-8db9-b5763336f36a",
   "metadata": {},
   "outputs": [],
   "source": []
  },
  {
   "cell_type": "code",
   "execution_count": null,
   "id": "970f5f65-233b-48e4-976d-a39417c06df6",
   "metadata": {},
   "outputs": [],
   "source": [
    "phist.columns"
   ]
  },
  {
   "cell_type": "code",
   "execution_count": null,
   "id": "50a555ce-6261-4be7-8b12-c9c23e51a03c",
   "metadata": {},
   "outputs": [],
   "source": [
    "cind"
   ]
  },
  {
   "cell_type": "code",
   "execution_count": null,
   "id": "a0eac1b3-a450-4f21-bde9-fe524531c028",
   "metadata": {},
   "outputs": [],
   "source": []
  },
  {
   "cell_type": "code",
   "execution_count": null,
   "id": "8c32fdbe-f42a-4391-a501-5cdc3544ab79",
   "metadata": {},
   "outputs": [],
   "source": [
    "cols = pd.read_clipboard()"
   ]
  },
  {
   "cell_type": "code",
   "execution_count": null,
   "id": "8c9b9018-05d8-4096-8fc7-deb76d4fcc21",
   "metadata": {},
   "outputs": [],
   "source": [
    "\n",
    "\n",
    "cc = cols.to_csv()\n",
    "cc"
   ]
  },
  {
   "cell_type": "code",
   "execution_count": null,
   "id": "7f6c5cbd-62ec-4bf1-85f0-07245d9690ca",
   "metadata": {},
   "outputs": [],
   "source": [
    "from io import StringIO\n",
    "cind = pd.read_csv(StringIO(cc), sep = ',')\n",
    "cind = cind.drop(columns = cind.columns[0])"
   ]
  },
  {
   "cell_type": "code",
   "execution_count": null,
   "id": "74a83cbb-9531-41ac-89af-097048c267a4",
   "metadata": {},
   "outputs": [],
   "source": [
    "df = pd.DataFrame(phist.values, index = phist.index, columns = pd.MultiIndex.from_frame(cind))"
   ]
  },
  {
   "cell_type": "code",
   "execution_count": null,
   "id": "3a6ea62f-7009-4039-a899-81ffd0c8bbf8",
   "metadata": {},
   "outputs": [],
   "source": [
    "df.droplevel( [1,2,3,4,5], 1)"
   ]
  },
  {
   "cell_type": "code",
   "execution_count": null,
   "id": "3dbd9039-2144-4042-b592-a1c06a17f552",
   "metadata": {},
   "outputs": [],
   "source": [
    "df.loc[:,'Caisson 1']"
   ]
  },
  {
   "cell_type": "code",
   "execution_count": null,
   "id": "13c07c80-42f4-43c9-b0de-1013d7719d7e",
   "metadata": {},
   "outputs": [],
   "source": [
    "phist.reindex(columns=pd.MultiIndex.from_frame(cind))"
   ]
  },
  {
   "cell_type": "code",
   "execution_count": null,
   "id": "e6738ee9-b2d1-41e8-a1be-a15903caa5a4",
   "metadata": {},
   "outputs": [],
   "source": [
    "phist.reindex(columns=phist.columns.to_frame().index)"
   ]
  },
  {
   "cell_type": "code",
   "execution_count": null,
   "id": "d6a2f9b5-3b37-4900-8fd2-dcc082833c30",
   "metadata": {},
   "outputs": [],
   "source": [
    "dfall.replace({'N/D':np.nan, 'o/s':np.nan}).astype(float).plot()"
   ]
  },
  {
   "cell_type": "code",
   "execution_count": null,
   "id": "675d939d-1bb7-4a39-8bde-fabc23c44044",
   "metadata": {},
   "outputs": [],
   "source": [
    "dfall =  pd.Series()\n",
    "\n",
    "for year in range(2012, 2021):\n",
    "    phist= load_phist(year = year) \n",
    "    dfall = dfall.append(phist.iloc[:,5])"
   ]
  },
  {
   "cell_type": "code",
   "execution_count": null,
   "id": "988966c4-dccc-491f-b2a9-220d4141bc5b",
   "metadata": {},
   "outputs": [],
   "source": [
    "import make_wells"
   ]
  },
  {
   "cell_type": "code",
   "execution_count": null,
   "id": "0a5ce9c0-3b88-4eee-8c5c-19187da6561d",
   "metadata": {},
   "outputs": [],
   "source": [
    "import Hydrographs"
   ]
  },
  {
   "cell_type": "code",
   "execution_count": null,
   "id": "f2214369-7128-4e51-acd9-a512143f6c77",
   "metadata": {},
   "outputs": [],
   "source": [
    "Hydrographs.get_wiski()"
   ]
  },
  {
   "cell_type": "code",
   "execution_count": null,
   "id": "e42be5fc-e297-4609-86f3-e5db18604d2f",
   "metadata": {},
   "outputs": [],
   "source": []
  }
 ],
 "metadata": {
  "kernelspec": {
   "display_name": "Python 3 (ipykernel)",
   "language": "python",
   "name": "python3"
  },
  "language_info": {
   "codemirror_mode": {
    "name": "ipython",
    "version": 3
   },
   "file_extension": ".py",
   "mimetype": "text/x-python",
   "name": "python",
   "nbconvert_exporter": "python",
   "pygments_lexer": "ipython3",
   "version": "3.10.4"
  }
 },
 "nbformat": 4,
 "nbformat_minor": 5
}
