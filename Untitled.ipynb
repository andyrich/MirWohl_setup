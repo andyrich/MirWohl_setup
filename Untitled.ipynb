{
 "cells": [
  {
   "cell_type": "code",
   "execution_count": null,
   "id": "21cf27c8-a71a-41dd-94dc-619012a0a290",
   "metadata": {
    "tags": []
   },
   "outputs": [],
   "source": [
    "import basic"
   ]
  },
  {
   "cell_type": "code",
   "execution_count": null,
   "id": "91cf6761-6fc0-4b0d-8f6c-51e2e12fb255",
   "metadata": {},
   "outputs": [],
   "source": []
  }
 ],
 "metadata": {
  "kernelspec": {
   "display_name": "Python 3 (ipykernel)",
   "language": "python",
   "name": "python3"
  },
  "language_info": {
   "codemirror_mode": {
    "name": "ipython",
    "version": 3
   },
   "file_extension": ".py",
   "mimetype": "text/x-python",
   "name": "python",
   "nbconvert_exporter": "python",
   "pygments_lexer": "ipython3",
   "version": "3.9.16"
  }
 },
 "nbformat": 4,
 "nbformat_minor": 5
}
