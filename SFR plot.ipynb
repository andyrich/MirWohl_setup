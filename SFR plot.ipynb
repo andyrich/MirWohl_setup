{
 "cells": [
  {
   "cell_type": "code",
   "execution_count": null,
   "id": "e14174b9-1029-43fc-bd02-acadbfb0549f",
   "metadata": {},
   "outputs": [],
   "source": [
    "import basic\n",
    "import pandas as pd\n",
    "\n",
    "import SFRtoSWR"
   ]
  },
  {
   "cell_type": "code",
   "execution_count": null,
   "id": "125f6dab-a7ca-4208-9a49-d39fac48283e",
   "metadata": {},
   "outputs": [],
   "source": [
    "basic.setup_folder(\"SWR_short\")"
   ]
  },
  {
   "cell_type": "code",
   "execution_count": null,
   "id": "7191add4-e689-4d06-a3b4-2ddf8246cdd1",
   "metadata": {},
   "outputs": [],
   "source": [
    "SFRtoSWR.run('SWR_short')"
   ]
  },
  {
   "cell_type": "code",
   "execution_count": null,
   "id": "b8b3d346-36ac-479b-bc44-a1bb4966dd96",
   "metadata": {},
   "outputs": [],
   "source": [
    "import geopandas as gpd\n",
    "swr = gpd.read_file(\"GIS/SWR_Reaches.shp\")\n",
    "print(swr.shape)\n",
    "swr.explore()"
   ]
  },
  {
   "cell_type": "code",
   "execution_count": null,
   "id": "ef3745ff-1cbc-41d1-b41f-316531c0a26e",
   "metadata": {},
   "outputs": [],
   "source": [
    "import write_inflows"
   ]
  },
  {
   "cell_type": "code",
   "execution_count": null,
   "id": "6196a156-7600-4868-9eb7-990301c5fa88",
   "metadata": {},
   "outputs": [],
   "source": [
    "write_inflows.run(\"SWR_short\",m = None, inflow_limit = 1000)"
   ]
  },
  {
   "cell_type": "code",
   "execution_count": null,
   "id": "2111e010-e747-4af2-a40c-3ed9487c9423",
   "metadata": {},
   "outputs": [],
   "source": []
  },
  {
   "cell_type": "code",
   "execution_count": null,
   "id": "1f78c1ac-ca8f-483d-820b-0d6c65e7bf34",
   "metadata": {},
   "outputs": [],
   "source": [
    "swr"
   ]
  },
  {
   "cell_type": "code",
   "execution_count": null,
   "id": "0dd10b9a-ec49-40f1-a168-2fca23d57689",
   "metadata": {},
   "outputs": [],
   "source": [
    "ml = basic.load_model()"
   ]
  },
  {
   "cell_type": "code",
   "execution_count": null,
   "id": "9de509db-7da1-4c8a-89c0-ce88f47c37e4",
   "metadata": {},
   "outputs": [],
   "source": [
    "sf = ml.sfr"
   ]
  },
  {
   "cell_type": "code",
   "execution_count": null,
   "id": "c5447a22-9179-4947-858e-5c245ff4c813",
   "metadata": {},
   "outputs": [],
   "source": [
    "rch = sf.reach_data\n",
    "display(pd.DataFrame(rch).head(1).T.rename(columns = {0:'n'}).query(\"n>0.\"))\n",
    "\n",
    "rch['strhc1'] = 5\n",
    "\n",
    "display(pd.DataFrame(rch).head(1).T.rename(columns = {0:'n'}).query(\"n>0.\"))\n",
    "\n",
    "sf.reach_data = rch"
   ]
  },
  {
   "cell_type": "code",
   "execution_count": null,
   "id": "b91fabc0-7e1a-4f57-a5e2-82be78271704",
   "metadata": {},
   "outputs": [],
   "source": [
    "pd.DataFrame(sf.reach_data)"
   ]
  },
  {
   "cell_type": "code",
   "execution_count": null,
   "id": "27405a87-314e-4661-88aa-ddfe5973cb8f",
   "metadata": {},
   "outputs": [],
   "source": []
  },
  {
   "cell_type": "code",
   "execution_count": null,
   "id": "36cee43f-a858-479f-97b1-fd3a1f148e82",
   "metadata": {},
   "outputs": [],
   "source": []
  },
  {
   "cell_type": "code",
   "execution_count": null,
   "id": "e35e089d-6c42-48d2-8840-d44801dad534",
   "metadata": {},
   "outputs": [],
   "source": []
  },
  {
   "cell_type": "code",
   "execution_count": null,
   "id": "bb7e097d-ce0c-4a27-9c22-4f5c8d0f8462",
   "metadata": {},
   "outputs": [],
   "source": []
  },
  {
   "cell_type": "code",
   "execution_count": null,
   "id": "ed017eb2-9442-4c21-bd69-ce7446ddbbc4",
   "metadata": {},
   "outputs": [],
   "source": []
  },
  {
   "cell_type": "code",
   "execution_count": null,
   "id": "4aa6f90f-9c8a-49d9-877c-3496c954d82a",
   "metadata": {},
   "outputs": [],
   "source": []
  },
  {
   "cell_type": "code",
   "execution_count": null,
   "id": "f71b568e-dcd7-40cd-9961-80bc32c23c75",
   "metadata": {},
   "outputs": [],
   "source": [
    "sf.write_file()"
   ]
  },
  {
   "cell_type": "code",
   "execution_count": null,
   "id": "69f2be8e-d0ee-4f59-9825-9c16b7d75428",
   "metadata": {},
   "outputs": [],
   "source": []
  }
 ],
 "metadata": {
  "kernelspec": {
   "display_name": "Python 3 (ipykernel)",
   "language": "python",
   "name": "python3"
  },
  "language_info": {
   "codemirror_mode": {
    "name": "ipython",
    "version": 3
   },
   "file_extension": ".py",
   "mimetype": "text/x-python",
   "name": "python",
   "nbconvert_exporter": "python",
   "pygments_lexer": "ipython3",
   "version": "3.9.16"
  }
 },
 "nbformat": 4,
 "nbformat_minor": 5
}
