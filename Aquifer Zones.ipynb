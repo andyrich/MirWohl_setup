{
 "cells": [
  {
   "cell_type": "code",
   "execution_count": 17,
   "id": "e08c2185-3eca-4448-a768-6d1cf31e128c",
   "metadata": {},
   "outputs": [],
   "source": [
    "import numpy as np\n",
    "import geopandas as gpd\n",
    "import basic\n",
    "import matplotlib.pyplot as plt\n",
    "import os"
   ]
  },
  {
   "cell_type": "code",
   "execution_count": 3,
   "id": "b5b74c29-8ef7-4888-9884-903d5b6ba6a8",
   "metadata": {},
   "outputs": [
    {
     "name": "stdout",
     "output_type": "stream",
     "text": [
      "RR_2022\n"
     ]
    }
   ],
   "source": [
    "ml = basic.load_model()"
   ]
  },
  {
   "cell_type": "code",
   "execution_count": 4,
   "id": "c6a867cf-f9fa-45bf-8dda-392416736f23",
   "metadata": {},
   "outputs": [],
   "source": [
    "zones = gpd.read_file('GIS/grid.shp')"
   ]
  },
  {
   "cell_type": "code",
   "execution_count": null,
   "id": "f0c631cb-a319-48b2-8515-71d618469b61",
   "metadata": {},
   "outputs": [],
   "source": []
  },
  {
   "cell_type": "code",
   "execution_count": 23,
   "id": "62beef2d-45bd-4c6a-912d-8b08e65bb61b",
   "metadata": {},
   "outputs": [
    {
     "data": {
      "text/plain": [
       "<matplotlib.image.AxesImage at 0x26ab39e2b30>"
      ]
     },
     "execution_count": 23,
     "metadata": {},
     "output_type": "execute_result"
    },
    {
     "data": {
      "image/png": "[encoded data removed]",
      "text/plain": [
       "<Figure size 432x288 with 1 Axes>"
      ]
     },
     "metadata": {
      "needs_background": "light"
     },
     "output_type": "display_data"
    }
   ],
   "source": [
    "def make_ar(ml, zones, col, name):\n",
    "    \n",
    "    ones = np.zeros((ml.dis.nrow,ml.dis.ncol))\n",
    "    \n",
    "    ones[zones.loc[:,'row']-1, zones.loc[:,'column']-1] =zones.loc[:, col]\n",
    "    ones[np.isnan(ones)] = 0\n",
    "    \n",
    "    np.savetxt(os.path.join('RR_2022', 'mult', f\"zones_{name}.txt\"),ones,  fmt = '%d')\n",
    "    return ones\n",
    "\n",
    "ar = make_ar(ml, zones, 'vkzone', 'vk')\n",
    "ar = make_ar(ml, zones, 'hkzone', 'hk')\n",
    "ar = make_ar(ml, zones, 'sszone', 'ss')\n",
    "ar = make_ar(ml, zones, 'syzone', 'sy')\n",
    "\n",
    "plt.imshow(ar)"
   ]
  },
  {
   "cell_type": "code",
   "execution_count": null,
   "id": "9dc7d209-174f-433c-bafe-a742b925d947",
   "metadata": {},
   "outputs": [],
   "source": []
  },
  {
   "cell_type": "code",
   "execution_count": null,
   "id": "8dbb468c-dc15-443b-b17a-c83a38086658",
   "metadata": {},
   "outputs": [],
   "source": []
  }
 ],
 "metadata": {
  "kernelspec": {
   "display_name": "Python 3 (ipykernel)",
   "language": "python",
   "name": "python3"
  },
  "language_info": {
   "codemirror_mode": {
    "name": "ipython",
    "version": 3
   },
   "file_extension": ".py",
   "mimetype": "text/x-python",
   "name": "python",
   "nbconvert_exporter": "python",
   "pygments_lexer": "ipython3",
   "version": "3.10.4"
  }
 },
 "nbformat": 4,
 "nbformat_minor": 5
}
