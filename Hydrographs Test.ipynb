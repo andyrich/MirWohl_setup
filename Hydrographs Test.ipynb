{
 "cells": [
  {
   "cell_type": "code",
   "execution_count": null,
   "id": "af6d5b5e-03a3-4d4b-8ddb-7184be645d43",
   "metadata": {},
   "outputs": [],
   "source": [
    "import Hydrographs as HY\n",
    "import make_wells as mw\n",
    "import geopandas as gpd\n",
    "import basic"
   ]
  },
  {
   "cell_type": "code",
   "execution_count": null,
   "id": "d11bcc9d-15fc-4321-a746-f209e87342f7",
   "metadata": {
    "tags": []
   },
   "outputs": [],
   "source": [
    "run = f\"June{2017}\"\n",
    "ml = basic.load_model(path = f'temp/{run}')\n",
    "HY.run(run, reload = True, ml = ml)"
   ]
  },
  {
   "cell_type": "code",
   "execution_count": null,
   "id": "426ed2a4-cd59-45a4-a9db-8a286b31fe16",
   "metadata": {},
   "outputs": [],
   "source": [
    "asdf"
   ]
  },
  {
   "cell_type": "code",
   "execution_count": null,
   "id": "a405cb1d-7df5-4bde-88f0-ebeb84888df3",
   "metadata": {
    "tags": []
   },
   "outputs": [],
   "source": [
    "for year in range(2012, 2022):\n",
    "    run = f\"June{year}\"\n",
    "    ml = basic.load_model(path = f'temp/{run}')\n",
    "    HY.run(run, reload = True, ml = ml)"
   ]
  },
  {
   "cell_type": "code",
   "execution_count": null,
   "id": "3171f97b-924d-42ff-9f70-089dea9da4f0",
   "metadata": {},
   "outputs": [],
   "source": [
    "def load_temp(name, datestart=None, numdays=365):\n",
    "    '''\n",
    "\n",
    "    :param name:\n",
    "    :param datestart:\n",
    "    :param numdays:\n",
    "    :return:\n",
    "    '''\n",
    "\n",
    "    fold = r\"T:\\arich\\Russian_River\\MirabelWohler_2022\\Waterlevel_Data\\MWs_Caissons - AvailableDailyAverages\\DailyData\\MonitoringWells\"\n",
    "\n",
    "    # need to check if it's a caisson record. if it is, it needs to be loaded differently\n",
    "    if isinstance(name, str):\n",
    "        if 'caisson' in name.lower():\n",
    "            fold = r\"T:\\arich\\Russian_River\\MirabelWohler_2022\\Waterlevel_Data\\MWs_Caissons - AvailableDailyAverages\\DailyData\\Caissons\"\n",
    "            caisson = True\n",
    "        else:\n",
    "            caisson = False\n",
    "\n",
    "    else:\n",
    "        caisson = False\n",
    "        name = 'no filename given'\n",
    "    \n",
    "    if caisson:\n",
    "        path = pathlib.Path(fold).joinpath(name)\n",
    "    else:\n",
    "        path = pathlib.Path(fold).joinpath(name.replace('.csv', 'temp.csv'))\n",
    "    # path = pathlib.Path(fold).joinpath(name.replace(' ', '').replace('-', '_') + '.csv')\n",
    "\n",
    "    # if end_time is None:\n",
    "    end_time = pd.to_datetime(datestart) + pd.to_timedelta(numdays, unit='D')\n",
    "\n",
    "    if path.exists():\n",
    "        stg = pd.read_csv(path, parse_dates=[0])\n",
    "        stg = stg.set_index(stg.columns[0])\n",
    "        stg = stg.resample('1D').mean()\n",
    "        stg = stg.loc[(stg.loc[:, 'Value'] > 50) & (stg.loc[:, 'Value'] < 120)]\n",
    "\n",
    "        if datestart is not None:\n",
    "            stg = stg.loc[datestart:end_time, :]\n",
    "\n",
    "\n",
    "    else:\n",
    "        print(f\"path does not exist:\\n\\n{path}\\n\")\n",
    "\n",
    "        stg = pd.DataFrame()\n",
    "\n",
    "    return stg"
   ]
  },
  {
   "cell_type": "code",
   "execution_count": null,
   "id": "dc06f8da-4b24-4e5d-92b6-ba43c8cc64ba",
   "metadata": {
    "tags": []
   },
   "outputs": [],
   "source": [
    "import pathlib\n",
    "import pandas as pd\n",
    "temp = load_temp('MW93_18.csv')"
   ]
  },
  {
   "cell_type": "code",
   "execution_count": null,
   "id": "67b006cc-edef-474f-8dda-fe3a506028e3",
   "metadata": {},
   "outputs": [],
   "source": [
    "import conda_scripts.utils.river_report as rr"
   ]
  },
  {
   "cell_type": "code",
   "execution_count": null,
   "id": "248806e8-e58b-47a4-8bde-cb78f8611804",
   "metadata": {},
   "outputs": [],
   "source": [
    "df = rr.load_river_report()"
   ]
  },
  {
   "cell_type": "code",
   "execution_count": null,
   "id": "87b9869f-d9a8-4f2f-8ded-0f90215884a8",
   "metadata": {},
   "outputs": [],
   "source": [
    "df.loc[:, 'Caisson 1']"
   ]
  },
  {
   "cell_type": "code",
   "execution_count": null,
   "id": "a73cae66-852a-4e23-9fbc-68b38e19c4c3",
   "metadata": {},
   "outputs": [],
   "source": [
    "import conda_scripts.gwplot_fancy as gwp\n",
    "import pandas as pd"
   ]
  },
  {
   "cell_type": "code",
   "execution_count": null,
   "id": "f567ab6f-b2be-4fa7-b00f-a474d427481f",
   "metadata": {},
   "outputs": [],
   "source": [
    "temp.plot()"
   ]
  },
  {
   "cell_type": "code",
   "execution_count": null,
   "id": "cc5d9411-c2b0-49ea-8873-a0fc5b1f5d12",
   "metadata": {},
   "outputs": [],
   "source": [
    "ur1 = r'https://www.kisters.net/sonomacountygroundwater/KiWIS/KiWIS?service=kisters&type=queryServices&request=getStationList&datasource=0&format=html&station_name='\n",
    "ur2 = r'&returnfields=station_name,station_no,site_name,station_latitude,station_longitude,ca_sta&ca_sta_returnfields=Vert_coord_Loc,TOS_1,BOS_1,TOS_2,BOS_2,TOS_3,BOS_3,TOS_4,BOS_4,TOS_5,BOS_5,TOS_6,BOS_6,TOS_7,BOS_7,TOS_8,BOS_8,'\n",
    "ur3 = r'Depth_to_Bot_Perf,Depth_to_Top_Perf,Web_GW_Obs_Range,Subbasin_Name,GWREF_DATUM,Web_Station_Name,Well_Depth,Survey_ElevNAD88,Survey_ElevNGVD29,Ref_Elev_NVD29,Survey_ElevNGVD29,Reference_Elevation,Elevation,Height'\n",
    "\n",
    "url_send = ur1 + 'LRR0225' + ur2 + ur3\n",
    "x = pd.read_html(url_send, header=0)\n",
    "x\n"
   ]
  },
  {
   "cell_type": "code",
   "execution_count": null,
   "id": "fc54e35e-04bd-431f-bc15-2941565ade7d",
   "metadata": {},
   "outputs": [],
   "source": [
    "nwp.t.get_well_info()"
   ]
  },
  {
   "cell_type": "code",
   "execution_count": null,
   "id": "5def66af-7667-4860-8d85-c1444ba57046",
   "metadata": {},
   "outputs": [],
   "source": [
    "nwp = gwp.fancy_plot('LRR0225', group=None,\n",
    "                     filename=None,\n",
    "                     allinfo=nwp.t.gw_elev.loc[[4],:],\n",
    "                     do_regress=False)\n",
    "\n",
    "nwp.do_plot(False, skip_gw_data=False,\n",
    "            map_buffer_size=2500, seasonal=False,\n",
    "            plot_dry=False, plot_wet=False,\n",
    "            maptype='ctx.USGS.USTopo')\n",
    "\n",
    "ax = nwp.upleft.twinx()\n",
    "ax.scatter(temp.index, temp.Value,  c = 'r', marker = '.', ls= 'None', label = 'Temp')\n",
    "ax.set_ylim([30, 75])\n",
    "ax.legend(loc = 'lower right', bbox_to_anchor = (1,1))\n",
    "ax.tick_params(axis='y', colors='red')    #setting up X-axis tick color to red\n",
    "ax.spines['right'].set_color('red')        # setting up Y-axis tick color to red"
   ]
  },
  {
   "cell_type": "code",
   "execution_count": null,
   "id": "db34662a-9323-4c4e-b097-357ae0c27d48",
   "metadata": {},
   "outputs": [],
   "source": [
    "temp.plot()"
   ]
  },
  {
   "cell_type": "code",
   "execution_count": null,
   "id": "0366f698-3bd2-4809-8d68-d3d33170c3f9",
   "metadata": {},
   "outputs": [],
   "source": [
    "model_wells = HY.load_wells_mod(ml)"
   ]
  },
  {
   "cell_type": "code",
   "execution_count": null,
   "id": "0b8a2253-249b-4aa2-9cdc-39f8f1c6aa79",
   "metadata": {},
   "outputs": [],
   "source": [
    "model_wells"
   ]
  },
  {
   "cell_type": "code",
   "execution_count": null,
   "id": "0ae378c6-e0cd-4112-964b-08f97952b129",
   "metadata": {},
   "outputs": [],
   "source": [
    "m = caissons.explore()"
   ]
  },
  {
   "cell_type": "code",
   "execution_count": null,
   "id": "22dc1c3f-3d1a-4bff-ad72-582eb756f2c8",
   "metadata": {},
   "outputs": [],
   "source": [
    "caissons = gpd.read_file('C:\\modeling\\MirabelWohler\\GIS\\wells.shp')\n",
    "caissons = caissons.query('lateral == 0')\n",
    "caissons.loc[:,'latitude'] = caissons.to_crs(4326).geometry.centroid.y.values\n",
    "caissons.loc[:,'longitude'] = caissons.to_crs(4326).geometry.centroid.x.values\n",
    "caissons.loc[:,'northing'] = caissons.to_crs(2226).geometry.centroid.y.values\n",
    "caissons.loc[:,'easting'] = caissons.to_crs(2226).geometry.centroid.x.values\n",
    "caissons"
   ]
  },
  {
   "cell_type": "code",
   "execution_count": null,
   "id": "ea82f1da-30c2-4ee4-8c6b-71d1c23b9ba6",
   "metadata": {},
   "outputs": [],
   "source": [
    "caissons.loc[:,['wellname', 'northing', 'easting']].to_clipboard(sep = ',')"
   ]
  },
  {
   "cell_type": "code",
   "execution_count": null,
   "id": "125cdd7e-6297-4a0a-b53d-6d423d5a2647",
   "metadata": {},
   "outputs": [],
   "source": [
    "wells = HY.get_well_locations()"
   ]
  },
  {
   "cell_type": "code",
   "execution_count": null,
   "id": "d4a76a51-a7a6-4f05-9be6-51f39f50cf6e",
   "metadata": {},
   "outputs": [],
   "source": [
    "wells"
   ]
  },
  {
   "cell_type": "code",
   "execution_count": null,
   "id": "91f5835e-3858-4029-980e-62cbe666d5d1",
   "metadata": {},
   "outputs": [],
   "source": [
    "import pandas as pd\n",
    "from basic import isnumber\n",
    "\n",
    "def load_stg(path):\n",
    "    stg = pd.read_csv(path)\n",
    "    stg = stg.rename(columns =  {'DateTime':'Datetime'})\n",
    "    stg.loc[:,'Datetime'] = pd.to_datetime(stg.loc[:,'Datetime'])\n",
    "    stg = stg.set_index('Datetime')\n",
    "    stg = stg.loc[:,['Value']]\n",
    "    stg.loc[:,'Value'] = stg.loc[:,'Value'].apply(isnumber)\n",
    "    stg = stg.resample('1D').mean()\n",
    "    stg = stg.loc[(stg.loc[:, 'Value'] > -50) & (stg.loc[:, 'Value'] < 100)]\n",
    "\n",
    "    return stg\n",
    "\n",
    "df = load_stg(r\"T:\\arich\\Russian_River\\MirabelWohler_2022\\Waterlevel_Data\\MWs_Caissons - AvailableDailyAverages\\DailyData\\Caissons\\Caisson1WaterLevel.csv\")\n",
    "\n",
    "df.head()"
   ]
  },
  {
   "cell_type": "code",
   "execution_count": null,
   "id": "75b426ae-92ad-422b-b49f-433c2197d60c",
   "metadata": {},
   "outputs": [],
   "source": [
    "df.tail().resample('1D').mean()"
   ]
  },
  {
   "cell_type": "code",
   "execution_count": null,
   "id": "ef102f11-7d2d-4bba-a3b4-5526a87ccca4",
   "metadata": {},
   "outputs": [],
   "source": [
    "df.head().resample('1D').mean()"
   ]
  },
  {
   "cell_type": "code",
   "execution_count": null,
   "id": "e508594e-3ac1-4dec-becf-f06227b90cb6",
   "metadata": {},
   "outputs": [],
   "source": [
    "wiski = HY.get_wiski()"
   ]
  },
  {
   "cell_type": "code",
   "execution_count": null,
   "id": "eb0be47f-8576-40e8-b299-5ca3a2cd6bfa",
   "metadata": {},
   "outputs": [],
   "source": [
    "wiski.query(\"station_name=='LRR0227'\")"
   ]
  },
  {
   "cell_type": "code",
   "execution_count": null,
   "id": "2ffb1d19-7f9a-4468-9a9c-e81aa65ae4c0",
   "metadata": {},
   "outputs": [],
   "source": [
    "w = wiski.loc[wiski.station_no.str.contains('Caisson')]"
   ]
  },
  {
   "cell_type": "code",
   "execution_count": null,
   "id": "4234197e-59e1-4ac6-8272-1d5972337a2a",
   "metadata": {},
   "outputs": [],
   "source": [
    "\n",
    "wdf = gpd.GeoDataFrame(w, geometry = gpd.points_from_xy(w.station_longitude, w.station_latitude), crs = 4326)"
   ]
  },
  {
   "cell_type": "code",
   "execution_count": null,
   "id": "9b63523e-d849-4b13-9813-15a3b6cb30f5",
   "metadata": {},
   "outputs": [],
   "source": [
    "wdf.explore()"
   ]
  },
  {
   "cell_type": "code",
   "execution_count": null,
   "id": "2879d152-00e8-4cff-9b91-8b7de4fba4e8",
   "metadata": {},
   "outputs": [],
   "source": []
  }
 ],
 "metadata": {
  "kernelspec": {
   "display_name": "Python 3 (ipykernel)",
   "language": "python",
   "name": "python3"
  },
  "language_info": {
   "codemirror_mode": {
    "name": "ipython",
    "version": 3
   },
   "file_extension": ".py",
   "mimetype": "text/x-python",
   "name": "python",
   "nbconvert_exporter": "python",
   "pygments_lexer": "ipython3",
   "version": "3.10.4"
  }
 },
 "nbformat": 4,
 "nbformat_minor": 5
}
