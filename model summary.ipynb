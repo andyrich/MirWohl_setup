{
 "cells": [
  {
   "cell_type": "code",
   "execution_count": null,
   "id": "40bd82da-da35-4d40-b6df-80f39df6c238",
   "metadata": {},
   "outputs": [],
   "source": [
    "import flopy\n",
    "import os\n",
    "import geopandas as gpd\n",
    "import basic\n",
    "import contextily as ctx\n",
    "import pandas as pd\n",
    "import numpy as np\n",
    "import os\n",
    "import matplotlib.pyplot as plt\n",
    "\n",
    "import geopandas as gpd"
   ]
  },
  {
   "cell_type": "code",
   "execution_count": null,
   "id": "668f973b-d790-473f-a9e0-321a9eaa3b3e",
   "metadata": {},
   "outputs": [],
   "source": []
  },
  {
   "cell_type": "code",
   "execution_count": null,
   "id": "5341e9a0-11a6-4bb0-9982-6257606194da",
   "metadata": {},
   "outputs": [],
   "source": []
  },
  {
   "cell_type": "code",
   "execution_count": null,
   "id": "4cac6368-ca56-45df-ac82-cda5f069e0fa",
   "metadata": {},
   "outputs": [],
   "source": []
  },
  {
   "cell_type": "code",
   "execution_count": null,
   "id": "e14d43c3-acc4-463b-817f-614ec624e4ee",
   "metadata": {},
   "outputs": [],
   "source": []
  },
  {
   "cell_type": "code",
   "execution_count": null,
   "id": "0cf434f8-7cf2-45f0-a289-a0fa093c5475",
   "metadata": {
    "tags": []
   },
   "outputs": [],
   "source": [
    "\n",
    "m = basic.load_model(verbose = True)"
   ]
  },
  {
   "cell_type": "code",
   "execution_count": null,
   "id": "131a5682-a10a-4bdf-ad50-596e905369e5",
   "metadata": {
    "tags": []
   },
   "outputs": [],
   "source": [
    "m.plot()"
   ]
  },
  {
   "cell_type": "code",
   "execution_count": null,
   "id": "49a6d51f-4290-4815-bc36-e7c7cffb822a",
   "metadata": {
    "tags": []
   },
   "outputs": [],
   "source": []
  },
  {
   "cell_type": "code",
   "execution_count": null,
   "id": "5c549777-5e9a-4cf1-a5c8-cebf3cce60b6",
   "metadata": {},
   "outputs": [],
   "source": [
    "import numpy as np\n",
    "import matplotlib.pyplot as plt"
   ]
  },
  {
   "cell_type": "code",
   "execution_count": null,
   "id": "eab70116-4633-4944-9558-8de153f65e21",
   "metadata": {},
   "outputs": [],
   "source": [
    "x = m.modelgrid.get_xcellcenters_for_layer(1)\n",
    "y = m.modelgrid.get_ycellcenters_for_layer(1)"
   ]
  },
  {
   "cell_type": "code",
   "execution_count": null,
   "id": "4b683392-7ff8-4833-83e0-96434a9fb186",
   "metadata": {},
   "outputs": [],
   "source": []
  },
  {
   "cell_type": "code",
   "execution_count": null,
   "id": "2a19cb5e-e954-49f2-84d7-0ed206d7da06",
   "metadata": {},
   "outputs": [],
   "source": []
  },
  {
   "cell_type": "code",
   "execution_count": null,
   "id": "e01735fd-059e-488b-b183-67b052a5befc",
   "metadata": {},
   "outputs": [],
   "source": []
  },
  {
   "cell_type": "code",
   "execution_count": null,
   "id": "31ce2b04-4172-4532-acd8-4245727099e9",
   "metadata": {},
   "outputs": [],
   "source": [
    "# print layer bottom averages\n",
    "# plot cell thicknesses\n",
    "for lay in range(m.dis.nlay):\n",
    "    \n",
    "    ar = m.dis.get_cell_volumes()[lay]/(200*200)\n",
    "    ar[m.bas6.ibound.array[lay]==0]=np.nan\n",
    "    \n",
    "    #print model botm\n",
    "    bot = m.dis.getbotm()[lay]\n",
    "    bot[m.bas6.ibound.array[lay]==0]=np.nan\n",
    "    print(\"layer {}, elevation {:.1f}\".format(lay,np.nanmean(bot.reshape((1,-1)))))\n",
    "    \n"
   ]
  },
  {
   "cell_type": "code",
   "execution_count": null,
   "id": "3418eac4-1cbb-4dfe-b4c9-d008b8c677cd",
   "metadata": {},
   "outputs": [],
   "source": [
    "swr = gpd.read_file(\"GIS/nhd_hr_demo_sfr_cells.shp\")\n",
    "swr = swr.query(\"name=='Russian River'\")\n",
    "swr"
   ]
  },
  {
   "cell_type": "code",
   "execution_count": null,
   "id": "2085d896-f0df-4f9e-94fc-cf03029432a2",
   "metadata": {},
   "outputs": [],
   "source": []
  },
  {
   "cell_type": "code",
   "execution_count": null,
   "id": "081867c4-3b4b-423d-a1dc-11eea7f8fab2",
   "metadata": {},
   "outputs": [],
   "source": [
    "swr_active = gpd.read_file(\"GIS/SWR_Reaches.shp\")\n",
    "\n",
    "ar = m.dis.gettop()\n",
    "ar[m.bas6.ibound.array[lay]==0]=np.nan\n",
    "swr_active.loc[:,'modtop'] = ar[swr_active.loc[:,'i'], swr_active.loc[:,'j']] \n",
    "\n",
    "ar = m.dis.botm.array[0]\n",
    "# ar[m.bas6.ibound.array[lay]==0]=np.nan\n",
    "swr_active.loc[:,'bot'] = ar[swr_active.loc[:,'i'], swr_active.loc[:,'j']] \n",
    "\n",
    "ar = m.dis.botm.array[1]\n",
    "# ar[m.bas6.ibound.array[lay]==0]=np.nan\n",
    "swr_active.loc[:,'lay2'] = ar[swr_active.loc[:,'i'], swr_active.loc[:,'j']] \n",
    "\n",
    "ar = m.dis.botm.array[2]\n",
    "# ar[m.bas6.ibound.array[lay]==0]=np.nan\n",
    "swr_active.loc[:,'lay3'] = ar[swr_active.loc[:,'i'], swr_active.loc[:,'j']] \n",
    "\n",
    "# swr_active.lo\n",
    "fig,ax = plt.subplots(figsize=(10,4))\n",
    "\n",
    "ax.scatter(swr_active.loc[:,'rno'],swr_active.loc[:,'modtop'], label = 'modtop',marker= '.', c = 'k')\n",
    "ax.scatter(swr_active.loc[:,'rno'],swr_active.loc[:,'bot'], label = 'layer 1 bottom',marker= '.',  c = 'orange' )\n",
    "ax.scatter(swr_active.loc[:,'rno'],swr_active.loc[:,'thalweg'], label = 'thalweg' )\n",
    "ax.scatter(swr_active.loc[:,'rno'],swr_active.loc[:,'lay2'], label = 'layer 2 bottom',marker= '.',  c = 'k' )\n",
    "ax.scatter(swr_active.loc[:,'rno'],swr_active.loc[:,'lay3'], label = 'layer 3 bottom',marker= '.',  c = 'k' )\n",
    "ax.legend()\n",
    "ax.set_title('Layer elevations and Thalweg for SWR Reaches')"
   ]
  },
  {
   "cell_type": "code",
   "execution_count": null,
   "id": "8de2520c-cb07-4040-9fae-105940389be1",
   "metadata": {},
   "outputs": [],
   "source": [
    "import warnings\n",
    "# plot cell thicknesses\n",
    "lay = 0\n",
    "\n",
    "ar = m.dis.gettop()\n",
    "ar[m.bas6.ibound.array[lay]==0]=np.nan\n",
    "\n",
    "#burn in swr thalwegs\n",
    "\n",
    "ar[swr_active.loc[:,'i'], swr_active.loc[:,'j']] = swr_active.loc[:,'thalweg']\n",
    "\n",
    "fig, ax = plt.subplots(figsize = (10,10))\n",
    "mapview = flopy.plot.PlotMapView(m,ax = ax)\n",
    "linecollection = mapview.plot_grid(linewidth = .3)\n",
    "\n",
    "quadmesh = mapview.plot_array(ar, vmax = 100,vmin  =0,cmap = 'gist_ncar_r')\n",
    "ctx.add_basemap(ax, crs = 2226)\n",
    "ax.set_title(f\"layer {lay+1} elevation (feet)\")\n",
    "\n",
    "zeros = np.where(ar<0)\n",
    "\n",
    "swr.plot(ax =ax, facecolor = 'None', edgecolor = 'k')\n",
    "\n",
    "#check if any \n",
    "if zeros[0].size >0:\n",
    "    warnings.warn('zero thickness layer found')\n",
    "    xx , yy = x[0,zeros[1]], y[zeros[0],0]\n",
    "    pt = gpd.GeoDataFrame(np.arange(int(len(zeros)/2)),geometry = gpd.points_from_xy(xx,yy), crs = 2226)\n",
    "    pt.plot(ax = ax, markersize = 10, zorder = 10, facecolor = 'red')\n",
    "\n",
    "cb = plt.colorbar(quadmesh, shrink=0.5)\n",
    "plt.savefig(os.path.join('model summary', f\"lay 1 top.png\"))"
   ]
  },
  {
   "cell_type": "code",
   "execution_count": null,
   "id": "7f9a16d2-1a9f-4888-977a-027c96a68598",
   "metadata": {},
   "outputs": [],
   "source": [
    "import warnings\n",
    "# plot cell thicknesses\n",
    "lay = 0\n",
    "\n",
    "ar = m.dis.gettop()\n",
    "ar[m.bas6.ibound.array[lay]==0]=np.nan\n",
    "\n",
    "#burn in swr thalwegs\n",
    "\n",
    "ar[swr_active.loc[:,'i'], swr_active.loc[:,'j']] = swr_active.loc[:,'thalweg']\n",
    "\n",
    "fig, ax = plt.subplots(figsize = (10,10))\n",
    "mapview = flopy.plot.PlotMapView(m,ax = ax)\n",
    "linecollection = mapview.plot_grid(linewidth = .3)\n",
    "\n",
    "quadmesh = mapview.plot_array(ar, vmax = 100,vmin  =0,cmap = 'gist_ncar_r')\n",
    "ctx.add_basemap(ax, crs = 2226)\n",
    "ax.set_title(f\"layer {lay+1} elevation (feet)\")\n",
    "\n",
    "zeros = np.where(ar<0)\n",
    "\n",
    "swr.plot(ax =ax, facecolor = 'None', edgecolor = 'k')\n",
    "\n",
    "#check if any \n",
    "if zeros[0].size >0:\n",
    "    warnings.warn('zero thickness layer found')\n",
    "    xx , yy = x[0,zeros[1]], y[zeros[0],0]\n",
    "    pt = gpd.GeoDataFrame(np.arange(int(len(zeros)/2)),geometry = gpd.points_from_xy(xx,yy), crs = 2226)\n",
    "    pt.plot(ax = ax, markersize = 10, zorder = 10, facecolor = 'red')\n",
    "\n",
    "cb = plt.colorbar(quadmesh, shrink=0.5)\n",
    "plt.savefig(os.path.join('model summary', f\"lay 1 top.png\"))"
   ]
  },
  {
   "cell_type": "code",
   "execution_count": null,
   "id": "a80cf5f1-5f49-4926-b6e5-6b15e42922e9",
   "metadata": {},
   "outputs": [],
   "source": []
  },
  {
   "cell_type": "code",
   "execution_count": null,
   "id": "c35bcc1b-cc74-43c7-8679-1be17639ddb9",
   "metadata": {},
   "outputs": [],
   "source": [
    "# plot cell thicknesses\n",
    "for lay in range(m.dis.nlay):\n",
    "    \n",
    "    ar = m.dis.get_cell_volumes()[lay]/(200*200)\n",
    "    ar[m.bas6.ibound.array[lay]==0]=np.nan\n",
    "    \n",
    "\n",
    "    fig, ax = plt.subplots(figsize = (10,10))\n",
    "    mapview = flopy.plot.PlotMapView(m,ax = ax)\n",
    "    linecollection = mapview.plot_grid(linewidth = .3)\n",
    "    quadmesh = mapview.plot_array(ar, vmax = 100,vmin  =0,cmap = 'Blues')\n",
    "    ctx.add_basemap(ax, crs = 2226)\n",
    "    ax.set_title(f\"layer {lay+1} thickness (feet)\")\n",
    "    \n",
    "    zeros = np.where(ar<0)\n",
    "    \n",
    "    if zeros[0].size >0:\n",
    "        xx , yy = x[0,zeros[1]], y[zeros[0],0]\n",
    "        pt = gpd.GeoDataFrame(np.arange(int(len(zeros)/2)),geometry = gpd.points_from_xy(xx,yy), crs = 2226)\n",
    "        pt.plot(ax = ax, markersize = 10, zorder = 10, facecolor = 'red')\n",
    "        \n",
    "    swr.plot(ax =ax, facecolor = 'None', edgecolor = 'k')\n",
    "    \n",
    "    cb = plt.colorbar(quadmesh, shrink=0.5)\n",
    "    plt.savefig(os.path.join('model summary', f\"lay thick {lay+1}.png\"))\n",
    "    # plt.imshow(m.dis.get_cell_volumes()[0])"
   ]
  },
  {
   "cell_type": "code",
   "execution_count": null,
   "id": "dd16a813-fdeb-489d-a2b8-3bc796189257",
   "metadata": {},
   "outputs": [],
   "source": [
    "riv = flopy.modflow.ModflowRiv.load('RR_2022/Results/SWRSample05.riv', m, nper = 1)"
   ]
  },
  {
   "cell_type": "code",
   "execution_count": null,
   "id": "363906d9-e8ec-44ad-b22c-d4e75c69736e",
   "metadata": {},
   "outputs": [],
   "source": [
    "riv.stress_period_data[1]"
   ]
  },
  {
   "cell_type": "code",
   "execution_count": null,
   "id": "e5e9b814-f743-4b36-8825-e3d9331090f2",
   "metadata": {},
   "outputs": [],
   "source": [
    "riv.export('GIS/riv_erase.shp',kper = 1)"
   ]
  },
  {
   "cell_type": "code",
   "execution_count": null,
   "id": "8018dc8b-9f93-4127-8b4e-2da17faa1361",
   "metadata": {},
   "outputs": [],
   "source": [
    "riv_gis = gpd.read_file('GIS/riv_erase.shp')\n"
   ]
  },
  {
   "cell_type": "code",
   "execution_count": null,
   "id": "e8f71f48-47f2-4af0-b724-8109209ed5c2",
   "metadata": {},
   "outputs": [],
   "source": []
  },
  {
   "cell_type": "code",
   "execution_count": null,
   "id": "757f9f63-e88e-41ae-a294-1a11472d7c28",
   "metadata": {},
   "outputs": [],
   "source": []
  },
  {
   "cell_type": "code",
   "execution_count": null,
   "id": "002b5333-aa10-463f-b9bf-fe5f5444bae2",
   "metadata": {},
   "outputs": [],
   "source": [
    "for i in range(5):\n",
    "    print(i)"
   ]
  },
  {
   "cell_type": "code",
   "execution_count": null,
   "id": "271d8e24-15b8-49a1-a4f1-9cc3bbfaad69",
   "metadata": {},
   "outputs": [],
   "source": [
    "reaches.loc[:,'ROW']"
   ]
  },
  {
   "cell_type": "code",
   "execution_count": null,
   "id": "a31abe92-1aa1-462e-be4a-4277557a9474",
   "metadata": {},
   "outputs": [],
   "source": [
    "reaches.loc[:,'COL']"
   ]
  },
  {
   "cell_type": "code",
   "execution_count": null,
   "id": "0ea97162-473d-474d-bbb8-8faa56d7bcbb",
   "metadata": {},
   "outputs": [],
   "source": [
    "import conda_scripts.arich_functions as af"
   ]
  },
  {
   "cell_type": "code",
   "execution_count": null,
   "id": "c5865063-957d-4a68-b35d-2dd115f260d2",
   "metadata": {},
   "outputs": [],
   "source": [
    "\n"
   ]
  },
  {
   "cell_type": "code",
   "execution_count": null,
   "id": "63cd49d1-092a-4684-893e-786204732992",
   "metadata": {},
   "outputs": [],
   "source": [
    "reaches"
   ]
  },
  {
   "cell_type": "code",
   "execution_count": null,
   "id": "2abf1579-bc24-481e-af7d-ccf0ffb5b6a5",
   "metadata": {},
   "outputs": [],
   "source": [
    "m.dis.top.export('GIS/mod_top.shp', )"
   ]
  },
  {
   "cell_type": "code",
   "execution_count": null,
   "id": "b88d7958-0cca-48e4-bf53-f3f64f0171ce",
   "metadata": {},
   "outputs": [],
   "source": [
    "\n",
    "    \n",
    "    \n",
    "def add_top(df, m):\n",
    "    modelgrid = m.modelgrid\n",
    "    df.loc[:,'modeltop'] = modelgrid.top[df.ROW.values.astype(int)-1,df.COL.values.astype(int)-1]\n",
    "    \n",
    "    # df.loc[:,'geometry'] = modelgrid.get_s\n",
    "    return df\n",
    "    \n",
    "    \n",
    "\n",
    "\n",
    "\n",
    "reaches = get_swr_reaches()\n",
    "\n",
    "reaches = add_top(reaches,m)\n",
    "\n",
    "reaches.to_file('GIS/SWR_reaches.shp')\n",
    "\n",
    "fig, ax = plt.subplots(figsize = (10,10))\n",
    "mapview = flopy.plot.PlotMapView(m,ax = ax)\n",
    "mapview.plot_ibound()\n",
    "linecollection = mapview.plot_grid(linewidth = .3)\n",
    "ctx.add_basemap(ax, crs = 2226)\n",
    "reaches.plot('modeltop',ax = ax)\n",
    "reaches"
   ]
  },
  {
   "cell_type": "code",
   "execution_count": null,
   "id": "1ea7ecca-4285-40c0-a026-06f02605da8e",
   "metadata": {},
   "outputs": [],
   "source": []
  },
  {
   "cell_type": "code",
   "execution_count": null,
   "id": "385f3cd8-650f-472e-bf2f-306d81f8ed5b",
   "metadata": {},
   "outputs": [],
   "source": []
  },
  {
   "cell_type": "code",
   "execution_count": null,
   "id": "ba81c309-9d9e-4fc1-ab5d-2c5d8eac13fe",
   "metadata": {},
   "outputs": [],
   "source": [
    "\n",
    "n = 10\n",
    "fig = plt.figure(figsize=(8, n*2))\n",
    "for cnt, row in enumerate (np.linspace(0, m.dis.nrow-1, n, dtype = int)):\n",
    "    ax = fig.add_subplot(n, 1, cnt+1)\n",
    "    \n",
    "    extend = (0, 26400, -100, 200)\n",
    "    \n",
    "    xsect = flopy.plot.PlotCrossSection(model=m, line={\"Row\": row},\n",
    "                                       extent = extend)\n",
    "    patches = xsect.plot_ibound()\n",
    "    linecollection = xsect.plot_grid()\n",
    "    # t = ax.set_title(\"Row {} Cross-Section with IBOUND Boundary Conditions\".format(row))\n",
    "    ax.text(0,1,\"Row {}\".format(row),\n",
    "           transform = ax.transAxes, va = 'top')\n",
    "    \n",
    "    plt.savefig(os.path.join('model summary','xsections.png'))\n"
   ]
  },
  {
   "cell_type": "code",
   "execution_count": null,
   "id": "24791367-fe03-43fc-98cb-0989cdbf687c",
   "metadata": {},
   "outputs": [],
   "source": [
    "# def plot_riv_points():\n",
    "#     riv = flopy.modflow.ModflowRiv.load('RR_2022/Results/SWRSample05.riv', m)\n",
    "#     riv_points = gpd.GeoDataFrame(np.arange(riv.stress_period_data.data[0].k.shape[0]),\n",
    "#        geometry = gpd.points_from_xy( x[0][riv.stress_period_data.data[0].j], \n",
    "#                                      y[:,0][riv.stress_period_data.data[0].i]), crs = 2226)\n",
    "\n",
    "#     fig, ax = plt.subplots(figsize = (10,10))\n",
    "#     mapview = flopy.plot.PlotMapView(m,ax = ax)\n",
    "#     linecollection = mapview.plot_grid(linewidth = .3)\n",
    "\n",
    "#     ctx.add_basemap(ax, crs = 2226)\n",
    "\n",
    "#     # riv_points.plot(ax=ax)\n",
    "    \n",
    "#     riv_gis = gpd.read_file('GIS/riv_erase.shp')\n",
    "#     riv_gis \n",
    "#     riv_gis.head().plot(ax = ax)\n",
    "    \n",
    "# plot_riv_points()"
   ]
  },
  {
   "cell_type": "code",
   "execution_count": null,
   "id": "39d527e0-2703-413e-8aba-7c8521a064af",
   "metadata": {},
   "outputs": [],
   "source": [
    "riv.plot(kper = 1,ibound = False)"
   ]
  },
  {
   "cell_type": "code",
   "execution_count": null,
   "id": "0b1cf7a1-534d-4b3c-96a3-6ea45b1d5e6b",
   "metadata": {},
   "outputs": [],
   "source": []
  },
  {
   "cell_type": "code",
   "execution_count": null,
   "id": "ba6d9efc-ac51-49aa-bfd2-c2a1a4e3b001",
   "metadata": {},
   "outputs": [],
   "source": [
    "flopy.modflow.ModflowBcf(ml)"
   ]
  },
  {
   "cell_type": "code",
   "execution_count": null,
   "id": "8263b712-0499-410a-b099-12e9f544daf0",
   "metadata": {},
   "outputs": [],
   "source": [
    "mnew = flopy.modflow.Modflow()\n",
    "\n",
    "laytyp= [1,3,0]\n",
    "layavg= [0,0,0]\n",
    "chani= [1,1,1]\n",
    "layvka= [1,1,1]\n",
    "laywet= [0,0,0]\n",
    "ipakcb= 1\n",
    "hdry=-1e+30\n",
    "iphdry=0\n",
    "hk=1.0\n",
    "hani=1.0\n",
    "vka=1.0\n",
    "ss=1e-05\n",
    "sy=0.15\n",
    "vkcb=0.0\n",
    "noparcheck=False\n",
    "extension='upw'\n",
    "unitnumber=None\n",
    "filenames=None"
   ]
  },
  {
   "cell_type": "code",
   "execution_count": null,
   "id": "214f12fc-100a-4985-b2d5-cc4e0369b218",
   "metadata": {},
   "outputs": [],
   "source": [
    "flopy.modflow.ModflowUpw(mnew,\n",
    "                        model,\n",
    "    laytyp=laytyp,\n",
    "    layavg=layavg,\n",
    "    chani=1.0,\n",
    "    layvka=0,\n",
    "    laywet=0,\n",
    "    ipakcb=None,\n",
    "    hdry=-1e+30,\n",
    "    iphdry=0,\n",
    "    hk=1.0,\n",
    "    hani=1.0,\n",
    "    vka=1.0,\n",
    "    ss=1e-05,\n",
    "    sy=0.15,\n",
    "    vkcb=0.0,\n",
    "    noparcheck=False,\n",
    "    extension='upw',\n",
    "    unitnumber=None,\n",
    "    filenames=None,)"
   ]
  },
  {
   "cell_type": "code",
   "execution_count": null,
   "id": "923883df-97c8-41b4-b887-a07552234201",
   "metadata": {},
   "outputs": [],
   "source": [
    "m.change_model_ws('RR_2022')"
   ]
  },
  {
   "cell_type": "code",
   "execution_count": null,
   "id": "c25df55b-db21-4d4b-84ba-2f471b4f35e4",
   "metadata": {},
   "outputs": [],
   "source": [
    "m.write_input()"
   ]
  },
  {
   "cell_type": "code",
   "execution_count": null,
   "id": "ebc976bb-6077-4794-a40b-553a0b6798b2",
   "metadata": {},
   "outputs": [],
   "source": [
    "\n",
    "m.plot()"
   ]
  },
  {
   "cell_type": "code",
   "execution_count": null,
   "id": "db62ff05-b452-48d4-9be3-23b83f95b016",
   "metadata": {},
   "outputs": [],
   "source": [
    "m.dis.export('GIS\\grid.shp')"
   ]
  },
  {
   "cell_type": "code",
   "execution_count": null,
   "id": "7042c046-f1f8-4d7c-aab5-8805f66a2bc2",
   "metadata": {},
   "outputs": [],
   "source": [
    "os.mkdir('GIS')"
   ]
  },
  {
   "cell_type": "code",
   "execution_count": null,
   "id": "1bc45fc2-9bdf-4e51-b445-12ef0c175880",
   "metadata": {},
   "outputs": [],
   "source": [
    "g = gpd.read_file(\"GIS\\grid.shp\")\n",
    "\n",
    "g"
   ]
  },
  {
   "cell_type": "code",
   "execution_count": null,
   "id": "401890b0-e20d-4ccc-8317-f2ee9081f305",
   "metadata": {},
   "outputs": [],
   "source": []
  }
 ],
 "metadata": {
  "kernelspec": {
   "display_name": "Python 3 (ipykernel)",
   "language": "python",
   "name": "python3"
  },
  "language_info": {
   "codemirror_mode": {
    "name": "ipython",
    "version": 3
   },
   "file_extension": ".py",
   "mimetype": "text/x-python",
   "name": "python",
   "nbconvert_exporter": "python",
   "pygments_lexer": "ipython3",
   "version": "3.10.4"
  }
 },
 "nbformat": 4,
 "nbformat_minor": 5
}
