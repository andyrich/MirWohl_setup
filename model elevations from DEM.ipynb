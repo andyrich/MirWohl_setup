{
 "cells": [
  {
   "cell_type": "code",
   "execution_count": null,
   "id": "ad4a999f-6ad6-4cee-81aa-f832c86cf686",
   "metadata": {},
   "outputs": [],
   "source": [
    "import py3dep\n",
    "import geopandas as gpd\n",
    "import matplotlib.patches as mpatches\n",
    "import matplotlib.pyplot as plt\n",
    "import numpy as np\n",
    "import pandas as pd\n",
    "import pynhd as nhd\n",
    "import flopy\n",
    "import geopandas as gpd\n",
    "from pynhd import NLDI, NHDPlusHR, WaterData\n",
    "import contextily as ctx\n",
    "import numpy as np\n",
    "\n",
    "from flopy.utils import Raster\n",
    "import os\n",
    "\n",
    "import geopandas as gpd"
   ]
  },
  {
   "cell_type": "code",
   "execution_count": null,
   "id": "6a6a0bf0-44fd-4d85-8da8-3384fb364cfe",
   "metadata": {},
   "outputs": [],
   "source": [
    "from xrspatial import zonal_stats\n",
    "from rasterio import features\n",
    "from rasterio.enums import MergeAlg\n",
    "from rasterio.plot import show\n",
    "import rasterio\n",
    "import xarray as xr"
   ]
  },
  {
   "cell_type": "markdown",
   "id": "5a95ca88-7e3d-4af5-8348-2ede75002e8b",
   "metadata": {},
   "source": [
    "use xarray zonal stats to calculate minimum elelvation for grid cells\n",
    "\n",
    "\n",
    "https://pygis.io/docs/e_raster_rasterize.html"
   ]
  },
  {
   "cell_type": "code",
   "execution_count": null,
   "id": "f228a293-a86f-41f8-b4c0-5dedeffd5aa9",
   "metadata": {},
   "outputs": [],
   "source": [
    "import basic"
   ]
  },
  {
   "cell_type": "code",
   "execution_count": null,
   "id": "25639d89-dc99-4576-90aa-233ded4deed0",
   "metadata": {},
   "outputs": [],
   "source": [
    "m = basic.load_model()"
   ]
  },
  {
   "cell_type": "code",
   "execution_count": null,
   "id": "cc7d93f4-a7b4-4f96-b58a-80f961a7a5d3",
   "metadata": {},
   "outputs": [],
   "source": [
    "x = m.modelgrid.get_xcellcenters_for_layer(1)\n",
    "y = m.modelgrid.get_ycellcenters_for_layer(1)\n"
   ]
  },
  {
   "cell_type": "code",
   "execution_count": null,
   "id": "7cbcfe94-d6d3-4aae-a740-5ffd68b3d182",
   "metadata": {},
   "outputs": [],
   "source": [
    "mgrid = m.modelgrid"
   ]
  },
  {
   "cell_type": "code",
   "execution_count": null,
   "id": "68420927-3cf5-42cd-91aa-a3beff2da502",
   "metadata": {},
   "outputs": [],
   "source": []
  },
  {
   "cell_type": "code",
   "execution_count": null,
   "id": "01033ebe-5f6d-44d3-b242-da0ade669cac",
   "metadata": {},
   "outputs": [],
   "source": [
    "\n",
    "dst_crs = 'EPSG:2226'\n",
    "raster_ws = os.path.join(\"GIS\", \"DEM\")\n",
    "raster_name = \"output_be_DTM.tif\"\n",
    "\n",
    "\n",
    "rast = os.path.join(raster_ws, raster_name)\n",
    "rio = Raster.load(rast)\n",
    "\n"
   ]
  },
  {
   "cell_type": "markdown",
   "id": "e37dfd3a-0752-49a4-a75a-351b6168a4f2",
   "metadata": {},
   "source": []
  },
  {
   "cell_type": "code",
   "execution_count": null,
   "id": "93d44c6c-7f46-462a-87a3-165771e8f668",
   "metadata": {
    "tags": []
   },
   "outputs": [],
   "source": [
    "rio.bounds\n"
   ]
  },
  {
   "cell_type": "code",
   "execution_count": null,
   "id": "9da74352-7279-4cfc-8e0a-e5e10cf484b6",
   "metadata": {},
   "outputs": [],
   "source": [
    "\n",
    "\n",
    "arr = rio.get_array(1)\n",
    "idx = np.isfinite(arr)\n",
    "\n",
    "vmin, vmax = arr[idx].min(), arr[idx].max()\n",
    "vmin, vmax\n",
    "\n"
   ]
  },
  {
   "cell_type": "code",
   "execution_count": null,
   "id": "476c5db0-10c6-4d8a-8686-de268dc09558",
   "metadata": {},
   "outputs": [],
   "source": [
    "fig = plt.figure(figsize=(12, 12))\n",
    "ax = fig.add_subplot(1, 1, 1, aspect=\"equal\")\n",
    "\n",
    "ax = rio.plot(ax=ax, vmin=vmin, vmax=vmax)\n",
    "plt.colorbar(ax.images[0], shrink=0.7);\n",
    "\n",
    "\n",
    "\n"
   ]
  },
  {
   "cell_type": "code",
   "execution_count": null,
   "id": "3f23d592-1ddb-4020-89d3-d012388dcc14",
   "metadata": {},
   "outputs": [],
   "source": [
    "rio.bounds"
   ]
  },
  {
   "cell_type": "code",
   "execution_count": null,
   "id": "471d44c2-d862-42b4-ab97-27ebba2439ef",
   "metadata": {},
   "outputs": [],
   "source": [
    "fig = plt.figure(figsize=(12, 12))\n",
    "ax = fig.add_subplot(1, 1, 1, aspect=\"equal\")\n",
    "\n",
    "ax = rio.plot(ax=ax, vmin=vmin, vmax=vmax)\n",
    "plt.colorbar(ax.images[0], shrink=0.7)\n",
    "pmv = flopy.plot.PlotMapView(modelgrid=m.modelgrid)\n",
    "pmv.plot_grid(ax=ax, lw=0.5, color=\"black\");"
   ]
  },
  {
   "cell_type": "code",
   "execution_count": null,
   "id": "80307390-ca7d-4e32-94cd-c7727af46d8c",
   "metadata": {},
   "outputs": [],
   "source": []
  },
  {
   "cell_type": "code",
   "execution_count": null,
   "id": "f14d7a53-bdfc-4fb2-a598-ee471bd0b63d",
   "metadata": {},
   "outputs": [],
   "source": []
  },
  {
   "cell_type": "code",
   "execution_count": null,
   "id": "3ba7298b-05f0-4a22-86c9-e69ddf2aee3b",
   "metadata": {},
   "outputs": [],
   "source": []
  },
  {
   "cell_type": "markdown",
   "id": "b513c85d-a0b3-41ae-8eed-4a97c1553820",
   "metadata": {},
   "source": [
    "https://pygis.io/docs/e_raster_rasterize.html"
   ]
  },
  {
   "cell_type": "code",
   "execution_count": null,
   "id": "2ec5cb67-2bfb-4bb2-b17d-e446a609bb8a",
   "metadata": {},
   "outputs": [],
   "source": [
    "grid = gpd.read_file(\"GIS/grid.shp\")"
   ]
  },
  {
   "cell_type": "code",
   "execution_count": null,
   "id": "7e2cf392-e50e-4d1c-b309-d1b13ea7d233",
   "metadata": {},
   "outputs": [],
   "source": []
  },
  {
   "cell_type": "code",
   "execution_count": null,
   "id": "012f9a16-1c7a-423e-9057-3b109e0f0016",
   "metadata": {},
   "outputs": [],
   "source": [
    "\n",
    "# Get list of geometries for all features in vector file\n",
    "# geom = [shapes for shapes in grid.geometry]\n",
    "# # create tuples of geometry, value pairs, where value is the attribute value you want to burn\n",
    "# geom_value = ((geom,value) for geom, value in zip(vector.geometry, vector['id']))\n",
    "geom = list((g.geometry, index) for index,g in grid.iterrows())\n",
    "# Read in vector\n",
    "vector = grid\n",
    "\n",
    "# Open  raster\n",
    "raster = rasterio.open(rast)"
   ]
  },
  {
   "cell_type": "code",
   "execution_count": null,
   "id": "22d25d71-e686-4499-9fbd-9fb2f53ac83e",
   "metadata": {},
   "outputs": [],
   "source": []
  },
  {
   "cell_type": "code",
   "execution_count": null,
   "id": "1d7ace03-59cb-4d02-a17f-614d28809d16",
   "metadata": {},
   "outputs": [],
   "source": []
  },
  {
   "cell_type": "code",
   "execution_count": null,
   "id": "3d854f87-13ed-4dfd-8056-621e12484b92",
   "metadata": {},
   "outputs": [],
   "source": [
    "# Rasterize vector using the shape and coordinate system of the raster\n",
    "rasterized_grid = features.rasterize(geom,\n",
    "                                out_shape = raster.shape,\n",
    "                                fill = 0,\n",
    "                                out = None,\n",
    "                                transform = raster.transform,\n",
    "                                all_touched = True,\n",
    "                                default_value = 1,\n",
    "                                dtype = None)\n",
    "\n",
    "# Plot raster\n",
    "fig, ax = plt.subplots(1, figsize = (10, 10))\n",
    "show(rasterized_grid, ax = ax)\n",
    "plt.gca().invert_yaxis()"
   ]
  },
  {
   "cell_type": "code",
   "execution_count": null,
   "id": "4575f246-dbdb-4692-901f-a901bf951ef0",
   "metadata": {},
   "outputs": [],
   "source": []
  },
  {
   "cell_type": "code",
   "execution_count": null,
   "id": "a8dcd8ac-6239-4d12-a8a6-b876adfd9e30",
   "metadata": {},
   "outputs": [],
   "source": [
    "data = raster.read()[0,:,:]\n",
    "data.shape"
   ]
  },
  {
   "cell_type": "code",
   "execution_count": null,
   "id": "e5f2eb31-d747-4629-9ca1-587254c9d30e",
   "metadata": {},
   "outputs": [],
   "source": [
    "rasterized_grid.shape"
   ]
  },
  {
   "cell_type": "code",
   "execution_count": null,
   "id": "95a7e364-0f09-40b8-a069-1626fba43250",
   "metadata": {},
   "outputs": [],
   "source": []
  },
  {
   "cell_type": "code",
   "execution_count": null,
   "id": "67364eea-77a1-485b-9e10-47db2b779a72",
   "metadata": {},
   "outputs": [],
   "source": [
    "xr_rast_grid = xr.DataArray(rasterized_grid)\n",
    "xr_rast = xr.DataArray(data)"
   ]
  },
  {
   "cell_type": "code",
   "execution_count": null,
   "id": "1f5386e0-b453-4d6b-91a9-4da5fd361a50",
   "metadata": {},
   "outputs": [],
   "source": [
    "zone = zonal_stats(xr_rast_grid, xr_rast)"
   ]
  },
  {
   "cell_type": "code",
   "execution_count": null,
   "id": "454e7752-bed4-42a0-88e5-fd02adbecb2c",
   "metadata": {},
   "outputs": [],
   "source": [
    "zone.head()"
   ]
  },
  {
   "cell_type": "code",
   "execution_count": null,
   "id": "b4cf5dc4-7036-4cad-82c3-fdcd721658d6",
   "metadata": {},
   "outputs": [],
   "source": [
    "zone_ras = zone.loc[:,'min'].values.reshape((m.dis.nrow, m.dis.ncol))\n",
    "\n",
    "zone_ras = np.ma.array(zone_ras, mask = m.bas6.ibound.array[0]==0)"
   ]
  },
  {
   "cell_type": "code",
   "execution_count": null,
   "id": "036b6653-bdde-4378-bcef-e267048c17f3",
   "metadata": {},
   "outputs": [],
   "source": [
    "\n"
   ]
  },
  {
   "cell_type": "code",
   "execution_count": null,
   "id": "1e8fe46e-91fb-4a2a-8ce4-95c7ad15c79d",
   "metadata": {},
   "outputs": [],
   "source": []
  },
  {
   "cell_type": "code",
   "execution_count": null,
   "id": "0232e4bb-6182-45a8-843f-2df23e51151c",
   "metadata": {},
   "outputs": [],
   "source": [
    "zone_var = zone.loc[:,'std'].values.reshape((m.dis.nrow, m.dis.ncol))\n",
    "\n",
    "zone_var = np.ma.array(zone_var, mask = m.bas6.ibound.array[0]==0)\n",
    "# now to visualize using flopy and matplotlib\n",
    "fig = plt.figure(figsize=(12, 12))\n",
    "ax = fig.add_subplot(1, 1, 1, aspect=\"equal\")\n",
    "\n",
    "pmv = flopy.plot.PlotMapView(modelgrid=m.modelgrid, ax=ax)\n",
    "ax = pmv.plot_array(\n",
    "    zone_var, masked_values=rio.nodatavals, cmap = 'terrain'\n",
    ")\n",
    "\n",
    "plt.colorbar(ax, shrink=0.7);\n",
    "plt.title('Model Cell Variance')"
   ]
  },
  {
   "cell_type": "code",
   "execution_count": null,
   "id": "954a7433-e5ad-466b-9de8-0fb87acf5a6f",
   "metadata": {},
   "outputs": [],
   "source": []
  },
  {
   "cell_type": "code",
   "execution_count": null,
   "id": "0426a35c-e84a-416c-942b-26592e2712f8",
   "metadata": {},
   "outputs": [],
   "source": [
    "\n",
    "\n",
    "# now to visualize using flopy and matplotlib\n",
    "fig = plt.figure(figsize=(12, 12))\n",
    "ax = fig.add_subplot(1, 1, 1, aspect=\"equal\")\n",
    "zone_ras = np.ma.array(zone_ras, mask = m.bas6.ibound.array[0]==0)\n",
    "pmv = flopy.plot.PlotMapView(modelgrid=m.modelgrid, ax=ax)\n",
    "cr = pmv.plot_array(\n",
    "    zone_ras, masked_values=rio.nodatavals, cmap = 'terrain',vmax = 400\n",
    ")\n",
    "\n",
    "plt.colorbar(cr, shrink=0.7);\n",
    "\n",
    "# sfr.plot(ax = ax, zorder = 100, edgecolor = 'k')\n"
   ]
  },
  {
   "cell_type": "code",
   "execution_count": null,
   "id": "63f449ce-5463-46d9-a02d-0b5a5fed1e07",
   "metadata": {},
   "outputs": [],
   "source": []
  },
  {
   "cell_type": "code",
   "execution_count": null,
   "id": "f1454c74-2550-4553-9a51-6f1c90ac755c",
   "metadata": {},
   "outputs": [],
   "source": []
  },
  {
   "cell_type": "code",
   "execution_count": null,
   "id": "4baffc20-928c-4f56-b7aa-940927047ce2",
   "metadata": {},
   "outputs": [],
   "source": [
    "sfr_file = r\"C:\\modeling\\MirabelWohler\\SFR_files\\only_sfr_lines.shp\"\n",
    "\n",
    "sfr = gpd.read_file(sfr_file)"
   ]
  },
  {
   "cell_type": "code",
   "execution_count": null,
   "id": "06adc26e-f042-4b00-9d87-53d53b66d1f5",
   "metadata": {},
   "outputs": [],
   "source": [
    "import conda_scripts.arich_functions as af"
   ]
  },
  {
   "cell_type": "code",
   "execution_count": null,
   "id": "ef3998fe-a63b-42a5-8f69-4f0aacced39c",
   "metadata": {
    "tags": []
   },
   "outputs": [],
   "source": []
  },
  {
   "cell_type": "code",
   "execution_count": null,
   "id": "7752215f-2f74-48cc-a6e8-6b50c49258a8",
   "metadata": {},
   "outputs": [],
   "source": []
  },
  {
   "cell_type": "code",
   "execution_count": null,
   "id": "30746b74-2534-49cb-9ab1-ad840f9f8d90",
   "metadata": {},
   "outputs": [],
   "source": [
    "existing = np.loadtxt(\"RR_2022/inputs/lay_1_top.csv\", delimiter = ',')\n",
    "ex_gdf = af.array2rc(existing, 'elevation')\n",
    "ex_gdf = pd.merge(ex_gdf, af.get_active_mod_df(m.modelgrid, m).loc[:,['i', 'j','geometry']], on = ['i', 'j'])\n",
    "\n",
    "ex_gdf = gpd.GeoDataFrame(ex_gdf, geometry = 'geometry', crs = 2226)\n",
    "ex_gdf.explore('elevation')"
   ]
  },
  {
   "cell_type": "code",
   "execution_count": null,
   "id": "0dd5bdb0-f5c1-43d9-91d7-dfecca6c5579",
   "metadata": {},
   "outputs": [],
   "source": [
    "plt.imshow(existing - zone_ras)\n",
    "plt.colorbar( shrink=0.7);"
   ]
  },
  {
   "cell_type": "code",
   "execution_count": null,
   "id": "b9a0ad16-496a-4e31-a75b-2b2a83107f89",
   "metadata": {
    "tags": []
   },
   "outputs": [],
   "source": []
  },
  {
   "cell_type": "code",
   "execution_count": null,
   "id": "9b4094d6-356c-4b0d-a785-7d3f227675b5",
   "metadata": {},
   "outputs": [],
   "source": [
    "np.savetxt(\"GIS/lay_1_top.csv\", zone_ras, delimiter=\",\", fmt =\"%.3f\")\n",
    "np.savetxt(\"RR_2022/inputs/lay_1_top.csv\", zone_ras, delimiter=\",\", fmt =\"%.3f\")"
   ]
  },
  {
   "cell_type": "code",
   "execution_count": null,
   "id": "fc4c2fc5-3b60-4b3f-996e-e30503465344",
   "metadata": {},
   "outputs": [],
   "source": [
    "# the following can be used to burn in stream cells"
   ]
  },
  {
   "cell_type": "code",
   "execution_count": null,
   "id": "c105af92-2ca4-4f6f-96a4-e10fe88cf5e9",
   "metadata": {},
   "outputs": [],
   "source": [
    "sfr_file = r\"GIS/SWR_Reaches.shp\"\n",
    "\n",
    "sfr = gpd.read_file(sfr_file)\n"
   ]
  },
  {
   "cell_type": "code",
   "execution_count": null,
   "id": "f15a83fe-9a20-48fe-992c-ed2f056a3252",
   "metadata": {},
   "outputs": [],
   "source": [
    "def plot_swr(sfr_filt):\n",
    "    fig,ax = plt.subplots()\n",
    "    \n",
    "    ax.plot(sfr_filt.rno, sfr_filt.top)\n",
    "    \n",
    "    sfr_filt.loc[:,'top_burn'] = sfr_filt.set_index('rno').loc[:,'top'].rolling(20,min_periods = 1, center =False).min()\n",
    "    sfr_filt.loc[:,'top_burn'] = sfr_filt.loc[:,'top_burn'].fillna(method = 'backfill')\n",
    "    ax.plot(sfr_filt.rno, sfr_filt.top_burn)\n",
    "    \n",
    "    return sfr_filt\n",
    "    \n",
    "sfr_filt = plot_swr(sfr)"
   ]
  },
  {
   "cell_type": "code",
   "execution_count": null,
   "id": "fa83dc0e-f27b-4cf6-8721-2453d6832fb5",
   "metadata": {},
   "outputs": [],
   "source": [
    "sfr_filt.top_burn"
   ]
  },
  {
   "cell_type": "code",
   "execution_count": null,
   "id": "95ff82d9-7bea-4727-a052-9099b35715a6",
   "metadata": {},
   "outputs": [],
   "source": [
    "# burn in sfr elevations\n",
    "burn = True"
   ]
  },
  {
   "cell_type": "code",
   "execution_count": null,
   "id": "b6c3a99f-191e-4dd6-9bef-5b413d30d721",
   "metadata": {},
   "outputs": [],
   "source": [
    "a = np.array([[1,2],[3,4]])\n",
    "\n",
    "display(a)\n",
    "\n",
    "a[np.array([0,0]),np.array([0,1])]=-1\n",
    "\n",
    "display(a)"
   ]
  },
  {
   "cell_type": "code",
   "execution_count": null,
   "id": "49a1db72-27c5-4d96-a7bf-e4e0778b440c",
   "metadata": {},
   "outputs": [],
   "source": [
    "\n",
    "elev_array = np.copy(zone_ras)\n",
    "\n",
    "plt.imshow(elev_array)\n",
    "\n",
    "if burn:\n",
    "    # elev_array[sfr.i.values, sfr.k.values] = sfr.strtop.values\n",
    "    elevog = np.copy(elev_array)\n",
    "    elev_array[sfr.i.values, sfr.j.values] = sfr.top_burn.values\n",
    "    plt.figure()\n",
    "    print('burning stream segments')\n",
    "    im = plt.imshow(elev_array-elevog, interpolation = 'bilinear')\n",
    "    # cbar = ax.figure.colorbar(im)\n",
    "    plt.colorbar()\n",
    "else:\n",
    "    print('not burning stream segments')"
   ]
  },
  {
   "cell_type": "code",
   "execution_count": null,
   "id": "90e0493c-f1db-4a06-914a-2d9a5403b15a",
   "metadata": {},
   "outputs": [],
   "source": []
  },
  {
   "cell_type": "code",
   "execution_count": null,
   "id": "09164553-f8f6-4823-bf4e-6d1539c70a60",
   "metadata": {},
   "outputs": [],
   "source": [
    "np.where(elev_array>2000)[1]"
   ]
  },
  {
   "cell_type": "code",
   "execution_count": null,
   "id": "2affc897-795d-4ee7-a2c0-fa070a6ef634",
   "metadata": {},
   "outputs": [],
   "source": [
    "np.savetxt(\"GIS/lay_1_top.csv\", elev_array, delimiter=\",\", fmt =\"%.1f\")\n",
    "np.savetxt(\"RR_2022/inputs/lay_1_top.csv\", elev_array, delimiter=\",\", fmt =\"%.1f\")"
   ]
  },
  {
   "cell_type": "code",
   "execution_count": null,
   "id": "55a1d7d7-c40e-4cc3-999a-c89845288aa3",
   "metadata": {},
   "outputs": [],
   "source": [
    "\"max elevation: {}\".format(np.max(elev_array))"
   ]
  },
  {
   "cell_type": "code",
   "execution_count": null,
   "id": "249dc13b-2cd0-4f1b-8fe1-ae36a3b6bc06",
   "metadata": {},
   "outputs": [],
   "source": [
    "elev_array[1,67]"
   ]
  },
  {
   "cell_type": "code",
   "execution_count": null,
   "id": "ca8bcbde-04d4-485d-9ba2-e4d5a8871631",
   "metadata": {},
   "outputs": [],
   "source": [
    "zone_ras[1,67]"
   ]
  },
  {
   "cell_type": "code",
   "execution_count": null,
   "id": "e292c244-e907-4677-afe8-0d74428d0e2f",
   "metadata": {},
   "outputs": [],
   "source": [
    "plt.imshow(existing - elev_array)\n",
    "plt.colorbar( shrink=0.7);"
   ]
  },
  {
   "cell_type": "code",
   "execution_count": null,
   "id": "a536dfdd-af9d-4451-9a07-e2977258f08d",
   "metadata": {},
   "outputs": [],
   "source": [
    "# now to visualize using flopy and matplotlib\n",
    "fig = plt.figure(figsize=(12, 12))\n",
    "ax = fig.add_subplot(1, 1, 1, aspect=\"equal\")\n",
    "elev_array_ma = np.ma.array(elev_array, mask = m.bas6.ibound.array[0]==0)\n",
    "pmv = flopy.plot.PlotMapView(modelgrid=m.modelgrid, ax=ax)\n",
    "cr = pmv.plot_array(\n",
    "    elev_array_ma, masked_values=rio.nodatavals, cmap = 'terrain',vmax = 200\n",
    ")\n",
    "\n",
    "plt.colorbar(cr, shrink=0.7);\n",
    "\n",
    "# sfr.plot(ax = ax, zorder = 100, edgecolor = 'k')"
   ]
  },
  {
   "cell_type": "code",
   "execution_count": null,
   "id": "402dfd84-a919-4fc6-aabe-af231c3d1fd5",
   "metadata": {},
   "outputs": [],
   "source": []
  }
 ],
 "metadata": {
  "kernelspec": {
   "display_name": "Python 3 (ipykernel)",
   "language": "python",
   "name": "python3"
  },
  "language_info": {
   "codemirror_mode": {
    "name": "ipython",
    "version": 3
   },
   "file_extension": ".py",
   "mimetype": "text/x-python",
   "name": "python",
   "nbconvert_exporter": "python",
   "pygments_lexer": "ipython3",
   "version": "3.9.16"
  }
 },
 "nbformat": 4,
 "nbformat_minor": 5
}
