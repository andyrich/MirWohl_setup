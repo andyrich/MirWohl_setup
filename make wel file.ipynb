{
 "cells": [
  {
   "cell_type": "code",
   "execution_count": null,
   "id": "bb94d25e-1740-4bd8-9f2f-b69b732842b8",
   "metadata": {},
   "outputs": [],
   "source": [
    "import basic\n",
    "import geopandas as gpd\n",
    "import pandas as pd\n",
    "import numpy as np\n",
    "import flopy\n",
    "import pathlib\n",
    "import make_wells"
   ]
  },
  {
   "cell_type": "code",
   "execution_count": null,
   "id": "09f5f18d-cfc6-48b8-bc74-abe05b9db4e2",
   "metadata": {},
   "outputs": [],
   "source": [
    "print('running wel creation package')\n",
    "datestart = '6/19/2012'\n",
    "\n",
    "numdays = (pd.to_datetime('10/1/2022')-pd.to_datetime(datestart)).days\n",
    "\n",
    "df = make_wells.load_caissons()\n",
    "# df = make_wells.get_period(df, datestart,numdays, False)\n",
    "# df = df.droplevel(1,0)\n",
    "# df = df/43560.\n",
    "\n"
   ]
  },
  {
   "cell_type": "code",
   "execution_count": null,
   "id": "839c9180-7dc1-4d58-8407-fe0a78b266ce",
   "metadata": {},
   "outputs": [],
   "source": [
    "df.loc[:,:].groupby(df.index.year).transform(lambda x: x.cumsum()).replace({0:np.nan}).plot(subplots = True)"
   ]
  },
  {
   "cell_type": "code",
   "execution_count": null,
   "id": "e5888a31-7339-4815-ac25-7f377febc3f2",
   "metadata": {},
   "outputs": [],
   "source": [
    "df.plot(subplots = True)"
   ]
  },
  {
   "cell_type": "code",
   "execution_count": null,
   "id": "96169d0f-4e42-42ad-b11e-21f322335e4b",
   "metadata": {},
   "outputs": [],
   "source": [
    "df.loc[:,:].groupby(df.index.to_period('M').to_timestamp('M')).transform(lambda x: x.fillna(x.mean()))"
   ]
  },
  {
   "cell_type": "code",
   "execution_count": null,
   "id": "0679ecdd-53e8-4c95-96f5-6d8e51945afb",
   "metadata": {},
   "outputs": [],
   "source": []
  },
  {
   "cell_type": "code",
   "execution_count": null,
   "id": "7626a8b6-799a-4f62-bba6-a3baf6d0d616",
   "metadata": {},
   "outputs": [],
   "source": [
    "df = df.resample(\"1D\").mean()\n",
    "df = df.reindex(index = pd.date_range(datestart, periods = numdays, freq = 'D'))\n",
    "df = df.bfill().ffill()\n",
    "\n",
    "c = df.sum(axis=1) == 0\n",
    "\n",
    "df.loc[c,:] = df.mean().mean()"
   ]
  },
  {
   "cell_type": "code",
   "execution_count": null,
   "id": "aa439086-c31b-485b-8df7-c1684d9595a3",
   "metadata": {},
   "outputs": [],
   "source": [
    "df = df.resample(\"1D\").mean()"
   ]
  },
  {
   "cell_type": "code",
   "execution_count": null,
   "id": "c1a434e0-d303-44d1-bcca-f06505626f8a",
   "metadata": {},
   "outputs": [],
   "source": [
    "import hydro_context\n"
   ]
  },
  {
   "cell_type": "code",
   "execution_count": null,
   "id": "f051fe29-4d6d-4b46-8b6e-128c098080b2",
   "metadata": {},
   "outputs": [],
   "source": [
    "hydro_context.run_current_context('June2012')"
   ]
  },
  {
   "cell_type": "code",
   "execution_count": null,
   "id": "d57f3821-116d-415c-8dd7-df4b6bf70d2d",
   "metadata": {},
   "outputs": [],
   "source": [
    "hydro_context.run_long_context()"
   ]
  },
  {
   "cell_type": "code",
   "execution_count": null,
   "id": "92db4be5-6639-48ac-bf7f-d4eb5b19432b",
   "metadata": {},
   "outputs": [],
   "source": [
    "from netCDF4 import Dataset\n",
    "import numpy as np\n",
    "import pandas as pd\n",
    "import xarray as xr\n",
    "import time as tm\n",
    "\n",
    "# Set time to download data from (this is always the 00UTC run of the present day)\n",
    "time_year = str(tm.localtime()[0])\n",
    "time_month = str(tm.localtime()[1])\n",
    "time_day = str(tm.localtime()[2]-1)\n",
    "\n",
    "if len(time_month)== 1:\n",
    "    time_month = '0' + time_month\n",
    "datestr = time_year + time_month + time_day\n",
    "print('The run chosen is the 00 UTC run of ' + time_day + '-' + time_month + '-' + time_year)\n",
    "\n",
    "# Define server information\n",
    "serverstring='http://nomads.ncep.noaa.gov:9090/dods/gens_bc/gens' + datestr + '/gep_all_00z'\n",
    "print(serverstring)\n",
    "\n",
    "# Load data \n",
    "dataset = xr.open_dataset(serverstring)\n",
    "time = dataset.variables['time']  \n",
    "lat = dataset.variables['lat'][:]\n",
    "lon = dataset.variables['lon'][:]\n",
    "lev = dataset.variables['lev'][:]\n",
    "ens = dataset.variables['ens'][:]\n",
    "\n",
    "# Select user settings to plot (in this case all timesteps for all (20) members for a box around the Netherlands near the surface)\n",
    "time_toplot = time  # select all available timesteps\n",
    "lat_toplot = np.arange(50, 55, 0.5)\n",
    "lon_toplot = np.arange(2, 8, 0.5)\n",
    "lev_toplot = np.array([1000])\n",
    "ens_toplot = ens  # select all available ensemble members\n",
    "\n",
    "# Select required data via xarray\n",
    "dataset = dataset.sel(ens=ens_toplot, time=time_toplot, lev=lev_toplot, lon=lon_toplot, lat=lat_toplot)\n",
    "\n",
    "# Loading the data into memory finally results in the error\n",
    "u = dataset.variables[\"ugrdprs\"].values"
   ]
  },
  {
   "cell_type": "code",
   "execution_count": null,
   "id": "d3805c62-8cca-481c-9212-52a3c292c1f3",
   "metadata": {},
   "outputs": [],
   "source": [
    "import hydro_context"
   ]
  },
  {
   "cell_type": "code",
   "execution_count": null,
   "id": "eb0ab942-5c43-44e7-9e22-94f89d442ef9",
   "metadata": {},
   "outputs": [],
   "source": [
    "hydro_context.plot_total_by_season(df)"
   ]
  },
  {
   "cell_type": "code",
   "execution_count": null,
   "id": "1bfe264b-171e-4700-af97-de1a109930eb",
   "metadata": {},
   "outputs": [],
   "source": [
    "for r in range(2012, 2021):\n",
    "    run = f\"June{r}\"\n",
    "    basic.setup_folder(run)\n",
    "    # make_wells.run(run)"
   ]
  },
  {
   "cell_type": "code",
   "execution_count": null,
   "id": "43424e97-6998-45fe-85eb-171f898efc7e",
   "metadata": {},
   "outputs": [],
   "source": [
    "\n",
    "df = make_wells.run('June2012')"
   ]
  },
  {
   "cell_type": "code",
   "execution_count": null,
   "id": "fe7a624f-5a84-4722-9d65-78dab31069fa",
   "metadata": {},
   "outputs": [],
   "source": []
  },
  {
   "cell_type": "code",
   "execution_count": null,
   "id": "4e53d3f4-6f8d-45d6-a0dc-d6557275e426",
   "metadata": {},
   "outputs": [],
   "source": []
  },
  {
   "cell_type": "code",
   "execution_count": null,
   "id": "cb9d15ed-882f-4b10-b5c1-451606373220",
   "metadata": {},
   "outputs": [],
   "source": [
    "df = df.loc['5/28/2017':'6/15/2017']\n",
    "\n",
    "# df = df.droplevel(1,0)"
   ]
  },
  {
   "cell_type": "code",
   "execution_count": null,
   "id": "a2f00b87-3953-4d8a-b958-41c211296206",
   "metadata": {},
   "outputs": [],
   "source": [
    "df"
   ]
  },
  {
   "cell_type": "code",
   "execution_count": null,
   "id": "c05352a5-69f1-47e1-85ea-8769894e25fd",
   "metadata": {},
   "outputs": [],
   "source": [
    "df.loc['5/29/2017':'6/10/2017',:] = np.nan"
   ]
  },
  {
   "cell_type": "code",
   "execution_count": null,
   "id": "3690d173-789b-43cb-a5c0-2af09ea741fc",
   "metadata": {},
   "outputs": [],
   "source": [
    "df.index = df.index+pd.to_timedelta(1, unit = 'H')"
   ]
  },
  {
   "cell_type": "code",
   "execution_count": null,
   "id": "348dfc9b-bfad-4319-be26-d1520a5da945",
   "metadata": {},
   "outputs": [],
   "source": [
    "df.index = df.index.date"
   ]
  },
  {
   "cell_type": "code",
   "execution_count": null,
   "id": "bd46e26f-8673-4ab7-9b6f-85e60ffd44b2",
   "metadata": {},
   "outputs": [],
   "source": [
    "df"
   ]
  },
  {
   "cell_type": "code",
   "execution_count": null,
   "id": "1db7f9db-4513-4748-8904-d52cbc029235",
   "metadata": {},
   "outputs": [],
   "source": [
    "df.resample('1D').sum()"
   ]
  },
  {
   "cell_type": "code",
   "execution_count": null,
   "id": "e528a7be-d992-4689-855d-95c22ce89fa7",
   "metadata": {},
   "outputs": [],
   "source": [
    "df"
   ]
  },
  {
   "cell_type": "code",
   "execution_count": null,
   "id": "7dc030f7-66ac-4bce-9359-73ab9e11b785",
   "metadata": {},
   "outputs": [],
   "source": [
    "np.rec.array([tuple(x) for x in df.values.tolist()   ],\n",
    "             dtype = [('k', '<i4'), ('i', '<i4'), ('j', '<i4'), ('stage', '<f4'),])"
   ]
  },
  {
   "cell_type": "code",
   "execution_count": null,
   "id": "f833ff5f-232f-4bd6-89a5-0f4773e6f582",
   "metadata": {},
   "outputs": [],
   "source": [
    "\n",
    "\n",
    "np.rec.array([tuple(df.values.tolist()[0]),  ],\n",
    "             dtype = [('k', '<i4'), ('i', '<i4'), ('j', '<i4'), ('stage', '<f4'),])"
   ]
  },
  {
   "cell_type": "code",
   "execution_count": null,
   "id": "40654a8b-155b-4368-b9d8-d05f75d3ed8a",
   "metadata": {},
   "outputs": [],
   "source": [
    "df = pd.DataFrame(np.random.random((10,4)), columns = ['k', 'i', 'j', 'stage'])\n",
    "df.loc[:,'k':'j'] = 1\n",
    "df = df.astype({'k':int, 'i':int, 'j':int})\n",
    "np.rec.array(df.values.tolist(),dtype = [('k', '<i4'), ('i', '<i4'), ('j', '<i4'), ('stage', '<f4'),])\n",
    "# df.to_records(index = False, column_dtypes=riv_dtype)"
   ]
  },
  {
   "cell_type": "code",
   "execution_count": null,
   "id": "fd9c7424-25db-4589-b159-0e4fffa85f9f",
   "metadata": {},
   "outputs": [],
   "source": [
    "flopy.modflow.ModflowWel.get_default_dtype()"
   ]
  },
  {
   "cell_type": "code",
   "execution_count": null,
   "id": "aa2be154-ee43-4cf3-a2d2-e485afdbcdf1",
   "metadata": {},
   "outputs": [],
   "source": [
    "riv_dtype = flopy.modflow.ModflowWel.get_default_dtype()\n",
    "riv_dtype"
   ]
  },
  {
   "cell_type": "code",
   "execution_count": null,
   "id": "2a575647-25ef-4aa6-a841-9e47dcfaabac",
   "metadata": {},
   "outputs": [],
   "source": [
    "ml = basic.load_model()"
   ]
  },
  {
   "cell_type": "code",
   "execution_count": null,
   "id": "61141ce4-7fec-4b55-ab34-3c64e30d4cb5",
   "metadata": {},
   "outputs": [],
   "source": []
  },
  {
   "cell_type": "code",
   "execution_count": null,
   "id": "93c59774-9880-4908-9ca7-7d3d33272904",
   "metadata": {},
   "outputs": [],
   "source": [
    "# ml.wel.stress_period_data[0]"
   ]
  },
  {
   "cell_type": "code",
   "execution_count": null,
   "id": "0d01d440-7a7a-4360-8073-b62c6963cf77",
   "metadata": {},
   "outputs": [],
   "source": [
    "# ml.wel.export('GIS/wells.shp' )"
   ]
  },
  {
   "cell_type": "code",
   "execution_count": null,
   "id": "92cb190d-940c-45ea-9e97-f8cc615f6743",
   "metadata": {},
   "outputs": [],
   "source": [
    "# wel = ml.wel.stress_period_data[0]\n",
    "\n",
    "# wel = pd.DataFrame(wel)\n",
    "\n",
    "# wel.loc[:,'row'] = wel.loc[:,'i'] +1\n",
    "\n",
    "# wel.loc[:,'column'] = wel.loc[:,'j'] +1"
   ]
  },
  {
   "cell_type": "code",
   "execution_count": null,
   "id": "f0f74eb8-f32a-4d11-a981-878b3e5081a7",
   "metadata": {},
   "outputs": [],
   "source": [
    "# grid = gpd.read_file(\"GIS/grid.shp\")"
   ]
  },
  {
   "cell_type": "code",
   "execution_count": null,
   "id": "38e21471-4aa3-420b-ab5a-15e1a71fab7f",
   "metadata": {},
   "outputs": [],
   "source": [
    "# welflux = pd.merge(grid, wel, on = ['row', 'column'])\n",
    "\n",
    "# welflux = gpd.GeoDataFrame(welflux, crs = 2226)"
   ]
  },
  {
   "cell_type": "code",
   "execution_count": null,
   "id": "a196666b-884d-415c-9dad-72f05fde1af8",
   "metadata": {},
   "outputs": [],
   "source": [
    "wells = gpd.read_file('GIS/wells.shp')"
   ]
  },
  {
   "cell_type": "code",
   "execution_count": null,
   "id": "58430d88-05d2-43fc-9aeb-4172751ba1f8",
   "metadata": {},
   "outputs": [],
   "source": [
    "wells.loc[wells.loc[:,'flux']==0,'flux'] = -1 # some wells have no flow info, so setting to 1."
   ]
  },
  {
   "cell_type": "code",
   "execution_count": null,
   "id": "5acfada6-46db-45be-90f5-b051dcbaf056",
   "metadata": {},
   "outputs": [],
   "source": [
    "smf = wells.groupby('wellname').sum().loc[:,'flux'].rename('sumflux')\n",
    "wells = pd.merge(wells, smf, on = 'wellname')\n",
    "\n",
    "\n",
    "wells.loc[:,'frac'] = wells.loc[:,'flux']/wells.loc[:,'sumflux']"
   ]
  },
  {
   "cell_type": "code",
   "execution_count": null,
   "id": "28ad0724-4400-4e41-b00b-29db2b6d7eb0",
   "metadata": {},
   "outputs": [],
   "source": [
    "wells.head(1)"
   ]
  },
  {
   "cell_type": "code",
   "execution_count": null,
   "id": "b961b29a-cd18-4bc5-b21c-b914bf40ce89",
   "metadata": {},
   "outputs": [],
   "source": []
  },
  {
   "cell_type": "code",
   "execution_count": null,
   "id": "816f4c71-896b-4e00-9612-af09cd9ea328",
   "metadata": {},
   "outputs": [],
   "source": []
  },
  {
   "cell_type": "code",
   "execution_count": null,
   "id": "5a318856-72a0-4376-919a-b815eac7d6a8",
   "metadata": {},
   "outputs": [],
   "source": []
  },
  {
   "cell_type": "code",
   "execution_count": null,
   "id": "05a97656-b2e2-4255-aacf-a830e738ea4c",
   "metadata": {},
   "outputs": [],
   "source": [
    "path = pathlib.Path(\"T:\\arich\\Russian_River\\MirabelWohler_2022\\Waterlevel_Data\\MWs_Caissons - AvailableDailyAverages\\DailyData\\Caissons\")\n",
    "    \n"
   ]
  },
  {
   "cell_type": "code",
   "execution_count": null,
   "id": "1c3cf474-3f8f-4a52-8584-0c4568d01281",
   "metadata": {},
   "outputs": [],
   "source": [
    "def loadcaisson(path, caisson = 'Caisson1Flow.csv', name = 'Well1'):\n",
    "    c = pd.read_csv(path.joinpath(caisson))\n",
    "    c = c.set_index(pd.to_datetime(c.loc[:,'DateTime'])).loc[:,['Value']].rename(columns = {'Value':name})\n",
    "    c = c.resample('1D').sum().applymap(basic.isnumber)\n",
    "    \n",
    "    return c\n",
    "\n",
    "def load_pumps(path, name, pumps):\n",
    "    p1 = loadcaisson(path,caisson = f'Pump{pumps[0]}Flow.csv', name = name)\n",
    "    p2 = loadcaisson(path,caisson = f'Pump{pumps[1]}Flow.csv', name = name)\n",
    "    \n",
    "    p1 = p1.applymap(basic.isnumber)\n",
    "    p2 = p2.applymap(basic.isnumber)\n",
    "    \n",
    "    ptot = p1+p2\n",
    "    \n",
    "    return ptot\n",
    "    \n",
    "    \n",
    "def load_caissons():\n",
    "    \n",
    "    '''\n",
    "    get well pumping in feet^3/day\n",
    "    '''\n",
    "    path = pathlib.Path(r\"T:\\arich\\Russian_River\\MirabelWohler_2022\\Waterlevel_Data\\MWs_Caissons - AvailableDailyAverages\\DailyData\\Caissons\")\n",
    "    \n",
    "    c1 = loadcaisson(path, caisson = 'Caisson1Flow.csv', name = \"well1\")\n",
    "    c2 = loadcaisson(path, caisson = 'Caisson2Flow.csv', name = \"well2\")\n",
    "    c6 = loadcaisson(path, caisson = 'Caisson6Flow.csv', name = \"well6\")\n",
    "\n",
    "    c3 = load_pumps(path, 'well3', [5,6])\n",
    "    c4 = load_pumps(path, 'well4', [7,8])\n",
    "    c5 = load_pumps(path, 'well5', [9,10])\n",
    "    \n",
    "    df = pd.concat([c1, c2, c3, c4, c5, c6], axis = 1).fillna(0.)\n",
    "    \n",
    "    df = df.astype({ic:np.float64 for ic in df.columns})\n",
    "    \n",
    "    df[df.abs().values>1e10] = 0\n",
    "    \n",
    "    df = df*1e6 / 7.480543 #from MGD to feet^3/day\n",
    "    \n",
    "    return df\n",
    "\n",
    "def get_period(df, start_date, numdays):\n",
    "\n",
    "\n",
    "    df = df.loc[start_date:, :].iloc[:numdays]\n",
    "\n",
    "    # df.loc[:, 'Value'] = df.loc[:, 'Value'].interpolate()\n",
    "\n",
    "    assert df.isnull().sum().sum() == 0, 'has nans'\n",
    "    assert df.index.to_series().diff().nunique()==1, 'index has missing days'\n",
    "    \n",
    "    df.loc[:,'per'] = np.arange(numdays)\n",
    "    df = df.set_index('per', append = True)\n",
    "    \n",
    "    return df\n",
    "\n",
    "def get_well_info(wells, timeseries):\n",
    "    \n",
    "    wells_info = pd.merge(wells, df.droplevel(0,0).T.stack().to_frame('Q').reset_index(), \n",
    "                          left_on = 'wellname', right_on = 'level_0').sort_values('per')\n",
    "    \n",
    "    wells_info.loc[:,'qcell'] = -1 * wells_info.loc[:,'Q'].abs() * wells_info.loc[:,'frac'] / (24*60*60)\n",
    "    \n",
    "    return wells_info\n",
    "    \n",
    "def plot_pumping(df, out_folder):\n",
    "    ax = df.droplevel(1,0).rename(lambda x: pd.to_datetime(x).strftime(\"%b\\n%d\\n%Y\")).mul(1/43560).plot.bar(\n",
    "        stacked = True, figsize = (10,10), ylabel = 'acre-feet', grid = True, title = \"Total Caisson Pumping, per Well\")\n",
    "\n",
    "    ax.set_xticks(ax.get_xticks()[::7])\n",
    "    ax.tick_params(axis=\"x\", rotation=0)\n",
    "    \n",
    "    plt.savefig(os.path.join(out_folder, 'pumping.png'), dpi=250, bbox_inches = 'tight')\n",
    "    \n",
    "def mf_wel(m, ts_data):\n",
    "    \n",
    "    stress_period_data = {}\n",
    "\n",
    "    for per, group in ts_data.loc[:,['per','k','i', 'j', 'qcell']].groupby('per'):\n",
    "        stress_period_data[per] = group.drop(columns = 'per').values\n",
    "\n",
    "    wel = flopy.modflow.ModflowWel(m, ipakcb = 1,filenames ='RR.wel',\n",
    "                               stress_period_data = stress_period_data)\n",
    "    \n",
    "    return wel\n",
    "    \n",
    "def run(name):\n",
    "    print('running wel creation package')\n",
    "    m = basic.load_model(name)\n",
    "\n",
    "    info, swr_info, sfr_info, riv_keys_info = basic.load_params(name)\n",
    "\n",
    "    datestart = info['start_date']\n",
    "    numdays = info['numdays']\n",
    "\n",
    "    out_folder = basic.out_folder(name)\n",
    "    df = load_caissons()\n",
    "\n",
    "    df = get_period(df, datestart,numdays)\n",
    "\n",
    "    ts_data = get_well_info(wells, df)\n",
    "\n",
    "    wel = mf_wel(m, ts_data)\n",
    "\n",
    "    wel.write_file()\n",
    "\n",
    "    plot_pumping(df, out_folder)\n",
    "    \n",
    "run('June2013')"
   ]
  },
  {
   "cell_type": "code",
   "execution_count": null,
   "id": "4fdeb8a2-f1e4-4630-a193-5e355ca2eaf3",
   "metadata": {},
   "outputs": [],
   "source": [
    "\n",
    "c = [('k', '<i8'), ('i', '<i8'), ('j', '<i8'), ('stage', '<f4'), ('cond', '<f4'), ('rbot', '<f4')]\n",
    "dict(c)"
   ]
  },
  {
   "cell_type": "code",
   "execution_count": null,
   "id": "0c5ee1de-f529-412b-ac25-00635ce38a4c",
   "metadata": {},
   "outputs": [],
   "source": [
    "riv_dtype."
   ]
  },
  {
   "cell_type": "code",
   "execution_count": null,
   "id": "9c587a7e-720b-4872-a6d4-56374394d5f5",
   "metadata": {},
   "outputs": [],
   "source": [
    "\n",
    "    \n",
    "\n",
    "riv_dtype = flopy.modflow.ModflowRiv.get_default_dtype()\n",
    "print(riv_dtype)\n",
    "\n",
    "[('k', '<i8'), ('i', '<i8'), ('j', '<i8'), ('stage', '<f4'), ('cond', '<f4'), ('rbot', '<f4')]\n",
    "\n",
    "# Now that we know the structure of the recarray that we want to create, we can create a new one as follows.\n",
    "\n",
    "stress_period_data = np.zeros((1,10), dtype=riv_dtype)\n",
    "print(stress_period_data)\n",
    "print(stress_period_data.dtype)\n",
    "print(stress_period_data.shape)"
   ]
  },
  {
   "cell_type": "code",
   "execution_count": null,
   "id": "7ae489bb-fcc8-44c5-850d-732975cd5329",
   "metadata": {},
   "outputs": [],
   "source": [
    "stress_period_data = stress_period_data.view(np.recarray)\n",
    "print(\"stress_period_data: \", stress_period_data)\n",
    "print(\"type is: \", type( ))"
   ]
  },
  {
   "cell_type": "code",
   "execution_count": null,
   "id": "d277faf7-2f8c-407e-b470-16813d4fb686",
   "metadata": {},
   "outputs": [],
   "source": [
    "df = pd.DataFrame(np.random.random((10,6)))\n",
    "df"
   ]
  },
  {
   "cell_type": "code",
   "execution_count": null,
   "id": "d0c3c24a-55a8-4135-8ab7-87f00012d11d",
   "metadata": {},
   "outputs": [],
   "source": [
    "df.to_records(False)"
   ]
  },
  {
   "cell_type": "code",
   "execution_count": null,
   "id": "3a393634-b23f-46fc-a5fc-d89f782d0127",
   "metadata": {},
   "outputs": [],
   "source": [
    "df.values.view(  riv_dtype)  "
   ]
  },
  {
   "cell_type": "code",
   "execution_count": null,
   "id": "19e3539c-2a50-4422-8f63-ae400fb67d94",
   "metadata": {},
   "outputs": [],
   "source": [
    "stress_period_data[0] = df.values.view(np.recarray)                                       "
   ]
  },
  {
   "cell_type": "code",
   "execution_count": null,
   "id": "54ecd794-e030-4ce3-81d4-030eb2c6f418",
   "metadata": {},
   "outputs": [],
   "source": [
    "stress_period_data[0]"
   ]
  },
  {
   "cell_type": "code",
   "execution_count": null,
   "id": "782ac669-d923-4c86-b8e3-273af9be12b2",
   "metadata": {},
   "outputs": [],
   "source": [
    "stress_period_data[1]"
   ]
  },
  {
   "cell_type": "code",
   "execution_count": null,
   "id": "85e57224-334e-4471-892a-756c6172535d",
   "metadata": {},
   "outputs": [],
   "source": []
  },
  {
   "cell_type": "code",
   "execution_count": null,
   "id": "0d2aa2b4-2e66-4acf-8276-fe10cc267e3c",
   "metadata": {},
   "outputs": [],
   "source": []
  },
  {
   "cell_type": "code",
   "execution_count": null,
   "id": "a12bb7c5-abaa-409c-9163-fef6d1203ea8",
   "metadata": {},
   "outputs": [],
   "source": []
  },
  {
   "cell_type": "code",
   "execution_count": null,
   "id": "93a7f7b0-7b38-4855-8266-930db3933596",
   "metadata": {},
   "outputs": [],
   "source": []
  },
  {
   "cell_type": "code",
   "execution_count": null,
   "id": "3d1bcd00-fa72-4030-b46d-74b800b08f88",
   "metadata": {},
   "outputs": [],
   "source": []
  },
  {
   "cell_type": "code",
   "execution_count": null,
   "id": "7ab32d3d-90b0-4cf7-84a9-d6e5ea8faafe",
   "metadata": {},
   "outputs": [],
   "source": []
  },
  {
   "cell_type": "code",
   "execution_count": null,
   "id": "6e9c4ca6-6a43-4837-bd62-82e69a31b2ab",
   "metadata": {},
   "outputs": [],
   "source": []
  },
  {
   "cell_type": "code",
   "execution_count": null,
   "id": "55924b02-eee0-40b4-87d1-381c77195a29",
   "metadata": {},
   "outputs": [],
   "source": [
    "ax.get_xticklabels()[0]"
   ]
  },
  {
   "cell_type": "code",
   "execution_count": null,
   "id": "368ac8fa-9e63-4437-8c64-a483fc201c5c",
   "metadata": {},
   "outputs": [],
   "source": [
    "df.loc['2021'].plot.bar(stacked = True, figsize = (10,10))"
   ]
  },
  {
   "cell_type": "code",
   "execution_count": null,
   "id": "108281ff-647e-41ba-81a2-a48bf5f59520",
   "metadata": {},
   "outputs": [],
   "source": [
    "df.resample('1Q').sum().describe()"
   ]
  },
  {
   "cell_type": "code",
   "execution_count": null,
   "id": "e888b223-008f-4c20-8c1a-953290356f38",
   "metadata": {},
   "outputs": [],
   "source": [
    "df.resample('1Q').sum().plot.bar(stacked = True, figsize = (20,10))"
   ]
  },
  {
   "cell_type": "code",
   "execution_count": null,
   "id": "756c75fa-d32c-4d28-88e0-1c6189d16035",
   "metadata": {},
   "outputs": [],
   "source": [
    "df.resample('1Q').sum().sum(axis=1).idxmax()"
   ]
  },
  {
   "cell_type": "code",
   "execution_count": null,
   "id": "5eafb95c-60a2-4d7b-83ff-a0368563feed",
   "metadata": {},
   "outputs": [],
   "source": [
    "df.idxmax()"
   ]
  },
  {
   "cell_type": "code",
   "execution_count": null,
   "id": "85b3e67b-3b17-43f8-9407-c343c26d7420",
   "metadata": {},
   "outputs": [],
   "source": [
    "df.loc[df.idxmax()]"
   ]
  },
  {
   "cell_type": "code",
   "execution_count": null,
   "id": "2a221abb-5f54-49b0-9f6a-de8569d216cf",
   "metadata": {},
   "outputs": [],
   "source": [
    "df.index.to_series().diff().unique()"
   ]
  },
  {
   "cell_type": "code",
   "execution_count": null,
   "id": "c68a844e-965b-48fa-8e4c-689c7b24d3a5",
   "metadata": {},
   "outputs": [],
   "source": [
    "df.index.to_series().diff().nunique()"
   ]
  },
  {
   "cell_type": "code",
   "execution_count": null,
   "id": "9c2a6b0b-ce88-4776-830b-1bfb3427b2c8",
   "metadata": {},
   "outputs": [],
   "source": []
  }
 ],
 "metadata": {
  "kernelspec": {
   "display_name": "Python 3 (ipykernel)",
   "language": "python",
   "name": "python3"
  },
  "language_info": {
   "codemirror_mode": {
    "name": "ipython",
    "version": 3
   },
   "file_extension": ".py",
   "mimetype": "text/x-python",
   "name": "python",
   "nbconvert_exporter": "python",
   "pygments_lexer": "ipython3",
   "version": "3.10.4"
  }
 },
 "nbformat": 4,
 "nbformat_minor": 5
}
