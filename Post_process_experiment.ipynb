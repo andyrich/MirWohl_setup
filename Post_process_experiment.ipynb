{
 "cells": [
  {
   "cell_type": "code",
   "execution_count": null,
   "id": "4ce9f44c-e617-4cc9-9569-bfc3db6d1cf3",
   "metadata": {},
   "outputs": [],
   "source": [
    "import basic\n",
    "import pandas as pd\n",
    "import os\n",
    "import matplotlib.pyplot as plt\n",
    "\n",
    "import geopandas as gpd\n",
    "\n",
    "import conda_scripts.plot_help as ph"
   ]
  },
  {
   "cell_type": "code",
   "execution_count": null,
   "id": "059f1a04-22ea-41ea-b2e7-af235a14b1d8",
   "metadata": {},
   "outputs": [],
   "source": [
    "import flopy"
   ]
  },
  {
   "cell_type": "code",
   "execution_count": null,
   "id": "601dc57f-9b60-4f47-87b9-82f6e5907f65",
   "metadata": {},
   "outputs": [],
   "source": [
    "run = 'SWR_short_2lays_hiK'\n",
    "info, swr_info, sfr_info, riv_keys_info = basic.load_params(run)\n",
    "\n",
    "datestart = info['start_date']\n",
    "numdays = info['numdays']\n",
    "name = info['name']\n",
    "\n",
    "basic.setup_folder(run)\n",
    "out_folder = basic.out_folder(run)\n",
    "\n",
    "\n",
    "print(datestart)\n",
    "print(out_folder)\n"
   ]
  },
  {
   "cell_type": "code",
   "execution_count": null,
   "id": "309dd5ea-1883-482a-b6b0-d1f2ca002f4f",
   "metadata": {},
   "outputs": [],
   "source": [
    "ml = basic.load_model(load_fast = ['DIS', 'BAS6', 'UPW', 'NWT', 'WEL', 'GHB', 'OC', 'SFR', 'RCH', 'GAGE'])"
   ]
  },
  {
   "cell_type": "code",
   "execution_count": null,
   "id": "9702a082-b01f-49a8-87bc-03b6ca8a1b0a",
   "metadata": {},
   "outputs": [],
   "source": [
    "ml.gage.gage_data "
   ]
  },
  {
   "cell_type": "code",
   "execution_count": null,
   "id": "8c65a04e-25cd-49ff-a65c-0e9c0d332251",
   "metadata": {},
   "outputs": [],
   "source": [
    "import write_inflows"
   ]
  },
  {
   "cell_type": "code",
   "execution_count": null,
   "id": "7ccbea43-dd33-446c-abf3-2fef0cb26754",
   "metadata": {},
   "outputs": [],
   "source": []
  },
  {
   "cell_type": "code",
   "execution_count": null,
   "id": "6d985887-d6dc-43ba-a141-ef1f435d68a0",
   "metadata": {},
   "outputs": [],
   "source": [
    "write_inflows.run(model_name=run, m = ml, inflow_limit=20000)"
   ]
  },
  {
   "cell_type": "code",
   "execution_count": null,
   "id": "e48a8b9a-ccf7-4107-9b6c-dcca7749d970",
   "metadata": {},
   "outputs": [],
   "source": []
  },
  {
   "cell_type": "code",
   "execution_count": null,
   "id": "82e5a1eb-61dc-4524-9002-cba84c43a3e3",
   "metadata": {},
   "outputs": [],
   "source": [
    "dat = ['rr__outflow_from_swr.gag',\n",
    " 'rr__inflow_to_swr.gag',\n",
    " 'rr__below_first_cell.gag',\n",
    " 'dc__below_first_cell.gag',\n",
    " 'rr__outflow.gag',\n",
    " 'mark_west_creek__below_first_cell.gag',\n",
    " 'mark_west_creek__inflow_to_rr.gag']"
   ]
  },
  {
   "cell_type": "code",
   "execution_count": null,
   "id": "1a98495a-3da8-4949-8fc3-7e437e16f1b6",
   "metadata": {},
   "outputs": [],
   "source": [
    "import conda_scripts.arich_functions as af"
   ]
  },
  {
   "cell_type": "code",
   "execution_count": null,
   "id": "0506c903-9d7c-4c94-91c1-a938bd44f4f5",
   "metadata": {},
   "outputs": [],
   "source": []
  },
  {
   "cell_type": "code",
   "execution_count": null,
   "id": "cf51e019-b54b-4ad1-9b2a-d8120e8f153e",
   "metadata": {},
   "outputs": [],
   "source": [
    "# f = pd.DataFrame(ml.gage.gage_data)\n",
    "# f.loc[:,'name'] = dat\n",
    "# f.loc[:,'rename'] = f.loc[:,'name'].str.strip('.gag').str.replace('rr', 'Russian River ').str.replace(\n",
    "#                                                 'dc','dry creek ').str.replace(\n",
    "#                                                 '_',' ').str.title()\n",
    "# gages = pd.merge(pd.DataFrame(ml.sfr.reach_data), f ,\n",
    "#          left_on = ['iseg', 'ireach'], right_on = ['gageloc','gagerch'] )\n",
    "# # gages.loc[:,'name'] = dat\n",
    "\n",
    "# shp = af.get_active_mod_df(ml.modelgrid, ml)\n",
    "\n",
    "# gages = pd.merge(gages, shp, on = ['i','j'])\n",
    "\n",
    "# gages= gpd.GeoDataFrame(gages, geometry = 'geometry', crs = 2226)\n",
    "# gages = gages.set_geometry(gages.geometry.centroid)"
   ]
  },
  {
   "cell_type": "code",
   "execution_count": null,
   "id": "21b980c4-c21b-45c7-9dc1-8885ea670e4c",
   "metadata": {},
   "outputs": [],
   "source": [
    "# fig, ax = basic.map_river(m = ml, add_basemap = True)\n",
    "\n",
    "# gages.plot( ax = ax,marker = 'o', facecolor = 'w',edgecolor = 'k',zorder = 100)\n",
    "\n",
    "# ph.label_points(ax, gages, colname = 'rename', fmt = \"s\")"
   ]
  },
  {
   "cell_type": "code",
   "execution_count": null,
   "id": "99a7bbab-ea94-4b66-9e8a-193baaeb1179",
   "metadata": {},
   "outputs": [],
   "source": [
    "import Streamflows"
   ]
  },
  {
   "cell_type": "code",
   "execution_count": null,
   "id": "36eb68df-33cb-475d-98a2-acb871838954",
   "metadata": {},
   "outputs": [],
   "source": []
  },
  {
   "cell_type": "code",
   "execution_count": null,
   "id": "71629e00-7342-4a3a-9101-26b5a7e0d53c",
   "metadata": {},
   "outputs": [],
   "source": []
  },
  {
   "cell_type": "code",
   "execution_count": null,
   "id": "82cd5406-f07d-4b17-9fef-4525ced33eac",
   "metadata": {},
   "outputs": [],
   "source": [
    "gages , flows = Streamflows.run(out_folder=out_folder, ml = ml, make_map= True)"
   ]
  },
  {
   "cell_type": "code",
   "execution_count": null,
   "id": "1480fefd-1e12-4e5b-b1f7-5a17f65c010b",
   "metadata": {},
   "outputs": [],
   "source": [
    "import plotly.express as px"
   ]
  },
  {
   "cell_type": "code",
   "execution_count": null,
   "id": "026b5e9f-5842-4039-89f4-95d4336daaf0",
   "metadata": {},
   "outputs": [],
   "source": []
  },
  {
   "cell_type": "code",
   "execution_count": null,
   "id": "c7c46cc2-f4c8-4206-bdd9-112899fd62a9",
   "metadata": {},
   "outputs": [],
   "source": []
  },
  {
   "cell_type": "code",
   "execution_count": null,
   "id": "8929b7cf-09b9-4d6c-bf38-99a7203ad90e",
   "metadata": {},
   "outputs": [],
   "source": []
  },
  {
   "cell_type": "code",
   "execution_count": null,
   "id": "ca08dc01-72e5-4ead-9def-f4dba1a593af",
   "metadata": {},
   "outputs": [],
   "source": [
    "[flows[key].reset_index().insert(0,'gage',key) for key in flows]\n",
    "\n",
    "def fixx(dfi, name):\n",
    "    dfi.insert(0, 'Gage', name)\n",
    "    \n",
    "    return dfi\n",
    "\n",
    "dfall = pd.concat([fixx(flows[key], key) for key in flows])\n",
    "\n",
    "dfall.head()"
   ]
  },
  {
   "cell_type": "code",
   "execution_count": null,
   "id": "539a1c8a-1bf3-437c-a0fb-22971dc5ace8",
   "metadata": {},
   "outputs": [],
   "source": [
    "pd.to_datetime('Feb 7 2015') - pd.to_datetime('1/1/2014')"
   ]
  },
  {
   "cell_type": "code",
   "execution_count": null,
   "id": "c3d15a76-6900-4a54-822f-b7e00b8f3391",
   "metadata": {},
   "outputs": [],
   "source": [
    "# df = df.stack().to_frame('STAGE').reset_index()\n",
    "# df = flows['rr__below_first_cell.gag']\n",
    "# df = df.reset_index()\n",
    "fig = px.line(dfall.reset_index(), x=\"Time\", y=\"Flow\", color = 'Gage')\n",
    "fig.show()"
   ]
  },
  {
   "cell_type": "code",
   "execution_count": null,
   "id": "344a6134-2bee-43b9-b8e5-e7936ab08de2",
   "metadata": {},
   "outputs": [],
   "source": [
    "# def add_subindex_fields(file, h1, fields):\n",
    "    \n",
    "\n",
    "#     with open(file, 'r') as myfile:\n",
    "#         if h1 in myfile.read():\n",
    "#             present = True\n",
    "#         else:\n",
    "#             present = False\n",
    "            \n",
    "#     if not present:\n",
    "#         with open(file, 'a') as myfile:\n",
    "#             myfile.write('\\n\\n')\n",
    "#             myfile.write(\"<h1>{:}</h1>\\n\".format(h1))\n",
    "\n",
    "#             for k in fields:\n",
    "#                 fileref = fields[k]\n",
    "#                 part = \"\"\"<a href=\"{:}\">{:}<br></a>\\n\"\"\".format(fileref, k)\n",
    "#                 myfile.write(part)\n",
    "\n",
    "# fields = {\"Streamflow Gage map\": r'streamflow\\streamflow_gages_map.png',\n",
    "# 'Russian River   Outflow From Swr':  r'streamflow\\Russian River   Outflow From Swr.png',\n",
    "# 'Russian River   Inflow To Swr':  r'streamflow\\Russian River   Inflow To Swr.png',\n",
    "# 'Russian River   Below First Cell':  r'streamflow\\Russian River   Below First Cell.png',\n",
    "# 'Dry Creek   Below First Cell':  r'streamflow\\Dry Creek   Below First Cell.png',\n",
    "# 'Russian River   Outflow':  r'streamflow\\Russian River   Outflow.png',\n",
    "# 'Mark West Creek  Below First Cell':  r'streamflow\\Mark West Creek  Below First Cell.png',\n",
    "# 'Mark West Creek  Inflow To Russian River ':  r'streamflow\\Mark West Creek  Inflow To Russian River .png'}\n",
    "\n",
    "basic.add_subindex_fields(os.path.join('versions', run, 'subindex.html'), 'sdfasdfasdf', fields )          "
   ]
  },
  {
   "cell_type": "code",
   "execution_count": null,
   "id": "e25f42ff-c996-46d5-9af3-dc8c230bfad2",
   "metadata": {},
   "outputs": [],
   "source": [
    "def plot_streamflows(dat, model_ws, outfolder,  save = False):\n",
    "    \n",
    "    for filename in dat:\n",
    "        # print(filename)\n",
    "#         file = os.path.join(model_ws, 'Results', filename)\n",
    "#         tab = pd.read_csv(file, \n",
    "#                           skiprows= [0],sep = '\\s+')\n",
    "#         f = \"DATA: Time           Stage            Flow           Depth           Width      Midpt-Flow         Precip.              ET          Runoff     Conductance        HeadDiff       Hyd.Grad.\"\n",
    "#         tab.columns = f.replace('DATA: ', '').split()\n",
    "\n",
    "#         tab.index = pd.to_datetime('1/1/2014') + pd.to_timedelta(tab.Time, unit = 's')\n",
    "#         tab = tab.drop(columns = 'Time')\n",
    "#         tab = tab.loc[:,tab.abs().sum()>0]\n",
    "#         axes = tab.plot(subplots = True, figsize = (8,6), fontsize = 12)\n",
    "\n",
    "#         [{ax.text(1,.5, ax.get_legend_handles_labels()[1][0],\n",
    "#                  transform=ax.transAxes, va = 'top'), ax.legend().remove()} for ax in axes]\n",
    "        \n",
    "        rename = filename.strip('.gag').replace('rr', 'Russian River ').replace(\n",
    "                                                    'dc','dry creek ').replace(\n",
    "                                                    '_',' ').title()\n",
    "        plotname = os.path.join('streamflow', rename+'.png')\n",
    "#         plt.suptitle(rename)\n",
    "#         if save:\n",
    "#             plotname = os.path.join(outfolder,'streamflow', rename+'.png')\n",
    "#             print(f'saving {plotname}')\n",
    "#             plt.savefig(plotname,dpi = 250, bbox_inches = 'tight')\n",
    "        print(\"'{:}':  r'{:}',\".format(rename, plotname))\n",
    "        \n",
    "dat = Streamflows.get_gage_names()\n",
    "plot_streamflows(dat, ml.model_ws, out_folder, True)"
   ]
  },
  {
   "cell_type": "code",
   "execution_count": null,
   "id": "1979325a-266c-4fc8-9d78-77f883e8735f",
   "metadata": {},
   "outputs": [],
   "source": [
    "import plotly.express as px"
   ]
  },
  {
   "cell_type": "code",
   "execution_count": null,
   "id": "59ab7962-7d1b-441e-bd8a-6654519931b8",
   "metadata": {},
   "outputs": [],
   "source": []
  },
  {
   "cell_type": "code",
   "execution_count": null,
   "id": "7148448b-7d03-4c9b-886e-768b4ea59ffb",
   "metadata": {},
   "outputs": [],
   "source": [
    "df = ISWRPQAQ.groupby(level = [0,5]).mean().loc[:,['STAGE']].unstack().droplevel(0,1).groupby(\n",
    "pd.Grouper(level = 0, freq=\"1D\")).mean().iloc[:,::5]\n",
    "ax = df.plot(figsize = (10,10),cmap = 'jet')\n",
    "ax.legend(loc = 'upper left', bbox_to_anchor = (1.05,.95))\n",
    "ax.set_title('STAGE')\n",
    "ax2 = ax.twinx()\n",
    "\n",
    "df = df.stack().to_frame('STAGE').reset_index()\n",
    "\n",
    "fig = px.line(df, x=\"TOTIME\", y=\"STAGE\", color='REACH')\n",
    "fig.show()"
   ]
  },
  {
   "cell_type": "code",
   "execution_count": null,
   "id": "cea51420-1052-4289-a636-6db08a4f1bc7",
   "metadata": {},
   "outputs": [],
   "source": [
    "df.head()"
   ]
  },
  {
   "cell_type": "code",
   "execution_count": null,
   "id": "09c04dbf-2d7f-4fab-9fac-b91e3ebf0dd2",
   "metadata": {},
   "outputs": [],
   "source": []
  },
  {
   "cell_type": "code",
   "execution_count": null,
   "id": "d925d7b8-d249-4c2a-add8-501fdb131677",
   "metadata": {},
   "outputs": [],
   "source": [
    "\n",
    "os.getcwd()"
   ]
  },
  {
   "cell_type": "code",
   "execution_count": null,
   "id": "a6d869bb-5191-428c-8d21-48eb02b7fe47",
   "metadata": {},
   "outputs": [],
   "source": [
    "fig.write_html('plotlytest.html')"
   ]
  },
  {
   "cell_type": "code",
   "execution_count": null,
   "id": "f3ce5e99-c552-4161-88b7-4c99fa22feb9",
   "metadata": {},
   "outputs": [],
   "source": [
    "ax = ISWRPQAQ.groupby(level = [0,5]).mean().loc[:,['HEAD']].unstack().droplevel(0,1).groupby(\n",
    "pd.Grouper(level = 0, freq=\"1W\")).mean().iloc[:,::5].plot(figsize = (10,10),cmap = 'jet')\n",
    "ax.legend(loc = 'upper left', bbox_to_anchor = (1.05,.95))\n",
    "ax.set_title('GW Head')\n",
    "ax2 = ax.twinx()\n",
    "\n",
    "stg = ISWRPSTG.groupby(level = [0]).mean().groupby(\n",
    "pd.Grouper(level = 0, freq=\"1W\")).mean().iloc[:,115].plot(ax = ax2, c = 'k', lw = 4)"
   ]
  },
  {
   "cell_type": "code",
   "execution_count": null,
   "id": "84a2425b-1ea0-4aa7-bc43-acc90a46a56e",
   "metadata": {},
   "outputs": [],
   "source": [
    "ax = ISWRPRGF.groupby(level = [0,5]).sum().loc[:,['QAQFLOW']].unstack().droplevel(0,1).groupby(\n",
    "pd.Grouper(level = 0, freq=\"1W\")).mean().iloc[:,::5].plot(figsize = (10,10),cmap = 'jet')\n",
    "ax.legend(loc = 'upper left', bbox_to_anchor = (1.05,.95))\n",
    "ax2 = ax.twinx()\n",
    "ax.set_title('GW Exchange')\n",
    "stg = ISWRPSTG.groupby(level = [0]).mean().groupby(\n",
    "pd.Grouper(level = 0, freq=\"1W\")).mean().iloc[:,115].plot(ax = ax2, c = 'k', lw = 4)"
   ]
  },
  {
   "cell_type": "code",
   "execution_count": null,
   "id": "1d311420-a73d-41b4-a5a7-916d340628c5",
   "metadata": {},
   "outputs": [],
   "source": [
    "df.head()"
   ]
  },
  {
   "cell_type": "code",
   "execution_count": null,
   "id": "10214b20-4f3c-4712-be07-cf43577ffcf2",
   "metadata": {},
   "outputs": [],
   "source": [
    "df = ISWRPRGF.groupby(level = [0,5]).sum().loc[:,['QAQFLOW']].unstack().droplevel(0,1).groupby(\n",
    "pd.Grouper(level = 0, freq=\"1W\")).mean().iloc[:,::5]\n",
    "df = df.stack().to_frame('Q').reset_index()\n",
    "\n",
    "fig = px.line(df, x=\"TOTTIME\", y=\"Q\", color='RCHGRP',title='GW Exchange')\n",
    "fig.write_html('GW_exchange.html')\n",
    "fig.show()"
   ]
  },
  {
   "cell_type": "code",
   "execution_count": null,
   "id": "f4584c36-b499-48f0-871e-52c62bf0cae9",
   "metadata": {},
   "outputs": [],
   "source": [
    "ISWRPSTR"
   ]
  },
  {
   "cell_type": "code",
   "execution_count": null,
   "id": "2c239bbe-2a03-4f5d-b178-ccdecd7214cb",
   "metadata": {},
   "outputs": [],
   "source": [
    "\n",
    "\n",
    "df = ISWRPSTR.query(\"REACH==116\").iloc[:,::5]\n",
    "df = df.reset_index()\n",
    "\n",
    "fig = px.line(df, x=\"TOTIME\", y=\"STRFLOW\", title='Structure Flow')\n",
    "# fig.write_html('GW_exchange.html')\n",
    "fig.show()"
   ]
  },
  {
   "cell_type": "code",
   "execution_count": null,
   "id": "e2984350-e49f-4b1a-b04b-ebcf6487d9a8",
   "metadata": {},
   "outputs": [],
   "source": [
    "import postprocess"
   ]
  },
  {
   "cell_type": "code",
   "execution_count": null,
   "id": "2e064d06-ab88-49fd-95c1-020e54da7b0d",
   "metadata": {},
   "outputs": [],
   "source": [
    "ISWRPQAQ, ISWRPRGF, ISWRPSTG, ISWRPSTR, ISWRPQM = postprocess.run(run,riv_only = True,max_reach = 76)"
   ]
  },
  {
   "cell_type": "code",
   "execution_count": null,
   "id": "e06f0754-684d-4f8a-9815-6486829fd085",
   "metadata": {},
   "outputs": [],
   "source": [
    "import Hydrographs"
   ]
  },
  {
   "cell_type": "code",
   "execution_count": null,
   "id": "d8613245-0066-462a-bd30-4bafd75d6b40",
   "metadata": {},
   "outputs": [],
   "source": []
  },
  {
   "cell_type": "code",
   "execution_count": null,
   "id": "15ced242-daf9-4abf-9db4-a3f61e1f9b19",
   "metadata": {},
   "outputs": [],
   "source": [
    ".01*86400"
   ]
  },
  {
   "cell_type": "code",
   "execution_count": null,
   "id": "9fdea945-050a-4bc9-ae2a-3bdd1c256b2e",
   "metadata": {},
   "outputs": [],
   "source": [
    "basic.plot_aquifer_props_pilot_points(ml, 'pilot_points', out_folder, load_best = False)"
   ]
  },
  {
   "cell_type": "code",
   "execution_count": null,
   "id": "bd72cbce-85e1-42c7-b4c9-6f7768b22dd7",
   "metadata": {
    "tags": []
   },
   "outputs": [],
   "source": [
    "Hydrographs.run(run, ml = ml, reload = True, add_temp=False)"
   ]
  },
  {
   "cell_type": "code",
   "execution_count": null,
   "id": "dce7bba0-58d1-4158-ba2f-812c4fcb8cd8",
   "metadata": {},
   "outputs": [],
   "source": []
  },
  {
   "cell_type": "code",
   "execution_count": null,
   "id": "5860e560-0c51-45e5-8935-37e0393bf8be",
   "metadata": {
    "tags": []
   },
   "outputs": [],
   "source": [
    "basic.plot_maps(ml, run)"
   ]
  },
  {
   "cell_type": "code",
   "execution_count": null,
   "id": "22f43553-68b5-49cb-92f3-f10e254fa521",
   "metadata": {},
   "outputs": [],
   "source": [
    "import SFRtoSWR"
   ]
  },
  {
   "cell_type": "code",
   "execution_count": null,
   "id": "833ad9e9-d3a6-4b7f-a276-bc9d85c11ad5",
   "metadata": {},
   "outputs": [],
   "source": [
    "import basic\n",
    "import write_inflows"
   ]
  },
  {
   "cell_type": "code",
   "execution_count": null,
   "id": "c9d9379c-cfe8-43c1-a6d9-4b7f0cb0bd1e",
   "metadata": {},
   "outputs": [],
   "source": [
    "ml = basic.load_model()"
   ]
  },
  {
   "cell_type": "code",
   "execution_count": null,
   "id": "de122f1d-e953-4ff1-9d38-4688cd34bd13",
   "metadata": {},
   "outputs": [],
   "source": []
  },
  {
   "cell_type": "code",
   "execution_count": null,
   "id": "e23e773e-8154-42cf-b08f-74610a4d4cf3",
   "metadata": {
    "tags": []
   },
   "outputs": [],
   "source": [
    "write_inflows.run(run, m = ml, inflow_limit=10000)"
   ]
  },
  {
   "cell_type": "code",
   "execution_count": null,
   "id": "1141e502-786f-4b8e-ba19-f04f9f8248ac",
   "metadata": {},
   "outputs": [],
   "source": [
    "import post_process_heads\n",
    "import numpy as np\n",
    "import cartopy.crs as ccrs"
   ]
  },
  {
   "cell_type": "code",
   "execution_count": null,
   "id": "da588b9d-9d07-4073-9145-6005796b96a0",
   "metadata": {},
   "outputs": [],
   "source": []
  },
  {
   "cell_type": "code",
   "execution_count": null,
   "id": "a5b24b0c-93f4-449f-b320-3ce06a0fa71f",
   "metadata": {
    "tags": []
   },
   "outputs": [],
   "source": [
    "post_process_heads.run(run_name = run,head_frequency = 3, ml = ml, add_basemap=True)"
   ]
  },
  {
   "cell_type": "code",
   "execution_count": null,
   "id": "15821894-cb26-480a-91d3-455020ccb327",
   "metadata": {},
   "outputs": [],
   "source": [
    "hds, hdsobj = basic.get_heads(ml)"
   ]
  },
  {
   "cell_type": "code",
   "execution_count": null,
   "id": "9ed89b7a-8898-4f76-85b4-3f5084d769b5",
   "metadata": {},
   "outputs": [],
   "source": [
    "hds.shape"
   ]
  },
  {
   "cell_type": "code",
   "execution_count": null,
   "id": "079bf6ac-e668-45e9-9ace-9baca60daab1",
   "metadata": {},
   "outputs": [],
   "source": [
    "hds, other= basic.get_heads(ml)"
   ]
  },
  {
   "cell_type": "code",
   "execution_count": null,
   "id": "ff032572-042a-44d7-8e2d-f825c5ad71b3",
   "metadata": {},
   "outputs": [],
   "source": [
    "hds"
   ]
  },
  {
   "cell_type": "code",
   "execution_count": null,
   "id": "05c60315-9dd2-44b7-93a7-044495d56c32",
   "metadata": {},
   "outputs": [],
   "source": [
    "hds"
   ]
  },
  {
   "cell_type": "code",
   "execution_count": null,
   "id": "dede1896-ad11-438b-9d45-ec49a5364194",
   "metadata": {},
   "outputs": [],
   "source": [
    "props, pval = basic.load_pilot_point_calibrated_props(ml, 'pilot_points', load_best= False)"
   ]
  },
  {
   "cell_type": "code",
   "execution_count": null,
   "id": "809a4e5d-8a83-4701-84bf-f7181a837686",
   "metadata": {},
   "outputs": [],
   "source": [
    "pval"
   ]
  },
  {
   "cell_type": "code",
   "execution_count": null,
   "id": "29eb05df-d185-44c0-94e4-f3cbe580c168",
   "metadata": {},
   "outputs": [],
   "source": [
    "np.unique(ml.upw.hk.array[0].reshape((-1)))"
   ]
  },
  {
   "cell_type": "code",
   "execution_count": null,
   "id": "4110e503-0738-4c21-aafa-15fb9b854502",
   "metadata": {},
   "outputs": [],
   "source": []
  },
  {
   "cell_type": "code",
   "execution_count": null,
   "id": "be4f335c-a675-483e-9e32-5dbfee547c4a",
   "metadata": {},
   "outputs": [],
   "source": [
    "fig, ax = plt.subplots(\n",
    "    figsize = (5,5), subplot_kw=dict(projection=ccrs.epsg(2226)))\n",
    "\n",
    "mapview = flopy.plot.PlotMapView(ml, ax = ax)\n",
    "# arr = np.ma.array(ml.modelgrid.saturated_thick(hds[0]), mask = ml.bas6.ibound.array[0] == 0)\n",
    "\n",
    "arr = ml.modelgrid.saturated_thick(hds)*np.stack([props['hk1'], props['hk2'], props['hk3']])\n",
    "arr = np.ma.array(arr.sum(axis=0), mask = ml.bas6.ibound.array[0] == 0)\n",
    "\n",
    "\n",
    "ac = mapview.plot_array(arr)\n",
    "basic.set_bounds(ax, 'mirabel')\n",
    "ax.set_title('Transmissivity')\n",
    "plt.colorbar(ac, shrink = .5)"
   ]
  },
  {
   "cell_type": "code",
   "execution_count": null,
   "id": "f44bca98-9a16-479b-9849-4e596ad63cae",
   "metadata": {},
   "outputs": [],
   "source": [
    "ff = props['hk1']\n",
    "\n",
    "ff[ff<1e5]"
   ]
  },
  {
   "cell_type": "code",
   "execution_count": null,
   "id": "8d20da12-69c0-48c6-97aa-365910cc5b3b",
   "metadata": {},
   "outputs": [],
   "source": [
    "plt.imshow(arr)\n",
    "plt.colorbar()"
   ]
  },
  {
   "cell_type": "code",
   "execution_count": null,
   "id": "c81f68f8-0a8b-433f-905b-e2d58d3bff7d",
   "metadata": {},
   "outputs": [],
   "source": [
    "1000/86400"
   ]
  },
  {
   "cell_type": "code",
   "execution_count": null,
   "id": "e7600e46-3d37-4125-a1fc-3c239fc4cade",
   "metadata": {},
   "outputs": [],
   "source": [
    "sy = np.genfromtxt(\"RR_2022\\pilot_points\\sy1.txt\")\n",
    "f = sy\n",
    "\n",
    "print(np.isnan(f).all())\n",
    "f[f>1e5] = np.nan\n",
    "\n",
    "f = f.reshape(-1)\n",
    "\n",
    "f = f[~np.isnan(f)]\n",
    "print(np.mean(f))\n",
    "ax = pd.Series(f).hist()\n",
    "# # ax.axvline(1000)\n",
    "# ax.set_xlim(xmax = 1001)"
   ]
  },
  {
   "cell_type": "code",
   "execution_count": null,
   "id": "5488fc11-70b2-42ab-aeb5-e67a126acb08",
   "metadata": {},
   "outputs": [],
   "source": [
    "hk = np.genfromtxt(\"RR_2022\\pilot_points\\hk2.txt\")\n",
    "f = hk\n",
    "\n",
    "print(np.isnan(f).all())\n",
    "f[f>1e5] = np.nan\n",
    "\n",
    "f = f.reshape(-1)\n",
    "\n",
    "f = f[~np.isnan(f)]\n",
    "print(np.median(f))\n",
    "print(1000/(np.median(f)*86400))\n",
    "ax = pd.Series(f*86400).hist()\n",
    "# # ax.axvline(1000)\n",
    "# ax.set_xlim(xmax = 1001)"
   ]
  },
  {
   "cell_type": "code",
   "execution_count": null,
   "id": "00229784-2dfb-4c8d-9f94-6eb592a73d8e",
   "metadata": {},
   "outputs": [],
   "source": [
    "hk = np.genfromtxt(\"RR_2022\\pilot_points\\hk1.txt\")\n",
    "f = hk\n",
    "\n",
    "print(np.isnan(f).all())\n",
    "f[f>1e5] = np.nan\n",
    "\n",
    "f = f.reshape(-1)\n",
    "\n",
    "f = f[~np.isnan(f)]\n",
    "print(np.median(f))\n",
    "print(1000/(np.median(f)*86400))\n",
    "ax = pd.Series(f*86400).hist()\n",
    "# # ax.axvline(1000)\n",
    "# ax.set_xlim(xmax = 1001)"
   ]
  },
  {
   "cell_type": "code",
   "execution_count": null,
   "id": "f7e8e56d-e9eb-49ba-ba85-4706d1c6b347",
   "metadata": {},
   "outputs": [],
   "source": [
    "f = props['hk1']\n",
    "\n",
    "print(np.isnan(f).all())\n",
    "f[f>1e5] = np.nan\n",
    "\n",
    "f = f.reshape(-1)\n",
    "\n",
    "f = f[~np.isnan(f)]\n",
    "\n",
    "f"
   ]
  },
  {
   "cell_type": "code",
   "execution_count": null,
   "id": "12b48bf8-1009-48f8-8894-df66ed05cd6b",
   "metadata": {},
   "outputs": [],
   "source": [
    "fig, axes = plt.subplots(1,2,\n",
    "    figsize = (10,5), subplot_kw=dict(projection=ccrs.epsg(2226)))\n",
    "\n",
    "axes = axes.flat\n",
    "\n",
    "for lay in range(2):\n",
    "    ax = axes[lay]\n",
    "    mapview = flopy.plot.PlotMapView(ml, ax = ax)\n",
    "    # arr = np.ma.array(ml.modelgrid.saturated_thick(hds[0]), mask = ml.bas6.ibound.array[0] == 0)\n",
    "    \n",
    "    k = np.stack([props['hk1'], props['hk2'], props['hk3']])\n",
    "    arr = ml.modelgrid.saturated_thick(hds)*k\n",
    "    arr = np.ma.array(arr[lay], mask = ml.bas6.ibound.array[lay] == 0)\n",
    "\n",
    "    \n",
    "    ac = mapview.plot_array(arr, vmax = 50)\n",
    "    basic.set_bounds(ax, 'mirabel')\n",
    "    \n",
    "ax.set_title('Transmissivity')\n",
    "plt.colorbar(ac, shrink = .2)"
   ]
  },
  {
   "cell_type": "code",
   "execution_count": null,
   "id": "b23d70f2-a5ff-428d-a0f0-dd29b768dece",
   "metadata": {},
   "outputs": [],
   "source": [
    "grid = gpd.read_file(\"GIS\\grid.shp\")"
   ]
  },
  {
   "cell_type": "code",
   "execution_count": null,
   "id": "628aa9db-e344-4728-9310-87fadf692169",
   "metadata": {},
   "outputs": [],
   "source": [
    "hk.reshape(-1"
   ]
  },
  {
   "cell_type": "code",
   "execution_count": null,
   "id": "083ea1be-9f9c-4a77-9eb3-b39a7d46287f",
   "metadata": {},
   "outputs": [],
   "source": [
    "\n",
    "\n",
    "fig = plt.figure(figsize=(15, 5))\n",
    "ax = fig.add_subplot(1, 1, 1)\n",
    "row = 159\n",
    "xsect = flopy.plot.PlotCrossSection(model=ml, line={\"Row\": row})\n",
    "patches = xsect.plot_ibound()\n",
    "linecollection = xsect.plot_grid()\n",
    "t = ax.set_title(f\"Row {row} Cross-Section with IBOUND Boundary Conditions\")\n",
    "ax.set_xlim(xmin=5000, xmax = 14000)\n",
    "ax.set_ylim(ymax = 200)"
   ]
  },
  {
   "cell_type": "code",
   "execution_count": null,
   "id": "1829a4ad-58e6-451d-a3d4-f1a8dae12d47",
   "metadata": {},
   "outputs": [],
   "source": [
    "cbbobj = os.path.join(ml.model_ws, 'Results', )\n",
    "times = cbbobj.get_times()\n",
    "qx = cbbobj.get_data(text=\"flow right face\", totim=times[-1])[0]\n",
    "qy = np.zeros((nlay, nrow, ncol), dtype=float)\n",
    "qz = cbbobj.get_data(text=\"flow lower face\", totim=times[-1])[0]\n",
    "\n"
   ]
  },
  {
   "cell_type": "code",
   "execution_count": null,
   "id": "1105258f-e423-4c98-b6f4-f74b3620f309",
   "metadata": {},
   "outputs": [],
   "source": [
    "\n",
    "flopy.utils.postprocessing.get_water_table(hds, -999.)"
   ]
  },
  {
   "cell_type": "code",
   "execution_count": null,
   "id": "2cb8e1ba-0c50-425e-b5cd-e5857a668a30",
   "metadata": {},
   "outputs": [],
   "source": [
    "fig, ax = plt.subplots( figsize = (5,5), subplot_kw=dict(projection=ccrs.epsg(2226)))\n",
    "\n",
    "mapview = flopy.plot.PlotMapView(ml, ax = ax)\n",
    "# arr = np.ma.array(ml.modelgrid.saturated_thick(hds[0]), mask = ml.bas6.ibound.array[0] == 0)\n",
    "arr = np.ma.array(flopy.utils.postprocessing.get_water_table(hds, -999.), mask = ml.bas6.ibound.array[0] == 0)\n",
    "\n",
    "\n",
    "ac = mapview.plot_array(arr,vmin = 0)\n",
    "mapview.contour_array(arr, levels = np.arange(0, 100, 20), colors = 'k')\n",
    "basic.set_bounds(ax, 'mirabel')\n",
    "ax.set_title('Water Table Elevation')\n",
    "plt.colorbar(ac, shrink = .5)"
   ]
  },
  {
   "cell_type": "code",
   "execution_count": null,
   "id": "41541940-557d-4180-9987-bf501f9264dc",
   "metadata": {},
   "outputs": [],
   "source": [
    "import contextily as ctx"
   ]
  },
  {
   "cell_type": "code",
   "execution_count": null,
   "id": "d2c80b5e-df38-4311-aa87-4ece1c5d7f57",
   "metadata": {},
   "outputs": [],
   "source": [
    "swr_reaches = gpd.read_file(\"GIS/SWR_Reaches.shp\")\n",
    "sfr_reaches = gpd.read_file(\"SFR_files/only_sfr_cells.shp\")"
   ]
  },
  {
   "cell_type": "code",
   "execution_count": null,
   "id": "05abb5f1-5d01-4eb5-ba76-fed49e35d8ab",
   "metadata": {},
   "outputs": [],
   "source": [
    "def plot_all_heads(hds, swr_reaches, sfr_reaches, ml, title):\n",
    "        fig, axes = plt.subplots(1, 3, figsize=(20, 8.5), subplot_kw=dict(projection=ccrs.epsg(2226)))\n",
    "        axes = axes.flat\n",
    "\n",
    "        for i, hdslayer in enumerate(hds):\n",
    "            mapview = flopy.plot.PlotMapView(ml,ax = axes[i])\n",
    "            axes[i].set_facecolor('lightgrey')\n",
    "            # linecollection = mapview.plot_grid(linewidth = .3)\n",
    "            # ax.set_title(f\"layer {lay+1} elevation (feet)\")\n",
    "            # Hide X and Y axes tick marks\n",
    "            axes[i].set_xticks([])\n",
    "            axes[i].set_yticks([])\n",
    "            # hdslayer[hdslayer==-999] = np.nan\n",
    "            # im = axes[i].imshow(hdslayer, vmin=0, vmax=75)\n",
    "            axes[i].set_title(\"Layer {}\".format(i + 1))\n",
    "            ma = np.ma.array(hdslayer,mask = m.bas6.ibound.array[i]==0)\n",
    "            quadmesh = mapview.plot_array(ma, vmax = 50,vmin  =10,cmap = 'gist_ncar_r')\n",
    "            # ctr = axes[i].contour(ma, colors=\"k\", linewidths=0.5, vmin = 0, vmax = 75)\n",
    "\n",
    "            set_bounds(axes[i], 'mirabel')\n",
    "            if add_basemap:\n",
    "                ctx.add_basemap(axes[i], crs = 2226)\n",
    "\n",
    "            swr_reaches.plot(ax = axes[i], facecolor = \"None\", edgecolor = 'k')\n",
    "            sfr_reaches.plot(ax = axes[i], facecolor = \"None\", edgecolor = 'grey')\n",
    "\n",
    "        # fig.delaxes(axes[-1])\n",
    "        fig.subplots_adjust(right=0.8)\n",
    "        cbar_ax = fig.add_axes([0.85, 0.15, 0.03, 0.7])\n",
    "        fig.colorbar(quadmesh, cax=cbar_ax, label=\"Head\");\n",
    "        \n",
    "plot_all_heads(hds, swr_reaches, sfr_reaches, ml, title)"
   ]
  },
  {
   "cell_type": "code",
   "execution_count": null,
   "id": "4bb981ee-e80f-447a-b05a-099e0ba2ddad",
   "metadata": {},
   "outputs": [],
   "source": [
    "well = gpd.read_file('GIS\\wells.shp')"
   ]
  },
  {
   "cell_type": "code",
   "execution_count": null,
   "id": "987a22ea-b174-47e7-bef8-34a4b0575710",
   "metadata": {},
   "outputs": [],
   "source": [
    "import conda_scripts.plot_help as ph"
   ]
  },
  {
   "cell_type": "code",
   "execution_count": null,
   "id": "48eb5bef-a8cc-4f5c-87b8-0d625fa73f81",
   "metadata": {},
   "outputs": [],
   "source": [
    "bounds"
   ]
  },
  {
   "cell_type": "code",
   "execution_count": null,
   "id": "fe2d3541-6a9d-40cc-9a3f-505ef66d6cd7",
   "metadata": {},
   "outputs": [],
   "source": [
    "mpl.cm.get_cmap()"
   ]
  },
  {
   "cell_type": "code",
   "execution_count": null,
   "id": "87a1f183-c789-483b-8407-f0aec41c8396",
   "metadata": {},
   "outputs": [],
   "source": [
    "import matplotlib as mpl\n",
    "cmap=mpl.cm.jet\n",
    "bounds=np.arange(0,100,10)\n",
    "\n",
    "fig, ax = plt.subplots()\n",
    "# cmap.set_over('0.25')\n",
    "# cmap.set_under('0.75')\n",
    "norm = mpl.colors.BoundaryNorm(bounds, cmap.N)\n",
    "cb2 = mpl.colorbar.ColorbarBase(ax, cmap=cmap,\n",
    "                                norm=norm,\n",
    "                                boundaries= bounds,\n",
    "                                extend='both',\n",
    "                                ticks=bounds,\n",
    "                                spacing='proportional',\n",
    "                                orientation='horizontal')"
   ]
  },
  {
   "cell_type": "code",
   "execution_count": null,
   "id": "dec1f04e-708e-4319-8985-e1bf964bab66",
   "metadata": {},
   "outputs": [],
   "source": []
  },
  {
   "cell_type": "code",
   "execution_count": null,
   "id": "0dfe153b-fd0c-4bdf-9fb8-214da2bb41c4",
   "metadata": {},
   "outputs": [],
   "source": [
    "def plot_heads(hds, swr_reaches, sfr_reaches, ml, title):\n",
    "    fig, axes = plt.subplots(2,1, figsize = (5,8), gridspec_kw = {'hspace':.001},\n",
    "                             subplot_kw=dict(projection=ccrs.epsg(2226)))\n",
    "\n",
    "    ax = axes[0]\n",
    "    mapview = flopy.plot.PlotMapView(ml, ax = ax)\n",
    "    # arr = np.ma.array(ml.modelgrid.saturated_thick(hds[0]), mask = ml.bas6.ibound.array[0] == 0)\n",
    "    sat = ml.modelgrid.saturated_thick(hds)\n",
    "    sat = sat[0] + sat[1]\n",
    "    arr = np.ma.array(sat, mask = ml.bas6.ibound.array[0] == 0)\n",
    "\n",
    "    bounds=np.arange(0,100,10)\n",
    "    norm = mpl.colors.BoundaryNorm(bounds, 256)\n",
    "    \n",
    "    # ac = mapview.plot_array(arr, vmin=0, vmax=90, cmap='gist_ncar_r')\n",
    "    ac = mapview.plot_array(arr, norm = norm, cmap = 'gist_ncar_r')\n",
    "    mapview.contour_array(arr, levels = np.arange(0, 100, 20), colors = 'k')\n",
    "    basic.set_bounds(ax, 'mirabel')\n",
    "    ax.set_title('Saturated Thickness')\n",
    "    plt.colorbar(ac, shrink = .5,ax = ax, label = 'feet')\n",
    "\n",
    "    ctx.add_basemap(ax,\n",
    "                    crs=2226,\n",
    "                    source=r\"C:\\GIS\\basemap\\SRP_hydro.tif\")\n",
    "\n",
    "    wt = flopy.utils.postprocessing.get_water_table(hds,nodata = -999)\n",
    "    wt = np.ma.array(wt, mask = ml.bas6.ibound.array[0] == 0)\n",
    "\n",
    "    mapview = flopy.plot.PlotMapView(ml, ax = axes[1])\n",
    "    bounds=np.arange(0,80,5)\n",
    "    norm = mpl.colors.BoundaryNorm(bounds, 256)\n",
    "    ac = mapview.plot_array(wt, norm = norm, cmap = 'rainbow_r')\n",
    "    mapview.contour_array(wt, levels = np.arange(0, 100, 20), colors = 'k')\n",
    "    basic.set_bounds(axes[1], 'mirabel')\n",
    "    axes[1].set_title('Watertable Elevation')\n",
    "    plt.colorbar(ac, shrink = .5,ax = axes[1], label = 'feet')\n",
    "    ctx.add_basemap(axes[1],\n",
    "                    crs=2226,\n",
    "                    source=r\"C:\\GIS\\basemap\\SRP_hydro.tif\")\n",
    "\n",
    "    [(swr_reaches.plot(ax = axi), sfr_reaches.plot(ax = axi), well.plot(ax = axi, facecolor = 'None')) for axi in axes]\n",
    "    \n",
    "    fig.suptitle(title)\n",
    "    \n",
    "plot_heads(hds, swr_reaches, sfr_reaches, ml, 'asdf')"
   ]
  },
  {
   "cell_type": "code",
   "execution_count": null,
   "id": "426c19e9-97b0-4016-9c07-c4850ec75b37",
   "metadata": {},
   "outputs": [],
   "source": []
  },
  {
   "cell_type": "code",
   "execution_count": null,
   "id": "23c3de62-b345-4608-9077-feaa549c6c1e",
   "metadata": {},
   "outputs": [],
   "source": [
    "fig, ax = plt.subplots( figsize = (8,5), subplot_kw=dict(projection=ccrs.epsg(2226)))\n",
    "\n",
    "mapview = flopy.plot.PlotMapView(ml, ax = ax)\n",
    "# arr = np.ma.array(ml.modelgrid.saturated_thick(hds[0][0]), mask = ml.bas6.ibound.array[0] == 0)\n",
    "sat = ml.modelgrid.saturated_thick(hds[0])\n",
    "sat = sat[0] + sat[1]\n",
    "arr = np.ma.array(sat, mask = ml.bas6.ibound.array[0] == 0)\n",
    "\n",
    "\n",
    "ac = mapview.plot_array(arr, vmin = 0, vmax = 100, cmap = 'BrBG')\n",
    "mapview.contour_array(arr, levels = np.arange(0, 100, 20), colors = 'k')\n",
    "basic.set_bounds(ax, 'mirabel')\n",
    "ax.set_title('Saturated Thickness')\n",
    "plt.colorbar(ac, shrink = .5)\n",
    "\n",
    "ctx.add_basemap(ax,\n",
    "                crs=2226,\n",
    "                source=r\"C:\\GIS\\basemap\\SRP_hydro.tif\")"
   ]
  },
  {
   "cell_type": "code",
   "execution_count": null,
   "id": "3e481555-d5b5-4c1a-84df-226491be8656",
   "metadata": {},
   "outputs": [],
   "source": [
    "ml.bas6.export(\"GIS\\ibound_update_2023.shp\")"
   ]
  },
  {
   "cell_type": "code",
   "execution_count": null,
   "id": "ab314aa5-b6f2-4a86-bf52-06c18ac3bb46",
   "metadata": {},
   "outputs": [],
   "source": [
    "flopy.utils.postprocessing.get_water_table(hds, nodata = [-999])"
   ]
  },
  {
   "cell_type": "code",
   "execution_count": null,
   "id": "1dcc0688-eca0-4899-a03d-c015de900776",
   "metadata": {},
   "outputs": [],
   "source": [
    "flopy.utils.postprocessing.get_transmissivities(hds[0],ml, sctop = 0)"
   ]
  },
  {
   "cell_type": "code",
   "execution_count": null,
   "id": "7842335c-67ad-409d-8094-1d42b607ab04",
   "metadata": {},
   "outputs": [],
   "source": [
    "fig, ax = plt.subplots( figsize = (5,5), subplot_kw=dict(projection=ccrs.epsg(2226)))\n",
    "\n",
    "mapview = flopy.plot.PlotMapView(ml, ax = ax)\n",
    "arr = np.ma.array(flopy.utils.postprocessing.get_transmissivities(hds[0],ml).sum(axis=0), mask = ml.bas6.ibound.array[0] == 0)\n",
    "\n",
    "basic.set_bounds(ax, 'mirabel')\n",
    "ac = mapview.plot_array(arr)\n",
    "plt.colorbar(ac)"
   ]
  },
  {
   "cell_type": "code",
   "execution_count": null,
   "id": "0bac1df0-1435-4506-9bd4-135c776025e3",
   "metadata": {},
   "outputs": [],
   "source": [
    "ml.dis.check()"
   ]
  },
  {
   "cell_type": "code",
   "execution_count": null,
   "id": "e02411af-ee00-4dc5-b35c-24bf29535ed7",
   "metadata": {},
   "outputs": [],
   "source": [
    "ml = basic.load_model()"
   ]
  }
 ],
 "metadata": {
  "kernelspec": {
   "display_name": "Python 3 (ipykernel)",
   "language": "python",
   "name": "python3"
  },
  "language_info": {
   "codemirror_mode": {
    "name": "ipython",
    "version": 3
   },
   "file_extension": ".py",
   "mimetype": "text/x-python",
   "name": "python",
   "nbconvert_exporter": "python",
   "pygments_lexer": "ipython3",
   "version": "3.9.16"
  }
 },
 "nbformat": 4,
 "nbformat_minor": 5
}
