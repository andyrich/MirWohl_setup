{
 "cells": [
  {
   "cell_type": "code",
   "execution_count": null,
   "id": "5f32aba1-6d97-4cf8-bae7-c769ed579690",
   "metadata": {},
   "outputs": [],
   "source": [
    "import flopy\n",
    "import os\n",
    "import geopandas as gpd\n",
    "\n",
    "import contextily as ctx\n",
    "import pandas as pd\n",
    "import numpy as np\n",
    "import sys\n",
    "import matplotlib as mpl\n",
    "import matplotlib.pyplot as plt\n",
    "import cartopy.crs as ccrs\n",
    "import conda_scripts.wiski as wiski\n",
    "import pathlib\n",
    "import basic\n",
    "import matplotlib.dates as mdates\n",
    "import conda_scripts.gwplot_fancy as gwp\n",
    "import conda_scripts "
   ]
  },
  {
   "cell_type": "code",
   "execution_count": null,
   "id": "b3f51666-08c5-4cd6-ab47-0d0c9acb4830",
   "metadata": {},
   "outputs": [],
   "source": [
    "info, swr_info, sfr_info, riv_keys_info = basic.load_params('June2016')\n",
    "\n",
    "datestart = info['start_date']\n",
    "\n",
    "name = info['name']\n",
    "\n",
    "out_folder = basic.out_folder('June2016')\n",
    "\n",
    "basic\n",
    "print(datestart)\n",
    "print(out_folder)"
   ]
  },
  {
   "cell_type": "code",
   "execution_count": null,
   "id": "49d102cb-11f2-4383-8d10-7d4881313f9d",
   "metadata": {},
   "outputs": [],
   "source": []
  },
  {
   "cell_type": "code",
   "execution_count": null,
   "id": "ddf79a13-5fae-4d4d-b591-420b1189dafe",
   "metadata": {},
   "outputs": [],
   "source": []
  },
  {
   "cell_type": "code",
   "execution_count": null,
   "id": "bd15f78b-1877-498a-aa63-2367a7b17602",
   "metadata": {},
   "outputs": [],
   "source": [
    "\n",
    "\n",
    "from flopy.utils.postprocessing import (\n",
    "    get_transmissivities,\n",
    "    get_water_table,\n",
    "    get_gradients,\n",
    ")\n",
    "import flopy.utils.binaryfile as bf\n",
    "\n",
    "print(sys.version)\n",
    "print(\"numpy version: {}\".format(np.__version__))\n",
    "print(\"matplotlib version: {}\".format(mpl.__version__))\n",
    "print(\"flopy version: {}\".format(flopy.__version__))"
   ]
  },
  {
   "cell_type": "code",
   "execution_count": null,
   "id": "ab30eac7-06ee-4deb-af00-67be022697c1",
   "metadata": {},
   "outputs": [],
   "source": [
    "ml = basic.load_model()"
   ]
  },
  {
   "cell_type": "code",
   "execution_count": null,
   "id": "3dc7ebe1-419d-4d2e-87c0-34ec859e5975",
   "metadata": {},
   "outputs": [],
   "source": [
    "import conda_scripts.utils as utils"
   ]
  },
  {
   "cell_type": "code",
   "execution_count": null,
   "id": "9f069cef-53ae-4178-93b2-3eac419190d2",
   "metadata": {},
   "outputs": [],
   "source": [
    "ibound = gpd.read_file(\"GIS/iboundlay1.shp\")\n",
    "ibound = ibound.query(\"ibound_1==1\")\n",
    "ibound.head(1)\n",
    "\n",
    "swr = gpd.read_file(\"GIS/SWR_Reaches.shp\")\n",
    "\n",
    "sfr = gpd.read_file('SFR_files/only_sfr_cells.shp')"
   ]
  },
  {
   "cell_type": "code",
   "execution_count": null,
   "id": "eaaee06a-87b5-499a-bef4-07d5486395f8",
   "metadata": {},
   "outputs": [],
   "source": [
    "def get_well_locations():\n",
    "    p = r\"T:\\smaples\\USGS-LBNL_WQ\\Wohler_MW_inventory\\Monitoring Wells Site Visit Notes - Wohler+Mirabel_car.xlsx\"\n",
    "    \n",
    "    t = pd.read_excel(p)\n",
    "    t = t.loc[t.loc[:,'Longitude (iphone gps)'].notnull(),:]\n",
    "    df = gpd.GeoDataFrame(t, geometry = gpd.points_from_xy(t.loc[:,'Longitude (iphone gps)'], t.loc[:,'Latitude (iphone gps)'], crs = 4326))\n",
    "    \n",
    "    df = df.to_crs(2226)\n",
    "    \n",
    "    return df\n",
    "\n",
    "def get_wiski():\n",
    "    # gw = wiski.wiski.get_gw_stations_in_basin(basins= ['LRR*'], final_only = False)\n",
    "\n",
    "    meta = wiski.wiski.get_gw_stations_wellmeta_in_basin(basins = ['LRR*'])\n",
    "    meta = meta.dropna(subset  = 'station_name')\n",
    "    meta = gpd.GeoDataFrame(meta, geometry = gpd.points_from_xy(meta.station_longitude, meta.station_latitude), crs  = 4326).to_crs(2226)\n",
    "    \n",
    "    return  meta\n",
    "\n"
   ]
  },
  {
   "cell_type": "code",
   "execution_count": null,
   "id": "a6a7ea25-a4ae-4873-8f6c-7f6aef50f9e2",
   "metadata": {},
   "outputs": [],
   "source": [
    "wiski_meta = get_wiski()\n",
    "\n",
    "wells = get_well_locations()\n",
    "\n"
   ]
  },
  {
   "cell_type": "code",
   "execution_count": null,
   "id": "929244e2-37fe-4a52-b221-ce96c9774aae",
   "metadata": {},
   "outputs": [],
   "source": []
  },
  {
   "cell_type": "code",
   "execution_count": null,
   "id": "08a70bc0-e571-456d-a898-47beb5ffc8f9",
   "metadata": {},
   "outputs": [],
   "source": [
    "wells_mod = pd.merge(wiski_meta, wells.loc[:,['Well Name', 'WISKI','Notes_SX', 'Notes_SRM', \n",
    "                  'USGS Map ID (https://pubs.usgs.gov/ds/610/pdf/ds610.pdf)','USGS NWIS ID',\n",
    "                 'WCR (Y/N)','Total completed depth (ft bgs)', 'Total depth (ft bgs)',\n",
    "                'Screened interval (ft bgs)', 'casing diameter (inches)',]] ,\n",
    "                     left_on = 'station_name', right_on = 'WISKI', how = 'inner')\n",
    "\n",
    "wells_mod = gpd.GeoDataFrame(wells_mod, geometry = gpd.points_from_xy(wells_mod.station_longitude, wells_mod.station_latitude), crs  = 4326).to_crs(2226)\n"
   ]
  },
  {
   "cell_type": "code",
   "execution_count": null,
   "id": "4832ff8e-743b-4c75-9883-4d62f7c392b8",
   "metadata": {
    "tags": []
   },
   "outputs": [],
   "source": [
    "import importlib"
   ]
  },
  {
   "cell_type": "code",
   "execution_count": null,
   "id": "23f8d833-4653-4d73-ba8a-e2502002d6d3",
   "metadata": {
    "tags": []
   },
   "outputs": [],
   "source": []
  },
  {
   "cell_type": "code",
   "execution_count": null,
   "id": "a4e6f06f-1793-4826-be72-3d210da624c9",
   "metadata": {
    "tags": []
   },
   "outputs": [],
   "source": [
    "importlib.reload(conda_scripts )"
   ]
  },
  {
   "cell_type": "code",
   "execution_count": null,
   "id": "5c6304a2-1634-4751-8206-b24269e4ea6c",
   "metadata": {
    "tags": []
   },
   "outputs": [],
   "source": []
  },
  {
   "cell_type": "code",
   "execution_count": null,
   "id": "52d3e2ff-c86e-48d7-a81f-3d05facf1950",
   "metadata": {
    "tags": []
   },
   "outputs": [],
   "source": []
  },
  {
   "cell_type": "code",
   "execution_count": null,
   "id": "27b90c08-c25b-43da-874e-f46c796da3b1",
   "metadata": {
    "tags": []
   },
   "outputs": [],
   "source": [
    "# mm = conda_scripts.gwplot_fancy.fancy_plot(row['Station name'])"
   ]
  },
  {
   "cell_type": "code",
   "execution_count": null,
   "id": "ad65529d-1595-4617-be8e-f2c7a1291077",
   "metadata": {
    "tags": []
   },
   "outputs": [],
   "source": []
  },
  {
   "cell_type": "code",
   "execution_count": null,
   "id": "ed6f7cd9-c23b-4c0d-b9b7-a06e08674399",
   "metadata": {
    "tags": []
   },
   "outputs": [],
   "source": [
    "# mm = conda_scripts.gwplot_fancy.fancy_plot('LRR0091')\n",
    "\n",
    "# mm.do_plot(close_plot=False)"
   ]
  },
  {
   "cell_type": "code",
   "execution_count": null,
   "id": "d03f9e3e-bb62-4f0a-8000-2077ea670c7d",
   "metadata": {
    "tags": []
   },
   "outputs": [],
   "source": [
    "# mm.do_plot()"
   ]
  },
  {
   "cell_type": "code",
   "execution_count": null,
   "id": "89a3aaf0-a4ef-4c1a-9310-507e65a22acc",
   "metadata": {},
   "outputs": [],
   "source": [
    "conda_scripts.arich_functions.add_basemaps()"
   ]
  },
  {
   "cell_type": "code",
   "execution_count": null,
   "id": "751f9f1b-f330-4435-91cd-03968afd4a5a",
   "metadata": {
    "tags": []
   },
   "outputs": [],
   "source": [
    "mm.t.gw_elev"
   ]
  },
  {
   "cell_type": "code",
   "execution_count": null,
   "id": "ed5a73c6-e8b0-4885-baa4-960b76fc7a4f",
   "metadata": {
    "tags": []
   },
   "outputs": [],
   "source": [
    "mm = conda_scripts.gwplot_fancy.fancy_plot('LRR0146')\n",
    "\n",
    "# mm.do_plot(close_plot=False, skip_gw_data= False,seasonal = False, remove_pt = True, hydro_plot_xlims = [2010, None],\n",
    "#            maptype =  'USA_Topo_Maps',y_axis_range_min = 80,\n",
    "#            map_buffer_size=6000)\n",
    "mm.do_plot(close_plot=False, skip_gw_data= False,seasonal = False, remove_pt = True, hydro_plot_xlims = [2010, None],\n",
    "           maptype =  'ctx.Esri.WorldImagery', y_axis_range_min = 80,\n",
    "           map_buffer_size=4000)"
   ]
  },
  {
   "cell_type": "code",
   "execution_count": null,
   "id": "a55e1d05-7361-4606-bfc6-2f0f7607206e",
   "metadata": {
    "tags": []
   },
   "outputs": [],
   "source": [
    "colors[1]"
   ]
  },
  {
   "cell_type": "code",
   "execution_count": null,
   "id": "5e414f03-eef1-4780-b281-9c32ab4d1e47",
   "metadata": {
    "tags": []
   },
   "outputs": [],
   "source": [
    "import matplotlib.pyplot as plt\n",
    "import numpy as np\n",
    "\n",
    "prop_cycle = plt.rcParams['axes.prop_cycle']\n",
    "colors = prop_cycle.by_key()['color']\n",
    "\n",
    "lwbase = plt.rcParams['lines.linewidth']\n",
    "thin = lwbase / 2\n",
    "thick = lwbase * 3\n",
    "\n",
    "fig, axs = plt.subplots(nrows=2, ncols=2, sharex=True, sharey=True)\n",
    "for icol in range(2):\n",
    "    if icol == 0:\n",
    "        lwx, lwy = thin, lwbase\n",
    "    else:\n",
    "        lwx, lwy = lwbase, thick\n",
    "    for irow in range(2):\n",
    "        for i, color in enumerate(colors):\n",
    "            axs[irow, icol].axhline(i, color=color, lw=lwx)\n",
    "            axs[irow, icol].axvline(i, color=color, lw=lwy)\n",
    "\n",
    "    axs[1, icol].set_facecolor('k')\n",
    "    axs[1, icol].xaxis.set_ticks(np.arange(0, 10, 2))\n",
    "    axs[0, icol].set_title(f'line widths (pts): {lwx:g}, {lwy:g}',\n",
    "                           fontsize='medium')\n",
    "\n",
    "for irow in range(2):\n",
    "    axs[irow, 0].yaxis.set_ticks(np.arange(0, 10, 2))\n",
    "\n",
    "fig.suptitle('Colors in the default prop_cycle', fontsize='large')\n",
    "\n",
    "plt.show()"
   ]
  },
  {
   "cell_type": "code",
   "execution_count": null,
   "id": "dde94de0-6623-4b3d-bd0c-ba1427e98aa1",
   "metadata": {
    "tags": []
   },
   "outputs": [],
   "source": [
    "k = conda_scripts.wiski.wiski.get_kiwis()"
   ]
  },
  {
   "cell_type": "code",
   "execution_count": null,
   "id": "e60ce71f-7473-439a-911a-d779a99cfc84",
   "metadata": {
    "tags": []
   },
   "outputs": [],
   "source": [
    "','.join(missing.loc[:,'Station name'].values)"
   ]
  },
  {
   "cell_type": "code",
   "execution_count": null,
   "id": "9137d715-7604-4eca-ac45-94571bf8332f",
   "metadata": {
    "tags": []
   },
   "outputs": [],
   "source": [
    "ts = k.get_timeseries_list(station_name = ','.join(missing.loc[:,'Station name'].values),\n",
    "return_fields = ['station_name','ts_id','ts_name','coverage'])"
   ]
  },
  {
   "cell_type": "code",
   "execution_count": null,
   "id": "d5fb201c-d574-4d9c-907f-928376ee3927",
   "metadata": {
    "tags": []
   },
   "outputs": [],
   "source": []
  },
  {
   "cell_type": "code",
   "execution_count": null,
   "id": "655007a1-e75b-4be6-86be-422486f848bb",
   "metadata": {
    "tags": []
   },
   "outputs": [],
   "source": [
    "not_in_model = ts.loc[pd.to_datetime(ts.to).notnull()]"
   ]
  },
  {
   "cell_type": "code",
   "execution_count": null,
   "id": "b1c27d4b-8884-4cc1-8531-2f1a706b1ebf",
   "metadata": {
    "tags": []
   },
   "outputs": [],
   "source": [
    "import geemap"
   ]
  },
  {
   "cell_type": "code",
   "execution_count": null,
   "id": "af9cbc8e-82c2-44cf-a953-8e17eb20a00d",
   "metadata": {
    "tags": []
   },
   "outputs": [],
   "source": [
    "geemap.geoda"
   ]
  },
  {
   "cell_type": "code",
   "execution_count": null,
   "id": "36201595-c506-42a1-a57e-2690d9b7da66",
   "metadata": {
    "tags": []
   },
   "outputs": [],
   "source": []
  },
  {
   "cell_type": "code",
   "execution_count": null,
   "id": "bf02d4b6-32b1-45fc-b484-96213ac0cfc7",
   "metadata": {
    "tags": []
   },
   "outputs": [],
   "source": [
    "gw = k.get_station_list(station_name ='LRR0*')\n",
    "gw = gw.loc[gw.station_name.isin(not_in_model.station_name)]\n",
    "\n",
    "gw = gpd.GeoDataFrame(gw, geometry = gpd.points_from_xy(gw.station_longitude, gw.station_latitude), crs = 4326)\n",
    "\n",
    "Map = geemap.Map(center=( 38.517, -122.882), zoom=14)\n",
    "Map.add_data(gw, 'station_name')\n",
    "Map.add_labels(geemap.geopandas_to_ee(gw),'station_name')\n",
    "Map.save('missing_wells.html')\n"
   ]
  },
  {
   "cell_type": "code",
   "execution_count": null,
   "id": "ed607a89-f7a0-4bbe-934a-03304b180c99",
   "metadata": {
    "tags": []
   },
   "outputs": [],
   "source": [
    "\n",
    "\n",
    "','.join(missing.loc[:,'Station name'].values)\n",
    "\n",
    "ts = k.get_timeseries_list(station_name = ','.join(missing.loc[:,'Station name'].values),\n",
    "return_fields = ['station_name','ts_id','ts_name','coverage'])\n",
    "\n"
   ]
  },
  {
   "cell_type": "markdown",
   "id": "b5037936-ec90-4348-8d74-29eca41a24ea",
   "metadata": {},
   "source": [
    "# here are all of the wells in mirabel wohler with any data"
   ]
  },
  {
   "cell_type": "code",
   "execution_count": null,
   "id": "e23a7d91-22dc-4034-85df-82236c4cb05c",
   "metadata": {
    "tags": []
   },
   "outputs": [],
   "source": [
    "f = \"Waterlevel_Data/Pressure_data_editing_2023/wiski_mirable_wohler_stations.csv\"\n",
    "\n",
    "f = pathlib.Path(f)\n",
    "\n",
    "wisk = pd.read_csv(f)\n",
    "k = conda_scripts.wiski.wiski.get_kiwis()\n",
    "ts = k.get_timeseries_list(station_name = ','.join(wisk.loc[:,'Station name'].values),\n",
    "return_fields = ['station_name','ts_id','ts_name','coverage'])\n",
    "\n",
    "\n",
    "mirabel_wohler_wells = ts.loc[pd.to_datetime(ts.loc[:,'from']).notnull()].drop_duplicates('station_name')"
   ]
  },
  {
   "cell_type": "code",
   "execution_count": null,
   "id": "9738fc44-ac15-47f9-a8db-ecaadb9c4051",
   "metadata": {
    "tags": []
   },
   "outputs": [],
   "source": [
    "ts = k.get_timeseries_list(station_name = ','.join(wisk.loc[:,'Station name'].values),\n",
    "return_fields = ['station_name','ts_id','ts_name','coverage'])"
   ]
  },
  {
   "cell_type": "code",
   "execution_count": null,
   "id": "5db3fe1b-31e7-41d7-8e8c-86f63009327b",
   "metadata": {
    "tags": []
   },
   "outputs": [],
   "source": [
    "ts.query(\"ts_name=='04.Calculated Head Offset Edited'\")"
   ]
  },
  {
   "cell_type": "code",
   "execution_count": null,
   "id": "9d0eae1c-0ae7-48be-9009-b4be67d1b2ce",
   "metadata": {
    "tags": []
   },
   "outputs": [],
   "source": [
    "ts.ts_name.unique()"
   ]
  },
  {
   "cell_type": "code",
   "execution_count": null,
   "id": "a67cd822-ebd1-47e8-9668-1e78d1b8c4ed",
   "metadata": {
    "tags": []
   },
   "outputs": [],
   "source": [
    "mm.t.gw_elev"
   ]
  },
  {
   "cell_type": "code",
   "execution_count": null,
   "id": "d932bc4c-c626-4c6d-909e-239203cf6f24",
   "metadata": {
    "tags": []
   },
   "outputs": [],
   "source": [
    "conda_scripts.arich_functions.add_basemaps(None, 'ctx', True)"
   ]
  },
  {
   "cell_type": "markdown",
   "id": "c44fa8c9-6082-4670-8cc6-c6f45e743587",
   "metadata": {
    "tags": []
   },
   "source": [
    "# these are all of the stations found in wiski in the geographic area"
   ]
  },
  {
   "cell_type": "code",
   "execution_count": null,
   "id": "eb338f3d-71fc-49a1-8266-ee01b18df656",
   "metadata": {
    "tags": []
   },
   "outputs": [],
   "source": []
  },
  {
   "cell_type": "code",
   "execution_count": null,
   "id": "c5166b21-23f1-4079-bd5f-0e28074ea75b",
   "metadata": {
    "tags": []
   },
   "outputs": [],
   "source": [
    "\n",
    "all_meas.set_index('Station_Name', append = True).drop(columns = 'Source').groupby(level = [0,1]).mean().unstack().resample('1D').mean().droplevel(0,1).plot()\n"
   ]
  },
  {
   "cell_type": "code",
   "execution_count": null,
   "id": "5ea99347-cc6e-4746-a3ee-b44984ee2a92",
   "metadata": {
    "tags": []
   },
   "outputs": [],
   "source": [
    "f = \"Waterlevel_Data/Pressure_data_editing_2023/wiski_mirable_wohler_stations.csv\"\n",
    "\n",
    "f = pathlib.Path(f)\n"
   ]
  },
  {
   "cell_type": "code",
   "execution_count": null,
   "id": "64121d4b-e2ac-418c-8a59-6dfa80a124ea",
   "metadata": {
    "tags": []
   },
   "outputs": [],
   "source": [
    "caissons = pd.DataFrame([f\"LRR0{n}\" for n in range(225,231)], columns = ['station_name'])\n",
    "all_wells = pd.concat([mirabel_wohler_wells,caissons])\n",
    "all_wells.head()"
   ]
  },
  {
   "cell_type": "code",
   "execution_count": null,
   "id": "87609613-61f8-455e-8840-9e806c1f7355",
   "metadata": {
    "tags": []
   },
   "outputs": [],
   "source": [
    "import warnings\n",
    "warnings.filterwarnings(\"ignore\", category=DeprecationWarning) \n",
    "warnings.filterwarnings(\"ignore\", category=FutureWarning) "
   ]
  },
  {
   "cell_type": "code",
   "execution_count": null,
   "id": "a01584f7-0023-45a4-858d-1b4cca2d508c",
   "metadata": {
    "tags": []
   },
   "outputs": [],
   "source": [
    "all_meas.drop(columns = 1)"
   ]
  },
  {
   "cell_type": "code",
   "execution_count": null,
   "id": "85b2f92a-d0d2-4f6a-a00e-bf7a48a78782",
   "metadata": {
    "tags": []
   },
   "outputs": [],
   "source": [
    "all_meas.drop(columns = 1).set_index(['Station_Name','Source'], append = True).groupby([\n",
    "                                                                                       pd.Grouper(level = 1),\n",
    "    pd.Grouper(freq = '1D', level = 0),\n",
    "                                                                                       pd.Grouper(level = 2)]).mean().unstack([0,2]).droplevel(0,1)"
   ]
  },
  {
   "cell_type": "code",
   "execution_count": null,
   "id": "09c1eb3d-0f71-4136-aa64-7adfb3cf97fa",
   "metadata": {
    "tags": []
   },
   "outputs": [],
   "source": []
  },
  {
   "cell_type": "code",
   "execution_count": null,
   "id": "1becce17-fce4-4aad-a3fd-e54585b31b49",
   "metadata": {
    "tags": []
   },
   "outputs": [],
   "source": []
  },
  {
   "cell_type": "code",
   "execution_count": null,
   "id": "8ed00709-9bac-402b-bcd3-d885881e445e",
   "metadata": {
    "tags": []
   },
   "outputs": [],
   "source": []
  },
  {
   "cell_type": "code",
   "execution_count": null,
   "id": "2041de29-40c5-4b9f-b24d-06d1aa959771",
   "metadata": {
    "tags": []
   },
   "outputs": [],
   "source": [
    "all_meas.to_csv('C:\\modeling\\MirabelWohler\\Waterlevel_Data\\mirabel_wohler_allGW_meas.csv', index = True)"
   ]
  },
  {
   "cell_type": "code",
   "execution_count": null,
   "id": "ec5506b5-7ecc-4a01-9bd7-27c752e34d00",
   "metadata": {
    "tags": []
   },
   "outputs": [],
   "source": [
    "all_meas = pd.DataFrame()\n",
    "cnt = 0\n",
    "# for _,row in mirabel_wohler_wells.iterrows():\n",
    "for _,row in all_wells.iterrows():\n",
    "\n",
    "    filename = f.parent.joinpath(row['station_name']+'.png' )\n",
    "    print(filename)\n",
    "    \n",
    "    mm = conda_scripts.gwplot_fancy.fancy_plot(row['station_name'], filename = filename)\n",
    "    \n",
    "\n",
    "    mm.do_plot(close_plot=True, skip_gw_data= False,seasonal = False, \n",
    "               remove_pt = True, hydro_plot_xlims = [2010, None],\n",
    "           maptype =  'ctx.Esri.WorldImagery', y_axis_range_min = 80,\n",
    "           map_buffer_size=4000, plot_nearby=False)\n",
    "    \n",
    "    pres = pd.DataFrame(columns = [1])\n",
    "    man = pd.DataFrame(columns = [1])\n",
    "    \n",
    "    if mm.t.pressure_trans is not None:\n",
    "        pres = mm.t.pressure_trans\n",
    "        pres.columns = ['Value']\n",
    "        pres.loc[:,'Station_Name'] = row['station_name']\n",
    "        pres.loc[:,'Source'] = 'Pressure Transducer'\n",
    "\n",
    "    \n",
    "    if mm.t.manual_meas is not None:\n",
    "        man = mm.t.manual_meas\n",
    "        man.columns = ['Value']\n",
    "        man.loc[:,'Station_Name'] = row['station_name']\n",
    "        man.loc[:,'Source'] = 'Manual Measurement'\n",
    "    \n",
    "    all_meas = pd.concat([all_meas, man, pres])\n",
    "    \n",
    "\n",
    "out_df = all_meas.drop(columns = 1).set_index(['Station_Name','Source'], append = True).groupby([\n",
    "                                                                                       pd.Grouper(level = 1),\n",
    "    pd.Grouper(freq = '1D', level = 0),\n",
    "                                                                                       pd.Grouper(level = 2)]).mean().unstack([0,2]).droplevel(0,1)\n",
    "out_df = out_df.sort_index()\n",
    "\n",
    "out_df.to_csv('C:\\modeling\\MirabelWohler\\Waterlevel_Data\\mirabel_wohler_allGW_meas.csv', index = True)"
   ]
  },
  {
   "cell_type": "code",
   "execution_count": null,
   "id": "cd0706c4-f5d3-4598-9549-ab8cbdf61679",
   "metadata": {
    "tags": []
   },
   "outputs": [],
   "source": [
    "import seaborn as sns"
   ]
  },
  {
   "cell_type": "code",
   "execution_count": null,
   "id": "6a4c8aee-a2a3-4b06-b2f9-0d0543f3f0b8",
   "metadata": {
    "tags": []
   },
   "outputs": [],
   "source": [
    "lon = k.get_station_list(station_name = 'LRR*', return_fields = [ 'station_name','station_longitude','station_latitude','station_no'])"
   ]
  },
  {
   "cell_type": "code",
   "execution_count": null,
   "id": "283cdf05-85c5-4fde-bd26-5c3df4c83255",
   "metadata": {
    "tags": []
   },
   "outputs": [],
   "source": [
    "out_df.columns.get_level_values(0)"
   ]
  },
  {
   "cell_type": "code",
   "execution_count": null,
   "id": "1c47a49a-6abb-4ee1-9913-d6af36c79b1c",
   "metadata": {
    "tags": []
   },
   "outputs": [],
   "source": [
    "from conda_scripts import arich_functions as af"
   ]
  },
  {
   "cell_type": "code",
   "execution_count": null,
   "id": "033bb92a-3416-4d24-a8ba-aa8cdcc7f52f",
   "metadata": {
    "tags": []
   },
   "outputs": [],
   "source": [
    "mmkp = conda_scripts.make_map.make_map(\"Locs\")\n",
    "mmkp.plotloc()"
   ]
  },
  {
   "cell_type": "code",
   "execution_count": null,
   "id": "f7c845ca-2fe4-4652-9557-d369d1a296fc",
   "metadata": {
    "tags": []
   },
   "outputs": [],
   "source": [
    "stat = gpd.GeoDataFrame(lon, geometry = gpd.points_from_xy(lon.station_longitude, lon.station_latitude),crs= 4326)\n",
    "stat = stat.loc[stat.station_name.isin(out_df.columns.get_level_values(0))]\n",
    "\n"
   ]
  },
  {
   "cell_type": "code",
   "execution_count": null,
   "id": "bcd25626-0a77-4630-9449-4b442bfe22f0",
   "metadata": {
    "tags": []
   },
   "outputs": [],
   "source": [
    "daily = out_df.stack([0,1]).groupby(level = [0,1]).mean().unstack().T\n",
    "\n",
    "daily = pd.merge(daily, lon, left_index = True, right_on = 'station_name')\n",
    "daily = daily.sort_values('station_longitude').drop(columns = ['station_longitude','station_name','station_latitude'])\n",
    "daily = daily.set_index('station_no')\n",
    "\n",
    "daily = daily.drop('Caisson1')\n",
    "fig, ax = plt.subplots(figsize= (20,20))\n",
    "\n",
    "daily =daily.T\n",
    "daily.index = pd.to_datetime(daily.index)\n",
    "daily.index = daily.index.strftime('%b-%Y')\n",
    "\n",
    "daily = daily.T\n",
    "\n",
    "daily = daily.loc[daily.count(axis=1)>365,:]\n",
    "sns.heatmap(daily, ax = ax,cmap = 'gist_ncar',vmax = 70, vmin = -30)\n",
    "ax.set_facecolor('grey')\n",
    "# plt.savefig('Waterlevel_Data/all_wl.png', bbox_inches= 'tight')\n",
    "# import matplotlib.dates as mdates\n",
    "# myFmt = mdates.DateFormatter('%b-%Y')\n",
    "# ax.xaxis.set_major_formatter(myFmt)\n",
    "# ax.xaxis.set_major_locator(mdates.)\n",
    "# ax.set_xticklabels(daily.index.strftime('%d-%m-%Y'))"
   ]
  },
  {
   "cell_type": "code",
   "execution_count": null,
   "id": "58b261a4-7ffb-46d8-84ca-b21ef45f693e",
   "metadata": {},
   "outputs": [],
   "source": [
    "dfall = pd.read_csv('C:\\modeling\\MirabelWohler\\Waterlevel_Data\\mirabel_wohler_allGW_meas.csv',header = [0,1],index_col=[0],parse_dates=True)\n",
    "dfall.stack().groupby(level = 0).mean()"
   ]
  },
  {
   "cell_type": "code",
   "execution_count": null,
   "id": "3c031459-024f-44bf-9200-7f21e33d4afb",
   "metadata": {
    "tags": []
   },
   "outputs": [],
   "source": [
    "# # these are all of the stations found in wiski in the geographic area\n",
    "\n",
    "\n",
    "\n",
    "# f = pathlib.Path(f)\n",
    "\n",
    "# wisk = pd.read_csv(f)\n",
    "\n",
    "\n",
    "# # missing = wells_mod.loc[~wells_mod.station_name.isin(wisk.loc[:,'Station name'])]\n",
    "\n",
    "# missing = wisk.loc[~wisk.loc[:,'Station name'].isin(wells_mod.station_name)]\n",
    "\n",
    "\n",
    "# for _,row in missing.iterrows():\n",
    "#     filename = f.parent.joinpath(row['Station name']+'.png' )\n",
    "#     print(filename)\n",
    "#     mm = conda_scripts.gwplot_fancy.fancy_plot(row['Station name'], filename = filename)\n",
    "#     mm.do_plot(close_plot=True,skip_gw_data = False, remove_pt = True, seasonal = False, map_buffer_size = 2000)\n",
    "    \n",
    "#     # mm.t.get_station_pars()\n",
    "#     # mm.t.check_if_no_gw_data()\n",
    "#     # if mm.t.gw_data_empty:\n",
    "#     #     # if mm.t.gw_elev.shape[0]==0:\n",
    "#     #     #     print(f\"skipping {row['Station name']}\")\n",
    "#     #     mm.do_plot(close_plot=False,skip_gw_data = True)\n",
    "#     # else:\n",
    "#     #     mm.do_plot(close_plot=False,skip_gw_data = False)\n",
    "#     #     # try:\n",
    "#     #     #     mm.do_plot(close_plot=False,skip_gw_data = False)\n",
    "#     #     # except:\n",
    "#     #     #     print(f\"failed {row['Station name']}\")"
   ]
  },
  {
   "cell_type": "markdown",
   "id": "f8a43a37-206a-4f79-9fca-186c5d5e9078",
   "metadata": {},
   "source": [
    "# these are the caissons"
   ]
  },
  {
   "cell_type": "code",
   "execution_count": null,
   "id": "239c9318-e4ca-44fd-8ae7-8ae20816b827",
   "metadata": {
    "tags": []
   },
   "outputs": [],
   "source": [
    "import conda_scripts.gwplot_wiski as gw_plot"
   ]
  },
  {
   "cell_type": "code",
   "execution_count": null,
   "id": "654a06b0-6eef-40c7-94fa-62a1efd54adf",
   "metadata": {
    "tags": []
   },
   "outputs": [],
   "source": [
    "k = conda_scripts.wiski.wiski.get_kiwis()"
   ]
  },
  {
   "cell_type": "code",
   "execution_count": null,
   "id": "299dfb59-a139-4bb6-b87a-be0e90740753",
   "metadata": {
    "tags": []
   },
   "outputs": [],
   "source": []
  },
  {
   "cell_type": "code",
   "execution_count": null,
   "id": "b32f20a5-46a2-47da-9ada-3bb8ceecc48b",
   "metadata": {
    "tags": []
   },
   "outputs": [],
   "source": []
  },
  {
   "cell_type": "code",
   "execution_count": null,
   "id": "e010f01a-678c-45f3-ae99-fa8db00ed124",
   "metadata": {
    "tags": []
   },
   "outputs": [],
   "source": []
  },
  {
   "cell_type": "code",
   "execution_count": null,
   "id": "4a9bf7da-c207-498d-897b-6fc04bed43d7",
   "metadata": {
    "tags": []
   },
   "outputs": [],
   "source": []
  },
  {
   "cell_type": "code",
   "execution_count": null,
   "id": "a4ce9094-e1da-4c38-af08-4e7a27eabe8e",
   "metadata": {
    "tags": []
   },
   "outputs": [],
   "source": []
  },
  {
   "cell_type": "code",
   "execution_count": null,
   "id": "396ab0ba-5b10-46a4-a5ad-38179038d47e",
   "metadata": {
    "tags": []
   },
   "outputs": [],
   "source": [
    "mm.t.pressure_trans"
   ]
  },
  {
   "cell_type": "code",
   "execution_count": null,
   "id": "32ca965b-050b-461f-bcce-9d196b866dbe",
   "metadata": {
    "tags": []
   },
   "outputs": [],
   "source": [
    "pd.DataFrame(np.random.random((10,10))).plot(style = 's',color = 'r', markerfacecolor = 'g')"
   ]
  },
  {
   "cell_type": "code",
   "execution_count": null,
   "id": "8b9d85f6-b850-494a-bfba-4d61a95a2316",
   "metadata": {
    "tags": []
   },
   "outputs": [],
   "source": [
    "caissons = pd.DataFrame([f\"LRR0{n}\" for n in range(225,231)], columns = ['station_name'])"
   ]
  },
  {
   "cell_type": "code",
   "execution_count": null,
   "id": "4835bc7a-c8dc-45aa-b743-fea8425be29d",
   "metadata": {
    "tags": []
   },
   "outputs": [],
   "source": [
    "for _,row in caissons.sort_values('station_name',ascending = False).iterrows():\n",
    "    filename = f.parent.joinpath(row['station_name']+'.png' )\n",
    "    print(filename)\n",
    "    \n",
    "    gw_elev = gw_plot.wiski_plot(row['station_name'])\n",
    "    gw_elev.get_station_pars()\n",
    "    gw_elev = gw_elev.gw_elev\n",
    "    gw_elev = gw_elev.query(\"ts_name=='03.FinalElevation'\")\n",
    "    print(gw_elev)\n",
    "\n",
    "    mm = conda_scripts.gwplot_fancy.fancy_plot(row['station_name'], filename = filename,group=gw_elev)\n",
    "    \n",
    "\n",
    "    mm.do_plot(close_plot=True, skip_gw_data= False,seasonal = False, remove_pt = True, hydro_plot_xlims = [2010, None],\n",
    "           maptype =  'ctx.Esri.WorldImagery', y_axis_range_min = 80,\n",
    "           map_buffer_size=4000, plot_nearby=False)\n"
   ]
  },
  {
   "cell_type": "code",
   "execution_count": null,
   "id": "7039c49e-e626-408a-a861-59e63de4a856",
   "metadata": {
    "tags": []
   },
   "outputs": [],
   "source": [
    "[ymin, ymax] == None"
   ]
  },
  {
   "cell_type": "code",
   "execution_count": null,
   "id": "c06468ad-7f0b-4703-998a-43fa8eaf3819",
   "metadata": {
    "tags": []
   },
   "outputs": [],
   "source": [
    "ymin = 110\n",
    "ymax = 151\n",
    "ymin = np.floor(ymin/10)*10\n",
    "ymax = np.ceil(ymax / 10) * 10\n",
    "\n",
    "print(ymin, ymax)"
   ]
  },
  {
   "cell_type": "code",
   "execution_count": null,
   "id": "45315a01-1b6f-453d-a65a-7113f1b7fafb",
   "metadata": {
    "tags": []
   },
   "outputs": [],
   "source": [
    "meta"
   ]
  },
  {
   "cell_type": "code",
   "execution_count": null,
   "id": "ae14dee8-54c6-4f7c-94d1-5ffae156b8c9",
   "metadata": {},
   "outputs": [],
   "source": [
    "wells_mod.to_html(os.path.join(out_folder,'observation_wells.html'))"
   ]
  },
  {
   "cell_type": "code",
   "execution_count": null,
   "id": "1ef84b94-2698-4ae9-8d41-96c83328311c",
   "metadata": {},
   "outputs": [],
   "source": [
    "\n",
    "\n",
    "grid = flopy.utils.gridintersect.GridIntersect(ml.modelgrid)\n",
    "\n",
    "inx = [grid.intersect(x, shapetype = 'point').cellids for x in wells_mod.geometry.tolist() ]\n",
    "r = [x[0][0] if len(x)>0 else np.nan for x in inx]\n",
    "c = [x[0][1] if len(x)>0 else np.nan for x in inx]\n",
    "inside = [True if len(x)>0 else False for x in inx]\n",
    "\n",
    "wells_mod.loc[:,'i_r'] = r\n",
    "wells_mod.loc[:,'j_c'] = c\n",
    "wells_mod.loc[:,'inmodearea'] = inside\n",
    "\n",
    "wells_mod.columns"
   ]
  },
  {
   "cell_type": "code",
   "execution_count": null,
   "id": "d4ab413b-479b-4b4c-ad44-26698267563b",
   "metadata": {},
   "outputs": [],
   "source": [
    "x = \"\"\"<div class=\"gallery\">\n",
    "  <a target=\"_blank\" href=\"hydrographs/{:}\">\n",
    "    <img src=\"hydrographs/{:}\" alt=\"{:}\" width=\"600\" height=\"400\">\n",
    "  </a>\n",
    "  <div class=\"desc\">{:}</div>\n",
    "</div>\"\"\".format\n",
    "f = os.listdir(os.path.join(out_folder,'hydrographs'))\n",
    "\n",
    "[print(x(i, i, i.strip('.png'),  i.strip('.png'))) for i in f]"
   ]
  },
  {
   "cell_type": "code",
   "execution_count": null,
   "id": "ccea340e-d2cc-40c1-b613-ef475b14af61",
   "metadata": {},
   "outputs": [],
   "source": []
  },
  {
   "cell_type": "code",
   "execution_count": null,
   "id": "e100946c-086f-488e-a795-7c617be70e05",
   "metadata": {},
   "outputs": [],
   "source": [
    "wells_mod.to_file(\"GIS/wells_mod.geojson\")\n",
    "wells_mod.to_file(\"GIS/wells_mod.shp\")"
   ]
  },
  {
   "cell_type": "code",
   "execution_count": null,
   "id": "91b7066d-81d7-4acc-ad2b-52403b90a6e9",
   "metadata": {},
   "outputs": [],
   "source": [
    "gpd.read_file(\"GIS/wells_mod.geojson\")"
   ]
  },
  {
   "cell_type": "code",
   "execution_count": null,
   "id": "0aad84d3-0ec3-4352-a17d-87d924695a58",
   "metadata": {},
   "outputs": [],
   "source": [
    "wells_mod.filter(regex = 'geom|Web_Station_Name|_r|_c')"
   ]
  },
  {
   "cell_type": "code",
   "execution_count": null,
   "id": "49403092-0be4-4b7d-85d3-8ba5d5a82fe8",
   "metadata": {},
   "outputs": [],
   "source": [
    "import conda_scripts.arich_functions as af"
   ]
  },
  {
   "cell_type": "code",
   "execution_count": null,
   "id": "2321d770-4ea0-4719-b449-70a9c96df91a",
   "metadata": {},
   "outputs": [],
   "source": []
  },
  {
   "cell_type": "code",
   "execution_count": null,
   "id": "0aba9f8b-bc40-45ae-888c-0ec613f07b7a",
   "metadata": {},
   "outputs": [],
   "source": [
    "\n",
    "\n",
    "m = wells_mod.filter(regex = 'geom|Name|_r|_c').explore( marker_kwds = {'radius':5, 'color':'black'}, name = 'Monitoring Wells Sites Visit Notes')\n",
    "\n",
    "ibound.explore(m = m, style_kwds = {'weight':1,'fill':False}, name = 'Model Boundary')\n",
    "swr.explore(m = m, style_kwds = {'weight':3,'fill':True, 'color':'green'}, name = \"SWR Cells\")\n",
    "sfr.explore(m = m, style_kwds = {'weight':3,'fill':True, 'color':'grey'}, name = 'SFR Cells')\n",
    "\n",
    "\n",
    "# wiski_meta.explore( marker_kwds = {'radius':5, 'color':'cyan'}, m = m, name = 'Wiski Wells')\n",
    "utils.folium_maps.add_layers(m)\n",
    "m.save(os.path.join(out_folder, 'wells.html'))\n",
    "m\n"
   ]
  },
  {
   "cell_type": "code",
   "execution_count": null,
   "id": "08e8c59c-e5bf-4e91-9b5b-f9a85bb25397",
   "metadata": {},
   "outputs": [],
   "source": [
    "\n"
   ]
  },
  {
   "cell_type": "code",
   "execution_count": null,
   "id": "79f74a60-24dd-4aa9-87ad-2dcf8388ec9b",
   "metadata": {},
   "outputs": [],
   "source": []
  },
  {
   "cell_type": "code",
   "execution_count": null,
   "id": "dcec0efe-6ba0-440b-a553-4d02d9a2d23a",
   "metadata": {},
   "outputs": [],
   "source": []
  },
  {
   "cell_type": "code",
   "execution_count": null,
   "id": "5f7868d2-493e-4c98-8ae6-7745788328f9",
   "metadata": {},
   "outputs": [],
   "source": []
  },
  {
   "cell_type": "code",
   "execution_count": null,
   "id": "e6cc3b78-6d6c-427e-9ed1-105f8c8e0ee7",
   "metadata": {},
   "outputs": [],
   "source": []
  },
  {
   "cell_type": "code",
   "execution_count": null,
   "id": "ec815bb1-2579-4dca-8b05-cefa41f01903",
   "metadata": {},
   "outputs": [],
   "source": []
  },
  {
   "cell_type": "code",
   "execution_count": null,
   "id": "72992b2d-ba8e-4b2d-8697-e36c7acaed08",
   "metadata": {},
   "outputs": [],
   "source": [
    "\n",
    "def get_ts(idx, datestart):\n",
    "    ts = hdsobj.get_ts(idx)\n",
    "    \n",
    "    df = pd.DataFrame(ts[:,1], columns = [ 'Simulated'])\n",
    "    \n",
    "    df = df.set_index(pd.to_datetime(datestart)+ pd.to_timedelta(ts[:,0], unit = 's'))\n",
    "    \n",
    "    \n",
    "    return df\n",
    "\n",
    "def load_obs(name, datestart = None, end_time = None):\n",
    "    \n",
    "    \n",
    "    fold = r\"T:\\arich\\Russian_River\\MirabelWohler_2022\\Waterlevel_Data\\MWs_Caissons - AvailableDailyAverages\\DailyData\\MonitoringWells\"\n",
    "    \n",
    "    path = pathlib.Path(fold).joinpath(name.replace(' ','').replace('-','_')+'.csv')\n",
    "    \n",
    "    if path.exists():\n",
    "        print(f\"----------\\path does exist:\\n{path.name}\")\n",
    "        stg = pd.read_csv(path, parse_dates=[0])\n",
    "        stg = stg.set_index(stg.columns[0])\n",
    "        stg = stg.resample('1D').mean()\n",
    "        \n",
    "        if datestart is not None:\n",
    "            stg = stg.loc[datestart:,:].iloc[:109]\n",
    "    \n",
    "        \n",
    "    else:\n",
    "        print(f\"path does not exist:\\n{path}\")\n",
    "        stg = pd.DataFrame()\n",
    "    \n",
    "    return stg\n",
    "    "
   ]
  },
  {
   "cell_type": "code",
   "execution_count": null,
   "id": "1ccbc7bc-2f9b-42e5-a910-16d5e96f2a45",
   "metadata": {},
   "outputs": [],
   "source": []
  },
  {
   "cell_type": "code",
   "execution_count": null,
   "id": "aca07a3f-0d7f-4249-883c-edb186a38b30",
   "metadata": {},
   "outputs": [],
   "source": []
  },
  {
   "cell_type": "code",
   "execution_count": null,
   "id": "8d63239e-df53-4bc6-9faa-b5cf59f44567",
   "metadata": {},
   "outputs": [],
   "source": []
  },
  {
   "cell_type": "code",
   "execution_count": null,
   "id": "51e6a8cc-7293-4910-90ed-02eb3b7a67d1",
   "metadata": {},
   "outputs": [],
   "source": [
    "wells_mod"
   ]
  },
  {
   "cell_type": "code",
   "execution_count": null,
   "id": "72ffd5ac-8f48-4d7d-93d0-be6fb217c5ca",
   "metadata": {},
   "outputs": [],
   "source": []
  },
  {
   "cell_type": "code",
   "execution_count": null,
   "id": "06d160c8-1e94-40e0-80e5-1d4348a22974",
   "metadata": {},
   "outputs": [],
   "source": []
  },
  {
   "cell_type": "code",
   "execution_count": null,
   "id": "757ea1fb-09fe-4016-bb74-976588fe9f41",
   "metadata": {
    "tags": []
   },
   "outputs": [],
   "source": [
    "\n",
    "\n",
    "hds, hdsobj = basic.get_heads(ml)\n",
    "\n",
    "partics = os.path.join(out_folder,'hydrographs')\n",
    "for _,  wel in wells_mod.iterrows():\n",
    "    \n",
    "    idx = (0, wel.loc['i_r'], wel.loc['j_c'])\n",
    "    head = get_ts(idx, datestart)\n",
    "    obs = load_obs(wel.loc['Well Name'], datestart,1)\n",
    "    \n",
    "    if obs.shape[0]==0:\n",
    "        skip_gw_data = False\n",
    "    else:\n",
    "        skip_gw_data = True\n",
    "    \n",
    "    f = wel['station_no']\n",
    "    station_name = wel['station_name']\n",
    "    filename=os.path.join(partics,f'{f}.png')\n",
    "    # if not os.path.exists(filename):\n",
    "    nwp = gwp.fancy_plot(station_name,group = None, \n",
    "                         filename=os.path.join(partics,f'{f}.png'),\n",
    "                         allinfo=None,do_regress=False)\n",
    "\n",
    "    nwp.do_plot(False, skip_gw_data=skip_gw_data, map_buffer_size = 2500, seasonal = False, plot_dry = False, plot_wet = False,\n",
    "              maptype =  'USA_Topo_Maps')\n",
    "    \n",
    "\n",
    "\n",
    "    head.plot(ax = nwp.upleft)\n",
    "    minya, maxya = head.loc[:,'Simulated'].min(), head.loc[:,'Simulated'].max()\n",
    "    nwp.upleft.set_ylim([minya-10, maxya+10])\n",
    "    if obs.shape[0]>1:\n",
    "        obs.rename(columns = {'Value':'Observed'}).plot(ax = nwp.upleft)\n",
    "        miny, maxy = obs.loc[:,'Value'].min(), obs.loc[:,'Value'].max()\n",
    "        nwp.upleft.set_ylim([np.nanmin([miny,minya])-10, np.nanmax([maxy,maxya])+10])\n",
    "        \n",
    "    if not skip_gw_data:\n",
    "        \n",
    "        nwp.upleft.set_xlim(left = head.index.min()-pd.to_timedelta('1 w'), right = head.index.max()+pd.to_timedelta('1 w'))\n",
    "        \n",
    "    nwp.upleft.xaxis.set_major_locator(mdates.AutoDateLocator())\n",
    "    nwp.upleft.xaxis.set_minor_locator(mdates.DayLocator())\n",
    "    nwp.upleft.xaxis.set_major_formatter(\n",
    "                mdates.ConciseDateFormatter(nwp.upleft.xaxis.get_major_locator()))\n",
    "        \n",
    "        \n",
    "    plt.savefig(filename,dpi = 250, bbox_inches ='tight')\n",
    "\n",
    "    "
   ]
  },
  {
   "cell_type": "code",
   "execution_count": null,
   "id": "67c431fb-b271-4033-9178-fc86e46132f5",
   "metadata": {},
   "outputs": [],
   "source": [
    "# for _,    wel in wells_mod.iterrows():\n",
    "\n",
    "#     idx = (0, wel.loc['i_r'], wel.loc['j_c'])\n",
    "#     head = get_ts(idx, datestart)\n",
    "#     obs = load_obs(wel.loc['Well Name'], datestart,1)\n",
    "#     ax = head.plot()\n",
    "#     if obs.shape[0]>1:\n",
    "#         ax = obs.rename(columns = {'Value':'Observed'}).plot(ax = ax)"
   ]
  },
  {
   "cell_type": "code",
   "execution_count": null,
   "id": "c6ad7c15-eca2-4a42-8656-d3b6b2affc50",
   "metadata": {},
   "outputs": [],
   "source": []
  },
  {
   "cell_type": "code",
   "execution_count": null,
   "id": "a9f49e39-b64a-40c5-9b61-0c90af778fd8",
   "metadata": {},
   "outputs": [],
   "source": []
  }
 ],
 "metadata": {
  "kernelspec": {
   "display_name": "Python 3 (ipykernel)",
   "language": "python",
   "name": "python3"
  },
  "language_info": {
   "codemirror_mode": {
    "name": "ipython",
    "version": 3
   },
   "file_extension": ".py",
   "mimetype": "text/x-python",
   "name": "python",
   "nbconvert_exporter": "python",
   "pygments_lexer": "ipython3",
   "version": "3.9.16"
  }
 },
 "nbformat": 4,
 "nbformat_minor": 5
}
