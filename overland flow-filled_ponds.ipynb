{
 "cells": [
  {
   "cell_type": "code",
   "execution_count": null,
   "id": "08b2052c-7d48-4051-a5c5-ac3d8fa5de9b",
   "metadata": {},
   "outputs": [],
   "source": [
    "import flopy\n",
    "import os\n",
    "import geopandas as gpd\n",
    "import matplotlib.patches as mpatches\n",
    "import matplotlib.pyplot as plt\n",
    "import geopandas as gpd\n",
    "import basic\n",
    "import contextily as ctx\n",
    "import pandas as pd\n",
    "import numpy as np\n",
    "import cartopy.crs as ccrs\n",
    "import os\n",
    "import matplotlib.pyplot as plt\n",
    "import pathlib\n",
    "import conda_scripts.plot_help as ph\n",
    "from scipy.spatial.distance import pdist, squareform\n",
    "from matplotlib import ticker\n",
    "\n",
    "import write_inflows\n",
    "import flopy.utils.binaryfile as bf\n",
    "\n",
    "import warnings"
   ]
  },
  {
   "cell_type": "code",
   "execution_count": null,
   "id": "eccab208-917b-43d8-8b76-f9b32854e5cf",
   "metadata": {
    "tags": []
   },
   "outputs": [],
   "source": []
  },
  {
   "cell_type": "code",
   "execution_count": null,
   "id": "b462763f-6c3b-41be-aaf6-5c93d5214d05",
   "metadata": {},
   "outputs": [],
   "source": []
  },
  {
   "cell_type": "code",
   "execution_count": null,
   "id": "e989407b-bcfa-477b-8f07-23190ed9c521",
   "metadata": {},
   "outputs": [],
   "source": [
    "info, swr_info, sfr_info, riv_keys_info = basic.load_params('Base_model_long_07142023_constant_swrk_new_heads')\n",
    "\n",
    "datestart = info['start_date']\n",
    "\n",
    "name = info['name']\n",
    "\n",
    "out_folder = basic.out_folder('June2016')\n",
    "\n",
    "\n",
    "print(datestart)\n",
    "print(out_folder)"
   ]
  },
  {
   "cell_type": "code",
   "execution_count": null,
   "id": "7ff62dd4-069a-4417-bd90-4fe4101de56c",
   "metadata": {},
   "outputs": [],
   "source": [
    "import conda_scripts.arich_functions as af"
   ]
  },
  {
   "cell_type": "code",
   "execution_count": null,
   "id": "0d282a56-5db7-44af-b0c7-037ab19c1298",
   "metadata": {},
   "outputs": [],
   "source": [
    "basic"
   ]
  },
  {
   "cell_type": "code",
   "execution_count": null,
   "id": "6351f7f6-c390-4581-b9d6-ff7f3e28649d",
   "metadata": {},
   "outputs": [],
   "source": []
  },
  {
   "cell_type": "code",
   "execution_count": null,
   "id": "4713bbf2-eb4f-44b4-9cde-c96374138830",
   "metadata": {},
   "outputs": [],
   "source": []
  },
  {
   "cell_type": "code",
   "execution_count": null,
   "id": "d6cd0da4-f262-441e-937a-ff2465e03fa7",
   "metadata": {},
   "outputs": [],
   "source": []
  },
  {
   "cell_type": "code",
   "execution_count": null,
   "id": "85b1e612-4f34-4d09-919a-d25e8e62de7e",
   "metadata": {},
   "outputs": [],
   "source": []
  },
  {
   "cell_type": "code",
   "execution_count": null,
   "id": "1610c134-afd0-4285-926e-99be04e61c01",
   "metadata": {},
   "outputs": [],
   "source": [
    "grid = gpd.read_file(\"GIS/grid.shp\")\n"
   ]
  },
  {
   "cell_type": "code",
   "execution_count": null,
   "id": "d456b42a-f4cf-4076-a97e-1b411becd79e",
   "metadata": {},
   "outputs": [],
   "source": [
    "ml = basic.load_model()\n"
   ]
  },
  {
   "cell_type": "code",
   "execution_count": null,
   "id": "a9cf7590-f0ba-4e80-8cda-205c4c5de6e7",
   "metadata": {},
   "outputs": [],
   "source": [
    "routing = gpd.read_file('GIS/nhd_hr_demo_sfr_routing.shp')"
   ]
  },
  {
   "cell_type": "code",
   "execution_count": null,
   "id": "326bd902-0887-4334-847e-b574abf2aec3",
   "metadata": {},
   "outputs": [],
   "source": [
    "sfr = gpd.read_file('GIS/nhd_hr_demo_sfr_cells.shp')\n",
    "sfr = sfr.query(\"name=='Russian River'\")\n",
    "\n",
    "fig, ax  = basic.map_river(m = ml)\n",
    "\n",
    "sfr.plot(ax = ax, color = 'r',zorder = 100)"
   ]
  },
  {
   "cell_type": "code",
   "execution_count": null,
   "id": "e6583f42-53bd-43de-a2b9-1726b91b0dd6",
   "metadata": {},
   "outputs": [],
   "source": [
    "# bottom = 765\n"
   ]
  },
  {
   "cell_type": "code",
   "execution_count": null,
   "id": "cab322dd-4ab6-4965-ae6f-225d87d6839a",
   "metadata": {},
   "outputs": [],
   "source": [
    "# kper = None"
   ]
  },
  {
   "cell_type": "code",
   "execution_count": null,
   "id": "8a421d44-b83e-4684-9008-ac6b45b683e3",
   "metadata": {},
   "outputs": [],
   "source": [
    "# def load_params():\n",
    "    \n",
    "#     import json\n",
    "\n",
    "#     with open(\"model_params.txt\") as json_data_file:\n",
    "#         data = json.load(json_data_file)\n",
    "    \n",
    "#     info = data['calibration']\n",
    "#     swr = data['calibration']['parameters']['SWR']\n",
    "#     sfr = data['calibration']['parameters']['SFR']\n",
    "#     riv_keys = data['riv_keys']\n",
    "    \n",
    "#     return info, swr, sfr, riv_keys\n",
    "\n",
    "\n",
    "\n",
    "info, swr_info,sfr_info, riv_keys = basic.load_params(run_name = 'Base_model_long_07142023_constant_swrk_new_heads')\n",
    "riv_keys"
   ]
  },
  {
   "cell_type": "code",
   "execution_count": null,
   "id": "f650f1d2-0634-439b-a831-985f457b7bdf",
   "metadata": {},
   "outputs": [],
   "source": [
    "swr_info"
   ]
  },
  {
   "cell_type": "code",
   "execution_count": null,
   "id": "cefe6e3d-9f22-4a00-b4cb-dcb4349c417b",
   "metadata": {},
   "outputs": [],
   "source": [
    "IGEOTYPE = swr_info[\"IGEOTYPE\"] \n",
    "IGCNDOP = swr_info[\"IGCNDOP\" ]\n",
    "GMANNING = swr_info[\"GMANNING\" ]   \n",
    "LEAKANCE = swr_info[\"LEAKANCE\"]\n",
    "getextd = swr_info[\"getextd\"] \n",
    "bottom = swr_info['dam_swr_rno']\n",
    "reach_min = swr_info[\"reach_main\"]\n",
    "IROUTETYPE = swr_info[\"IROUTETYPE\"]\n",
    "use_average_reach_len = swr_info[\"use_average_reach_len\"]\n",
    "use_thalweg = swr_info['use_thalweg']\n",
    "kper = None if swr_info[\"kper\"].lower()=='none' else swr_info[\"kper\"]\n",
    "SWR_processor = swr_info[\"SWR_processor\"]\n",
    "rain = swr_info['rain']\n",
    "evap = swr_info['evap']\n",
    "\n",
    "kper"
   ]
  },
  {
   "cell_type": "code",
   "execution_count": null,
   "id": "3574a612-5d1a-4aec-a901-72c9cbefbb17",
   "metadata": {},
   "outputs": [],
   "source": [
    "\n",
    "datestart = '1/1/2012'\n",
    "enddate= '1/1/2022'\n",
    "\n",
    "numdays = (pd.to_datetime(enddate) - pd.to_datetime(datestart)).days\n",
    "rr, dry, mw, total, stg = write_inflows.run('Base_model_long_07142023_constant_swrk_new_heads', m = ml, minvalue=0, max_value = 100, numdays = numdays, datestart = '1/1/2012', cleandamdata = False)"
   ]
  },
  {
   "cell_type": "code",
   "execution_count": null,
   "id": "54d127d6-afe0-4096-a73c-61507bda0775",
   "metadata": {},
   "outputs": [],
   "source": []
  },
  {
   "cell_type": "code",
   "execution_count": null,
   "id": "c8b0eb5d-94ec-4910-8107-fb521f4857e0",
   "metadata": {},
   "outputs": [],
   "source": []
  },
  {
   "cell_type": "code",
   "execution_count": null,
   "id": "eb15d18a-d796-47cf-84f3-7aee047b3ee6",
   "metadata": {},
   "outputs": [],
   "source": [
    "fig, ax = plt.subplots(figsize= (6,6))\n",
    "\n",
    "\n",
    "def line(flow):\n",
    "    \n",
    "    minflow = 38\n",
    "    yint = 28\n",
    "    slope1 = .0023\n",
    "    slope2 = .0005\n",
    "    slope3 = .0002\n",
    "    cutoff = 7000\n",
    "    \n",
    "    cutoff2 = 450000\n",
    "    \n",
    "    if flow < 500:\n",
    "        return 28.5\n",
    "    elif flow<cutoff:\n",
    "        return yint+slope1*flow\n",
    "    elif flow < cutoff2:\n",
    "        return yint+13+slope2*flow\n",
    "    else:\n",
    "        return yint+26.5+slope3*flow\n",
    "    \n",
    "scatter = ax.scatter(stg.rrtotal, stg.Original_Value, c = stg.index.year, facecolor = 'None', marker = 'o', alpha = .9,cmap  = plt.get_cmap('tab20'))\n",
    "ax.grid(True)\n",
    "x = np.arange(1, 75000,500)\n",
    "y = [line(xi) for xi in x]\n",
    "\n",
    "\n",
    "\n",
    "l = ax.plot(x, y, 'r', marker = '.', label = 'Rating Curve')\n",
    "# l = ax.plot(x, y2, 'r', marker = '.', label = 'Rating Curve Hacienda')\n",
    "\n",
    "ax.set_xlabel('Russian River Discharge (Healdsburg + Dry Creek Flows) cfs')\n",
    "ax.set_ylabel('RDS Observed Stage (ft)')\n",
    "ax.set_title('Stage Discharge Relationship for\\nEstimating Overland Flows Along Russian River')\n",
    "\n",
    "legend1 = ax.legend(*scatter.legend_elements(),\n",
    "                    title=\"Year\", loc = 'lower right', bbox_to_anchor = (1,0))\n",
    "ax.add_artist(legend1, )\n",
    "\n",
    "plt.savefig('Overland_Flow/ovr_relationship.png', dpi = 300)\n",
    "plt.savefig('versions/website_info/ovr_relationship.png', dpi = 300)"
   ]
  },
  {
   "cell_type": "code",
   "execution_count": null,
   "id": "a263250f-ba90-4409-9a9f-09a647dae11e",
   "metadata": {},
   "outputs": [],
   "source": [
    "stg.loc[:,'stage_est'] = stg.rrtotal.apply(line)\n",
    "\n",
    "# stg = stg.loc['2019',:]"
   ]
  },
  {
   "cell_type": "code",
   "execution_count": null,
   "id": "f25f038f-046a-45ce-9f19-ba03c485f60b",
   "metadata": {},
   "outputs": [],
   "source": []
  },
  {
   "cell_type": "code",
   "execution_count": null,
   "id": "7a6b4ddc-9310-4e2d-a83b-059beb0fdb3c",
   "metadata": {},
   "outputs": [],
   "source": [
    "stg.loc[:,'Original_Value':].plot(subplots = True,figsize = (10,10))\n"
   ]
  },
  {
   "cell_type": "markdown",
   "id": "efbc5a01-2dca-452e-b9a0-1a1e41c5f6ba",
   "metadata": {
    "tags": []
   },
   "source": [
    "# if you want to make a stage-discharge curve from hacienda data, load the following\n",
    "\n",
    "however this is not actually used because the manual approach works fine"
   ]
  },
  {
   "cell_type": "code",
   "execution_count": null,
   "id": "3819b340-f074-4065-881a-f3e31acd9198",
   "metadata": {
    "tags": []
   },
   "outputs": [],
   "source": [
    "\n",
    "# this does the same as the following code\n",
    "hacienda = pd.read_csv('Overland_Flow/hacienda_stage_flow.csv', index_col = [0], infer_datetime_format=True)\n",
    "hacienda.index = pd.to_datetime(hacienda.index)\n",
    "\n",
    "# # import hyriver\n",
    "# from pygeohydro import NWIS\n",
    "# dates = (\"2000-01-01\", \"2010-12-31\")\n",
    "\n",
    "# stations = ['11467000']\n",
    "# nwis = NWIS()\n",
    "# qobs_ds = nwis.get_streamflow(stations, dates, to_xarray=True)\n",
    "\n",
    "# stage = pd.DataFrame()\n",
    "# for year in range(2010, 2022):\n",
    "#     url = \"https://nwis.waterservices.usgs.gov/nwis/iv/?sites=11467000&parameterCd=00065&startDT={:}-01-01T17:10:17.209-07:00&endDT={:}-12-31T17:10:17.209-07:00&siteStatus=all&format=rdb\".format(\n",
    "#         year, year+1\n",
    "#     )\n",
    "    \n",
    "#     df = pd.read_csv(url, \n",
    "#                      comment = '#', \n",
    "#                      skiprows = [0],\n",
    "\n",
    "#                      sep = '\\t')\n",
    "#     df = df.drop([0])\n",
    "#     stage = pd.concat([df, stage])\n",
    "\n",
    "# flow = pd.DataFrame()\n",
    "# for year in range(2010, 2022):\n",
    "#     url = \"https://nwis.waterservices.usgs.gov/nwis/iv/?sites=11467000&parameterCd=00060&startDT={:}-01-01T17:10:17.209-07:00&endDT={:}-12-31T17:10:17.209-07:00&siteStatus=all&format=rdb\".format(\n",
    "#         year, year+1\n",
    "#     )\n",
    "    \n",
    "#     df = pd.read_csv(url, \n",
    "#                      comment = '#', \n",
    "#                      skiprows = [0],\n",
    "\n",
    "#                      sep = '\\t')\n",
    "#     df = df.drop([0])\n",
    "#     flow = pd.concat([df, flow])\n",
    "\n",
    "# flow\n",
    "\n",
    "# s1 = stage.rename(columns = {'16448_00065':'stage'}).drop(columns= ['16448_00065_cd','tz_cd', 'site_no', 'agency_cd'])\n",
    "# s1.loc[:,'datetime'] = pd.to_datetime(s1.loc[:,'datetime'])\n",
    "# s1 = s1.astype({'stage':np.float})\n",
    "# s1 = s1.set_index('datetime')\n",
    "# stage_res = s1.resample('1D').mean()\n",
    "# stage_res\n",
    "\n",
    "# s1 = flow.rename(columns = {'16446_00060':'flow'}).drop(columns= ['16446_00060_cd','tz_cd', 'site_no', 'agency_cd'])\n",
    "# s1.loc[:,'datetime'] = pd.to_datetime(s1.loc[:,'datetime'])\n",
    "# s1 = s1.astype({'flow':np.float})\n",
    "# s1 = s1.set_index('datetime')\n",
    "# flow_res = s1.resample('1D').mean()\n",
    "# flow_res\n",
    "\n",
    "# hacienda = pd.merge(stage_res, flow_res, left_index = True, right_index = True)\n",
    "# hacienda = hacienda.dropna()"
   ]
  },
  {
   "cell_type": "code",
   "execution_count": null,
   "id": "986d3609-59c7-4aab-a941-c5addea737ac",
   "metadata": {
    "tags": []
   },
   "outputs": [],
   "source": [
    "hacienda.plot.scatter(x = 'flow', y = 'stage')"
   ]
  },
  {
   "cell_type": "markdown",
   "id": "394322ee-f3a2-4fa6-bef7-32e8df824cb8",
   "metadata": {
    "tags": []
   },
   "source": [
    "# load the hacienda data\n",
    "this not actually used because the manual approach seems fine"
   ]
  },
  {
   "cell_type": "code",
   "execution_count": null,
   "id": "c1f46bca-ac93-4c11-a78d-9756b176467e",
   "metadata": {
    "tags": []
   },
   "outputs": [],
   "source": [
    "x = hacienda.flow\n",
    "\n",
    "y = hacienda.stage\n",
    "# y = np.log(y)\n",
    "plt.figure()\n",
    "plt.scatter(x,y)\n",
    "# np.polyfit(x.values, y.values,  2)\n",
    "from scipy.optimize import curve_fit\n",
    "\n",
    "def func(x, a, c, d):\n",
    "    return a*np.exp(-c*x)+d\n",
    "\n",
    "popt, pcov = curve_fit(func, x, y, p0=[4.5, 1/45,0])\n",
    "# popt = [4.5, 4.5,0]\n",
    "xpred = np.linspace(1,np.max(x),50)\n",
    "y = [func(xi, popt[0], popt[1], popt[2]) for xi in xpred]\n",
    "\n",
    "plt.scatter(xpred, y, label = 'log fig')\n",
    "\n",
    "#manual version from above\n",
    "yman = [line(xi)-28 for xi in xpred]\n",
    "plt.scatter(xpred, yman, label = 'manual fig')\n",
    "\n",
    "plt.title('stage discharge for Hacienda Bridge')\n",
    "plt.legend()"
   ]
  },
  {
   "cell_type": "code",
   "execution_count": null,
   "id": "e01f1786-a78c-4b56-acbd-61e511630cff",
   "metadata": {},
   "outputs": [],
   "source": [
    "\n",
    "plt.figure( figsize = (6,6), dpi = 300)\n",
    "ax = stg.loc[:,'stage_est'].plot( label = 'Estimated Stage')\n",
    "stg.loc[:,'Original_Value'].plot( label = 'Actual Stage', ls = '--')\n",
    "stg.query('stage_est>40').loc[:,'stage_est'].plot(ax = ax, marker = '.', ls = 'None', label = 'Stage Exceedance Events')\n",
    "ax.set_ylabel('ft')\n",
    "ax.axhline(40, c = 'k')\n",
    "ax.text(1, 40,   'Cutoff', ha = 'left', va = 'center', transform = ax.get_yaxis_transform())\n",
    "ax.axhline(28, c = 'brown')\n",
    "ax.text(1, 28,   'Ground Surface', ha = 'left', va = 'center', transform = ax.get_yaxis_transform())\n",
    "\n",
    "date = stg.stage_est.idxmax()+pd.to_timedelta(10, 'D')\n",
    "maxvalue = stg.stage_est.max()\n",
    "ax.set_ylim([25, 70])\n",
    "\n",
    "ax.annotate('Offset Value', xy=(date, 28),\n",
    "            ha = 'center',\n",
    "             xycoords='data',\n",
    "             xytext=(date, maxvalue),\n",
    "             textcoords='data',\n",
    "             arrowprops=dict(arrowstyle= '|-|',\n",
    "                             color='blue',\n",
    "                             lw=3,\n",
    "                             ls='--')\n",
    "           )\n",
    "\n",
    "ax.set_title(\"RDS Estimated Stage\")\n",
    "\n",
    "ax.legend()\n",
    "\n",
    "plt.savefig('Overland_Flow/stage_exceedance.png', dpi = 300, bbox_inches = 'tight')\n",
    "plt.savefig('versions/website_info/stage_exceedance.png', dpi = 300, bbox_inches = 'tight')"
   ]
  },
  {
   "cell_type": "markdown",
   "id": "50a1bc89-e2ed-493c-9753-6ffcb5ea51dc",
   "metadata": {},
   "source": [
    "# get the stream elevations from the actual model top.\n",
    "# get the flood elevations from the filled ponds"
   ]
  },
  {
   "cell_type": "code",
   "execution_count": null,
   "id": "03d41189-1e4c-4bc6-9d65-2131c56902ce",
   "metadata": {},
   "outputs": [],
   "source": [
    "filled = np.genfromtxt(\"GIS/lay_1_top_filled_ponds.csv\",delimiter = ',')\n",
    "filled"
   ]
  },
  {
   "cell_type": "code",
   "execution_count": null,
   "id": "e3e92f3c-522c-4d29-9282-c2f41c7773e4",
   "metadata": {},
   "outputs": [],
   "source": [
    "sfr = gpd.read_file('GIS/nhd_hr_demo_sfr_cells.shp')\n",
    "sfr.loc[:,'model_top'] = ml.dis.top.array[sfr.loc[:,'i'], sfr.loc[:,'j']]\n",
    "# sfr.loc[:,'model_top_filled'] = filled[sfr.loc[:,'i'], sfr.loc[:,'j']]\n",
    "sfr.filter(regex = 'top|geometry').explore('model_top')"
   ]
  },
  {
   "cell_type": "code",
   "execution_count": null,
   "id": "0d5efbe1-e929-4bb8-ac17-856f2d5c4286",
   "metadata": {},
   "outputs": [],
   "source": []
  },
  {
   "cell_type": "code",
   "execution_count": null,
   "id": "84701141-fa51-41a3-8aa8-24e6a4439825",
   "metadata": {},
   "outputs": [],
   "source": [
    "grid = gpd.read_file(\"GIS/grid.shp\")\n",
    "\n",
    "# need to update model top for streambed locations\n",
    "grid.loc[:,'model_top'] = ml.dis.top.array[grid.loc[:,'row']-1, grid.loc[:,'column']-1]\n",
    "grid.loc[:,'ibound'] = ml.bas6.ibound.array[0][grid.loc[:,'row']-1, grid.loc[:,'column']-1]\n",
    "grid.loc[:,'model_top_filled'] = filled[grid.loc[:,'row']-1, grid.loc[:,'column']-1]\n",
    "\n",
    "m = grid.query(\"ibound==1\").explore('model_top',vmax = 75, vmin = 30)\n",
    "sfr.set_geometry(sfr.geometry.centroid).explore( m=m)"
   ]
  },
  {
   "cell_type": "code",
   "execution_count": null,
   "id": "71c6ee6f-4ca5-437f-aec3-f2511a2bfbdc",
   "metadata": {},
   "outputs": [],
   "source": [
    "import leafmap\n",
    "import whiteboxgui"
   ]
  },
  {
   "cell_type": "code",
   "execution_count": null,
   "id": "1e9efbbc-b19e-487e-9259-37d9e8226c6a",
   "metadata": {
    "tags": []
   },
   "outputs": [],
   "source": [
    "\n",
    "\n",
    "\n",
    "# whiteboxgui.show()\n"
   ]
  },
  {
   "cell_type": "markdown",
   "id": "76bf51ee-20af-49f0-9791-681c1ac7be78",
   "metadata": {},
   "source": [
    "# this is how the dem was filled for the quarry ponds"
   ]
  },
  {
   "attachments": {
    "7b58d581-7b0e-4284-9c2e-721dba445165.png": {
     "image/png": "[encoded data removed]"
    }
   },
   "cell_type": "markdown",
   "id": "ae3f9181-c3a8-484d-a307-4cdc15431165",
   "metadata": {},
   "source": [
    "![image.png](attachment:7b58d581-7b0e-4284-9c2e-721dba445165.png)"
   ]
  },
  {
   "cell_type": "code",
   "execution_count": null,
   "id": "0224afeb-ba2a-42ce-9c65-4a58df28f1fb",
   "metadata": {},
   "outputs": [],
   "source": [
    "# grid_simp = grid.query(\"ibound==1\").loc[:,['model_top','node','geometry']].rename(columns ={'node':'node_grid'})\n",
    "grid_simp = grid.query(\"ibound==1\").loc[:,['model_top_filled','node','geometry']].rename(\n",
    "    columns ={'node':'node_grid'})\n",
    "sfr_simp = sfr.set_geometry(sfr.geometry.centroid).loc[:,[ 'geometry', 'node', 'iseg', 'ireach']].rename(columns ={'node':'node_sfr'}).drop_duplicates('node_sfr')\n",
    "\n",
    "gridnear = gpd.sjoin_nearest(grid_simp,\n",
    "                            sfr_simp,\n",
    "                            how = 'left')\n",
    "\n",
    "print(f\"shape {gridnear.shape[0]}\")\n",
    "gridnear = gridnear.drop_duplicates('node_grid')\n",
    "print(f\"shape {gridnear.shape[0]}\")"
   ]
  },
  {
   "cell_type": "code",
   "execution_count": null,
   "id": "59fa213f-3764-4eea-901b-7ce056b585de",
   "metadata": {},
   "outputs": [],
   "source": [
    "sfr_simp"
   ]
  },
  {
   "cell_type": "code",
   "execution_count": null,
   "id": "9ad6f31b-f8a6-4263-b0fe-a4c9b8a4a26b",
   "metadata": {
    "tags": []
   },
   "outputs": [],
   "source": [
    "dfall = pd.DataFrame()\n",
    "for date, row in stg.query('stage_est>40').iterrows():\n",
    "    s = sfr.copy().drop_duplicates('node').loc[:,['model_top', 'node']].rename(columns = {'node':'node_sfr'})\n",
    "    s.loc[:,'Date'] = date\n",
    "    s.loc[:,'offset'] = row['stage_est']-28\n",
    "    s.loc[:,'WSE'] = s.loc[:,'model_top'] + s.loc[:,'offset']\n",
    "    s = s.drop(columns = 'model_top')\n",
    "    # dfall = dfall.append(s)\n",
    "    dfall = pd.concat([dfall, s])\n",
    "    \n"
   ]
  },
  {
   "cell_type": "code",
   "execution_count": null,
   "id": "9d1dca94-ffe7-47d9-b76f-2fd5e1c48a1b",
   "metadata": {
    "tags": []
   },
   "outputs": [],
   "source": [
    "stg.query('stage_est>40').plot(marker = '.',ls = '',x = 'Original_Value', y = 'stage_est')"
   ]
  },
  {
   "cell_type": "code",
   "execution_count": null,
   "id": "2b97d140-3c05-4274-bfa1-ba106b686959",
   "metadata": {},
   "outputs": [],
   "source": [
    "dfall"
   ]
  },
  {
   "cell_type": "code",
   "execution_count": null,
   "id": "e7b715e5-c6a2-4381-85b3-96e4479431d8",
   "metadata": {},
   "outputs": [],
   "source": [
    "floods = pd.merge(dfall, gridnear, on = 'node_sfr')\n",
    "\n",
    "floods = floods.query(\"WSE>model_top_filled\")\n",
    "\n",
    "fig = plt.figure(figsize = (6,6), dpi =300)\n",
    "ax = floods.groupby('Date').count().loc[:,'WSE'].plot(marker = 'o', ls = 'None')\n",
    "ax.grid(True)\n",
    "ax.set_title('Number of Overland flow events')\n",
    "ax.set_ylabel('Number of cells with overland flow events')\n",
    "ax.set_xlabel('')\n",
    "plt.savefig('Overland_Flow/stage_exceedance_count_filled.png', dpi = 300, bbox_inches = 'tight')\n",
    "plt.savefig('versions/website_info/stage_exceedance_count_filled.png', dpi = 300, bbox_inches = 'tight')"
   ]
  },
  {
   "cell_type": "code",
   "execution_count": null,
   "id": "a54d11f7-abd1-4d20-8ce1-6e5982d44b27",
   "metadata": {},
   "outputs": [],
   "source": [
    "# floods = pd.merge(dfall, gridnear, on = 'node_sfr')\n",
    "\n",
    "# floods = floods.query(\"WSE>model_top\")\n",
    "\n",
    "# fig = plt.figure(figsize = (6,6), dpi =300)\n",
    "# ax = floods.groupby('Date').count().loc[:,'WSE'].plot(marker = 'o', ls = 'None')\n",
    "# ax.grid(True)\n",
    "# ax.set_title('Number of Overland flow events')\n",
    "# ax.set_ylabel('Number of cells with overland flow events')\n",
    "# ax.set_xlabel('')\n",
    "# plt.savefig('Overland_Flow/stage_exceedance_count_filled.png', dpi = 300, bbox_inches = 'tight')\n",
    "# plt.savefig('versions/website_info/stage_exceedance_count_filled.png', dpi = 300, bbox_inches = 'tight')"
   ]
  },
  {
   "cell_type": "code",
   "execution_count": null,
   "id": "3b363417-ce45-4e52-a305-6832f0a4a68a",
   "metadata": {},
   "outputs": [],
   "source": [
    "floods.shape"
   ]
  },
  {
   "cell_type": "code",
   "execution_count": null,
   "id": "7b6eb854-7d43-4031-a926-f5b404e16392",
   "metadata": {},
   "outputs": [],
   "source": [
    "# cnts = gpd.read_file(\"C:\\modeling\\MirabelWohler\\GIS\\DEM\\wohler_detail_lidar\\contourfile.shp\")"
   ]
  },
  {
   "cell_type": "code",
   "execution_count": null,
   "id": "2545298c-8447-4204-8f7f-6c00cc8d2376",
   "metadata": {},
   "outputs": [],
   "source": [
    "import conda_scripts.utils.folium_maps as fm"
   ]
  },
  {
   "cell_type": "code",
   "execution_count": null,
   "id": "47ff9667-ae51-4da0-85f4-f2bd0cbb0002",
   "metadata": {},
   "outputs": [],
   "source": [
    "floods_sum = pd.merge(floods.drop(columns = 'geometry').groupby('node_grid').count().reset_index().loc[:,['node_grid','WSE']], \n",
    "                      gridnear.drop_duplicates('node_grid').loc[:,['node_grid', 'geometry','model_top_filled', 'node_sfr']], \n",
    "                      on = 'node_grid', how = 'right')\n",
    "# floods_sum = floods_sum.fillna(0)\n",
    "floods_sum = floods_sum.rename(columns = {'WSE': 'Number of flood days'})\n",
    "floods_sum = gpd.GeoDataFrame(floods_sum, geometry = 'geometry', crs = 2226)\n",
    "m = floods_sum.explore('Number of flood days', tooltip  = ['Number of flood days', 'model_top_filled', 'node_sfr'], name = 'Number of flood days')\n",
    "\n",
    "# gridnear.explore('model_top',tooltip  = [ 'model_top'], m = m, name = 'gridnerar', vmin = 20, vmax = 75)\n",
    "# sfr.explore( 'model_top', m=m, color= 'r', name = 'sfr', vmin = 20, vmax = 75)\n",
    "sfr.set_geometry(sfr.geometry.centroid).explore( m=m, color= 'r', name = 'SFR Cells')\n",
    "fm.add_layers(m)\n",
    "fm.add_title('Number of Overland Flow Events per Cell, from 2012 to 2021',m)\n",
    "m.save('versions/website_info/overland_flow_count_filled_ponds.html')\n",
    "m.save('Overland_Flow//overland_flow_count_filled_ponds.html')\n",
    "m\n",
    "# cnts.explore(m = m)"
   ]
  },
  {
   "cell_type": "code",
   "execution_count": null,
   "id": "5b9a2704-80c3-4892-974f-5884e8af0649",
   "metadata": {
    "tags": []
   },
   "outputs": [],
   "source": []
  },
  {
   "cell_type": "code",
   "execution_count": null,
   "id": "71d82312-6f5d-4aef-b403-79f5f3bef953",
   "metadata": {
    "tags": []
   },
   "outputs": [],
   "source": []
  },
  {
   "cell_type": "code",
   "execution_count": null,
   "id": "bb6242c2-0c4a-4a2d-bfe5-89671a4b211c",
   "metadata": {
    "tags": []
   },
   "outputs": [],
   "source": []
  },
  {
   "cell_type": "code",
   "execution_count": null,
   "id": "df6a46ee-0bd9-4b64-97a7-cfe3cd8e08aa",
   "metadata": {
    "tags": []
   },
   "outputs": [],
   "source": []
  },
  {
   "cell_type": "code",
   "execution_count": null,
   "id": "415221ba-cd45-46f8-8141-607521e00800",
   "metadata": {},
   "outputs": [],
   "source": [
    "floods.sort_values(['Date', 'node_grid']).loc[:,['Date','node_grid','WSE', 'model_top_filled']].to_csv('Overland_Flow/overland_flow_ts_filled_ponds.csv',\n",
    "                                                                                                float_format=\"%.0f\",index = False)"
   ]
  },
  {
   "cell_type": "code",
   "execution_count": null,
   "id": "f64092f2-52db-4203-9e91-54eb3250274e",
   "metadata": {},
   "outputs": [],
   "source": [
    "def read_overland(m):\n",
    "    ovr = pd.read_csv('Overland_Flow/overland_flow_ts_filled_ponds.csv', index_col = [0],parse_dates=True )\n",
    "    ovr.loc[:, ['k','i', 'j']] = m.dis.get_lrc(list(ovr.loc[:,'node_grid'].values))\n",
    "    \n",
    "    return ovr\n",
    "\n",
    "ovr = read_overland(ml)"
   ]
  },
  {
   "cell_type": "code",
   "execution_count": null,
   "id": "378e7a85-3fef-45cd-ae35-97124bbded2d",
   "metadata": {},
   "outputs": [],
   "source": [
    "1000*86400/43560"
   ]
  },
  {
   "cell_type": "code",
   "execution_count": null,
   "id": "66c15974-93ff-4928-8c3b-ab73ea56fc60",
   "metadata": {},
   "outputs": [],
   "source": [
    "def plot_ovr(ovr, datestart, folder, recharge_rate, numdays = 365):\n",
    "    \n",
    "    q = ovr.groupby(ovr.index).count().loc[:,['WSE']] * 200*200*recharge_rate/43560\n",
    "    end_date = (pd.to_datetime(datestart ) + pd.to_timedelta(numdays+5, 'D')).strftime('%m/%d/%Y')\n",
    "    q = q.resample('1D').sum()\n",
    "    qm = q.max()\n",
    "    q = q.loc[datestart:end_date,:].rename(columns = {'WSE':\"Overland Recharge\"})\n",
    "    plt.figure( figsize = (6,6), dpi =300)\n",
    "    ax = q.plot(drawstyle=\"steps-post\", linewidth=2, ylabel = 'recharge (acre-feet)', c = 'b')\n",
    "    ax.set_ylim([0, qm.values[0]]); \n",
    "    ax.grid(True); \n",
    "    ax.yaxis.get_label().set_color('b')\n",
    "    # ax.text(1,1, f'Recharge rate = {recharge_rate}ft.', transform = ax.transAxes, ha = 'right', va = 'bottom')\n",
    "    ax.legend().remove()\n",
    "    ax.set_title(f'Daily Recharge from Overland Flow.\\nRecharge rate = {recharge_rate}ft/d')\n",
    "    \n",
    "    ax2 = ax.twinx()\n",
    "    \n",
    "    p2 = q.cumsum().plot(ax = ax2, label = 'Cumulative', c = 'r', ylabel = 'cumulative recharge (acre-feet)')\n",
    "    ax.get_yaxis().set_major_formatter(\n",
    "            ticker.FuncFormatter(lambda x, p: format(int(x), ',')))\n",
    "    \n",
    "    ax2.get_yaxis().set_major_formatter(\n",
    "        ticker.FuncFormatter(lambda x, p: format(int(x), ',')))\n",
    "    \n",
    "    ax2.yaxis.get_label().set_color('r')\n",
    "    \n",
    "    plt.savefig(os.path.join(folder, 'ovr_total_filled_ponds.png'), bbox_inches = 'tight', dpi = 250,)\n",
    "    \n",
    "    return ax\n",
    "\n",
    "for year in range(2012, 2021):\n",
    "    z = plot_ovr(ovr, f'1/1/{year}', f'versions/June{year}', 0.5)"
   ]
  },
  {
   "cell_type": "code",
   "execution_count": null,
   "id": "c81c85b9-dbe3-4ae8-a5ff-aa0646b9a115",
   "metadata": {},
   "outputs": [],
   "source": []
  },
  {
   "cell_type": "code",
   "execution_count": null,
   "id": "c8ee7e78-ca06-4834-add0-95abda3e3dd1",
   "metadata": {},
   "outputs": [],
   "source": []
  },
  {
   "cell_type": "code",
   "execution_count": null,
   "id": "d8dbb56d-f3b2-4a0c-b7b9-7f308603f179",
   "metadata": {},
   "outputs": [],
   "source": []
  },
  {
   "cell_type": "code",
   "execution_count": null,
   "id": "4377198c-9754-4e49-9e58-9961fa6e4dfb",
   "metadata": {},
   "outputs": [],
   "source": [
    "gridnear.explore('node_sfr')"
   ]
  }
 ],
 "metadata": {
  "kernelspec": {
   "display_name": "Python 3 (ipykernel)",
   "language": "python",
   "name": "python3"
  },
  "language_info": {
   "codemirror_mode": {
    "name": "ipython",
    "version": 3
   },
   "file_extension": ".py",
   "mimetype": "text/x-python",
   "name": "python",
   "nbconvert_exporter": "python",
   "pygments_lexer": "ipython3",
   "version": "3.9.16"
  }
 },
 "nbformat": 4,
 "nbformat_minor": 5
}
