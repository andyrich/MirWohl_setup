{
 "cells": [
  {
   "cell_type": "code",
   "execution_count": null,
   "id": "1fe94d06-0938-48f5-a6eb-c7e59cad0b9c",
   "metadata": {},
   "outputs": [],
   "source": []
  },
  {
   "cell_type": "code",
   "execution_count": null,
   "id": "3601d66e-d413-4164-9168-642d50ce497d",
   "metadata": {},
   "outputs": [],
   "source": [
    "head = 'HEAD PRINT FORMAT   0\\n'\\\n",
    "'HEAD SAVE UNIT   336\\n'\\\n",
    "'DRAWDOWN PRINT FORMAT   0\\n\\n'\n",
    "head"
   ]
  },
  {
   "cell_type": "code",
   "execution_count": null,
   "id": "5e05d4f5-e0a2-4597-be96-022ac3de6045",
   "metadata": {},
   "outputs": [],
   "source": [
    "kper = range(1,1100)\n",
    "step = range(1,25)\n",
    "\n",
    "with open('RR_2022/rr_all.oc','w') as wr:\n",
    "    wr.write(head)\n",
    "    for k in kper:\n",
    "        \n",
    "        for s in step:\n",
    "            wr.write(f\"period {k} step {s}\\n\")\n",
    "            # wr.write(\"PRINT BUDGET\\n\")\n",
    "            # wr.write(\"SAVE BUDGET\\n\")\n",
    "            \n",
    "            if (s==24):\n",
    "                wr.write(\"PRINT BUDGET\\n\")\n",
    "                wr.write('SAVE HEAD\\n\\n')\n",
    "            \n",
    "            # wr.write('\\n\\n')\n"
   ]
  },
  {
   "cell_type": "code",
   "execution_count": null,
   "id": "7630cba2-8d54-4bc0-81c0-95c856176de7",
   "metadata": {},
   "outputs": [],
   "source": [
    "260+109"
   ]
  },
  {
   "cell_type": "code",
   "execution_count": null,
   "id": "92f58cf9-8aec-474c-91e0-4ac2857edee2",
   "metadata": {},
   "outputs": [],
   "source": [
    "for i in range(260):\n",
    "    print('-1')"
   ]
  },
  {
   "cell_type": "code",
   "execution_count": null,
   "id": "e9028069-edc3-4a6d-864c-c0b3688c4a95",
   "metadata": {},
   "outputs": [],
   "source": [
    "import basic\n",
    "import postprocess"
   ]
  },
  {
   "cell_type": "code",
   "execution_count": null,
   "id": "53f47153-f5c3-49fc-a706-626f21337f98",
   "metadata": {},
   "outputs": [],
   "source": [
    "ml = basic.load_model(path = 'temp/June2013')\n",
    "start_date = '1/1/2013'"
   ]
  },
  {
   "cell_type": "code",
   "execution_count": null,
   "id": "72fc0389-b2c6-4957-8225-865516299d06",
   "metadata": {},
   "outputs": [],
   "source": [
    "ISWRPQAQ , ISWRPRGF, ISWRPSTG, ISWRPSTR, ISWRPQM = postprocess.SWR(ml, start_date, max_reach = 116, remove_ponds = True  )"
   ]
  },
  {
   "cell_type": "code",
   "execution_count": null,
   "id": "fc2e19f9-ea69-4adb-8567-bc680a803b54",
   "metadata": {},
   "outputs": [],
   "source": [
    "ISWRPQAQ.loc[:, 'STAGE'].droplevel([1, 2, 3, 4, 6]).groupby(level = [0,1]).mean().unstack()"
   ]
  },
  {
   "cell_type": "code",
   "execution_count": null,
   "id": "5a2bbf86-568e-4e6c-b2bd-8aa61ed7f54a",
   "metadata": {},
   "outputs": [],
   "source": [
    "ISWRPQAQ.loc[:, 'STAGE'].droplevel([1, 2, 3, 4, 6]).unstack()"
   ]
  },
  {
   "cell_type": "code",
   "execution_count": null,
   "id": "c2ec2721-6b10-44ff-a919-429f40e48c3c",
   "metadata": {},
   "outputs": [],
   "source": [
    "import run_parallel\n"
   ]
  },
  {
   "cell_type": "code",
   "execution_count": null,
   "id": "e1f716dc-d234-49bb-9b5a-ae05172ea319",
   "metadata": {},
   "outputs": [],
   "source": [
    "run_parallel.par_run('June2019',check_for_success=False, skip_setup=  True, \n",
    "                     copyfiles_from_base = False, post_process_only = True)"
   ]
  },
  {
   "cell_type": "code",
   "execution_count": null,
   "id": "3eb3b8a0-22a1-4ebb-9273-4c01a6c8085d",
   "metadata": {},
   "outputs": [],
   "source": [
    "import hydro_context\n",
    "from datetime import datetime\n",
    "import conda_scripts.arich_functions as af\n",
    "import pandas as pd\n",
    "import matplotlib.pyplot as plt\n",
    "import matplotlib.dates as mdates"
   ]
  },
  {
   "cell_type": "code",
   "execution_count": null,
   "id": "c7ff9bce-4067-4bc8-8916-903133eaf87c",
   "metadata": {},
   "outputs": [],
   "source": [
    "rr, dry, mw, total = hydro_context.get_data()"
   ]
  },
  {
   "cell_type": "code",
   "execution_count": null,
   "id": "bc1fb483-f420-4f8d-82ee-f6d1a6e6c8e5",
   "metadata": {},
   "outputs": [],
   "source": []
  },
  {
   "cell_type": "code",
   "execution_count": null,
   "id": "cb611afb-3647-483a-95ef-cd0d05f95160",
   "metadata": {},
   "outputs": [],
   "source": [
    "def julian_water_year(wy):\n",
    "    '''\n",
    "    return days from start of water year, creates pseudo date from start of WY 2020.\n",
    "    Args:\n",
    "        date: SERIES of dates (does not work with datetime index)\n",
    "\n",
    "    Returns:\n",
    "\n",
    "    '''\n",
    "    if isinstance(wy, pd.DatetimeIndex):\n",
    "        wy = pd.DataFrame(wy, columns =[ 'Date'])\n",
    "    elif isinstance(wy, pd.Series):\n",
    "        wy = wy.to_frame('Date')\n",
    "    else:\n",
    "        raise AssertionError(f\"type is not supported {type(wy)}\")\n",
    "        \n",
    "    wy.loc[:,'month'] = wy.Date.dt.month\n",
    "    wy.loc[:,'year'] = wy.Date.dt.year\n",
    "    wy.loc[:,'day'] = wy.Date.dt.day\n",
    "    \n",
    "    c  = wy.loc[:,'month']<10\n",
    "    wy.loc[:,'year'] = 2000\n",
    "    wy.loc[~c,'year'] = 1999\n",
    "    wy.loc[:, 'WY_date'] = pd.to_datetime(wy.loc[:,['year','month','day']])\n",
    "    \n",
    "    wy = wy.loc[:,'WY_date'].values\n",
    "    \n",
    "    return wy"
   ]
  },
  {
   "cell_type": "code",
   "execution_count": null,
   "id": "82a6f78f-5d7b-4317-9567-12998b6e15d8",
   "metadata": {},
   "outputs": [],
   "source": [
    "def plot_by_wy(df1,df2, df3, df4, year = 2018):\n",
    "    fig, ax = plt.subplots(4,1, sharex = True, figsize = (10,6), )\n",
    "    \n",
    "    \n",
    "    for cnt, df in enumerate([df1, df2, df3, df4]):\n",
    "        for group, df  in get_wy(df).groupby('Water Year'):\n",
    "            df = df.sort_index()\n",
    "            if group == year:\n",
    "                c = 'k'\n",
    "                lw = 3\n",
    "            else:\n",
    "                c = None\n",
    "                lw = 1\n",
    "            ax[cnt].plot(df.loc[:,'Date'], df.iloc[:,0], label =f\"WY {group}\", c =c, lw = lw)\n",
    "\n",
    "        ax[cnt].set_yscale(\"log\")\n",
    "        ax[cnt].set_title(df.columns[0])\n",
    "        ax[cnt].set_ylabel('cfs')\n",
    "        ax[cnt].grid(True)\n",
    "    ax[0].legend(loc = 'upper left', bbox_to_anchor = (1,1))\n",
    "    \n",
    "    ax[0].xaxis.set_minor_locator(mdates.MonthLocator(range(1,13)))\n",
    "    ax[0].xaxis.set_major_locator(mdates.MonthLocator(range(1,13)))\n",
    "    ax[0].xaxis.set_major_formatter(mdates.DateFormatter('%b'))\n",
    "    \n",
    "def get_wy(ser):\n",
    "    # ser.loc[:,'Water Year'] = af.water_year(ser)\n",
    "    ser.loc[:, 'Water Year'] = af.water_year(ser.index)\n",
    "    ser.loc[:,'Date'] = julian_water_year(ser.index.to_series())\n",
    "    \n",
    "    \n",
    "    return ser"
   ]
  },
  {
   "cell_type": "code",
   "execution_count": null,
   "id": "3c400c60-14eb-4e8d-973a-0b37404e5d00",
   "metadata": {},
   "outputs": [],
   "source": [
    "plot_by_wy(rr, dry, mw, total)"
   ]
  },
  {
   "cell_type": "code",
   "execution_count": null,
   "id": "596b9fdf-e290-49d8-90f2-d2e55068df14",
   "metadata": {},
   "outputs": [],
   "source": [
    "julian_water_year(rr.index)"
   ]
  },
  {
   "cell_type": "code",
   "execution_count": null,
   "id": "d364bc57-44d7-4859-bd69-d0f917e46e27",
   "metadata": {},
   "outputs": [],
   "source": [
    "get_wy(rr)"
   ]
  },
  {
   "cell_type": "code",
   "execution_count": null,
   "id": "9d40facd-960f-411c-bebc-8d7e436e22d0",
   "metadata": {},
   "outputs": [],
   "source": []
  },
  {
   "cell_type": "code",
   "execution_count": null,
   "id": "d0c9874c-7e12-41e4-b784-4957ce85caa9",
   "metadata": {},
   "outputs": [],
   "source": []
  },
  {
   "cell_type": "code",
   "execution_count": null,
   "id": "706ee9fa-1afa-4336-943d-58e73775d370",
   "metadata": {},
   "outputs": [],
   "source": []
  },
  {
   "cell_type": "code",
   "execution_count": null,
   "id": "5d8be907-8a3b-4e4c-8a35-b1c3ef6f3c16",
   "metadata": {},
   "outputs": [],
   "source": [
    "fig, ax = plt.subplots()\n",
    "for group,df  in get_wy(rr).groupby('Water Year'):\n",
    "    df = df.sort_index()\n",
    "    ax.plot(df.loc[:,'Date'], df.iloc[:,0], label = group)\n",
    "ax.legend()\n",
    "ax.set_yscale('log')"
   ]
  },
  {
   "cell_type": "code",
   "execution_count": null,
   "id": "fe055123-73a2-45a2-ad33-5ca006796f17",
   "metadata": {},
   "outputs": [],
   "source": [
    "df"
   ]
  },
  {
   "cell_type": "code",
   "execution_count": null,
   "id": "5149bb00-3499-46e4-9a5b-315f08542fad",
   "metadata": {},
   "outputs": [],
   "source": [
    "df.set_index('Date').drop(columns = 'Water Year').plot()"
   ]
  },
  {
   "cell_type": "code",
   "execution_count": null,
   "id": "1ee73c7d-2e6f-4f6e-b1bd-123e0ca59392",
   "metadata": {},
   "outputs": [],
   "source": [
    "df.set_index('Date').drop(columns = 'Water Year').sort_index()"
   ]
  },
  {
   "cell_type": "code",
   "execution_count": null,
   "id": "5411beea-f2d4-4e15-b7aa-1dc8e30900db",
   "metadata": {},
   "outputs": [],
   "source": [
    "df.sort_index()"
   ]
  },
  {
   "cell_type": "code",
   "execution_count": null,
   "id": "2661ae4a-672c-43ad-bc44-bc8f170b5f70",
   "metadata": {},
   "outputs": [],
   "source": []
  }
 ],
 "metadata": {
  "kernelspec": {
   "display_name": "Python 3 (ipykernel)",
   "language": "python",
   "name": "python3"
  },
  "language_info": {
   "codemirror_mode": {
    "name": "ipython",
    "version": 3
   },
   "file_extension": ".py",
   "mimetype": "text/x-python",
   "name": "python",
   "nbconvert_exporter": "python",
   "pygments_lexer": "ipython3",
   "version": "3.10.4"
  }
 },
 "nbformat": 4,
 "nbformat_minor": 5
}
