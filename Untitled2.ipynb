{
 "cells": [
  {
   "cell_type": "code",
   "execution_count": null,
   "id": "4f2a2a78-0f18-4786-bc78-d7cca20e0716",
   "metadata": {},
   "outputs": [],
   "source": [
    "import basic\n",
    "import flopy"
   ]
  },
  {
   "cell_type": "code",
   "execution_count": null,
   "id": "a57ca323-7b16-4aa3-aa53-9d6f8dc0cad5",
   "metadata": {},
   "outputs": [],
   "source": [
    "ml = basic.load_model()"
   ]
  },
  {
   "cell_type": "code",
   "execution_count": null,
   "id": "e49b4b3a-ffe2-43a0-bdc8-9cb249389b5a",
   "metadata": {},
   "outputs": [],
   "source": [
    "dis = ml.dis"
   ]
  },
  {
   "cell_type": "code",
   "execution_count": null,
   "id": "19c5e408-3c2b-4952-b4f8-4743df0b988c",
   "metadata": {},
   "outputs": [],
   "source": [
    "dis"
   ]
  },
  {
   "cell_type": "code",
   "execution_count": null,
   "id": "848c1e34-f817-46d6-a25c-6fc8b7acd5a4",
   "metadata": {},
   "outputs": [],
   "source": [
    "for i in range(1):\n",
    "    print(i)"
   ]
  },
  {
   "cell_type": "code",
   "execution_count": null,
   "id": "c15c22ca-6752-4980-a279-1b588b5423a2",
   "metadata": {},
   "outputs": [],
   "source": []
  }
 ],
 "metadata": {
  "kernelspec": {
   "display_name": "Python 3 (ipykernel)",
   "language": "python",
   "name": "python3"
  },
  "language_info": {
   "codemirror_mode": {
    "name": "ipython",
    "version": 3
   },
   "file_extension": ".py",
   "mimetype": "text/x-python",
   "name": "python",
   "nbconvert_exporter": "python",
   "pygments_lexer": "ipython3",
   "version": "3.10.4"
  }
 },
 "nbformat": 4,
 "nbformat_minor": 5
}
