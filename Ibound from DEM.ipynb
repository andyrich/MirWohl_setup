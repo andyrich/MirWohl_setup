{
 "cells": [
  {
   "cell_type": "code",
   "execution_count": null,
   "id": "ad4a999f-6ad6-4cee-81aa-f832c86cf686",
   "metadata": {},
   "outputs": [],
   "source": [
    "import py3dep\n",
    "import geopandas as gpd\n",
    "import matplotlib.patches as mpatches\n",
    "import matplotlib.pyplot as plt\n",
    "import numpy as np\n",
    "import pandas as pd\n",
    "import pynhd as nhd\n",
    "import flopy\n",
    "import geopandas as gpd\n",
    "from pynhd import NLDI, NHDPlusHR, WaterData\n",
    "import contextily as ctx\n",
    "import numpy as np\n",
    "\n",
    "from flopy.utils import Raster\n",
    "import os\n",
    "\n",
    "import geopandas as gpd"
   ]
  },
  {
   "cell_type": "code",
   "execution_count": null,
   "id": "6a6a0bf0-44fd-4d85-8da8-3384fb364cfe",
   "metadata": {},
   "outputs": [],
   "source": [
    "from xrspatial import zonal_stats\n",
    "from rasterio import features\n",
    "from rasterio.enums import MergeAlg\n",
    "from rasterio.plot import show\n",
    "import rasterio\n",
    "import xarray as xr"
   ]
  },
  {
   "cell_type": "markdown",
   "id": "5a95ca88-7e3d-4af5-8348-2ede75002e8b",
   "metadata": {},
   "source": [
    "use xarray zonal stats to calculate minimum elelvation for grid cells\n",
    "\n",
    "\n",
    "https://pygis.io/docs/e_raster_rasterize.html"
   ]
  },
  {
   "cell_type": "code",
   "execution_count": null,
   "id": "f228a293-a86f-41f8-b4c0-5dedeffd5aa9",
   "metadata": {},
   "outputs": [],
   "source": [
    "import basic"
   ]
  },
  {
   "cell_type": "code",
   "execution_count": null,
   "id": "25639d89-dc99-4576-90aa-233ded4deed0",
   "metadata": {},
   "outputs": [],
   "source": [
    "m = basic.load_model()"
   ]
  },
  {
   "cell_type": "code",
   "execution_count": null,
   "id": "cc7d93f4-a7b4-4f96-b58a-80f961a7a5d3",
   "metadata": {},
   "outputs": [],
   "source": [
    "x = m.modelgrid.get_xcellcenters_for_layer(1)\n",
    "y = m.modelgrid.get_ycellcenters_for_layer(1)\n"
   ]
  },
  {
   "cell_type": "code",
   "execution_count": null,
   "id": "7cbcfe94-d6d3-4aae-a740-5ffd68b3d182",
   "metadata": {},
   "outputs": [],
   "source": [
    "mgrid = m.modelgrid"
   ]
  },
  {
   "cell_type": "code",
   "execution_count": null,
   "id": "68420927-3cf5-42cd-91aa-a3beff2da502",
   "metadata": {},
   "outputs": [],
   "source": []
  },
  {
   "cell_type": "code",
   "execution_count": null,
   "id": "01033ebe-5f6d-44d3-b242-da0ade669cac",
   "metadata": {},
   "outputs": [],
   "source": [
    "\n",
    "dst_crs = 'EPSG:2226'\n",
    "raster_ws = os.path.join(\"GIS\", \"DEM\")\n",
    "raster_name = \"output_be_DTM.tif\"\n",
    "rast = os.path.join(raster_ws, raster_name)\n",
    "rio = Raster.load(rast)\n",
    "\n"
   ]
  },
  {
   "cell_type": "code",
   "execution_count": null,
   "id": "9da74352-7279-4cfc-8e0a-e5e10cf484b6",
   "metadata": {},
   "outputs": [],
   "source": [
    "\n",
    "\n",
    "arr = rio.get_array(1)\n",
    "idx = np.isfinite(arr)\n",
    "\n",
    "vmin, vmax = arr[idx].min(), arr[idx].max()\n",
    "vmin, vmax\n",
    "\n"
   ]
  },
  {
   "cell_type": "code",
   "execution_count": null,
   "id": "476c5db0-10c6-4d8a-8686-de268dc09558",
   "metadata": {},
   "outputs": [],
   "source": [
    "fig = plt.figure(figsize=(12, 12))\n",
    "ax = fig.add_subplot(1, 1, 1, aspect=\"equal\")\n",
    "\n",
    "ax = rio.plot(ax=ax, vmin=vmin, vmax=vmax)\n",
    "plt.colorbar(ax.images[0], shrink=0.7);\n",
    "\n",
    "\n",
    "\n"
   ]
  },
  {
   "cell_type": "code",
   "execution_count": null,
   "id": "3f23d592-1ddb-4020-89d3-d012388dcc14",
   "metadata": {},
   "outputs": [],
   "source": [
    "rio.bounds"
   ]
  },
  {
   "cell_type": "code",
   "execution_count": null,
   "id": "471d44c2-d862-42b4-ab97-27ebba2439ef",
   "metadata": {},
   "outputs": [],
   "source": [
    "fig = plt.figure(figsize=(12, 12))\n",
    "ax = fig.add_subplot(1, 1, 1, aspect=\"equal\")\n",
    "\n",
    "ax = rio.plot(ax=ax, vmin=vmin, vmax=vmax)\n",
    "plt.colorbar(ax.images[0], shrink=0.7)\n",
    "pmv = flopy.plot.PlotMapView(modelgrid=m.modelgrid)\n",
    "pmv.plot_grid(ax=ax, lw=0.5, color=\"black\");"
   ]
  },
  {
   "cell_type": "code",
   "execution_count": null,
   "id": "80307390-ca7d-4e32-94cd-c7727af46d8c",
   "metadata": {},
   "outputs": [],
   "source": []
  },
  {
   "cell_type": "code",
   "execution_count": null,
   "id": "f14d7a53-bdfc-4fb2-a598-ee471bd0b63d",
   "metadata": {},
   "outputs": [],
   "source": []
  },
  {
   "cell_type": "code",
   "execution_count": null,
   "id": "3ba7298b-05f0-4a22-86c9-e69ddf2aee3b",
   "metadata": {},
   "outputs": [],
   "source": []
  },
  {
   "cell_type": "markdown",
   "id": "b513c85d-a0b3-41ae-8eed-4a97c1553820",
   "metadata": {},
   "source": [
    "https://pygis.io/docs/e_raster_rasterize.html"
   ]
  },
  {
   "cell_type": "code",
   "execution_count": null,
   "id": "2ec5cb67-2bfb-4bb2-b17d-e446a609bb8a",
   "metadata": {},
   "outputs": [],
   "source": [
    "grid = gpd.read_file(\"GIS/grid.shp\")"
   ]
  },
  {
   "cell_type": "code",
   "execution_count": null,
   "id": "7e2cf392-e50e-4d1c-b309-d1b13ea7d233",
   "metadata": {},
   "outputs": [],
   "source": []
  },
  {
   "cell_type": "code",
   "execution_count": null,
   "id": "012f9a16-1c7a-423e-9057-3b109e0f0016",
   "metadata": {},
   "outputs": [],
   "source": [
    "\n",
    "# Get list of geometries for all features in vector file\n",
    "# geom = [shapes for shapes in grid.geometry]\n",
    "# # create tuples of geometry, value pairs, where value is the attribute value you want to burn\n",
    "# geom_value = ((geom,value) for geom, value in zip(vector.geometry, vector['id']))\n",
    "geom = list((g.geometry, index) for index,g in grid.iterrows())\n",
    "# Read in vector\n",
    "vector = grid\n",
    "\n",
    "# Open  raster\n",
    "raster = rasterio.open(rast)"
   ]
  },
  {
   "cell_type": "code",
   "execution_count": null,
   "id": "22d25d71-e686-4499-9fbd-9fb2f53ac83e",
   "metadata": {},
   "outputs": [],
   "source": []
  },
  {
   "cell_type": "code",
   "execution_count": null,
   "id": "1d7ace03-59cb-4d02-a17f-614d28809d16",
   "metadata": {},
   "outputs": [],
   "source": []
  },
  {
   "cell_type": "code",
   "execution_count": null,
   "id": "3d854f87-13ed-4dfd-8056-621e12484b92",
   "metadata": {},
   "outputs": [],
   "source": [
    "# Rasterize vector using the shape and coordinate system of the raster\n",
    "rasterized_grid = features.rasterize(geom,\n",
    "                                out_shape = raster.shape,\n",
    "                                fill = 0,\n",
    "                                out = None,\n",
    "                                transform = raster.transform,\n",
    "                                all_touched = True,\n",
    "                                default_value = 1,\n",
    "                                dtype = None)\n",
    "\n",
    "# Plot raster\n",
    "fig, ax = plt.subplots(1, figsize = (10, 10))\n",
    "show(rasterized_grid, ax = ax)\n",
    "plt.gca().invert_yaxis()"
   ]
  },
  {
   "cell_type": "code",
   "execution_count": null,
   "id": "4575f246-dbdb-4692-901f-a901bf951ef0",
   "metadata": {},
   "outputs": [],
   "source": []
  },
  {
   "cell_type": "code",
   "execution_count": null,
   "id": "a8dcd8ac-6239-4d12-a8a6-b876adfd9e30",
   "metadata": {},
   "outputs": [],
   "source": [
    "data = raster.read()[0,:,:]\n",
    "data.shape"
   ]
  },
  {
   "cell_type": "code",
   "execution_count": null,
   "id": "e5f2eb31-d747-4629-9ca1-587254c9d30e",
   "metadata": {},
   "outputs": [],
   "source": [
    "rasterized_grid.shape"
   ]
  },
  {
   "cell_type": "code",
   "execution_count": null,
   "id": "95a7e364-0f09-40b8-a069-1626fba43250",
   "metadata": {},
   "outputs": [],
   "source": []
  },
  {
   "cell_type": "code",
   "execution_count": null,
   "id": "67364eea-77a1-485b-9e10-47db2b779a72",
   "metadata": {},
   "outputs": [],
   "source": [
    "xr_rast_grid = xr.DataArray(rasterized_grid)\n",
    "xr_rast = xr.DataArray(data)"
   ]
  },
  {
   "cell_type": "code",
   "execution_count": null,
   "id": "1f5386e0-b453-4d6b-91a9-4da5fd361a50",
   "metadata": {},
   "outputs": [],
   "source": [
    "zone = zonal_stats(xr_rast_grid, xr_rast)"
   ]
  },
  {
   "cell_type": "code",
   "execution_count": null,
   "id": "454e7752-bed4-42a0-88e5-fd02adbecb2c",
   "metadata": {},
   "outputs": [],
   "source": [
    "zone.head()"
   ]
  },
  {
   "cell_type": "code",
   "execution_count": null,
   "id": "b4cf5dc4-7036-4cad-82c3-fdcd721658d6",
   "metadata": {},
   "outputs": [],
   "source": [
    "zone_ras = zone.loc[:,'min'].values.reshape((m.dis.nrow, m.dis.ncol))\n",
    "\n",
    "zone_ras = np.ma.array(zone_ras, mask = m.bas6.ibound.array[0]==0)"
   ]
  },
  {
   "cell_type": "code",
   "execution_count": null,
   "id": "036b6653-bdde-4378-bcef-e267048c17f3",
   "metadata": {},
   "outputs": [],
   "source": [
    "\n"
   ]
  },
  {
   "cell_type": "code",
   "execution_count": null,
   "id": "1e8fe46e-91fb-4a2a-8ce4-95c7ad15c79d",
   "metadata": {},
   "outputs": [],
   "source": []
  },
  {
   "cell_type": "code",
   "execution_count": null,
   "id": "0232e4bb-6182-45a8-843f-2df23e51151c",
   "metadata": {},
   "outputs": [],
   "source": [
    "zone_var = zone.loc[:,'std'].values.reshape((m.dis.nrow, m.dis.ncol))\n",
    "\n",
    "zone_var = np.ma.array(zone_var, mask = m.bas6.ibound.array[0]==0)\n",
    "# now to visualize using flopy and matplotlib\n",
    "fig = plt.figure(figsize=(12, 12))\n",
    "ax = fig.add_subplot(1, 1, 1, aspect=\"equal\")\n",
    "\n",
    "pmv = flopy.plot.PlotMapView(modelgrid=m.modelgrid, ax=ax)\n",
    "ax = pmv.plot_array(\n",
    "    zone_var, masked_values=rio.nodatavals, cmap = 'terrain'\n",
    ")\n",
    "\n",
    "plt.colorbar(ax, shrink=0.7);\n",
    "plt.title('Model Cell Variance')"
   ]
  },
  {
   "cell_type": "code",
   "execution_count": null,
   "id": "954a7433-e5ad-466b-9de8-0fb87acf5a6f",
   "metadata": {},
   "outputs": [],
   "source": []
  },
  {
   "cell_type": "code",
   "execution_count": null,
   "id": "0426a35c-e84a-416c-942b-26592e2712f8",
   "metadata": {},
   "outputs": [],
   "source": [
    "\n",
    "\n",
    "# now to visualize using flopy and matplotlib\n",
    "fig = plt.figure(figsize=(12, 12))\n",
    "ax = fig.add_subplot(1, 1, 1, aspect=\"equal\")\n",
    "zone_ras = np.ma.array(zone_ras, mask = m.bas6.ibound.array[0]==0)\n",
    "pmv = flopy.plot.PlotMapView(modelgrid=m.modelgrid, ax=ax)\n",
    "cr = pmv.plot_array(\n",
    "    zone_ras, masked_values=rio.nodatavals, cmap = 'terrain',vmax = 400\n",
    ")\n",
    "\n",
    "plt.colorbar(cr, shrink=0.7);\n",
    "\n",
    "# sfr.plot(ax = ax, zorder = 100, edgecolor = 'k')\n"
   ]
  },
  {
   "cell_type": "code",
   "execution_count": null,
   "id": "63f449ce-5463-46d9-a02d-0b5a5fed1e07",
   "metadata": {},
   "outputs": [],
   "source": []
  },
  {
   "cell_type": "code",
   "execution_count": null,
   "id": "f1454c74-2550-4553-9a51-6f1c90ac755c",
   "metadata": {},
   "outputs": [],
   "source": []
  },
  {
   "cell_type": "code",
   "execution_count": null,
   "id": "4baffc20-928c-4f56-b7aa-940927047ce2",
   "metadata": {},
   "outputs": [],
   "source": [
    "sfr_file = r\"C:\\modeling\\MirabelWohler\\SFR_files\\only_sfr_lines.shp\"\n",
    "\n",
    "sfr = gpd.read_file(sfr_file)"
   ]
  },
  {
   "cell_type": "code",
   "execution_count": null,
   "id": "65be1b55-d02a-4cc9-8c89-ca3f8ee9133d",
   "metadata": {},
   "outputs": [],
   "source": []
  },
  {
   "cell_type": "code",
   "execution_count": null,
   "id": "28650331-3c58-47b1-826e-cb8f3630d11d",
   "metadata": {},
   "outputs": [],
   "source": [
    "os.mkdir('RR_2022\\ibound')"
   ]
  },
  {
   "cell_type": "markdown",
   "id": "4003f49d-7175-47a9-bb89-f6a95b0e551e",
   "metadata": {},
   "source": [
    "# setting i bound with raster elevations..."
   ]
  },
  {
   "cell_type": "code",
   "execution_count": null,
   "id": "0994715b-7bfb-4c75-9cad-46720c2fe3e8",
   "metadata": {},
   "outputs": [],
   "source": [
    "cutoff = 130\n",
    "mask = np.logical_or(m.bas6.ibound.array[0]==0, zone_ras>cutoff)\n",
    "\n",
    "# now to visualize using flopy and matplotlib\n",
    "fig = plt.figure(figsize=(8, 8))\n",
    "ax = fig.add_subplot(1, 1, 1, aspect=\"equal\")\n",
    "zone_ras_filt = np.ma.array(zone_ras, mask = mask )\n",
    "pmv = flopy.plot.PlotMapView(modelgrid=m.modelgrid, ax=ax)\n",
    "\n",
    "cr = pmv.plot_array(\n",
    "    np.ma.array(np.where(zone_ras>cutoff,cutoff, cutoff),mask = m.bas6.ibound.array[0]==0) , cmap = 'Reds', vmin = cutoff-1, vmax = cutoff +1)\n",
    "cr = pmv.plot_array(\n",
    "    zone_ras_filt, masked_values=rio.nodatavals, cmap = 'terrain',vmax = cutoff)\n",
    "\n",
    "plt.colorbar(cr, shrink=0.7);\n",
    "\n",
    "sfr.plot(ax = ax, zorder = 100, edgecolor = 'k')"
   ]
  },
  {
   "cell_type": "code",
   "execution_count": null,
   "id": "58c0c201-efa4-4bad-8e96-4d413a926ca5",
   "metadata": {},
   "outputs": [],
   "source": [
    "import geopandas as gpd\n",
    "import os\n",
    "import numpy as np\n",
    "import basic\n",
    "import matplotlib.pyplot as plt"
   ]
  },
  {
   "cell_type": "code",
   "execution_count": null,
   "id": "54c8b3d1-495a-41c1-adce-3e2c0eafab29",
   "metadata": {},
   "outputs": [],
   "source": [
    "ibound_edit = gpd.read_file(os.path.join('GIS\\ibound_update_2023.shp'))"
   ]
  },
  {
   "cell_type": "code",
   "execution_count": null,
   "id": "a6a0fba7-7c68-46cb-92ea-4a800465a627",
   "metadata": {},
   "outputs": [],
   "source": [
    "ml = basic.load_model()"
   ]
  },
  {
   "cell_type": "code",
   "execution_count": null,
   "id": "e926f5a0-ae97-4819-8bd0-715fbe25dace",
   "metadata": {},
   "outputs": [],
   "source": [
    "plt.imshow(ml.bas6.ibound.array[0])"
   ]
  },
  {
   "cell_type": "code",
   "execution_count": null,
   "id": "8fc08213-65ba-4aa9-bb94-95e667748b29",
   "metadata": {},
   "outputs": [],
   "source": [
    "array"
   ]
  },
  {
   "cell_type": "code",
   "execution_count": null,
   "id": "af1cc773-0c1c-44c9-ab4b-2d809faeae41",
   "metadata": {},
   "outputs": [],
   "source": [
    "array = np.zeros((ml.dis.nrow, ml.dis.ncol), dtype = int)\n",
    "array[ibound_edit.loc[:,'row']-1, ibound_edit.loc[:,'column']-1] = ibound_edit.loc[:,'new_iboun1']\n",
    "plt.imshow(array)"
   ]
  },
  {
   "cell_type": "code",
   "execution_count": null,
   "id": "0050a4fe-3273-4f77-9be6-1676fab87a7b",
   "metadata": {},
   "outputs": [],
   "source": [
    "np.savetxt('RR_2022\\ibound\\lay1.txt', array, fmt = \"%d\")"
   ]
  },
  {
   "cell_type": "code",
   "execution_count": null,
   "id": "995efb86-8cae-48c6-ac85-496fc37409c4",
   "metadata": {},
   "outputs": [],
   "source": [
    "\n",
    "\n",
    "# plt.figure()\n",
    "# plt.imshow(~zone_ras_filt.mask)\n",
    "\n",
    "# np.savetxt('RR_2022\\ibound\\lay1.txt', ~zone_ras_filt.mask, fmt = \"%d\")\n",
    "\n",
    "lay2 = m.bas6.ibound.array[1]==1\n",
    "lay2 = np.logical_and(~mask,lay2)\n",
    "np.savetxt('RR_2022\\ibound\\lay2.txt', lay2, fmt = \"%d\")\n",
    "\n",
    "plt.figure()\n",
    "plt.imshow(lay2)\n",
    "lay3 = m.bas6.ibound.array[2]==1\n",
    "lay3 = np.logical_and(~mask, lay3)\n",
    "np.savetxt('RR_2022\\ibound\\lay3.txt', lay3, fmt = \"%d\")\n",
    "plt.figure()\n",
    "plt.imshow(lay3)"
   ]
  },
  {
   "cell_type": "code",
   "execution_count": null,
   "id": "93edf2a9-3970-4b75-8d03-3e01f384ed87",
   "metadata": {},
   "outputs": [],
   "source": [
    "props = basic.load_mod_props(ml)"
   ]
  },
  {
   "cell_type": "code",
   "execution_count": null,
   "id": "1d105ec2-48ba-4252-b036-e1b3c57f40f9",
   "metadata": {},
   "outputs": [],
   "source": [
    "for layer in zip((props['hk1'], props['hk2'], props['hk2']), ml.bas6.ibound.array):\n",
    "    ar = np.logical_and(layer[0]==0, layer[1]==1)\n",
    "    print(np.sum(np.logical_and(layer[0]==0, layer[1]==1)))\n",
    "    plt.figure()\n",
    "    plt.imshow(ar)\n",
    "    print(ar)"
   ]
  },
  {
   "cell_type": "code",
   "execution_count": null,
   "id": "26deecf4-be0c-4c99-bd94-7cb1bee97e79",
   "metadata": {},
   "outputs": [],
   "source": []
  },
  {
   "cell_type": "code",
   "execution_count": null,
   "id": "b1f5f3c6-0aaa-4e99-9497-630c8e93bfdb",
   "metadata": {},
   "outputs": [],
   "source": []
  }
 ],
 "metadata": {
  "kernelspec": {
   "display_name": "Python 3 (ipykernel)",
   "language": "python",
   "name": "python3"
  },
  "language_info": {
   "codemirror_mode": {
    "name": "ipython",
    "version": 3
   },
   "file_extension": ".py",
   "mimetype": "text/x-python",
   "name": "python",
   "nbconvert_exporter": "python",
   "pygments_lexer": "ipython3",
   "version": "3.10.4"
  }
 },
 "nbformat": 4,
 "nbformat_minor": 5
}
