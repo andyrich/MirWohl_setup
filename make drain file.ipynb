{
 "cells": [
  {
   "cell_type": "code",
   "execution_count": null,
   "id": "3ebce1f4-4687-480c-8c0e-6d876123d430",
   "metadata": {},
   "outputs": [],
   "source": [
    "import flopy\n",
    "import os\n",
    "import geopandas as gpd\n",
    "import matplotlib.patches as mpatches\n",
    "import matplotlib.pyplot as plt\n",
    "import geopandas as gpd\n",
    "import basic\n",
    "import contextily as ctx\n",
    "import pandas as pd\n",
    "import numpy as np\n",
    "import cartopy.crs as ccrs\n",
    "import os\n",
    "import matplotlib.pyplot as plt\n",
    "\n",
    "import warnings"
   ]
  },
  {
   "cell_type": "code",
   "execution_count": null,
   "id": "aeae7476-c362-4b91-a624-49b495491981",
   "metadata": {},
   "outputs": [],
   "source": [
    "import os\n",
    "os.getcwd()"
   ]
  },
  {
   "cell_type": "code",
   "execution_count": null,
   "id": "6f280664-a296-40d2-a04c-28d489028a2f",
   "metadata": {},
   "outputs": [],
   "source": [
    "m = basic.load_model()"
   ]
  },
  {
   "cell_type": "code",
   "execution_count": null,
   "id": "641924a9-e669-4476-9525-c8b5cefab219",
   "metadata": {},
   "outputs": [],
   "source": [
    "swr = gpd.read_file('GIS/SWR_Reaches.shp')"
   ]
  },
  {
   "cell_type": "code",
   "execution_count": null,
   "id": "020a0305-17a2-44d2-b04f-1222e3f87105",
   "metadata": {},
   "outputs": [],
   "source": [
    "sfr = gpd.read_file('GIS/nhd_hr_demo_sfr_cells.shp')"
   ]
  },
  {
   "cell_type": "code",
   "execution_count": null,
   "id": "b506029b-1eb6-4cdc-b415-243cc19218e2",
   "metadata": {},
   "outputs": [],
   "source": [
    "# [lay, row, col, stage, cond]"
   ]
  },
  {
   "cell_type": "code",
   "execution_count": null,
   "id": "21ae0b43-3d85-446d-8c09-436f495d2262",
   "metadata": {},
   "outputs": [],
   "source": []
  },
  {
   "cell_type": "code",
   "execution_count": null,
   "id": "e5e11d46-dd52-46a2-8b50-574b4318b680",
   "metadata": {},
   "outputs": [],
   "source": [
    "# get stream thalwegs to use as drain reach\n",
    "swr__ = gpd.read_file(\"GIS/SWR_Reaches.shp\")\n",
    "min_elev = pd.read_csv(os.path.join('RR_2022/inputs/start_stage.tab'),sep = '\\t', header = None)\n",
    "min_elev.columns = ['reach', 'start_stage']\n",
    "min_elev = pd.merge(min_elev, swr__.loc[:,['k','i','j','rno']], left_index = True, right_on = 'rno').drop(columns = 'rno')\n",
    "min_elev = min_elev.rename(columns = {'start_stage':'modeltop'})\n",
    "min_elev"
   ]
  },
  {
   "cell_type": "code",
   "execution_count": null,
   "id": "5f5163f7-e2b7-493f-82d1-a26fd3a20261",
   "metadata": {},
   "outputs": [],
   "source": [
    "swr_active = False # set to true if SWR is active. this way no drain/swr cells will overlap"
   ]
  },
  {
   "cell_type": "code",
   "execution_count": null,
   "id": "065d9f33-de26-42a5-8504-9f13544bdc97",
   "metadata": {},
   "outputs": [],
   "source": [
    "stress_period = sfr.copy()\n",
    "\n",
    "if swr_active:\n",
    "    stress_period = stress_period.loc[~stress_period.node.isin(swr.node)]\n",
    "    stress_period = stress_period.drop_duplicates(['i','j'])\n",
    "else:\n",
    "    stress_period = stress_period.loc[~stress_period.node.isin(swr.node)]\n",
    "    stress_period = stress_period.drop_duplicates(['i','j'])\n",
    "\n",
    "    stress_period = stress_period.append(min_elev)\n",
    "    \n",
    "\n",
    "stress_period.loc[:,'modeltop'] = m.dis.top[stress_period.loc[:,'i'], stress_period.loc[:,'j']]\n",
    "stress_period.loc[:,'cond']  = 10000000\n",
    "stress_period = stress_period.astype({'k':int, 'i':int, 'j':int})\n",
    "stress_period = stress_period.loc[:,['k', 'i' , 'j', 'modeltop', 'cond']]\n",
    "stress_period\n"
   ]
  },
  {
   "cell_type": "code",
   "execution_count": null,
   "id": "e551ef39-0ed6-4249-a67b-6b85d411fc3a",
   "metadata": {},
   "outputs": [],
   "source": []
  },
  {
   "cell_type": "code",
   "execution_count": null,
   "id": "138c9227-91ec-45ed-a462-91e033d7bb4b",
   "metadata": {},
   "outputs": [],
   "source": []
  },
  {
   "cell_type": "code",
   "execution_count": null,
   "id": "aeb9e747-08f8-4297-85c1-1ebf6aff57cb",
   "metadata": {},
   "outputs": [],
   "source": [
    "if stress_period.shape[0] == stress_period.drop_duplicates(['i','j']).shape[0]:\n",
    "    print('there are no overlapping drain and SWR cells')\n",
    "else:\n",
    "    s = stress_period.shape[0] - stress_period.drop_duplicates(['i','j']).shape[0]\n",
    "    warnings.warn(f'there ARE {s} overlapping drain and SWR cells')\n",
    "    "
   ]
  },
  {
   "cell_type": "code",
   "execution_count": null,
   "id": "758a5e5d-3d34-4f2f-a228-b803e5eb7b7a",
   "metadata": {
    "tags": []
   },
   "outputs": [],
   "source": [
    "allsp = {x:(stress_period.values if x==0 else -1)  for x  in range(m.dis.nper-1)  }\n",
    "allsp"
   ]
  },
  {
   "cell_type": "code",
   "execution_count": null,
   "id": "0000cbd9-08b6-44da-8829-6a0265153b54",
   "metadata": {},
   "outputs": [],
   "source": [
    "drn = flopy.modflow.mfdrn.ModflowDrn(m, stress_period_data= allsp)"
   ]
  },
  {
   "cell_type": "code",
   "execution_count": null,
   "id": "2ae0ea06-ae79-45f4-aa7f-9b54c1fda028",
   "metadata": {},
   "outputs": [],
   "source": [
    "drn.write_file()\n",
    "drn.plot(kper = 0, mflay  = 0)"
   ]
  },
  {
   "cell_type": "code",
   "execution_count": null,
   "id": "631f32af-8b95-45ad-a86c-ac361264bfa9",
   "metadata": {},
   "outputs": [],
   "source": []
  },
  {
   "cell_type": "code",
   "execution_count": null,
   "id": "b41e3c8c-2033-481b-b023-e14a434086bf",
   "metadata": {},
   "outputs": [],
   "source": []
  },
  {
   "cell_type": "code",
   "execution_count": null,
   "id": "99384390-1477-4184-86c7-df54af952060",
   "metadata": {},
   "outputs": [],
   "source": []
  }
 ],
 "metadata": {
  "kernelspec": {
   "display_name": "Python 3 (ipykernel)",
   "language": "python",
   "name": "python3"
  },
  "language_info": {
   "codemirror_mode": {
    "name": "ipython",
    "version": 3
   },
   "file_extension": ".py",
   "mimetype": "text/x-python",
   "name": "python",
   "nbconvert_exporter": "python",
   "pygments_lexer": "ipython3",
   "version": "3.10.4"
  }
 },
 "nbformat": 4,
 "nbformat_minor": 5
}
