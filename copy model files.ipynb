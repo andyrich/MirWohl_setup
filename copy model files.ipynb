{
 "cells": [
  {
   "cell_type": "code",
   "execution_count": null,
   "id": "c7f1b9b8-3b07-426a-aaec-9ebd03ea0093",
   "metadata": {},
   "outputs": [],
   "source": [
    "\n",
    "import os\n",
    "import shutil\n",
    "from pathlib import Path\n",
    "from shutil import copytree, ignore_patterns\n",
    "def copy_mod_files(run_name, path = None):\n",
    "    \n",
    "    if path is None:\n",
    "        path = 'RR_2022'\n",
    "        \n",
    "    if os.path.exists(os.path.join('versions', run_name, 'model_files')):\n",
    "        shutil.rmtree(os.path.join('versions', run_name, 'model_files'))\n",
    "        \n",
    "    ignore = ignore_patterns('*.exe','*RR.rch', '*.lst', '*.evt','*.chk',\n",
    "                             '*.git*', '*.ipy*', '*.py','pond_inflows*',\n",
    "                             'dis_versions*','Results','^.bat',\n",
    "                             'IS*.dat','*.hds', '*.cbc', 'Conv*', 'day*',\n",
    "                             'solution*','*.riv')\n",
    "    \n",
    "    copytree(path, os.path.join('versions', run_name, 'model_files'), ignore = ignore)\n",
    "    out_folder = os.path.join('versions', run_name, 'model_files')\n",
    "    make_model_files_html(run_name)\n",
    "    \n",
    "def make_model_files_html(run_name):\n",
    "    head = '''<h1>Model Files</h1>\\n'''\n",
    "    b = \"\"\"<a href=\"{:}\"> {:}<br></a>\\n\"\"\".format\n",
    "    \n",
    "    gallery = Path(os.path.join('versions', run_name, 'model_files')).glob('**/*')\n",
    "    print(gallery)\n",
    "    print('\\n\\n\\n\\n')\n",
    "    with open(os.path.join('versions', run_name, 'model_files.html'), 'w') as outfile:\n",
    "        outfile.write(head)\n",
    "        for v in gallery:\n",
    "            if v.is_file():\n",
    "                outfile.write(b(v.relative_to(Path('versions',run_name)),v.name))\n",
    "                # print(outfile.write(b(v,v)))\n",
    "                print(v)\n",
    "\n",
    "\n"
   ]
  },
  {
   "cell_type": "code",
   "execution_count": null,
   "id": "8a89644d-2f10-4a28-baca-150f3fc2f4f7",
   "metadata": {},
   "outputs": [],
   "source": [
    "shutil.copyfile()"
   ]
  },
  {
   "cell_type": "code",
   "execution_count": null,
   "id": "caf3e08a-273a-46a7-88f3-8542ad170cd6",
   "metadata": {},
   "outputs": [],
   "source": [
    "copy_mod_files('June2012')"
   ]
  },
  {
   "cell_type": "code",
   "execution_count": null,
   "id": "ab111c75-e14e-4e59-bb82-a2364aa1bfcb",
   "metadata": {},
   "outputs": [],
   "source": [
    "p = Path(\"versions\\June2012\\model_files\\ref\\inflow.dat\")"
   ]
  },
  {
   "cell_type": "code",
   "execution_count": null,
   "id": "edb289a9-32ad-4ecd-ba2e-42d7b5ea1b60",
   "metadata": {},
   "outputs": [],
   "source": []
  },
  {
   "cell_type": "code",
   "execution_count": null,
   "id": "d96f3071-3c07-419f-b82a-dc832e12d102",
   "metadata": {},
   "outputs": [],
   "source": [
    "a = Path(\"versions\\June2012\")"
   ]
  },
  {
   "cell_type": "code",
   "execution_count": null,
   "id": "b2fb3651-a6d3-4879-88af-6ec96cbe47db",
   "metadata": {},
   "outputs": [],
   "source": [
    "p.relative_to(a)"
   ]
  },
  {
   "cell_type": "code",
   "execution_count": null,
   "id": "cba67526-9aa1-4cb2-8478-0ec4972ea662",
   "metadata": {},
   "outputs": [],
   "source": [
    "p.relative_to(Path('versions\\June2012')).parent"
   ]
  },
  {
   "cell_type": "code",
   "execution_count": null,
   "id": "28d19ffa-d192-44e1-90a5-0884b1f77162",
   "metadata": {},
   "outputs": [],
   "source": [
    "str(p.relative_to(Path('versions\\June2012'))).replace(\"\"\"model_files\\\"\"\",'').lstrip('\\')"
   ]
  },
  {
   "cell_type": "code",
   "execution_count": null,
   "id": "c18e343a-7049-4a5d-a2a5-e8c45326846f",
   "metadata": {},
   "outputs": [],
   "source": [
    "p.relative_to(Path('versions\\June2012'))"
   ]
  },
  {
   "cell_type": "code",
   "execution_count": null,
   "id": "9a7285de-ca38-4f19-a1bb-c5cabd15695d",
   "metadata": {},
   "outputs": [],
   "source": [
    "os.getcwd()"
   ]
  },
  {
   "cell_type": "code",
   "execution_count": null,
   "id": "6f3d796b-74a1-402e-a5dd-23c49dd043dc",
   "metadata": {},
   "outputs": [],
   "source": []
  }
 ],
 "metadata": {
  "kernelspec": {
   "display_name": "Python 3 (ipykernel)",
   "language": "python",
   "name": "python3"
  },
  "language_info": {
   "codemirror_mode": {
    "name": "ipython",
    "version": 3
   },
   "file_extension": ".py",
   "mimetype": "text/x-python",
   "name": "python",
   "nbconvert_exporter": "python",
   "pygments_lexer": "ipython3",
   "version": "3.10.4"
  }
 },
 "nbformat": 4,
 "nbformat_minor": 5
}
