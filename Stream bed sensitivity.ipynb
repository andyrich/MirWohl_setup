{
 "cells": [
  {
   "cell_type": "code",
   "execution_count": null,
   "id": "2e16480f-d5b2-4232-9586-ebfbf5f62dda",
   "metadata": {
    "tags": []
   },
   "outputs": [],
   "source": [
    "import basic\n",
    "import os\n",
    "import matplotlib.pyplot as plt\n",
    "import geopandas as gpd\n",
    "import postprocess\n",
    "import pandas as pd\n",
    "import numpy as np\n",
    "import run_parallel\n",
    "import write_inflows\n",
    "import make_wells\n",
    "\n",
    "import matplotlib.dates as mdates\n",
    "import matplotlib.cbook as cbook\n",
    "\n",
    "import conda_scripts.utils.folium_maps as fm\n",
    "from importlib import reload\n",
    "import cartopy.crs as ccrs\n",
    "\n",
    "import conda_scripts\n",
    "from matplotlib import gridspec\n",
    "import contextily as ctx"
   ]
  },
  {
   "cell_type": "code",
   "execution_count": null,
   "id": "de0ed65b-b4c1-470f-a7cc-d47801c7a1a0",
   "metadata": {
    "tags": []
   },
   "outputs": [],
   "source": [
    "\n",
    "# path = \"RR_2022\\Results\"\n",
    "remove_ponds = True\n",
    "max_reach = 76\n",
    "datestart = '1/1/2013'\n",
    "post_process_only = True\n",
    "copyfiles_from_base = True\n",
    "numdays = 1095\n",
    "runs = ['SWR_short_2lays_low_SWRK',\n",
    "\"Base_model_07142023_constant_swrk\",\n",
    "       \"SWR_short_2lays_med_SWRK\"]\n",
    "\n",
    "\n"
   ]
  },
  {
   "cell_type": "code",
   "execution_count": null,
   "id": "f1a60b85-6466-4f26-9ca5-e6be726e6160",
   "metadata": {
    "tags": []
   },
   "outputs": [],
   "source": []
  },
  {
   "cell_type": "code",
   "execution_count": null,
   "id": "37812962-d72f-4191-a2e7-88848b424f20",
   "metadata": {
    "tags": []
   },
   "outputs": [],
   "source": [
    "# path = \"RR_2022\\Results\"\n",
    "remove_ponds = True\n",
    "max_reach = 76\n",
    "datestart = '1/1/2013'\n",
    "post_process_only = True\n",
    "copyfiles_from_base = True\n",
    "numdays = 3286\n",
    "runs = {\n",
    "   'Base': \"Base_model_long_07142023_constant_swrk\",\n",
    "    \"Low K\":'SWR_long_2lays_low_SWRK',\n",
    "    \"Med K\":'SWR_long_2lays_med_SWRK',\n",
    "\n",
    "}\n",
    "\n",
    "ml = basic.load_model(path = os.path.join('temp', runs[list(runs.keys())[0]]))"
   ]
  },
  {
   "cell_type": "code",
   "execution_count": null,
   "id": "0fcd8cfd-16db-4651-b8f8-328d60de2434",
   "metadata": {
    "tags": []
   },
   "outputs": [],
   "source": []
  },
  {
   "cell_type": "code",
   "execution_count": null,
   "id": "1516c94c-b7bf-443e-a955-febbc103bead",
   "metadata": {
    "tags": []
   },
   "outputs": [],
   "source": []
  },
  {
   "cell_type": "code",
   "execution_count": null,
   "id": "b7963d3c-c65c-459d-bb54-ea0a1c73b61c",
   "metadata": {
    "tags": []
   },
   "outputs": [],
   "source": [
    "df.plot(x = 'HEADDIFF', y = \"QAQFLOW\",marker = '.', linestyle =  '')"
   ]
  },
  {
   "cell_type": "code",
   "execution_count": null,
   "id": "09cbb682-db19-4f19-bfd9-640f72c89c0c",
   "metadata": {},
   "outputs": [],
   "source": []
  },
  {
   "cell_type": "code",
   "execution_count": null,
   "id": "394867c9-cc95-4816-8217-6639b5f38fe4",
   "metadata": {
    "tags": []
   },
   "outputs": [],
   "source": [
    "os.listdir(f'versions\\{runs[0]}\\hydrographs')"
   ]
  },
  {
   "cell_type": "code",
   "execution_count": null,
   "id": "928b0541-b853-41d7-a339-a4c2e3e9b1e0",
   "metadata": {
    "tags": []
   },
   "outputs": [],
   "source": [
    "os.listdir(f'versions\\{runs[0]}\\\\budget')"
   ]
  },
  {
   "cell_type": "code",
   "execution_count": null,
   "id": "a36f3ae3-35cf-470e-af56-1adc62076b84",
   "metadata": {
    "tags": []
   },
   "outputs": [],
   "source": []
  },
  {
   "cell_type": "code",
   "execution_count": null,
   "id": "ca6eae9f-171d-4654-8f0a-b647bbae2593",
   "metadata": {
    "tags": []
   },
   "outputs": [],
   "source": [
    "reload(make_wells)"
   ]
  },
  {
   "cell_type": "code",
   "execution_count": null,
   "id": "e7858b95-fef4-4373-9305-f1aee41ef7bf",
   "metadata": {
    "tags": []
   },
   "outputs": [],
   "source": [
    "import geemap\n",
    "import ee\n",
    "Map = geemap.Map()\n",
    "\n",
    "# Add Earth Engine dataset\n",
    "dem = ee.Image('USGS/SRTMGL1_003')\n",
    "landcover = ee.Image(\"ESA/GLOBCOVER_L4_200901_200912_V2_3\").select('landcover')\n",
    "landsat7 = ee.Image('LANDSAT/LE7_TOA_5YEAR/1999_2003')\n",
    "states = ee.FeatureCollection(\"TIGER/2018/States\")\n",
    "\n",
    "# Set visualization parameters.\n",
    "vis_params = {\n",
    "    'min': 0,\n",
    "    'max': 4000,\n",
    "    'palette': ['006633', 'E5FFCC', '662A00', 'D8D8D8', 'F5F5F5'],\n",
    "}\n",
    "\n",
    "# Add Earth Engine layers to Map\n",
    "Map.addLayer(dem, vis_params, 'SRTM DEM', True, 0.5)\n",
    "Map.addLayer(landcover, {}, 'Land cover')\n",
    "Map.addLayer(\n",
    "    landsat7, {'bands': ['B4', 'B3', 'B2'], 'min': 20, 'max': 200}, 'Landsat 7'\n",
    ")\n",
    "Map.addLayer(states, {}, \"US States\")\n",
    "\n",
    "\n",
    "\n",
    "label = 'Urban Growth in Las Vegas'\n",
    "Map.add_landsat_ts_gif(\n",
    "    label=label,\n",
    "    start_year=1985,\n",
    "    bands=['Red', 'Green', 'Blue'],\n",
    "    font_color='white',\n",
    "    frames_per_second=10,\n",
    "    progress_bar_color='blue',\n",
    ")\n"
   ]
  },
  {
   "cell_type": "code",
   "execution_count": null,
   "id": "eb8a0a48-46cd-476a-855a-993c521e0975",
   "metadata": {
    "tags": []
   },
   "outputs": [],
   "source": [
    "del Map"
   ]
  },
  {
   "cell_type": "code",
   "execution_count": null,
   "id": "15ab82bd-2926-4f49-b5ed-98b03bb69109",
   "metadata": {
    "tags": []
   },
   "outputs": [],
   "source": [
    "\n",
    "\n",
    "\n",
    "\n"
   ]
  },
  {
   "cell_type": "code",
   "execution_count": null,
   "id": "e4b22c32-571d-4fb2-acb4-0397a3df4423",
   "metadata": {
    "tags": []
   },
   "outputs": [],
   "source": []
  },
  {
   "cell_type": "code",
   "execution_count": null,
   "id": "a48324ab-13d8-4e47-813d-e7e90ce79b1b",
   "metadata": {
    "tags": []
   },
   "outputs": [],
   "source": []
  },
  {
   "cell_type": "code",
   "execution_count": null,
   "id": "4cbae54e-1435-4bf9-8b3e-c414165bc4e2",
   "metadata": {
    "tags": []
   },
   "outputs": [],
   "source": []
  },
  {
   "cell_type": "code",
   "execution_count": null,
   "id": "13b5f735-d02d-4b80-9978-b9b7c3187540",
   "metadata": {
    "tags": []
   },
   "outputs": [],
   "source": []
  },
  {
   "cell_type": "code",
   "execution_count": null,
   "id": "6d3f3f4f-0c71-4a3a-8c31-0b4ad7a16977",
   "metadata": {
    "tags": []
   },
   "outputs": [],
   "source": []
  },
  {
   "cell_type": "code",
   "execution_count": null,
   "id": "1b456384-ed50-4eae-bc01-bb8e79bf46be",
   "metadata": {
    "tags": []
   },
   "outputs": [],
   "source": []
  },
  {
   "cell_type": "code",
   "execution_count": null,
   "id": "b37bcd77-ad42-4a55-b5c7-f756acd187b8",
   "metadata": {
    "tags": []
   },
   "outputs": [],
   "source": []
  },
  {
   "cell_type": "code",
   "execution_count": null,
   "id": "93bfed68-08a1-444e-89a6-3e825fef5a1d",
   "metadata": {
    "tags": []
   },
   "outputs": [],
   "source": [
    "\n"
   ]
  },
  {
   "cell_type": "code",
   "execution_count": null,
   "id": "20f1be14-191d-4c75-be85-48fc3903bb95",
   "metadata": {
    "tags": []
   },
   "outputs": [],
   "source": [
    "def load_background():\n",
    "    pump = make_wells.run(name = runs[0], m = m, numdays = None, datestart = None, write_output = False)\n",
    "    pump = pump.droplevel(1,0)\n",
    "    \n",
    "    sim_stage = pd.read_csv(os.path.join('versions',f'{runs[0]}','budget', 'stage_modeled.csv' ))\n",
    "    sim_stage = sim_stage.set_index('TOTIME')\n",
    "    sim_stage.index = pd.to_datetime(sim_stage.index)\n",
    "    sim_stage = sim_stage.resample(\"1D\").mean()\n",
    "    sim_stage.loc[:,\"Reach 76, simulated\"] = sim_stage.loc[:,\"Reach 76, simulated\"].interpolate()\n",
    "    sim_stage = sim_stage.rename(columns = {\"Reach 76, simulated\":'Dam Elevation'})\n",
    "    sim_stage.head()\n",
    "    \n",
    "    rr, dry, mw, total, stg = write_inflows.run(runs[0], m= m, write_output= False)\n",
    "    total = total.rename(columns = {\"rrtotal\":'Russian River'})\n",
    "    \n",
    "    return pump, sim_stage, rr, dry, mw, total, stg\n",
    "\n",
    "\n",
    "def plot_bound(axisin, pump, sim_stage, total):\n",
    "    \n",
    "    from matplotlib.ticker import FormatStrFormatter\n",
    "    \n",
    "    \n",
    "    sim_stage.plot.area(ax = axisin,color = 'grey',legend =False)\n",
    "    axisin.plot(sim_stage.index, sim_stage.loc[:,'Dam Elevation'], c = 'blue', label = None)\n",
    "    t = axisin.get_yticks()\n",
    "    \n",
    "    ax3 = axisin.twinx()\n",
    "    ax3.set_ylabel('Russian River Discharge')\n",
    "    total.plot.area(ax = ax3, color = 'lightblue', alpha = .5)\n",
    "    ax3.plot(total.index, total.loc[:,'Russian River'], c = 'k', label = None)\n",
    "    ax3.set_yscale('log')\n",
    "    ax3.yaxis.set_major_formatter(FormatStrFormatter('%d'))\n",
    "    ax3.set_ylim([None, ax3.get_ylim()[1]*10])\n",
    "    \n",
    "    ax2 = axisin.twinx()\n",
    "    rspine = ax2.spines['right']\n",
    "    rspine.set_position(('axes', 1.15))\n",
    "    ax2.set_frame_on(True)\n",
    "    ax2.patch.set_visible(False)\n",
    "    ax2.set_ylabel('Pumpage AF')\n",
    "    pump.resample(\"1W\").sum().div(43560.).rename(columns = lambda x: x.replace(\"well\",\"Caisson \")).plot(ax = ax2, stacked = True,legend =False)\n",
    "\n",
    "    ax2.set_ylim([0,None])\n",
    "    \n",
    "    axisin.set_ylim([20,150])\n",
    "    axisin.set_yticks([20, 30,40])\n",
    "    axisin.grid(True)\n",
    "    \n",
    "    h1, l1 = axisin.get_legend_handles_labels()\n",
    "    h2, l2 = ax2.get_legend_handles_labels()\n",
    "    h3, l3 = ax3.get_legend_handles_labels()\n",
    "    \n",
    "    h1.extend(h2)\n",
    "    h1.extend(h3)\n",
    "    l1.extend(l2)\n",
    "    l1.extend(l3)\n",
    "    \n",
    "    ax3.legend(h1, l1, bbox_to_anchor=(1.3, 0.), loc = 'lower left')\n",
    "    \n",
    "    \n",
    "    \n"
   ]
  },
  {
   "cell_type": "code",
   "execution_count": null,
   "id": "f261b5c4-f2d6-4d4a-9c99-f48e6f469e6a",
   "metadata": {
    "tags": []
   },
   "outputs": [],
   "source": [
    "pump, sim_stage, rr, dry, mw, total, stg = basic.load_background(runs[0], ml)"
   ]
  },
  {
   "cell_type": "code",
   "execution_count": null,
   "id": "ed3578e3-ac95-408b-ac17-8bd9be929d56",
   "metadata": {
    "tags": []
   },
   "outputs": [],
   "source": [
    "    \n",
    "fig, (ax1, ax) = plt.subplots(2,1)\n",
    "\n",
    "plot_bound(ax, pump, sim_stage, total)\n",
    "    "
   ]
  },
  {
   "cell_type": "code",
   "execution_count": null,
   "id": "8f5ffb16-07ec-4074-a2cd-2b4458ed7116",
   "metadata": {
    "tags": []
   },
   "outputs": [],
   "source": []
  },
  {
   "cell_type": "code",
   "execution_count": null,
   "id": "134e9855-b68a-4eda-bc2b-42055cf5d341",
   "metadata": {
    "tags": []
   },
   "outputs": [],
   "source": [
    "df = pd.read_csv(f'versions\\{runs[\"Base\"]}\\\\budget\\\\sw_gw_exchange_swr.csv',index_col  =0)\n",
    "df.index = pd.to_datetime(df.index)\n",
    "df = -pd.concat({'Base': df}, names=['Firstlevel'],axis =1)\n",
    "\n",
    "df2 = pd.read_csv(f'versions\\{runs[\"Low K\"]}\\\\budget\\\\sw_gw_exchange_swr.csv',index_col  =0)\n",
    "df2.index = pd.to_datetime(df2.index)\n",
    "df2 = -pd.concat({'Low K': df2}, names=['Firstlevel'],axis =1)\n",
    "\n",
    "df3 = pd.read_csv(f'versions\\{runs[\"Med K\"]}\\\\budget\\\\sw_gw_exchange_swr.csv',index_col  =0)\n",
    "df3.index = pd.to_datetime(df3.index)\n",
    "df3 = -pd.concat({'Med K': df3}, names=['Firstlevel'],axis =1)\n",
    "\n",
    "fig, ax = plt.subplots(1, 3,figsize = (10,5),sharey = True)\n",
    "df.plot(ax = ax[0],legend = False,title = 'Base', xlabel = '')\n",
    "df2.plot(ax = ax[1], legend = False,title = 'Low K', xlabel = '')\n",
    "df3.droplevel(0,1).plot(ax = ax[2], legend = False,title = 'Med K', xlabel = '')\n",
    "ax[2].legend(bbox_to_anchor = (1,1), loc = 'upper left')\n",
    "fig.suptitle('Surface Water Groundwater Interaction Along the SWR Reaches ')\n",
    "ax[0].set_ylabel(r\"Flows, $ft^3/s$ (positive is inflow to stream)\")\n",
    "\n",
    "[x.grid(True)  for x in ax]\n",
    "plt.savefig('streambed_sensitivity\\\\SWR_streambed_sens_awflow_simp_long.png', bbox_inches = 'tight')\n",
    "\n",
    "fig, (ax, axo) = plt.subplots(2, 1,figsize = (10,10))\n",
    "plot_bound(ax, pump, sim_stage, total)\n",
    "\n",
    "df.droplevel(0,1).plot(ax = axo,legend = False,title = 'Base', xlabel = '')\n",
    "axo.legend(bbox_to_anchor = (1,1), loc = 'upper left')\n",
    "fig.suptitle('Surface Water Groundwater Interaction Along the SWR Reaches ')\n",
    "axo.set_ylabel(r\"Flows, $ft^3/s$ (positive is inflow to stream)\")\n",
    "axo.grid(True)\n",
    "\n",
    "\n",
    "plt.savefig('streambed_sensitivity\\\\SWR_streambed_sens_awflow_simp_base_long.png', bbox_inches = 'tight')"
   ]
  },
  {
   "cell_type": "code",
   "execution_count": null,
   "id": "7c1db770-a0f3-4ba6-b735-7d4111b0f3b6",
   "metadata": {
    "tags": []
   },
   "outputs": [],
   "source": [
    "import postprocess\n",
    "import basic\n",
    "import os"
   ]
  },
  {
   "cell_type": "code",
   "execution_count": null,
   "id": "046384b5-031c-4548-bb84-a6f743605315",
   "metadata": {
    "tags": []
   },
   "outputs": [],
   "source": [
    "runs = ['SWR_long_2lays_med_SWRK',\n",
    "\"Base_model_long_07142023_constant_swrk\",\n",
    "'SWR_long_2lays_low_SWRK']"
   ]
  },
  {
   "cell_type": "code",
   "execution_count": null,
   "id": "1e8cf907-90be-4287-9d38-94edce0c34ee",
   "metadata": {
    "tags": []
   },
   "outputs": [],
   "source": [
    "for run in runs:\n",
    "    ml = basic.load_model(path = os.path.join('temp',run))\n",
    "    postprocess.run(run, riv_only = True, m= ml)"
   ]
  },
  {
   "cell_type": "code",
   "execution_count": null,
   "id": "ebd5504b-8e3c-4fe8-9e74-6053d82a5ea1",
   "metadata": {
    "tags": []
   },
   "outputs": [],
   "source": [
    "iswr = postprocess.load_ISWRPQAQ(os.path.join('temp', runs[list(runs.keys())[2]], 'Results'), True, 76, '1/1/2014')"
   ]
  },
  {
   "cell_type": "code",
   "execution_count": null,
   "id": "b11c942b-f314-43b4-abb6-88cc37e9ffb1",
   "metadata": {
    "tags": []
   },
   "outputs": [],
   "source": [
    "iswr.droplevel([1,2,3,4,6]).query(\"REACH>60\").loc[:,'DEPTH'].groupby(level = [0,1]).mean().unstack().iloc[:,::3].plot()"
   ]
  },
  {
   "cell_type": "code",
   "execution_count": null,
   "id": "1e6efccd-dabe-4c9e-8f46-fc7bf00baabb",
   "metadata": {
    "tags": []
   },
   "outputs": [],
   "source": [
    "iswr.droplevel([1,2,3,4,6]).query(\"REACH==60 or REACH==76\").loc[:,'DEPTH'].groupby(level = [0,1]).mean().unstack().plot()"
   ]
  },
  {
   "cell_type": "code",
   "execution_count": null,
   "id": "0722bdcb-5f04-4aac-9f25-cdeafb881e12",
   "metadata": {
    "tags": []
   },
   "outputs": [],
   "source": [
    "sfr_rout = gpd.read_file(\"SFR_files\\only_sfr_routing.shp\")\n",
    "sfr_rout.plot()"
   ]
  },
  {
   "cell_type": "code",
   "execution_count": null,
   "id": "5e0fb88d-06a2-4038-a84c-4b8fb37aaaa5",
   "metadata": {
    "tags": []
   },
   "outputs": [],
   "source": [
    "iswr.droplevel([1,2,3,4,5,6]).loc[:,'QAQFLOW'].plot()"
   ]
  },
  {
   "cell_type": "code",
   "execution_count": null,
   "id": "bdc6a41b-54d3-42e6-901e-1a25b2844c42",
   "metadata": {
    "tags": []
   },
   "outputs": [],
   "source": [
    "sfr = ml.SFR"
   ]
  },
  {
   "cell_type": "code",
   "execution_count": null,
   "id": "a9bdb4f2-3248-4670-b4bd-cffa07cee83c",
   "metadata": {
    "tags": []
   },
   "outputs": [],
   "source": [
    "pd.DataFrame(sfr.reach_data).query(\"iseg == 51\")"
   ]
  },
  {
   "cell_type": "code",
   "execution_count": null,
   "id": "caab365c-45f5-457b-ba4f-bd998d8f1ece",
   "metadata": {
    "tags": []
   },
   "outputs": [],
   "source": [
    "pd.DataFrame(sfr.reach_data).query(\"iseg == 55\")"
   ]
  },
  {
   "cell_type": "code",
   "execution_count": null,
   "id": "248e4b14-0416-462c-95ed-aa790fb1deec",
   "metadata": {
    "tags": []
   },
   "outputs": [],
   "source": [
    "dfall = df2.join(df).join(df3).stack('Firstlevel').swaplevel()"
   ]
  },
  {
   "cell_type": "code",
   "execution_count": null,
   "id": "df4394eb-565a-442a-9c88-d72ba465bcde",
   "metadata": {
    "tags": []
   },
   "outputs": [],
   "source": []
  },
  {
   "cell_type": "code",
   "execution_count": null,
   "id": "e5228997-f6c3-4b89-b617-ba0e41e6198f",
   "metadata": {
    "tags": []
   },
   "outputs": [],
   "source": [
    "fig, ax = plt.subplots(8, sharex = True,figsize = (8,8))\n",
    "\n",
    "for n, col in enumerate(dfall.columns):\n",
    "    \n",
    "    dfall.loc[:,col].unstack(0).plot(ax = ax[n],legend = False)\n",
    "    ax[n].set_ylim([-3, 2.5])\n",
    "    ax[n].grid(True)\n",
    "    ax[n].text(1,0,col, transform = ax[n].transAxes)\n",
    "    \n",
    "ax[0].legend(bbox_to_anchor = (1,1.5), loc = 'upper left')\n",
    "\n",
    "\n",
    "ax[n].xaxis.set_minor_locator(mdates.MonthLocator(interval = 1))\n",
    "ax[n].xaxis.set_major_locator(mdates.MonthLocator(bymonth=[1, 7  ]))\n",
    "ax[n].xaxis.set_major_formatter(\n",
    "    mdates.ConciseDateFormatter(mdates.MonthLocator(bymonth=[1, 7,  ])))\n",
    "\n",
    "ax[4].set_ylabel(r\"Average Flows, $ft^3/s$ (positive is inflow to stream)\")\n",
    "\n",
    "plt.savefig('streambed_sensitivity\\\\SWR_streambed_sens_aq_flow_long.png', bbox_inches = 'tight')"
   ]
  },
  {
   "cell_type": "code",
   "execution_count": null,
   "id": "92429ce4-bb5b-41e6-aecd-8035a78cd282",
   "metadata": {
    "tags": []
   },
   "outputs": [],
   "source": [
    "wells = gpd.read_file(\"GIS/wells_mod.shp\")"
   ]
  },
  {
   "cell_type": "code",
   "execution_count": null,
   "id": "15a5605d-0edb-495d-9343-423fa976fd46",
   "metadata": {
    "tags": []
   },
   "outputs": [],
   "source": []
  },
  {
   "cell_type": "code",
   "execution_count": null,
   "id": "08d5c3b2-c925-425e-809e-3ecea7568751",
   "metadata": {
    "tags": []
   },
   "outputs": [],
   "source": [
    "m =  basic.load_model()\n",
    "\n"
   ]
  },
  {
   "cell_type": "code",
   "execution_count": null,
   "id": "4201d690-b010-43ef-af23-87e8f045cf80",
   "metadata": {
    "tags": []
   },
   "outputs": [],
   "source": []
  },
  {
   "cell_type": "code",
   "execution_count": null,
   "id": "20268563-a38e-4b72-9883-9aabd05619b3",
   "metadata": {
    "tags": []
   },
   "outputs": [],
   "source": []
  },
  {
   "cell_type": "code",
   "execution_count": null,
   "id": "52e97661-f775-448e-bc94-907bb77dbbdc",
   "metadata": {
    "tags": []
   },
   "outputs": [],
   "source": []
  },
  {
   "cell_type": "code",
   "execution_count": null,
   "id": "7c8a0a27-4cf9-46b3-9844-6d9ecf0437b2",
   "metadata": {
    "tags": []
   },
   "outputs": [],
   "source": [
    "def load_h(run, name):\n",
    "    allmeas = pd.read_csv(os.path.join('versions',run, 'hydrographs','all_meas.csv'),index_col = 0)\n",
    "    # allmeas = pd.concat({name: df}, names=['Firstlevel'],axis =1)\n",
    "    allmeas.index = pd.to_datetime(allmeas.index)\n",
    "    return allmeas\n",
    "\n",
    "df = load_h(runs['Low K'], 'Low K')\n",
    "df1 = load_h(runs['Base'], 'Base')\n",
    "df2 = load_h(runs['Med K'], 'Med K')\n",
    "\n",
    "nrow = 2\n",
    "ncol = 4\n",
    "fig, ax = plt.subplots(nrow,ncol,sharex = True,figsize = (30,8) )\n",
    "\n",
    "ax = ax.ravel()\n",
    "\n",
    "def plot_well(welldf, col = 'Simulated', color = None, label = None):\n",
    "    c = 0\n",
    "    for name, well in welldf.loc[welldf.station_no.isin([f'Caisson{x}' for x in np.arange(10)])].groupby('station_no'):\n",
    "        ax[c].plot(well.index, well.loc[:,col], color = color, label = label)\n",
    "\n",
    "        c+=1\n",
    "\n",
    "plot_well(df1,col = 'Observed', color ='grey',label = 'Observed')\n",
    "plot_well(df1,  label = 'Base')\n",
    "plot_well(df2, label = 'Med K')\n",
    "plot_well(df, label = \"Low K\")\n",
    "   \n",
    "\n",
    "c = 0\n",
    "for name, well in df.loc[df.station_no.isin([f'Caisson{x}' for x in np.arange(10)])].groupby('station_no'):\n",
    "    ax[c].grid(True)\n",
    "    ax[c].text(1,1,name, ha = 'right',transform = ax[c].transAxes)\n",
    "    c+=1\n",
    "    \n",
    "plot_bound(ax[-1], pump, sim_stage, total)\n",
    "ax.reshape((nrow,ncol))[0,-1].legend(loc = 'upper left', bbox_to_anchor  = (1,1))\n",
    "ax[-2].yaxis.set_visible(False)\n",
    "fig.suptitle('Simulated Heads for Caissons - Comparing Streambed K versus Base K')\n",
    "# ax[2].xaxis.set_major_locator(mdates.MonthLocator(bymonth=[1,3, 6, 9, ]))\n",
    "# ax.xaxis.set_major_locator(mdates.MonthLocator(interval=1))\n",
    "# ax[5].xaxis.set_major_formatter(\n",
    "#     mdates.ConciseDateFormatter(mdates.MonthLocator(bymonth=[1,3, 6, 9, ])))\n",
    "\n",
    "plt.savefig('streambed_sensitivity\\\\SWR_streambed_sens_long.png', bbox_inches = 'tight')"
   ]
  },
  {
   "cell_type": "code",
   "execution_count": null,
   "id": "9f09425b-ba68-46d9-ba5c-b4755a171676",
   "metadata": {
    "tags": []
   },
   "outputs": [],
   "source": [
    "caisson"
   ]
  },
  {
   "cell_type": "code",
   "execution_count": null,
   "id": "d8a9e34d-953e-4259-bd2c-280b47e56594",
   "metadata": {
    "tags": []
   },
   "outputs": [],
   "source": [
    "def load_h(run, name):\n",
    "    allmeas = pd.read_csv(os.path.join('versions',run, 'hydrographs','all_meas.csv'),index_col = 0)\n",
    "    # allmeas = pd.concat({name: df}, names=['Firstlevel'],axis =1)\n",
    "    allmeas.index = pd.to_datetime(allmeas.index)\n",
    "    return allmeas\n",
    "\n",
    "def load_h(run, name):\n",
    "    allmeas = pd.read_csv(os.path.join('versions',run, 'hydrographs','all_meas.csv'),index_col = 0)\n",
    "    # allmeas = pd.concat({name: df}, names=['Firstlevel'],axis =1)\n",
    "    allmeas.index = pd.to_datetime(allmeas.index)\n",
    "    return allmeas\n",
    "\n",
    "def plot_well_indivdual(welldf, col = 'Simulated', color = None, label = None, well = None):\n",
    "\n",
    "    welldf = welldf.loc[welldf.station_no==well]\n",
    "    ax[0].plot(welldf.index, welldf.loc[:,col], color = color, label = label)\n",
    "\n",
    "\n",
    "            \n",
    "df = load_h(runs['Low K'], 'Low K')\n",
    "df1 = load_h(runs['Base'], 'Base')\n",
    "df2 = load_h(runs['Med K'], 'Med K')\n",
    "\n",
    "nrow = 2\n",
    "ncol = 1\n",
    "\n",
    "for caisson in [f'Caisson{x}' for x in np.arange(1,7)]:\n",
    "    fig, ax = plt.subplots(nrow,ncol,sharex = True,figsize = (12,12) )\n",
    "    ax = ax.ravel()\n",
    "\n",
    "\n",
    "    plot_well_indivdual(df1,col = 'Observed', color ='grey',label = 'Observed', well = caisson)\n",
    "    plot_well_indivdual(df1,  label = \"Base\", well = caisson)\n",
    "    plot_well_indivdual(df2, label = \"Med K\", well = caisson)\n",
    "    plot_well_indivdual(df, label = \"Low K\", well = caisson)\n",
    "\n",
    "\n",
    "    c = 0\n",
    "\n",
    "    ax[c].grid(True)\n",
    "    ax[c].text(1,1,caisson, ha = 'right',transform = ax[c].transAxes)\n",
    "\n",
    "    plot_bound(ax[-1], pump, sim_stage, total)\n",
    "    ax.reshape((nrow,ncol))[0,-1].legend(loc = 'upper left', bbox_to_anchor  = (1,1))\n",
    "    # ax[-2].yaxis.set_visible(False)\n",
    "    fig.suptitle(f'Simulated Heads for {caisson}  - Comparing Streambed K versus Base K')\n",
    "\n",
    "    \n",
    "    plt.savefig(f'streambed_sensitivity\\\\SWR_streambed_sens_{caisson}_long.png', bbox_inches = 'tight')"
   ]
  },
  {
   "cell_type": "code",
   "execution_count": null,
   "id": "67096c3a-5e9c-4b1d-8f80-4672619e3ce4",
   "metadata": {
    "tags": []
   },
   "outputs": [],
   "source": [
    "\n",
    "\n",
    "df = load_h(runs['Low K'], 'Low K')\n",
    "df1 = load_h(runs['Base'], 'Base')\n",
    "df2 = load_h(runs['Med K'], 'Med K')\n",
    "\n",
    "nrows,ncols = 4,5\n",
    "fig, ax = plt.subplots(nrows,ncols,sharex = True,figsize = (15,8) )\n",
    "\n",
    "ax = ax.ravel()\n",
    "\n",
    "def plot_well(welldf, col = 'Simulated', color = None, label = None):\n",
    "    c = 0\n",
    "    for name, well in welldf.loc[~welldf.station_no.isin([f'Caisson{x}' for x in np.arange(10)])].groupby('station_no'):\n",
    "        ax[c].plot(well.index, well.loc[:,col], color = color, label = label)\n",
    "\n",
    "        c+=1\n",
    "\n",
    "plot_well(df1,col = 'Observed', color ='grey',label = 'Observed')\n",
    "plot_well(df1,  label = 'Base')\n",
    "plot_well(df2, label = 'Med K')\n",
    "plot_well(df, label = \"Low K\")\n",
    "   \n",
    "\n",
    "c = 0\n",
    "for name, well in df.loc[~df.station_no.isin([f'Caisson{x}' for x in np.arange(10)])].groupby('station_no'):\n",
    "    ax[c].grid(True)\n",
    "    ax[c].text(1,1,name, ha = 'right',transform = ax[c].transAxes)\n",
    "    c+=1\n",
    "    \n",
    "ax.reshape((nrows,ncols))[0,-1].legend(loc = 'upper left', bbox_to_anchor  = (1,1))\n",
    "  \n",
    "fig.suptitle('Simulated Heads for Monitoring Wells - Comparing Streambed K versus Base K')\n",
    "\n",
    "ax[2].xaxis.set_minor_locator(mdates.MonthLocator(interval = 6))\n",
    "ax[2].xaxis.set_major_locator(mdates.YearLocator(2,1,1))\n",
    "# ax.xaxis.set_major_locator(mdates.MonthLocator(interval=1))\n",
    "ax[5].xaxis.set_major_formatter(\n",
    "    mdates.ConciseDateFormatter(mdates.MonthLocator(bymonth=[1,  ])))\n",
    "\n",
    "plt.savefig('streambed_sensitivity\\\\SWR_streambed_sens_MW_long.png', bbox_inches = 'tight')"
   ]
  },
  {
   "cell_type": "code",
   "execution_count": null,
   "id": "e733feeb-4839-4e7b-aec6-535f6217f871",
   "metadata": {
    "tags": []
   },
   "outputs": [],
   "source": [
    "\n",
    "\n",
    "gs = gridspec.GridSpec(2, 1, height_ratios = [2,1.5])\n",
    "fig = plt.figure(figsize = (10,10))\n",
    "axsRight = fig.add_subplot(gs[0], projection=ccrs.epsg(2226))\n",
    "# axsRight = subfigs[1].subplots(1, 1, sharex=True)\n",
    "# fig, axsRight = basic.basic_map(m, True,ax = axsRight, fig = subfigs[1] , maptype='ctx.USGS.USTopo')\n",
    "fig, ax = basic.basic_map(ml, add_basemap=True, ax = axsRight, fig = subfigs[1] , maptype='ctx.USGS.USTopo')\n",
    "ctx.add_basemap(ax, crs = 2226, source = \"USGS.USTopo\")\n",
    "wells.plot(ax = ax, edgecolor = 'k')\n",
    "\n",
    "# swrpt['geometry'] = swrpt['geometry'].centroid\n",
    "# set_bounds_to_shape(ax, swr)\n",
    "basic.set_bounds(ax)\n",
    "# text = ph.label_points(ax, swrpt.loc[swrpt.rno%5==0].reset_index(),\n",
    "#                        'rno', basin_name = None,text_color = 'k' )\n",
    "\n",
    "text1 = conda_scripts.plot_help.label_points(ax, wells,\n",
    "                                             \n",
    "                       'station_na', iter_limit = 10000, basin_name = None, already_str = False, fmt = \"s\",add_box = True,\n",
    "                                             masked_area = None,\n",
    "                       arrow_props =  dict(arrowstyle='-', color='grey'))"
   ]
  },
  {
   "cell_type": "code",
   "execution_count": null,
   "id": "d5fe84c8-7b2f-46c1-a96e-7ffe1759c07e",
   "metadata": {
    "tags": []
   },
   "outputs": [],
   "source": []
  },
  {
   "cell_type": "code",
   "execution_count": null,
   "id": "e0770ecd-e2ff-47be-be1d-953c75b34d57",
   "metadata": {
    "tags": []
   },
   "outputs": [],
   "source": [
    "\n",
    "\n",
    "ma = wells.explore()\n",
    "fm.add_layers(ma)\n",
    "ma"
   ]
  },
  {
   "cell_type": "code",
   "execution_count": null,
   "id": "2fc1ab7e-a66d-4c77-893a-fab8b594e87c",
   "metadata": {
    "tags": []
   },
   "outputs": [],
   "source": [
    "\n",
    "reload(basic)"
   ]
  },
  {
   "cell_type": "code",
   "execution_count": null,
   "id": "2b8442a5-1a1c-4fd5-8761-25837252b7de",
   "metadata": {
    "tags": []
   },
   "outputs": [],
   "source": [
    "area1 = {\"Mirabel\":['LRR0134', \"LRR0132\", \"LRR0127\", \"LRR0153\"]}\n",
    "area2 = {\"Mark Wesk\":['LRR0142', \"LRR0143\"]}\n",
    "area3 = {\"Lower\":['LRR0140', \"LRR0061\", \"LRR0062\", \"LRR0063\",'LRR0064', \"LRR0065\", ]}\n",
    "area4 = {\"Upper\":[\"LRR0068\", \"LRR0125\", \"LRR0131\", \"LRR0124\"]}\n",
    "area5 = {\"Wohler\":['LRR0070', \"LRR0074\", \"LRR0082\", \"LRR0076\"]}\n",
    "\n",
    "def fix(x):\n",
    "    \n",
    "    f = pd.DataFrame({'well':list(x.values())[0], 'area': list(x.keys())*len(list(x.values())[0]) }, )\n",
    "    \n",
    "    return f\n",
    "\n",
    "wellnames = pd.concat([fix(xi) for xi in [area1, area2, area3, area4, area5, ]])\n",
    "\n",
    "def plot_well_by_area(welldf,ax,  col = 'Simulated', color = None, label = None,area = None ):\n",
    "    welldf = welldf.loc[welldf.well.isin(area.well)]\n",
    "    c = 0\n",
    "    for name, well in welldf.groupby('well'):\n",
    "        ax[c].plot(well.index, well.loc[:,col], color = color, label = label)        \n",
    "        ax[c].text(1,1,name, ha = 'right',transform = ax[c].transAxes)\n",
    "        \n",
    "        ax[c].grid(True)\n",
    "        \n",
    "        c+=1\n",
    "        \n",
    "for area, group in wellnames.groupby('area'):\n",
    "    print(f\"area:  {area}\\ngroup:\\n{group}\\n\")\n",
    "    fig = plt.figure(layout='constrained', figsize=(20, 10))\n",
    "    fig.suptitle('Simulate Waterlevel Sensitivity to Varying Streambed K', fontsize='xx-large')\n",
    "    subfigs = fig.subfigures(1, 2, wspace=0.0001, width_ratios=[1, 1])\n",
    "    \n",
    "    print(f'group shape before {group.shape[0]}')\n",
    "    group = group.loc[group.well.isin(df.well)]\n",
    "    print(f'group shape after {group.shape[0]}')\n",
    "    ncol = int(np.ceil(group.shape[0]/3))\n",
    "    if ncol==1:\n",
    "        nrow = group.shape[0]\n",
    "    else:\n",
    "        nrow = 3\n",
    "        \n",
    "    axsLeft = subfigs[0].subplots(nrow, ncol, sharey=True,sharex = True, squeeze = False)\n",
    "    axsLeft = axsLeft.ravel()\n",
    "\n",
    "    plot_well_by_area(df1,axsLeft, col = 'Observed', color ='grey',label = 'Observed', area = group)\n",
    "    plot_well_by_area(df1, axsLeft, label = \"Base\", area = group)\n",
    "    plot_well_by_area(df2,axsLeft, label = \"Med K\", area = group)\n",
    "    plot_well_by_area(df,axsLeft, label = \"Low K\", area = group)\n",
    "    \n",
    "    # axsLeft.reshape((nrow,ncol))[0,-1].legend(loc = 'upper left', bbox_to_anchor  = (1,1))\n",
    "    \n",
    "    axsLeft[0].xaxis.set_minor_locator(mdates.MonthLocator(interval = 6))\n",
    "    axsLeft[0].xaxis.set_major_locator(mdates.YearLocator(2,1,1))\n",
    "    # ax.xaxis.set_major_locator(mdates.MonthLocator(interval=1))\n",
    "    axsLeft[0].xaxis.set_major_formatter(\n",
    "        mdates.ConciseDateFormatter(mdates.MonthLocator(bymonth=[1,  ])))\n",
    "    \n",
    "    \n",
    "    #aright side\n",
    "    from matplotlib import gridspec\n",
    "    gs = gridspec.GridSpec(2, 1, height_ratios = [2,1.5])\n",
    "    axsRight = subfigs[1].add_subplot(gs[0], projection=ccrs.epsg(2226))\n",
    "    # axsRight = subfigs[1].subplots(1, 1, sharex=True)\n",
    "    fig, axsRight = basic.basic_map(ml, False,ax = axsRight, fig = subfigs[1])\n",
    "    ctx.add_basemap(axsRight, crs = 2226, source = \"USGS.USTopo\")\n",
    "    wells.plot(ax = axsRight, edgecolor = 'g', markersize = 3)\n",
    "    wells.loc[wells.station_na.isin(group.well)].plot(ax = axsRight, edgecolor = 'k')\n",
    "\n",
    "    basic.set_bounds(axsRight)\n",
    "    text1 = conda_scripts.plot_help.label_points(axsRight, wells.loc[wells.station_na.isin(group.well)],\n",
    "\n",
    "                           'station_na', iter_limit = 10000, basin_name = None, already_str = False, fmt = \"s\",add_box = True,\n",
    "                                                 masked_area = None,\n",
    "                           arrow_props =  dict(arrowstyle='-', color='black'))\n",
    "\n",
    "    # subfigs[1].set_facecolor('0.85')\n",
    "    # subfigs[1].colorbar(pc, shrink=0.6, ax=axsRight)\n",
    "    # subfigs[1].suptitle('Right plots', fontsize='x-large')\n",
    "    \n",
    "    axsRight.set_title(area+' Area', fontsize='xx-large')\n",
    "    # fig.suptitle(area+' Area', fontsize='xx-large')\n",
    "     # gridspec_kw={'height_ratios': [1, 1, 3\n",
    "    axs_bot = subfigs[1].add_subplot(gs[1],)\n",
    "    plot_bound(axs_bot, pump, sim_stage, total)\n",
    "    \n",
    "    plt.savefig(f'streambed_sensitivity\\\\SWR_streambed_sens_MW_{area}_long.png', bbox_inches = 'tight')\n",
    "    \n",
    "    "
   ]
  },
  {
   "cell_type": "code",
   "execution_count": null,
   "id": "f3955312-031e-4210-a497-3aa559cd7763",
   "metadata": {
    "tags": []
   },
   "outputs": [],
   "source": [
    "dfall.unstack(0).sum().unstack(1).plot.bar()\n",
    "fig.suptitle('Simulated Heads for Monitoring Wells - Comparing Streambed K versus Base K')\n",
    "plt.savefig('streambed_sensitivity\\\\SWR_streambed_sens_MW_long.png', bbox_inches = 'tight')"
   ]
  },
  {
   "cell_type": "code",
   "execution_count": null,
   "id": "bbb54ab1-3512-4ea9-89b9-dbc4927032d7",
   "metadata": {},
   "outputs": [],
   "source": []
  }
 ],
 "metadata": {
  "kernelspec": {
   "display_name": "Python 3 (ipykernel)",
   "language": "python",
   "name": "python3"
  },
  "language_info": {
   "codemirror_mode": {
    "name": "ipython",
    "version": 3
   },
   "file_extension": ".py",
   "mimetype": "text/x-python",
   "name": "python",
   "nbconvert_exporter": "python",
   "pygments_lexer": "ipython3",
   "version": "3.9.16"
  }
 },
 "nbformat": 4,
 "nbformat_minor": 5
}
