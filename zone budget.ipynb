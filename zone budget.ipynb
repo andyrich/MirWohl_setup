{
 "cells": [
  {
   "cell_type": "code",
   "execution_count": null,
   "id": "0c9e0524-7f54-4604-8933-f0c743859c48",
   "metadata": {},
   "outputs": [],
   "source": [
    "import os\n",
    "import geopandas as gpd\n",
    "import numpy as np\n",
    "import pandas as pd\n",
    "import basic\n",
    "import matplotlib.pyplot as plt"
   ]
  },
  {
   "cell_type": "code",
   "execution_count": null,
   "id": "cefd32f5-ee1b-470a-9413-64e956893ea3",
   "metadata": {},
   "outputs": [],
   "source": [
    "# head = 'HEAD PRINT FORMAT   0\\n'\\\n",
    "# 'HEAD SAVE UNIT   336\\n'\\\n",
    "# 'DRAWDOWN PRINT FORMAT   0\\n\\n'\n",
    "# head"
   ]
  },
  {
   "cell_type": "code",
   "execution_count": null,
   "id": "fc33b21a-5b45-4643-82c5-1a06501f61d1",
   "metadata": {},
   "outputs": [],
   "source": [
    "# kper = range(1,110)\n",
    "# step = range(1,25)\n",
    "\n",
    "# with open('RR_2022/rr_all.oc','w') as wr:\n",
    "#     wr.write(head)\n",
    "#     for k in kper:\n",
    "        \n",
    "#         for s in step:\n",
    "#             wr.write(f\"period {k} step {s}\\n\")\n",
    "#             wr.write(\"PRINT BUDGET\\n\")\n",
    "#             wr.write(\"SAVE BUDGET\\n\")\n",
    "            \n",
    "#             if (s==12) or (s==24):\n",
    "#                 wr.write('SAVE HEAD\\n')\n",
    "            \n",
    "#             wr.write('\\n\\n')\n"
   ]
  },
  {
   "cell_type": "code",
   "execution_count": null,
   "id": "1ce8f1c0-ffa6-46da-8ff9-4723f0d48b44",
   "metadata": {},
   "outputs": [],
   "source": [
    "info, swr_info, sfr_info, riv_keys_info = basic.load_params('June2016')\n",
    "\n",
    "datestart = info['start_date']\n",
    "numdays = info['numdays']\n",
    "name = info['name']"
   ]
  },
  {
   "cell_type": "code",
   "execution_count": null,
   "id": "38525533-d077-4945-ba97-b70f592b2b4d",
   "metadata": {},
   "outputs": [],
   "source": [
    "# Set path to example datafiles\n",
    "loadpth = os.path.join( \"data\", \"zonbud_examples\")\n",
    "cbc_f = os.path.join(ml.model_ws,'Results', 'RRMF.cbc')"
   ]
  },
  {
   "cell_type": "code",
   "execution_count": null,
   "id": "2a757200-9cf9-4224-8ed2-5313d96d0e62",
   "metadata": {},
   "outputs": [],
   "source": [
    "from flopy.utils import ZoneBudget"
   ]
  },
  {
   "cell_type": "code",
   "execution_count": null,
   "id": "b3ce6b2a-f59a-4415-a0ff-8dbc9a737bf7",
   "metadata": {},
   "outputs": [],
   "source": [
    "arrays.head()"
   ]
  },
  {
   "cell_type": "code",
   "execution_count": null,
   "id": "5a805b93-9ff4-451f-ad29-0d50031317e4",
   "metadata": {},
   "outputs": [],
   "source": []
  },
  {
   "cell_type": "code",
   "execution_count": null,
   "id": "2c489adc-6122-4f40-b16d-33da567fc4f8",
   "metadata": {},
   "outputs": [],
   "source": [
    "arrays = gpd.read_file('GIS/grid.shp')\n",
    "arrays = arrays.dropna(subset = 'zone')\n",
    "arrays.head()"
   ]
  },
  {
   "cell_type": "code",
   "execution_count": null,
   "id": "32615520-cb0a-441b-a760-5f3d6121ae8e",
   "metadata": {},
   "outputs": [],
   "source": [
    "ml = basic.load_model()"
   ]
  },
  {
   "cell_type": "code",
   "execution_count": null,
   "id": "b82e3074-d3cc-4f75-94fd-d4e4ba3f28b6",
   "metadata": {},
   "outputs": [],
   "source": []
  },
  {
   "cell_type": "code",
   "execution_count": null,
   "id": "ce072bd0-d253-4590-a5ac-6c02476340ff",
   "metadata": {},
   "outputs": [],
   "source": [
    "zones = np.zeros((ml.dis.nlay, ml.dis.nrow, ml.dis.ncol), dtype = int)\n",
    "\n",
    "for lay in range(3):\n",
    "    zones[lay,arrays.loc[:,'row']-1, arrays.loc[:,'column']-1] =arrays.loc[:,'zone'].astype(int)\n",
    "\n",
    "plt.imshow(zones[0])"
   ]
  },
  {
   "cell_type": "code",
   "execution_count": null,
   "id": "7439b58f-6ab8-4898-908c-df58b8c8fcdc",
   "metadata": {},
   "outputs": [],
   "source": [
    "import conda_scripts.arich_functions as af\n",
    "import conda_scripts.utils.folium_maps as fm\n",
    "import conda_scripts.plot_help as ph\n",
    "import pandas as pd"
   ]
  },
  {
   "cell_type": "code",
   "execution_count": null,
   "id": "cf08cf0a-4e2c-48d9-bc77-5b7274593a32",
   "metadata": {},
   "outputs": [],
   "source": [
    "aliases = {1:'Mirabel', 2:'Wohler', 3:'Upstream'}"
   ]
  },
  {
   "cell_type": "code",
   "execution_count": null,
   "id": "a1adcae1-87f3-4fdd-b2d8-4756c4a33e11",
   "metadata": {},
   "outputs": [],
   "source": [
    "modelgrid = af.get_model_shp(ml.modelgrid)\n",
    "zarr_gdf = af.array2rc(zones[0], 'zone')\n",
    "\n",
    "zarr_gdf = gpd.pd.merge(zarr_gdf, modelgrid.drop(columns = ['row', 'col']), on = ['i','j'])\n",
    "\n",
    "zarr_gdf = zarr_gdf.query(\"zone>0\")\n",
    "\n",
    "zarr_gdf.loc[:,'zone_name'] = zarr_gdf.zone.replace(aliases)\n",
    "\n",
    "zarr_gdf = gpd.GeoDataFrame(zarr_gdf, geometry = 'geometry', crs = 2226)\n",
    "zarr_gdf = zarr_gdf.dissolve('zone')\n",
    "\n",
    "fig, ax = basic.map_river()\n",
    "zarr_gdf.plot('zone_name',ax = ax, alpha = .4)\n",
    "\n",
    "zarr_gdf.plot('zone_name',ax = ax,  facecolor = 'None', edgecolor = 'k', lw = 3)\n",
    "\n",
    "ph.label_poly(zarr_gdf, ax = ax,  column = 'zone_name', label_exterior = False, text_color = 'k')\n",
    "\n",
    "ax.set_title(\"Model Zones\")\n",
    "\n",
    "plt.savefig(os.path.join('versions/website_info/zone_map.png'), bbox_inches = 'tight', dpi =300)"
   ]
  },
  {
   "cell_type": "code",
   "execution_count": null,
   "id": "add402ff-0202-4e1b-afcd-01e698d5b9d1",
   "metadata": {},
   "outputs": [],
   "source": []
  },
  {
   "cell_type": "code",
   "execution_count": null,
   "id": "745ca659-e39f-4b86-8962-345006e10267",
   "metadata": {},
   "outputs": [],
   "source": [
    "z = ZoneBudget(cbc_f, z = zones, aliases =aliases)"
   ]
  },
  {
   "cell_type": "code",
   "execution_count": null,
   "id": "d3efa07c-9016-4acd-a910-98b77756f0f0",
   "metadata": {},
   "outputs": [],
   "source": [
    "df = pd.DataFrame(z.get_budget())\n",
    "df.loc[:,'Date'] = pd.to_datetime(datestart) + pd.to_timedelta(df.loc[:,'stress_period'], unit = 'D')+\\\n",
    "pd.to_timedelta(df.loc[:,'stress_period'], unit = 'H')\n",
    "df = df.set_index(['Date','name']).drop(columns=['totim','time_step','stress_period'])"
   ]
  },
  {
   "cell_type": "code",
   "execution_count": null,
   "id": "e1309446-b64e-40ac-b9b8-2241c2a7851e",
   "metadata": {},
   "outputs": [],
   "source": []
  },
  {
   "cell_type": "code",
   "execution_count": null,
   "id": "f3c5823e-6bff-49c4-9634-514a98d9f408",
   "metadata": {},
   "outputs": [],
   "source": [
    "dfi = df.loc[:,['Wohler']].groupby(level = [0,1]).sum().unstack().droplevel(0,1)\n",
    "fig, ax = plt.subplots(2,1, sharex = True, figsize = (10,6))\n",
    "dfi.loc[:,dfi.sum().abs()>0].filter(regex = 'FROM_').drop(columns ='FROM_STORAGE').plot(ax = ax[0])\n",
    "ax[0].legend(loc = 'upper left', bbox_to_anchor = (1,1))\n",
    "\n",
    "dfi.loc[:,dfi.sum().abs()>0].filter(regex = 'TO_').drop(columns ='TO_STORAGE').plot(ax = ax[1])\n",
    "ax[1].legend(loc = 'upper left', bbox_to_anchor = (1,1))"
   ]
  },
  {
   "cell_type": "code",
   "execution_count": null,
   "id": "68946e1b-7d69-499f-85d3-6f8b75681c01",
   "metadata": {},
   "outputs": [],
   "source": [
    "dfi = df.loc[:,['Mirabel']].groupby(level = [0,1]).sum().unstack().droplevel(0,1)\n",
    "fig, ax = plt.subplots(2,1, sharex = True, figsize = (10,6))\n",
    "dfi.loc[:,dfi.sum().abs()>0].filter(regex = 'FROM_').drop(columns ='FROM_STORAGE').plot(ax = ax[0])\n",
    "ax[0].legend(loc = 'upper left', bbox_to_anchor = (1,1))\n",
    "\n",
    "dfi.loc[:,dfi.sum().abs()>0].filter(regex = 'TO_').drop(columns ='TO_STORAGE').plot(ax = ax[1])\n",
    "ax[1].legend(loc = 'upper left', bbox_to_anchor = (1,1))"
   ]
  },
  {
   "cell_type": "code",
   "execution_count": null,
   "id": "29822717-a2ba-4374-a295-f218db271d8e",
   "metadata": {},
   "outputs": [],
   "source": [
    "dfi = df.loc[:,['Upstream']].groupby(level = [0,1]).sum().unstack().droplevel(0,1)\n",
    "fig, ax = plt.subplots(2,1, sharex = True, figsize = (10,6))\n",
    "dfi.loc[:,dfi.sum().abs()>0].filter(regex = 'FROM_').drop(columns ='FROM_STORAGE').plot(ax = ax[0])\n",
    "ax[0].legend(loc = 'upper left', bbox_to_anchor = (1,1))\n",
    "\n",
    "dfi.loc[:,dfi.sum().abs()>0].filter(regex = 'TO_').drop(columns ='TO_STORAGE').plot(ax = ax[1])\n",
    "ax[1].legend(loc = 'upper left', bbox_to_anchor = (1,1))\n",
    "\n",
    "fig.suptitle('Upstream Zone Area')"
   ]
  },
  {
   "cell_type": "code",
   "execution_count": null,
   "id": "9b60cfe5-9bf7-445b-9244-f1944427794c",
   "metadata": {},
   "outputs": [],
   "source": [
    "df.index.get_level_values(0).unique()"
   ]
  },
  {
   "cell_type": "code",
   "execution_count": null,
   "id": "f7a52686-b70d-445a-af0d-a572339ec215",
   "metadata": {},
   "outputs": [],
   "source": [
    "# ZoneBudget.write_zone_file('zonedbud.zbarr',zones)"
   ]
  },
  {
   "cell_type": "code",
   "execution_count": null,
   "id": "12c7a5d3-07ed-4d13-89f3-d8f35b84d607",
   "metadata": {},
   "outputs": [],
   "source": []
  }
 ],
 "metadata": {
  "kernelspec": {
   "display_name": "Python 3 (ipykernel)",
   "language": "python",
   "name": "python3"
  },
  "language_info": {
   "codemirror_mode": {
    "name": "ipython",
    "version": 3
   },
   "file_extension": ".py",
   "mimetype": "text/x-python",
   "name": "python",
   "nbconvert_exporter": "python",
   "pygments_lexer": "ipython3",
   "version": "3.10.4"
  }
 },
 "nbformat": 4,
 "nbformat_minor": 5
}
