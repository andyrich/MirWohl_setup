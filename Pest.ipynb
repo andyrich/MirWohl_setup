{
 "cells": [
  {
   "cell_type": "code",
   "execution_count": null,
   "id": "93c7f48f-0d1a-4ae3-9899-a4e065f256c3",
   "metadata": {},
   "outputs": [],
   "source": [
    "import basic\n",
    "import geopandas as gpd\n",
    "import pandas as pd\n",
    "import numpy as np\n",
    "import flopy\n",
    "import pathlib\n",
    "import os\n",
    "import pyemu\n",
    "import Hydrographs\n",
    "import matplotlib.pyplot as plt\n",
    "import conda_scripts.arich_functions as af\n",
    "import conda_scripts.rich_gis as rg\n",
    "import pest_post_process\n",
    "%matplotlib inline"
   ]
  },
  {
   "cell_type": "code",
   "execution_count": null,
   "id": "d493158c-8ded-4b86-be07-28381b54792f",
   "metadata": {},
   "outputs": [],
   "source": [
    "run = 'ibound_update'\n",
    "info, swr_info, sfr_info, riv_keys_info = basic.load_params(run)\n",
    "\n",
    "datestart = info['start_date']\n",
    "numdays = info['numdays']\n",
    "name = info['name']\n",
    "\n",
    "out_folder = basic.out_folder(run)\n",
    "\n",
    "\n",
    "print(datestart)\n",
    "print(out_folder)\n"
   ]
  },
  {
   "cell_type": "code",
   "execution_count": null,
   "id": "e3466254-abb6-4591-a282-578c1b671bc2",
   "metadata": {},
   "outputs": [],
   "source": [
    "ml = basic.load_model()"
   ]
  },
  {
   "cell_type": "code",
   "execution_count": null,
   "id": "5545c222-616a-4ade-8f75-f4cf353f6ea5",
   "metadata": {},
   "outputs": [],
   "source": []
  },
  {
   "cell_type": "code",
   "execution_count": null,
   "id": "478dcb41-de8c-4602-8147-d0b8ed9fdd0c",
   "metadata": {},
   "outputs": [],
   "source": [
    "import write_inflows\n",
    "import write_pond_inflows_rch\n",
    "import make_wells\n",
    "import initial_conditions"
   ]
  },
  {
   "cell_type": "code",
   "execution_count": null,
   "id": "876e1e94-ea70-4ddb-a656-8600eab4ca99",
   "metadata": {},
   "outputs": [],
   "source": []
  },
  {
   "cell_type": "code",
   "execution_count": null,
   "id": "cd5c11b8-c8a4-4f0a-a20b-b9eca654cda7",
   "metadata": {},
   "outputs": [],
   "source": []
  },
  {
   "cell_type": "code",
   "execution_count": null,
   "id": "ce6a7dfa-6161-4f9d-8435-09e939a94d50",
   "metadata": {},
   "outputs": [],
   "source": []
  },
  {
   "cell_type": "code",
   "execution_count": null,
   "id": "ace4b8bd-5317-4544-913c-a8af10b60948",
   "metadata": {},
   "outputs": [],
   "source": [
    "# import matplotlib.dates as mdates\n",
    "# fig, ax = plt.subplots(figsize=(9, 6))\n",
    "\n",
    "\n",
    "# bottom = df.copy()\n",
    "# bottom.insert(0, 0, 0)\n",
    "# # modify the base of each columns, can do with a for loop\n",
    "# for col in df.columns:\n",
    "\n",
    "#     bot = bottom.cumsum(axis=1).shift(axis=1).loc[:,col]\n",
    "        \n",
    "#     ax.bar(df.droplevel(1,0).index, df.droplevel(1,0).cumsum(axis = 1).loc[:, col].values, bottom = bot, label = col) \n",
    "\n",
    "# ax.grid(True)\n",
    "# ax.set(ylabel='acre-feet', title=\"Total Caisson Pumping, per Well\")\n",
    "# basic.set_dates_xtick(ax)\n",
    "    \n",
    "# ax.legend()"
   ]
  },
  {
   "cell_type": "code",
   "execution_count": null,
   "id": "4a95cbe3-c8bf-4f0b-81f3-07ec1eeba3c4",
   "metadata": {
    "tags": []
   },
   "outputs": [],
   "source": [
    "basic.setup_folder(run)\n",
    "write_inflows.run(model_name=run, m = ml, numdays=numdays, datestart=datestart)\n",
    "df = make_wells.run(name=run, m = ml, datestart=datestart, numdays=numdays)\n",
    "write_pond_inflows_rch.run(run, m = ml, draw_maps = True, add_overland = True, ovr_flux = 0.5)\n",
    "\n",
    "# shutil.rmtree(os.path.join(new_folder, 'Results'))\n",
    "# os.mkdir(os.path.join(new_folder, 'Results'))\n",
    "# new_folder = os.path.join()\n",
    "# src = os.path.join('initial_heads', f'June2015')\n",
    "# print(f'copying initial heads from {src} to {ml.model_ws}')\n",
    "# initial_conditions.set_start_from_path(src, ml.model_ws)"
   ]
  },
  {
   "cell_type": "code",
   "execution_count": null,
   "id": "d1747f23-fae7-4938-80d5-7061212d9b3d",
   "metadata": {},
   "outputs": [],
   "source": [
    "# def get_linear_analysis(ml):\n",
    "    \n",
    "#     return LA = pyemu.LinearAnalysis(jco=os.path.join(ml.model_ws,'reg_pest.jco'),\n",
    "#                  pst=os.path.join(ml.model_ws,'reg_pest.pst') )\n",
    "\n",
    "# def par_sensitivity(LA, out_folder):\n",
    "    \n",
    "#     '''\n",
    "#     get parameter and observation sensitivity\n",
    "#     '''\n",
    "\n",
    "#     sens = LA.get_par_css_dataframe()\n",
    "#     sens.loc[:,['pest_css']].sort_values('pest_css').plot.barh(title = 'Parameter Sensitivities', figsize = (9,6))\n",
    "#     plt.savefig(os.path.join(out_folder, 'parsen.png'), bbox_inches = 'tight')\n",
    "    \n",
    "# def obs_sensitivity(LA, out_folder):\n",
    "#     ccs = LA.get_cso_dataframe()\n",
    "    \n",
    "#     ccs.loc[:,'type'] = ccs.index.map(lambda x: 'drawdown' if x.startswith('d') else 'obs')\n",
    "\n",
    "#     ccs.loc[:,'well'] = ccs.index.map(lambda x: 'LRR{0:04s}'.format( x.replace('d','').replace('l', '').split('.')[0]))\n",
    "    \n",
    "#     ccs.groupby(['well', 'type']).mean().unstack(1).droplevel(0,1)\\\n",
    "#     .sort_values('obs', ascending = False).rename(columns = {'obs':'head'})\\\n",
    "#     .plot.bar(title =\"Mean Observation Sensitivity\", xlabel = '', figsize = (9,6))\n",
    "#     plt.savefig(os.path.join(out_folder, 'obssen.png'), bbox_inches = 'tight')\n",
    "    \n",
    "#     return css\n",
    "\n",
    "# def map_css_mean(ccs):\n",
    "#     wells_mod = gpd.read_file('GIS/wells_mod.geojson')\n",
    "#     wells_mod = wells_mod.set_index('station_name').join(ccs.groupby(['well', 'type']).mean(\n",
    "#     ).unstack(1).droplevel(0,1))\n",
    "\n",
    "#     wells_mod.loc[:,'obslabel'] = wells_mod.loc[:,'obs'].apply(lambda x: f\"{x:.2f}\")\n",
    "#     wells_mod.loc[:,'drawdownlabel'] = wells_mod.loc[:,'drawdown'].apply(lambda x: f\"{x:.2f}\")\n",
    "\n",
    "#     for col in ['obs', 'drawdown']:\n",
    "#         fig, ax = basic.basic_map(m = ml)\n",
    "\n",
    "#         if col == 'obs':\n",
    "#             fac = 50\n",
    "#         else:\n",
    "#             fac = 200\n",
    "\n",
    "#         cdf = wells_mod.dropna(subset = col)\n",
    "#         cdf.plot(col, cmap = 'bwr',\n",
    "#                        legend = True,\n",
    "#                         legend_kwds={\n",
    "#                                     \"location\":\"right\",\n",
    "#                                     \"shrink\":.2\n",
    "#                                     },\n",
    "#                        ax=  ax, \n",
    "#                        markersize  = cdf.loc[:,col]*50, \n",
    "#                        edgecolor = 'k')\n",
    "\n",
    "#         basic.set_bounds(ax)\n",
    "#         v = col.replace('obs','Observed Head')\n",
    "#         ax.set_title(f\"Mean {v} Sensitivities\")\n",
    "#         ax.text(0,1, 'Average Sensitivities Per Well', va ='top',transform = ax.transAxes)\n",
    "#         plt.draw()\n",
    "#         rg.label_points(ax, cdf, basin_name=None, colname = col+'label', already_str = True)\n",
    "#         plt.savefig(os.path.join(out_folder, f'obssen_map_{col}.png'), bbox_inches = 'tight')\n",
    "        \n",
    "# def map_css_total(ccs):\n",
    "#     wells_mod = gpd.read_file('GIS/wells_mod.geojson')\n",
    "#     wells_mod = wells_mod.set_index('station_name').join(ccs.groupby(['well', 'type']).sum(\n",
    "#     ).unstack(1).droplevel(0,1))\n",
    "\n",
    "#     wells_mod.loc[:,'obslabel'] = wells_mod.loc[:,'obs'].apply(lambda x: f\"{x:.0f}\")\n",
    "#     wells_mod.loc[:,'drawdownlabel'] = wells_mod.loc[:,'drawdown'].apply(lambda x: f\"{x:.0f}\")\n",
    "\n",
    "#     for col in ['obs', 'drawdown']:\n",
    "#         fig, ax = basic.basic_map(m = ml)\n",
    "#         if col == 'obs':\n",
    "#             fac = .1\n",
    "#         else:\n",
    "#             fac = .3\n",
    "#         cdf = wells_mod.dropna(subset = col)\n",
    "#         cdf.plot(col, cmap = 'bwr',\n",
    "#                             legend = True,\n",
    "#                             legend_kwds={\n",
    "#                             \"location\":\"right\",\n",
    "#                             \"shrink\":.2\n",
    "#                             },\n",
    "#                        ax=  ax, \n",
    "#                        markersize  = cdf.loc[:,col]*fac, \n",
    "#                        edgecolor = 'k')\n",
    "\n",
    "#         basic.set_bounds(ax)\n",
    "#         v = col.replace('obs','Observed Head')\n",
    "#         ax.set_title(f\"Total {v} Sensitivities\")\n",
    "#         ax.text(0,1, 'Total Sensitivities Per Well', va ='top',transform = ax.transAxes)\n",
    "#         plt.draw()\n",
    "#         rg.label_points(ax, cdf, basin_name=None, colname = col+'label', already_str = True)\n",
    "#         plt.savefig(os.path.join(out_folder, f'obssen_map_{col}_Total.png'), bbox_inches = 'tight')"
   ]
  },
  {
   "cell_type": "code",
   "execution_count": null,
   "id": "3a122f0d-9161-4e4f-98e6-00bd65589692",
   "metadata": {},
   "outputs": [],
   "source": [
    "sens.sort_values(by = 'pest_css', ascending = True).tail(40).plot.barh(figsize = (4,10))"
   ]
  },
  {
   "cell_type": "code",
   "execution_count": null,
   "id": "94f0bb50-9149-4a02-926a-2e6bb12d23a7",
   "metadata": {},
   "outputs": [],
   "source": [
    "LA = pest_post_process.get_linear_analysis(ml,'pp_pest')\n",
    "sens = pest_post_process.par_sensitivity(LA, out_folder)\n",
    "ccs = pest_post_process.obs_sensitivity(LA, out_folder=out_folder)\n",
    "pest_post_process.map_css_mean(ccs, ml, out_folder)\n",
    "pest_post_process.map_css_total(ccs, ml, out_folder)"
   ]
  },
  {
   "cell_type": "code",
   "execution_count": null,
   "id": "dcb4975c-62a5-43be-901d-55e8eb307818",
   "metadata": {},
   "outputs": [],
   "source": []
  },
  {
   "cell_type": "code",
   "execution_count": null,
   "id": "ead6f756-d793-493a-8b4b-27fb9e52ba85",
   "metadata": {},
   "outputs": [],
   "source": []
  },
  {
   "cell_type": "code",
   "execution_count": null,
   "id": "284406ae-f880-44aa-b6f0-aa9d39091448",
   "metadata": {},
   "outputs": [],
   "source": []
  },
  {
   "cell_type": "code",
   "execution_count": null,
   "id": "e6ddd4b3-e561-476a-9db7-d23ba0681d8a",
   "metadata": {},
   "outputs": [],
   "source": []
  },
  {
   "cell_type": "code",
   "execution_count": null,
   "id": "96e27dc5-de39-4574-92fa-7620b5c39588",
   "metadata": {},
   "outputs": [],
   "source": []
  },
  {
   "cell_type": "code",
   "execution_count": null,
   "id": "50e21748-9a06-4e7c-b722-e08d606c4e6f",
   "metadata": {},
   "outputs": [],
   "source": []
  },
  {
   "cell_type": "code",
   "execution_count": null,
   "id": "af8f86cb-037a-4ba4-b187-a9a1c1280a06",
   "metadata": {},
   "outputs": [],
   "source": []
  },
  {
   "cell_type": "code",
   "execution_count": null,
   "id": "876f0a46-5729-4377-856b-7d7872d2e890",
   "metadata": {},
   "outputs": [],
   "source": []
  },
  {
   "cell_type": "code",
   "execution_count": null,
   "id": "48c9651a-0f75-4f48-a004-5eb9b7ca2fa3",
   "metadata": {},
   "outputs": [],
   "source": []
  },
  {
   "cell_type": "code",
   "execution_count": null,
   "id": "8bcb4a40-3953-4d59-9482-3cb78071362d",
   "metadata": {},
   "outputs": [],
   "source": [
    "basic.setup_folder(run)"
   ]
  },
  {
   "cell_type": "code",
   "execution_count": null,
   "id": "e70277f8-591d-43eb-afec-94e9e80e6095",
   "metadata": {
    "tags": []
   },
   "outputs": [],
   "source": [
    "Hydrographs.run(run, reload = True, ml = ml, add_temp = False)"
   ]
  },
  {
   "cell_type": "code",
   "execution_count": null,
   "id": "161b6477-8975-4148-97fc-4304b2ccf2a7",
   "metadata": {},
   "outputs": [],
   "source": []
  },
  {
   "cell_type": "code",
   "execution_count": null,
   "id": "905b45e9-b767-406b-bca3-0eed8619be40",
   "metadata": {},
   "outputs": [],
   "source": []
  },
  {
   "cell_type": "code",
   "execution_count": null,
   "id": "cebf8c2f-e3f8-4040-abc7-9c17351cea5f",
   "metadata": {},
   "outputs": [],
   "source": []
  },
  {
   "cell_type": "code",
   "execution_count": null,
   "id": "ecae0b23-1208-4e45-822f-a4bf14e1c7f8",
   "metadata": {
    "tags": []
   },
   "outputs": [],
   "source": [
    "rc_df = pd.read_csv(os.path.join(\"versions\",run,'hydrographs', \"all_meas.csv\"), index_col = [0], parse_dates=True)\n",
    "rc_df.loc[:,'well_num'] = rc_df.loc[:,'well'].apply(lambda x: 'l'+str(x.split('LRR')[1]))\n",
    "rc_df.loc[:,'well_num_dd'] = rc_df.loc[:,'well'].apply(lambda x: 'd'+str(x.split('LRR')[1]))\n",
    "rc_df.loc[:,'kper'] = (rc_df.index - pd.to_datetime(datestart)).days\n",
    "rc_df = rc_df.dropna(subset = 'Observed')\n",
    "# hds = flopy.utils.HeadFile(os.path.join(ml.model_ws,\"freyberg.hds\"))\n",
    "# data = hds.get_alldata()\n",
    "obs = []\n",
    "roff = 0.0#ml.dis.delc.array[0] / 2.0\n",
    "coff = 0.0#ml.dis.delr.array[0] / 2.0\n",
    "# for n,r,c in zip(rc_df.name,rc_df.row,rc_df.col):\n",
    "# for kper in range(numdays):\n",
    "for well, r in rc_df.groupby('well_num'):\n",
    "    d = np.zeros((r.shape[0],2))\n",
    "    d[:,0] = r.kper.values*86400\n",
    "    d[:,1] = r.Observed.values\n",
    "\n",
    "    # names =     [\"{:}.{:}\".format(r.well.unique()[0],x) for x in r.kper.values]\n",
    "    names =     [\"{:}.{:}\".format(well,x) for x in r.kper.values]\n",
    "   \n",
    "    obs.append(flopy.modflow.HeadObservation(ml,\n",
    "                obsname=well,\n",
    "                layer=0,row=r.loc[:,'i_r'].unique()[0],\n",
    "                column=r.loc[:,'j_c'].unique()[0],roff=roff,coff=coff,\n",
    "                time_series_data=d,\n",
    "                names= names))\n",
    "    \n",
    "# add drawdown \n",
    "for well, r in rc_df.groupby('well_num_dd'):\n",
    "    \n",
    "    #get every 5 measurements\n",
    "    for irow in range(0,r.shape[0], 5):\n",
    "        cdf = r.iloc[irow:irow+5]\n",
    "        d = np.zeros((cdf.shape[0],2))\n",
    "        d[:,0] = cdf.kper.values*86400\n",
    "        d[:,1] = cdf.Observed.values\n",
    "\n",
    "        names = [\"{:}.{:}\".format(well,x) for x in cdf.kper.values]\n",
    "\n",
    "        obs.append(flopy.modflow.HeadObservation(ml,\n",
    "                    irefsp = -1,       \n",
    "                    obsname=well, itt = 2,\n",
    "                    layer=0,row=cdf.loc[:,'i_r'].unique()[0],\n",
    "                    column=cdf.loc[:,'j_c'].unique()[0],\n",
    "                    roff=roff,coff=coff,\n",
    "                    time_series_data=d,\n",
    "                    names= names))\n",
    "    \n",
    "hobs = flopy.modflow.ModflowHob(ml,obs_data=obs,iuhobsv=600)\n",
    "hobs.write_file()\n",
    "# ext_path = os.path.join(ml.model_ws,\"ref\")\n",
    "# if os.path.exists(ext_path):\n",
    "#     shutil.rmtree(ext_path)\n",
    "# print(ext_path)\n",
    "# os.mkdir(ext_path)\n",
    "# ml.external_path = os.path.split(ext_path)[-1]\n",
    "# ml.upw.hk.fmtin = \"(FREE)\"\n",
    "# ml.upw.sy.fmtin = \"(FREE)\"\n",
    "# ml.rch.rech.fmtin = \"(FREE)\"\n",
    "# ml.write_input()\n",
    "# ml.run_model()"
   ]
  },
  {
   "cell_type": "code",
   "execution_count": null,
   "id": "ed33fc62-3b60-4a07-be91-92b25bfd799a",
   "metadata": {},
   "outputs": [],
   "source": [
    "# def drawdown_hobs(folder, filename = r\".\\rr_tr.hob\"):\n",
    "\n",
    "#     \"\"\"\n",
    "#     from ayman - still not implemented\n",
    "#     A script to read hob.out file and compute simulated and observed drawdown.\n",
    "\n",
    "#     \"\"\"\n",
    "\n",
    "#     # read hob file\n",
    "    \n",
    "#     hob_file = os.path.join(folder, filename)\n",
    "\n",
    "#     df = pd.read_csv(hob_file, delim_whitespace=True)\n",
    "\n",
    "#     site_info = df['OBSERVATION NAME'].str.split(\".\", expand=True)\n",
    "#     df['site_id'] = site_info[0]\n",
    "#     df['time_index'] = site_info[1]\n",
    "#     df.loc[df['time_index'].isna(), 'time_index'] = 0\n",
    "\n",
    "\n",
    "#     def compute_draw_down(_df):\n",
    "#         if len(_df) == 1:\n",
    "#             _df['sim_drawdown'] = 0\n",
    "#             _df['obs_drawdown'] = 0\n",
    "#             return _df\n",
    "#         else:\n",
    "#             # sort heads by time\n",
    "#             _df = _df.sort_values(by='time_index')\n",
    "\n",
    "#             _df['sim_drawdown'] = _df['SIMULATED EQUIVALENT'].diff()\n",
    "#             _df['obs_drawdown'] = _df['OBSERVED VALUE'].diff()\n",
    "\n",
    "#             # first head has no drawdown-- make it zero instead of nan\n",
    "#             _df.loc[_df['sim_drawdown'].isna(), 'sim_drawdown'] = 0\n",
    "#             _df.loc[_df['obs_drawdown'].isna(), 'obs_drawdown'] = 0\n",
    "#             _df = _df.reset_index(drop = True)\n",
    "#             return _df\n",
    "\n",
    "\n",
    "#     df = df.groupby(['site_id']).apply(compute_draw_down)\n",
    "#     df.to_csv(os.path.join(folder, r\"hobs_drawdown.out.csv\"))\n",
    "    \n",
    "# drawdown_hobs(os.path.join(ml.model_ws, 'Results'),  'hobs.out')"
   ]
  },
  {
   "cell_type": "code",
   "execution_count": null,
   "id": "19b06aa1-2c02-48f9-84e6-049cd106509b",
   "metadata": {
    "tags": []
   },
   "outputs": [],
   "source": [
    "ml.run_model()"
   ]
  },
  {
   "cell_type": "markdown",
   "id": "3f257da0-eb1b-4bf7-9e71-99fa661bccf7",
   "metadata": {},
   "source": [
    "``pyemu`` has a helper function to setup this instruction file for you and also load observations into dataframe"
   ]
  },
  {
   "cell_type": "code",
   "execution_count": null,
   "id": "8e32e28c-d33c-4f83-a1fd-f6c107f9ba63",
   "metadata": {},
   "outputs": [],
   "source": [
    "hob_df = pyemu.gw_utils.modflow_hob_to_instruction_file(\n",
    "    os.path.join(ml.model_ws,'Results','hobs.out'))"
   ]
  },
  {
   "cell_type": "code",
   "execution_count": null,
   "id": "97f68a94-1f1f-4d9e-a9f3-69ea7f7c0f25",
   "metadata": {},
   "outputs": [],
   "source": [
    "hob_df"
   ]
  },
  {
   "cell_type": "code",
   "execution_count": null,
   "id": "d0e8e069-7983-45b6-975e-87c12d762081",
   "metadata": {},
   "outputs": [],
   "source": [
    "# tpl_files = [os.path.join(ml.model_ws,f) for f in os.listdir(ml.model_ws) if f.endswith(\".tpl\")]\n",
    "# input_files = [f.replace(\".tpl\",'') for f in tpl_files]\n",
    "# tpl_files"
   ]
  },
  {
   "cell_type": "code",
   "execution_count": null,
   "id": "3bc76a6d-2531-4829-a470-e9cb910a1b20",
   "metadata": {},
   "outputs": [],
   "source": [
    "tpl_files = ['pest\\dataset11a_with_geo.txt.tpl', \n",
    "             'pest\\dataset11a_with_geo_2015.txt.tpl',\n",
    "             'pest\\dataset11a_with_geo_2016.txt.tpl',\n",
    "             'pest\\pval.PVAL.tpl']\n",
    "tpl_files = [os.path.join(ml.model_ws,f) for f in tpl_files]\n",
    "input_files = ['inputs\\dataset11a_with_geo.txt',\n",
    "               'inputs\\dataset11a_with_geo_2015.txt',\n",
    "               'inputs\\dataset11a_with_geo_2016.txt',\n",
    "               'pval.PVAL']\n",
    "input_files = [os.path.join(ml.model_ws,f) for f in input_files]"
   ]
  },
  {
   "cell_type": "code",
   "execution_count": null,
   "id": "caef23ee-62ae-4244-bbf5-530b3741c378",
   "metadata": {},
   "outputs": [],
   "source": [
    "# ins_files = [os.path.join(ml.model_ws,f) for f in os.listdir(ml.model_ws) if f.endswith(\".ins\")]\n",
    "# output_files = [f.replace(\".ins\",'') for f in ins_files]\n",
    "# ins_files"
   ]
  },
  {
   "cell_type": "code",
   "execution_count": null,
   "id": "7b961bb4-b82e-4316-a78d-79738e6cbc77",
   "metadata": {},
   "outputs": [],
   "source": [
    "ins_files = ['Results\\hobs.out.ins']\n",
    "ins_files = [os.path.join(ml.model_ws,f) for f in ins_files]\n",
    "output_files =  ['Results\\hobs.out']\n",
    "output_files = [os.path.join(ml.model_ws,f) for f in output_files]"
   ]
  },
  {
   "cell_type": "code",
   "execution_count": null,
   "id": "67408422-ed8e-42f0-8b0a-c095d3d3b63d",
   "metadata": {},
   "outputs": [],
   "source": []
  },
  {
   "cell_type": "code",
   "execution_count": null,
   "id": "3fe193c2-2995-4830-9c41-b2fcc427f136",
   "metadata": {},
   "outputs": [],
   "source": [
    "pst = pyemu.Pst.from_io_files(tpl_files,input_files,ins_files,output_files)"
   ]
  },
  {
   "cell_type": "code",
   "execution_count": null,
   "id": "1f868be3-dc0d-4bdb-af88-b582d6ecacde",
   "metadata": {},
   "outputs": [],
   "source": [
    "pst.model_input_data = pst.model_input_data.applymap(lambda x:x.replace(\"RR_2022\\\\\", ''))\n",
    "pst.model_output_data = pst.model_output_data.applymap(lambda x:x.replace(\"RR_2022\\\\\", ''))"
   ]
  },
  {
   "cell_type": "code",
   "execution_count": null,
   "id": "738b84a5-c31e-4050-852a-5fbc3623afb4",
   "metadata": {},
   "outputs": [],
   "source": []
  },
  {
   "cell_type": "code",
   "execution_count": null,
   "id": "ad677c05-170b-4a1b-b300-a68ef819c6cf",
   "metadata": {},
   "outputs": [],
   "source": [
    "pst.parameter_data.head(10)"
   ]
  },
  {
   "cell_type": "code",
   "execution_count": null,
   "id": "d55428f6-5a97-4054-b237-b36f0d3e30a5",
   "metadata": {},
   "outputs": [],
   "source": [
    "pst.observation_data.head()"
   ]
  },
  {
   "cell_type": "markdown",
   "id": "e8de34b8-8b08-4bfd-9751-bdce8146dafb",
   "metadata": {},
   "source": [
    "Notice the ``obsval`` column?  Let's just set the index of this dataframe to ``obsnme``, then pandas does the hard work for us:"
   ]
  },
  {
   "cell_type": "code",
   "execution_count": null,
   "id": "9a1a8ec6-d759-4e68-8407-0a534321c08e",
   "metadata": {},
   "outputs": [],
   "source": [
    "hob_df.head()"
   ]
  },
  {
   "cell_type": "code",
   "execution_count": null,
   "id": "fa10bbbf-2acb-4bca-9770-dfc3c5761f6c",
   "metadata": {},
   "outputs": [],
   "source": [
    "hob_df.index = hob_df.obsnme\n",
    "hob_df.head()"
   ]
  },
  {
   "cell_type": "code",
   "execution_count": null,
   "id": "8e476a49-5ed8-4da4-a08f-81a246f89dfa",
   "metadata": {},
   "outputs": [],
   "source": []
  },
  {
   "cell_type": "code",
   "execution_count": null,
   "id": "ded19e22-a2d6-4e96-8d27-eafcc79cdfaa",
   "metadata": {},
   "outputs": [],
   "source": []
  },
  {
   "cell_type": "code",
   "execution_count": null,
   "id": "1fcedc9a-73d1-47b6-b166-88b6fd55e1f6",
   "metadata": {},
   "outputs": [],
   "source": []
  },
  {
   "cell_type": "code",
   "execution_count": null,
   "id": "a53d0451-e568-4d92-b734-b9ea978775f3",
   "metadata": {},
   "outputs": [],
   "source": [
    "pst.observation_data.loc[hob_df.index,\"obsval\"] = hob_df.obsval\n",
    "pst.observation_data.loc[hob_df.index,:].head()"
   ]
  },
  {
   "cell_type": "markdown",
   "id": "4ba133e2-3a30-4839-ad94-87be795d539d",
   "metadata": {},
   "source": [
    "# set observations before may -1 to have weights of 0.5"
   ]
  },
  {
   "cell_type": "code",
   "execution_count": null,
   "id": "706abab3-c25d-40dd-aab7-89be916a3cbc",
   "metadata": {},
   "outputs": [],
   "source": [
    "def ddown_start_check(xx):\n",
    "    '''\n",
    "    make list of observation names that are the first observation from the drawdown series. those should have weights of zero\n",
    "    '''\n",
    "    if xx.time_series_data['obsname'][0].decode('UTF-8').startswith('d'):\n",
    "        return True # if it starts with d that means it's a drawdown, and since we are taking only the first value, it should have a \n",
    "    else:\n",
    "        return False\n",
    "    \n",
    "ddown_starts = [obi.time_series_data['obsname'][0].decode('UTF-8')  for obi in obs if ddown_start_check(obi)]\n",
    "\n",
    "ddown_starts = pd.Series(ddown_starts)"
   ]
  },
  {
   "cell_type": "code",
   "execution_count": null,
   "id": "86d10f54-0d57-4ed0-b960-dd61c6da4ca7",
   "metadata": {},
   "outputs": [],
   "source": [
    "\n"
   ]
  },
  {
   "cell_type": "code",
   "execution_count": null,
   "id": "94e9d714-3f6c-4b5d-9e4b-53d21715b307",
   "metadata": {},
   "outputs": [],
   "source": [
    "\n"
   ]
  },
  {
   "cell_type": "code",
   "execution_count": null,
   "id": "dadabefb-1e58-4bd0-adfd-64141ab8b230",
   "metadata": {},
   "outputs": [],
   "source": [
    "def weighting(x):\n",
    "    '''\n",
    "    set weight to zero if there's no date value on measurement. \n",
    "    this value is the first measurement from the drawdown series, \n",
    "    meaning it's the raw head. the raw head has already been used\n",
    "    '''\n",
    "    v = x.split('.')\n",
    "    if len(v)>1:\n",
    "        return  1.0 if  int(v[1])>100 else .5\n",
    "    else:\n",
    "        return 1.0\n",
    "    \n",
    "hob_df.index.map(weighting)"
   ]
  },
  {
   "cell_type": "code",
   "execution_count": null,
   "id": "2fb5b555-11d0-4570-86f4-f8e66d5534e0",
   "metadata": {},
   "outputs": [],
   "source": []
  },
  {
   "cell_type": "code",
   "execution_count": null,
   "id": "75eb31cb-5fdc-4197-ae1f-d1d8f6c96d5a",
   "metadata": {},
   "outputs": [],
   "source": [
    "pst.observation_data.loc[hob_df.index,\"weight\"] = hob_df.index.map(weighting)\n",
    "\n",
    "pst.observation_data.loc[pst.observation_data.obsnme.isin(ddown_starts),'weight'] = 0\n",
    "\n",
    "display(pst.observation_data.loc[:,\"weight\"].value_counts().to_frame('value counts'))\n",
    "\n",
    "pst.observation_data.loc[hob_df.index,:].tail()\n"
   ]
  },
  {
   "cell_type": "code",
   "execution_count": null,
   "id": "1afec108-f50a-40e1-beda-000473d49afe",
   "metadata": {},
   "outputs": [],
   "source": [
    "pst.observation_data.obgnme = pst.observation_data.obsnme.apply(lambda x: 'drawdown'  if x.startswith('d') else 'headobs' )"
   ]
  },
  {
   "cell_type": "code",
   "execution_count": null,
   "id": "d5c03a8d-2f64-430f-9417-2db8cdcc7a03",
   "metadata": {},
   "outputs": [],
   "source": [
    "pst.observation_data.obgnme"
   ]
  },
  {
   "cell_type": "markdown",
   "id": "543f4552-e87c-4950-93fe-e199fcc1e3da",
   "metadata": {},
   "source": [
    "BOOM!  that was easy...trying doing that without pandas....not fun!\n",
    "\n",
    "We still have a few more items to set to specific values. The biggest one is initial values for parameters - they are given default values of 1.0:"
   ]
  },
  {
   "cell_type": "code",
   "execution_count": null,
   "id": "8cccc742-a0aa-469b-b6e9-724e507f449b",
   "metadata": {},
   "outputs": [],
   "source": [
    "pst.write('RR_2022\\pst_temp.pst')"
   ]
  },
  {
   "cell_type": "code",
   "execution_count": null,
   "id": "a042679a-2d6a-4180-a27b-ad2958e9be82",
   "metadata": {},
   "outputs": [],
   "source": [
    "pst.parameter_data"
   ]
  },
  {
   "cell_type": "markdown",
   "id": "85842a5b-166e-4092-9410-39e31caad055",
   "metadata": {},
   "source": [
    "Luckily, ``pandas`` makes this very easy.  For example, let's set the ``DRN`` conductance parameters to have initial values of mean of the values in the model currently:\n"
   ]
  },
  {
   "cell_type": "code",
   "execution_count": null,
   "id": "6833f387-445c-4fd6-b618-0fc8355e433e",
   "metadata": {},
   "outputs": [],
   "source": [
    "# avg = ml.drn.stress_period_data[0][\"cond\"].mean()\n",
    "par = pst.parameter_data #just a pointer to the full, long-named attribute\n",
    "# drn_pars = par.loc[par.parnme.apply(lambda x: x.startswith(\"drn\")),\"parnme\"].values\n",
    "par.loc['swrk',\"parval1\"] = 2.690747000000000e-006\n",
    "par.loc['swrk',\"parlbnd\"] = 1.4e-8\n",
    "par.loc['swrk',\"parubnd\"] = 1.4e-4\n",
    "par.loc['swrk2015',\"parval1\"] = 2.690747000000000e-006\n",
    "par.loc['swrk2015',\"parlbnd\"] = 1.4e-8\n",
    "par.loc['swrk2015',\"parubnd\"] = 1.4e-4\n",
    "par.loc['swrk2016',\"parval1\"] = 2.690747000000000e-006\n",
    "par.loc['swrk2016',\"parlbnd\"] = 1.4e-8\n",
    "par.loc['swrk2016',\"parubnd\"] = 1.4e-4\n",
    "par.loc[par.parnme.str.contains('ss'),'parval1'] = 1e-5\n",
    "par.loc[par.parnme.str.contains('ss'),'parlbnd'] = 1e-6\n",
    "par.loc[par.parnme.str.contains('ss'),'parubnd'] = 1e-3\n",
    "par.loc['ss_3',\"parval1\"] = 0.1\n",
    "par.loc['ss_3','parlbnd'] = 1e-5\n",
    "par.loc['ss_3','parubnd'] = 1e-3\n",
    "par.loc[par.parnme.str.contains('sy'),'parval1'] = .2\n",
    "par.loc[par.parnme.str.contains('sy'),'parlbnd'] = 0.05\n",
    "par.loc[par.parnme.str.contains('sy'),'parubnd'] = 0.3\n",
    "par.loc[par.parnme.str.contains('vk'),'parval1'] = .25\n",
    "par.loc[par.parnme.str.contains('vk'),'parlbnd'] = 1e-5\n",
    "par.loc[par.parnme.str.contains('vk'),'parubnd'] = 1e5\n",
    "par.loc[par.parnme.str.contains('vk'),'parval1'] = 1.0\n",
    "par.loc[par.parnme.str.contains('vk'),'parlbnd'] = 1e-5\n",
    "par.loc[par.parnme.str.contains('vk'),'parubnd'] = 1e5\n",
    "# #set the par group to mean something\n",
    "# par.loc[drn_pars,\"pargp\"] = \"drn_cond\"\n",
    "# par.loc[drn_pars,\"parubnd\"] = avg * 10.0\n",
    "# par.loc[drn_pars,\"parlbnd\"] = avg * 0.1\n",
    "par.loc[:,'pargp'] = par.loc[:,'parnme'].apply(lambda x: x.split(\"_\")[0])"
   ]
  },
  {
   "cell_type": "code",
   "execution_count": null,
   "id": "ca481a9e-f082-4b40-a4ee-a339622ef72c",
   "metadata": {},
   "outputs": [],
   "source": [
    "pst.parrep(r\"RR_2022\\reg_pest.par\", noptmax=50)\n",
    "par.loc['swrk2015',\"parval1\"] = 2.690747000000000e-006\n",
    "par.loc['swrk2016',\"parval1\"] = 2.690747000000000e-006\n",
    "\n",
    "par.loc['swrk2015',\"scale\"] = 1.0\n",
    "par.loc['swrk2016',\"scale\"] = 1.0\n",
    "par.loc['swrk2015',\"offset\"] =0.0\n",
    "par.loc['swrk2016',\"offset\"] = 0.0\n",
    "\n",
    "assert par.isnull().sum().sum()==0, 'fail'"
   ]
  },
  {
   "cell_type": "code",
   "execution_count": null,
   "id": "63676b8f-5f42-44a9-9642-897d78d1a854",
   "metadata": {},
   "outputs": [],
   "source": []
  },
  {
   "cell_type": "code",
   "execution_count": null,
   "id": "615ee31e-20dc-4d6e-aefd-a6a04c5f3460",
   "metadata": {},
   "outputs": [],
   "source": [
    "pst.model_command"
   ]
  },
  {
   "cell_type": "code",
   "execution_count": null,
   "id": "6c30b5b5-6593-4551-aa2c-374cdfffa8d5",
   "metadata": {},
   "outputs": [],
   "source": [
    "pst.model_command = [r\"python pest\\forward_run.py\"]"
   ]
  },
  {
   "cell_type": "markdown",
   "id": "0dad6160-cd37-4445-b0de-d662fd35ba91",
   "metadata": {},
   "source": [
    "Let's save this version of the control file"
   ]
  },
  {
   "cell_type": "code",
   "execution_count": null,
   "id": "f54180f2-ab39-4fd2-9fd9-4a4bbd8430e3",
   "metadata": {},
   "outputs": [],
   "source": [
    "pst = pyemu.pst.lo"
   ]
  },
  {
   "cell_type": "code",
   "execution_count": null,
   "id": "a4798131-ba66-4472-8775-69f45076cc36",
   "metadata": {},
   "outputs": [],
   "source": [
    "pst.write(os.path.join(ml.model_ws,\"pest.pst\"))"
   ]
  },
  {
   "cell_type": "markdown",
   "id": "572f9664-904d-4d59-be63-532b639ff230",
   "metadata": {},
   "source": [
    "### adding prior information\n",
    "\n",
    "``pyemu`` supports both zero-order (preferred value) and first-order (preferred difference) Tikhonov regularization.  Let's set preferred value for the conductance parameters:"
   ]
  },
  {
   "cell_type": "code",
   "execution_count": null,
   "id": "7df5b8fc-9e74-4e22-adb9-ce4482d86c8e",
   "metadata": {},
   "outputs": [],
   "source": [
    "pyemu.utils.helpers.zero_order_tikhonov(pst)\n",
    "pst.prior_information.head()"
   ]
  },
  {
   "cell_type": "code",
   "execution_count": null,
   "id": "28986193-ce23-4d09-87f9-a8a9be7fa672",
   "metadata": {},
   "outputs": [],
   "source": [
    "pst.control_data.pestmode = \"regularization\""
   ]
  },
  {
   "cell_type": "markdown",
   "id": "21f456e5-c526-476b-9a86-76702019692b",
   "metadata": {},
   "source": [
    "### setting PEST++ options\n",
    "Some things I like to add:"
   ]
  },
  {
   "cell_type": "code",
   "execution_count": null,
   "id": "2a65483b-f1ac-46e3-b755-a748418ae5b2",
   "metadata": {},
   "outputs": [],
   "source": []
  },
  {
   "cell_type": "code",
   "execution_count": null,
   "id": "449cf3c6-f783-4c61-91be-2683eec96a18",
   "metadata": {},
   "outputs": [],
   "source": [
    "# pst.write(os.path.join(ml.model_ws,'pest',\"reg_pest.pst\"))\n",
    "pst.write(os.path.join(ml.model_ws,\"reg_pest.pst\"))"
   ]
  },
  {
   "cell_type": "markdown",
   "id": "5741546a-4204-41f6-a7cb-1606727475c9",
   "metadata": {},
   "source": [
    "# run this after completion to replace with best fit parms"
   ]
  },
  {
   "cell_type": "code",
   "execution_count": null,
   "id": "0aa109aa-76b1-473a-9832-6f90f972c144",
   "metadata": {},
   "outputs": [],
   "source": [
    "# before continuing, we are going to re-load the pest control file to get rid of any changes we introduced\n",
    "pst = pyemu.Pst(os.path.join(ml.model_ws,\"pp_pest.pst\"))"
   ]
  },
  {
   "cell_type": "code",
   "execution_count": null,
   "id": "80c54cbe-deb1-45f2-8d7d-e94c2c2e7429",
   "metadata": {},
   "outputs": [],
   "source": [
    "# pst = pyemu.Pst(r\"RR_2022\\reg_pest.pst\")\n",
    "pst.parrep(r\"RR_2022\\pp_pest.par\")\n",
    "# pst.write(os.path.join('RR_2022',\"pp_pest_2.pst\"))\n",
    "# pst.write(my_new.pst\")\n",
    "# #write a version 2 control file\n",
    "# pst.write(\"my_new_v2.pst\",version=2)"
   ]
  },
  {
   "cell_type": "code",
   "execution_count": null,
   "id": "c73588da-b7ec-4d17-8aab-8518854e374d",
   "metadata": {},
   "outputs": [],
   "source": [
    "pst.write(os.path.join('RR_2022',\"pp_pest_2.pst\"))"
   ]
  },
  {
   "cell_type": "code",
   "execution_count": null,
   "id": "d29836f9-fbde-41b8-b10b-1ab3868ecfe5",
   "metadata": {},
   "outputs": [],
   "source": [
    "pst.control_data.noptmax = 50"
   ]
  },
  {
   "cell_type": "code",
   "execution_count": null,
   "id": "8a288c98-6a8f-4a2f-8b13-58c0b6f2809f",
   "metadata": {},
   "outputs": [],
   "source": [
    "pst.write(os.path.join(ml.model_ws,\"reg_pest.pst\"))"
   ]
  },
  {
   "cell_type": "code",
   "execution_count": null,
   "id": "0ccaee9a-e88e-4569-af8f-e9db8799e1c7",
   "metadata": {},
   "outputs": [],
   "source": [
    "# os.path.exists(os.path.join(ml.model_ws,'reg_pest.par'))"
   ]
  },
  {
   "cell_type": "code",
   "execution_count": null,
   "id": "31494607-cf2d-43bd-9b95-659988b824a4",
   "metadata": {},
   "outputs": [],
   "source": [
    "for year in range(2012,2021):\n",
    "    run = f\"June{year}\"\n",
    "    m = basic.load_model(path = os.path.join('temp', run))\n",
    "    p = os.path.join('initial_heads', run)\n",
    "    initial_conditions.set_starting_heads(m, plot = False, alt_outpath=p)"
   ]
  },
  {
   "cell_type": "code",
   "execution_count": null,
   "id": "469fba5f-8c73-409f-9dea-8196d85d1de4",
   "metadata": {},
   "outputs": [],
   "source": [
    "pst = pyemu.gw_utils.load"
   ]
  },
  {
   "cell_type": "code",
   "execution_count": null,
   "id": "650dcc53-9850-4eea-a0f9-3148b35e4d44",
   "metadata": {},
   "outputs": [],
   "source": [
    "pst.parrep(os.path.join(ml.model_ws,'reg_pest.par'))"
   ]
  },
  {
   "cell_type": "code",
   "execution_count": null,
   "id": "5a147dcc-ec84-43b5-9dd8-af046b661437",
   "metadata": {},
   "outputs": [],
   "source": []
  },
  {
   "cell_type": "code",
   "execution_count": null,
   "id": "c9c46238-c179-427d-96c3-42e93325f9c0",
   "metadata": {},
   "outputs": [],
   "source": [
    "def load_rei(m, file  = 'reg_pest.rei'):\n",
    "    rei = pd.read_csv(os.path.join(m.model_ws, file), skiprows= [0,1,2], delim_whitespace=True)\n",
    "    rei = rei.query(\"Group.str.contains('ob')\")\n",
    "\n",
    "    rei.loc[:,'date'] = pd.to_datetime('1/1/2014') + pd.to_timedelta(\n",
    "        rei.loc[:,'Name'].apply(lambda x: int(x.split('.')[1])), unit = \"D\")\n",
    "\n",
    "    rei.loc[:,'Well'] = rei.loc[:,'Name'].apply(lambda x: x.split('.')[0])\n",
    "    rei.loc[:,'phi'] = rei.Weight*rei.Residual**2\n",
    "    \n",
    "    return rei\n",
    "\n",
    "def plot_residuals(rei):\n",
    "    for well, df in rei.groupby('Well'):\n",
    "        # equivalent but more general\n",
    "        plt.figure( figsize = (10,10))\n",
    "        ax = plt.subplot(2, 1, 1)\n",
    "        ax.grid(True)\n",
    "        ax.set_title(well)\n",
    "        # add a subplot with no frame\n",
    "        # ax2 = plt.subplot(222, frameon=False)\n",
    "\n",
    "        ax.scatter(df.date, df.Measured, label = 'Measured')\n",
    "        ax.scatter(df.date, df.Modelled, label = 'Modelled')\n",
    "\n",
    "        ax2 = plt.subplot(212, frameon=True)\n",
    "        ax2.grid(True)\n",
    "        ax2.scatter(df.date, df.phi, label = 'Residual', color = 'r')\n",
    "        props = dict(boxstyle='round', facecolor='wheat', alpha=0.5)\n",
    "        ax2.text(1,0, f\"perc {100*df.phi.sum()/rei.phi.sum():.1f}%\\nphi = {df.phi.sum():.0f}\",\n",
    "                 fontsize=14,\n",
    "            verticalalignment='bottom', bbox=props,\n",
    "                 transform = ax.transAxes)\n",
    "        ax.legend()\n",
    "        ax2.legend(bbox_to_anchor = (1,1), loc = 'upper left')"
   ]
  },
  {
   "cell_type": "code",
   "execution_count": null,
   "id": "dc4cc54e-ab49-40c3-81e8-ab7988267de3",
   "metadata": {},
   "outputs": [],
   "source": [
    "rei = load_rei(ml , 'pp_pest.rei')"
   ]
  },
  {
   "cell_type": "code",
   "execution_count": null,
   "id": "12a5e447-0533-48ae-ac2a-f912eef69f84",
   "metadata": {},
   "outputs": [],
   "source": [
    "pd.to_datetime('1/1/2012')-pd.to_datetime('5/1/2012')"
   ]
  },
  {
   "cell_type": "code",
   "execution_count": null,
   "id": "ae4ac2cf-e19b-45a6-bfeb-1ecfb92bd4f6",
   "metadata": {},
   "outputs": [],
   "source": [
    "plot_residuals(rei)\n",
    "    "
   ]
  },
  {
   "cell_type": "code",
   "execution_count": null,
   "id": "863b394d-f50b-4e46-9768-ef6936ff7cc0",
   "metadata": {},
   "outputs": [],
   "source": []
  }
 ],
 "metadata": {
  "kernelspec": {
   "display_name": "Python 3 (ipykernel)",
   "language": "python",
   "name": "python3"
  },
  "language_info": {
   "codemirror_mode": {
    "name": "ipython",
    "version": 3
   },
   "file_extension": ".py",
   "mimetype": "text/x-python",
   "name": "python",
   "nbconvert_exporter": "python",
   "pygments_lexer": "ipython3",
   "version": "3.10.4"
  }
 },
 "nbformat": 4,
 "nbformat_minor": 5
}
