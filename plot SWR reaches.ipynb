{
 "cells": [
  {
   "cell_type": "code",
   "execution_count": null,
   "id": "de340180-f1ad-4163-a203-f20d41dfd2eb",
   "metadata": {},
   "outputs": [],
   "source": [
    "import flopy\n",
    "import os\n",
    "import geopandas as gpd\n",
    "import matplotlib.patches as mpatches\n",
    "import matplotlib.pyplot as plt\n",
    "import geopandas as gpd\n",
    "import basic\n",
    "import contextily as ctx\n",
    "import pandas as pd\n",
    "import numpy as np\n",
    "import cartopy.crs as ccrs\n",
    "import os\n",
    "import matplotlib.pyplot as plt\n",
    "\n",
    "import flopy.utils.binaryfile as bf"
   ]
  },
  {
   "cell_type": "code",
   "execution_count": null,
   "id": "e608a226-db96-40f5-a927-d7ef29e7e81d",
   "metadata": {},
   "outputs": [],
   "source": [
    "swr = gpd.read_file('GIS/SWR_Reaches.shp')\n",
    "m = basic.load_model()"
   ]
  },
  {
   "cell_type": "code",
   "execution_count": null,
   "id": "86467c18-467f-4e4f-ba0b-1e0f7dc23e73",
   "metadata": {},
   "outputs": [],
   "source": [
    "# def set_bounds_to_shape(ax, gdf):\n",
    "#     tb = gdf.to_crs(epsg=4326).total_bounds\n",
    "#     box = [tb[0], tb[2], tb[1], tb[3]]\n",
    "    \n",
    "#     ax.set_extent(box)\n",
    "    \n",
    "    \n"
   ]
  },
  {
   "cell_type": "code",
   "execution_count": null,
   "id": "eed0c1ec-7db9-4dec-8c7b-51d7ee2d6107",
   "metadata": {},
   "outputs": [],
   "source": [
    "import conda_scripts.plot_help as ph"
   ]
  },
  {
   "cell_type": "code",
   "execution_count": null,
   "id": "b6b9dc61-b0f0-42aa-970e-7d1b4d2fb55d",
   "metadata": {},
   "outputs": [],
   "source": [
    "from shapely.geometry import Polygon"
   ]
  },
  {
   "cell_type": "code",
   "execution_count": null,
   "id": "c78e7bbc-82dd-4869-8535-3cb6a294e27b",
   "metadata": {},
   "outputs": [],
   "source": []
  },
  {
   "cell_type": "code",
   "execution_count": null,
   "id": "a2732267-99fd-43dc-9dc4-ec77060c73a3",
   "metadata": {},
   "outputs": [],
   "source": []
  },
  {
   "cell_type": "code",
   "execution_count": null,
   "id": "23ef0c43-06dd-4f1f-aac7-241701222621",
   "metadata": {},
   "outputs": [],
   "source": []
  },
  {
   "cell_type": "code",
   "execution_count": null,
   "id": "919e5251-a0e0-40e4-8c0e-25a4359c0b9f",
   "metadata": {},
   "outputs": [],
   "source": []
  },
  {
   "cell_type": "code",
   "execution_count": null,
   "id": "e720f9eb-2ea3-4d22-953d-97ca7e02c741",
   "metadata": {},
   "outputs": [],
   "source": [
    "import adjustText"
   ]
  },
  {
   "cell_type": "code",
   "execution_count": null,
   "id": "4d59ac27-5e4a-476e-9655-888ee97c4245",
   "metadata": {
    "tags": []
   },
   "outputs": [],
   "source": []
  },
  {
   "cell_type": "code",
   "execution_count": null,
   "id": "7b583373-f4a6-44a5-893a-25f476f4387f",
   "metadata": {
    "tags": []
   },
   "outputs": [],
   "source": [
    "import conda_scripts.plot_help"
   ]
  },
  {
   "cell_type": "code",
   "execution_count": null,
   "id": "c38f11d6-a850-499e-9818-bcb7db6a71af",
   "metadata": {
    "tags": []
   },
   "outputs": [],
   "source": [
    "from importlib import reload\n",
    "reload(conda_scripts.plot_help)"
   ]
  },
  {
   "cell_type": "code",
   "execution_count": null,
   "id": "855ee7ef-ab60-4393-b3d3-f1116b03f449",
   "metadata": {
    "tags": []
   },
   "outputs": [],
   "source": [
    "wells = gpd.read_file(\"GIS/wells.shp\")"
   ]
  },
  {
   "cell_type": "code",
   "execution_count": null,
   "id": "9edf99c0-6a1f-40a7-b218-8bc6c1182592",
   "metadata": {
    "tags": []
   },
   "outputs": [],
   "source": [
    "wells"
   ]
  },
  {
   "cell_type": "code",
   "execution_count": null,
   "id": "69d2ca1f-2b5e-4973-9725-1fde573fb7f8",
   "metadata": {},
   "outputs": [],
   "source": [
    "\n",
    "\n",
    "swrpt = swr.copy()\n",
    "\n",
    "\n",
    "\n",
    "bins = np.arange(0, swrpt.rno.max()+1 + 10, 10)\n",
    "labels = [f\"SWR_{x + 1}\" for x in range(len(bins) - 1)]\n",
    "# labels[0] = labels[0] + ' (Upstream)'\n",
    "# labels[-1] = labels[-1] + ' (Downstream)'\n",
    "\n",
    "#group stream cells into groups of 10 to simpllify plotting/analysis\n",
    "swrpt.loc[:, 'swr_group'] = pd.cut(swrpt.rno+1, bins, labels=labels)\n",
    "\n",
    "\n",
    "fig, ax = basic.basic_map(m, False)\n",
    "swrpt.plot('swr_group',ax = ax, edgecolor = 'k')\n",
    "\n",
    "swrpt['geometry'] = swrpt['geometry'].centroid\n",
    "# set_bounds_to_shape(ax, swr)\n",
    "basic.set_bounds(ax)\n",
    "# text = ph.label_points(ax, swrpt.loc[swrpt.rno%5==0].reset_index(),\n",
    "#                        'rno', basin_name = None,text_color = 'k' )\n",
    "\n",
    "text1 = conda_scripts.plot_help.label_points(ax, swrpt.drop_duplicates('swr_group').reset_index(),\n",
    "                                             \n",
    "                       'swr_group', iter_limit = 10000, basin_name = None, already_str = False, fmt = \"s\",add_box = True,\n",
    "                                             masked_area = None,\n",
    "                       arrow_props =  dict(arrowstyle='-', color='grey'))\n",
    "\n",
    "wells.plot(ax = ax)\n",
    "ext = ax.get_extent()\n",
    "# print(ext)\n",
    "plt.savefig(os.path.join('model summary','reach_numbers.png'), bbox_inches = 'tight')"
   ]
  },
  {
   "cell_type": "code",
   "execution_count": null,
   "id": "dc2d38c5-95ba-40c9-a7d2-086a24f4e62d",
   "metadata": {},
   "outputs": [],
   "source": [
    "sfr = gpd.read_file(\"SFR_files\\only_sfr_cells.shp\")\n",
    "\n",
    "sfr_near = sfr.loc[sfr.iseg.isin([56, 51]),]"
   ]
  },
  {
   "cell_type": "code",
   "execution_count": null,
   "id": "1bcaf0aa-2f78-44a0-9c17-302a5523ccc6",
   "metadata": {},
   "outputs": [],
   "source": [
    "sfr_near.explore()"
   ]
  },
  {
   "cell_type": "code",
   "execution_count": null,
   "id": "d26d2ef3-b3b8-4c2c-a557-708c09ccac8d",
   "metadata": {},
   "outputs": [],
   "source": [
    "fig, ax = basic.basic_map(m, False)\n",
    "swr.plot(ax = ax, edgecolor = 'k', facecolor = \"None\", zorder =  100)\n",
    "\n",
    "swrpt = swr.copy()\n",
    "\n",
    "swrpt['geometry'] = swrpt['geometry'].centroid\n",
    "sfr_near.plot(ax =ax, edgecolor = 'None', facecolor = 'c', zorder = 99)\n",
    "set_bounds_to_shape(ax, sfr_near)\n",
    "# lp.label_points(ax, swrpt,'rno', basin_name = None, already_str=False)\n",
    "# plt.savefig(os.path.join('model summary','reach_numbers.png'), figsize = (8,8))"
   ]
  },
  {
   "cell_type": "code",
   "execution_count": null,
   "id": "a1d04520-f25e-4db9-894b-57ca21c59bb0",
   "metadata": {},
   "outputs": [],
   "source": []
  }
 ],
 "metadata": {
  "kernelspec": {
   "display_name": "Python 3 (ipykernel)",
   "language": "python",
   "name": "python3"
  },
  "language_info": {
   "codemirror_mode": {
    "name": "ipython",
    "version": 3
   },
   "file_extension": ".py",
   "mimetype": "text/x-python",
   "name": "python",
   "nbconvert_exporter": "python",
   "pygments_lexer": "ipython3",
   "version": "3.9.16"
  }
 },
 "nbformat": 4,
 "nbformat_minor": 5
}
