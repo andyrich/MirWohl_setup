{
 "cells": [
  {
   "cell_type": "code",
   "execution_count": null,
   "id": "09ecb956-3475-430b-a305-16e83d8bde82",
   "metadata": {},
   "outputs": [],
   "source": [
    "import os"
   ]
  },
  {
   "cell_type": "code",
   "execution_count": null,
   "id": "0edbe401-bad1-46e3-934d-03223708a6ab",
   "metadata": {},
   "outputs": [],
   "source": [
    "z = r\"jupyter nbconvert --to script 'C:\\modeling\\MirabelWohler\\{:}'\".format\n",
    "nb = [z(f) for f in sorted(os.listdir()) if f.endswith('.ipynb')]\n",
    "\n",
    "with open('nbconvert_notebooks.txt', 'w') as wr:\n",
    "    for f in nb:\n",
    "        wr.write(f+'\\n')\n",
    "        print(f)"
   ]
  },
  {
   "cell_type": "code",
   "execution_count": null,
   "id": "e96248b9-25a9-4046-ad75-d9aef572f150",
   "metadata": {},
   "outputs": [],
   "source": [
    "!jupyter nbconvert --to script 'T:\\arich\\SGMA\\SGMA_Rate_study\\Update 2022\\scwa_check\\raftelis.ipynb'"
   ]
  },
  {
   "cell_type": "code",
   "execution_count": null,
   "id": "673b3239-5b51-478c-abb1-d313492dbbeb",
   "metadata": {},
   "outputs": [],
   "source": []
  }
 ],
 "metadata": {
  "kernelspec": {
   "display_name": "Python 3 (ipykernel)",
   "language": "python",
   "name": "python3"
  },
  "language_info": {
   "codemirror_mode": {
    "name": "ipython",
    "version": 3
   },
   "file_extension": ".py",
   "mimetype": "text/x-python",
   "name": "python",
   "nbconvert_exporter": "python",
   "pygments_lexer": "ipython3",
   "version": "3.10.4"
  }
 },
 "nbformat": 4,
 "nbformat_minor": 5
}
