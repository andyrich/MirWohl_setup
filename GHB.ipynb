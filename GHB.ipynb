{
 "cells": [
  {
   "cell_type": "code",
   "execution_count": null,
   "id": "ba1fa097-cf1e-4c5f-9687-62c4555f69af",
   "metadata": {},
   "outputs": [],
   "source": [
    "import basic\n",
    "import geopandas as gpd\n",
    "import os, shutil\n",
    "import numpy as np"
   ]
  },
  {
   "cell_type": "code",
   "execution_count": null,
   "id": "d7f34697-53ba-4086-9b51-254edbe2fcbe",
   "metadata": {},
   "outputs": [],
   "source": [
    "ml = basic.load_model()"
   ]
  },
  {
   "cell_type": "code",
   "execution_count": null,
   "id": "452f8194-d014-4138-b3d3-9f91099480d4",
   "metadata": {},
   "outputs": [],
   "source": [
    "ghb = ml.ghb\n",
    "\n",
    "sp = ghb.stress_period_data[0]\n",
    "\n",
    "ghb.stress_period_data = sp\n",
    "sp['cond'] = .0005\n",
    "\n",
    "ghb.write_file()"
   ]
  },
  {
   "cell_type": "code",
   "execution_count": null,
   "id": "85bdf3c6-5a81-4eea-8dda-b9b02bbc0156",
   "metadata": {},
   "outputs": [],
   "source": []
  },
  {
   "cell_type": "code",
   "execution_count": null,
   "id": "367fbad5-dd1b-467b-b9e6-3a6991a3e7b9",
   "metadata": {},
   "outputs": [],
   "source": []
  },
  {
   "cell_type": "code",
   "execution_count": null,
   "id": "fbac56b8-aff6-4a32-a64f-56742b9c6e9d",
   "metadata": {},
   "outputs": [],
   "source": [
    "bas = ml.bas6.ibound.array"
   ]
  },
  {
   "cell_type": "code",
   "execution_count": null,
   "id": "58995d5e-7f3c-4f56-8919-d564656d2e98",
   "metadata": {},
   "outputs": [],
   "source": [
    "bas = bas==-1"
   ]
  },
  {
   "cell_type": "code",
   "execution_count": null,
   "id": "fa7f8311-5176-44f5-9cdd-dd944980aeb8",
   "metadata": {},
   "outputs": [],
   "source": [
    "k, i, j = np.indices(bas.shape)"
   ]
  },
  {
   "cell_type": "code",
   "execution_count": null,
   "id": "9dc96496-86d4-47ca-b618-9999ca85b8b7",
   "metadata": {},
   "outputs": [],
   "source": [
    "import flopy\n",
    "from flopy.modflow import ModflowGhb\n",
    "\n",
    "# ModflowGhb()\n"
   ]
  },
  {
   "cell_type": "code",
   "execution_count": null,
   "id": "a3d203ce-39a7-4f8d-9760-48cae2075e00",
   "metadata": {},
   "outputs": [],
   "source": [
    "head, hdsobj = basic.get_heads(ml)"
   ]
  },
  {
   "cell_type": "code",
   "execution_count": null,
   "id": "df2d7b1d-cff2-463b-85f8-201543812bf2",
   "metadata": {},
   "outputs": [],
   "source": [
    "bas = bas.reshape((-1,1))\n",
    "head = head.reshape((-1,1))\n",
    "k, i, j = k.reshape((-1,1)), i.reshape((-1,1)), j.reshape((-1,1))"
   ]
  },
  {
   "cell_type": "code",
   "execution_count": null,
   "id": "0216adc4-0b4e-4ba3-9455-ba90abaf0571",
   "metadata": {},
   "outputs": [],
   "source": [
    "cond = np.ones(head.shape)*.1"
   ]
  },
  {
   "cell_type": "code",
   "execution_count": null,
   "id": "777650cf-27c5-4ab1-a55d-02efe27f2c36",
   "metadata": {},
   "outputs": [],
   "source": [
    "stress_period_data = ModflowGhb.get_empty(ncells= bas[bas].shape[0])"
   ]
  },
  {
   "cell_type": "code",
   "execution_count": null,
   "id": "e38ead85-e916-4921-b49a-fab054492de5",
   "metadata": {},
   "outputs": [],
   "source": [
    "stress_period_data['k'] = k[bas]\n",
    "stress_period_data['i'] = i[bas]\n",
    "stress_period_data['j'] = j[bas]\n",
    "stress_period_data['bhead'] = head[bas]\n",
    "stress_period_data['cond'] = cond[bas]\n",
    "stress_period_data"
   ]
  },
  {
   "cell_type": "code",
   "execution_count": null,
   "id": "a82c1f89-db1e-468f-bd88-21b1e8c6113d",
   "metadata": {},
   "outputs": [],
   "source": [
    "flopy.modflow.ModflowWel.get_empty()"
   ]
  },
  {
   "cell_type": "code",
   "execution_count": null,
   "id": "c2c24a45-4768-4097-bddd-f02de3473e9c",
   "metadata": {},
   "outputs": [],
   "source": []
  },
  {
   "cell_type": "code",
   "execution_count": null,
   "id": "67407b16-6e41-4fb9-b3d1-f0d4eec93255",
   "metadata": {},
   "outputs": [],
   "source": [
    "ghb = ModflowGhb(ml, ipakcb=1,stress_period_data=stress_period_data, filenames = 'RR.ghb')"
   ]
  },
  {
   "cell_type": "code",
   "execution_count": null,
   "id": "ae3fe84d-830e-41b0-9d44-d6c3438b7f00",
   "metadata": {},
   "outputs": [],
   "source": [
    "ghb.write_file()"
   ]
  },
  {
   "cell_type": "code",
   "execution_count": null,
   "id": "0452d6d4-3ca8-4fd2-9961-e354ca3eebab",
   "metadata": {},
   "outputs": [],
   "source": [
    "ghb.plot(per = 0)"
   ]
  },
  {
   "cell_type": "code",
   "execution_count": null,
   "id": "b46af634-39c7-4ee2-bfee-cb0b03d7a9cb",
   "metadata": {},
   "outputs": [],
   "source": [
    "import conda_scripts.arich_functions as af\n",
    "import conda_scripts.utils.folium_maps as fm\n",
    "import pandas as pd"
   ]
  },
  {
   "cell_type": "code",
   "execution_count": null,
   "id": "7a8e128c-054b-41ba-a9e6-5160f93a480a",
   "metadata": {},
   "outputs": [],
   "source": [
    "grid = gpd.read_file('GIS/grid.shp')"
   ]
  },
  {
   "cell_type": "code",
   "execution_count": null,
   "id": "b63f365e-bfb3-4526-b539-64f36ed204bf",
   "metadata": {},
   "outputs": [],
   "source": [
    "grid.head()"
   ]
  },
  {
   "cell_type": "code",
   "execution_count": null,
   "id": "614725ca-eeb7-44ea-b7be-d5fb47b8dbdc",
   "metadata": {},
   "outputs": [],
   "source": [
    "modelgrid = af.get_model_shp(ml.modelgrid)"
   ]
  },
  {
   "cell_type": "code",
   "execution_count": null,
   "id": "6074ee3f-4b7f-4ec7-9147-610cd6b73b5a",
   "metadata": {},
   "outputs": [],
   "source": [
    "modelgrid.head()"
   ]
  },
  {
   "cell_type": "code",
   "execution_count": null,
   "id": "1f3d2fba-ccd5-4090-9fe5-8dcdebb12e50",
   "metadata": {},
   "outputs": [],
   "source": []
  },
  {
   "cell_type": "code",
   "execution_count": null,
   "id": "e86f505c-e284-4181-87d5-6e39ca25b055",
   "metadata": {},
   "outputs": [],
   "source": [
    "stress_period_data = ghb.stress_period_data[0]"
   ]
  },
  {
   "cell_type": "code",
   "execution_count": null,
   "id": "4a212f05-044c-4bb0-823a-5a2e9aa9019b",
   "metadata": {
    "tags": []
   },
   "outputs": [],
   "source": [
    "gh = pd.DataFrame(stress_period_data)\n",
    "gh.loc[:,'row'] = gh.loc[:,'i']+1\n",
    "gh.loc[:,'column'] = gh.loc[:,'j']+1\n",
    "gh = pd.merge(gh, grid.drop(columns = 'geometry'), on = ['row','column'])\n",
    "\n",
    "gh = gpd.GeoDataFrame(pd.merge(gh,modelgrid, on = ['i','j']), crs = 2226)\n",
    "\n",
    "# \n",
    "\n",
    "m  = gh.query(\"k==0\").explore('cond', name = 'layer 1')\n",
    "gh.query(\"k==1\").explore('cond', name = 'layer 2', m = m)\n",
    "grid.query(\"botm_1!=999\").dissolve().explore(m = m, name = 'grid')\n",
    "fm.add_layers(m)\n",
    "m"
   ]
  },
  {
   "cell_type": "code",
   "execution_count": null,
   "id": "be2725a9-be79-409d-a292-53c5df75a836",
   "metadata": {},
   "outputs": [],
   "source": []
  },
  {
   "cell_type": "code",
   "execution_count": null,
   "id": "6ebee553-24ff-43e5-af03-fd3e1c30f82a",
   "metadata": {},
   "outputs": [],
   "source": [
    "import Hydrographs"
   ]
  },
  {
   "cell_type": "code",
   "execution_count": null,
   "id": "48b0f341-481d-411b-ab2c-bded7ebbcf19",
   "metadata": {},
   "outputs": [],
   "source": [
    "datestart = '4/16/2016'"
   ]
  },
  {
   "cell_type": "code",
   "execution_count": null,
   "id": "87b252dd-3bf1-4592-8944-e4bd9464937f",
   "metadata": {},
   "outputs": [],
   "source": [
    "obs =  Hydrographs.load_obs('MW93_14.csv', datestart,numdays=109)"
   ]
  },
  {
   "cell_type": "code",
   "execution_count": null,
   "id": "49797275-177d-4c9c-9a98-9b5dba7c4b1b",
   "metadata": {},
   "outputs": [],
   "source": [
    "obs.plot()"
   ]
  },
  {
   "cell_type": "code",
   "execution_count": null,
   "id": "a02e00e1-04b4-43f6-b34d-984946cdc0d7",
   "metadata": {},
   "outputs": [],
   "source": [
    "import conda_scripts.gwplot_fancy as gwp\n",
    "import matplotlib.pyplot as plt"
   ]
  },
  {
   "cell_type": "code",
   "execution_count": null,
   "id": "2a23a636-3e86-49d9-8bb3-f137c1a5ccf5",
   "metadata": {},
   "outputs": [],
   "source": [
    "skip_gw_data = True"
   ]
  },
  {
   "cell_type": "code",
   "execution_count": null,
   "id": "097cf3ef-44a8-4f4c-b652-415c52826100",
   "metadata": {},
   "outputs": [],
   "source": [
    "nwp = gwp.fancy_plot('LRR0061',group = None,\n",
    "                     filename='test.png',\n",
    "                     allinfo=None,\n",
    "                     do_regress=False)\n",
    "\n",
    "nwp.do_plot(False, skip_gw_data=skip_gw_data,\n",
    "            map_buffer_size = 2500, seasonal = False,\n",
    "            plot_dry = False, plot_wet = False,\n",
    "            maptype = 'ctx.USGS.USTopo')\n",
    "\n",
    "hds, hdsobj = basic.get_heads(ml)\n",
    "idx = (0, 140, 66)\n",
    "head = Hydrographs.get_ts(idx, hdsobj, datestart)\n",
    "head.plot(ax = nwp.upleft)\n",
    "\n",
    "\n",
    "obs.rename(columns = {'Value':'Observed'}).plot(ax = nwp.upleft)\n",
    "\n",
    "nwp.fig"
   ]
  },
  {
   "cell_type": "code",
   "execution_count": null,
   "id": "7c866ad5-a3b8-4e74-87d0-5635889d9f66",
   "metadata": {},
   "outputs": [],
   "source": []
  },
  {
   "cell_type": "code",
   "execution_count": null,
   "id": "46e19a58-900a-48ea-a883-b8394380e5c6",
   "metadata": {},
   "outputs": [],
   "source": [
    "nwp.fig"
   ]
  },
  {
   "cell_type": "code",
   "execution_count": null,
   "id": "d6d40178-7c50-407a-95e5-3581dcab0134",
   "metadata": {},
   "outputs": [],
   "source": [
    "plt.savefig('test.png')"
   ]
  },
  {
   "cell_type": "code",
   "execution_count": null,
   "id": "96005799-85dc-4ee7-926e-886ec701cedb",
   "metadata": {},
   "outputs": [],
   "source": []
  },
  {
   "cell_type": "code",
   "execution_count": null,
   "id": "77eb3830-c3ee-4f75-8d35-860a86945ea4",
   "metadata": {},
   "outputs": [],
   "source": [
    "head.plot()"
   ]
  },
  {
   "cell_type": "code",
   "execution_count": null,
   "id": "d015659e-9cc9-4c8c-bbab-10a3696bda41",
   "metadata": {},
   "outputs": [],
   "source": [
    "grid.query(\"botm_1!=999\").explore( name = 'grid')"
   ]
  },
  {
   "cell_type": "code",
   "execution_count": null,
   "id": "7b39a0e2-cf38-4063-94c2-3a1c2fb80546",
   "metadata": {},
   "outputs": [],
   "source": []
  }
 ],
 "metadata": {
  "kernelspec": {
   "display_name": "Python 3 (ipykernel)",
   "language": "python",
   "name": "python3"
  },
  "language_info": {
   "codemirror_mode": {
    "name": "ipython",
    "version": 3
   },
   "file_extension": ".py",
   "mimetype": "text/x-python",
   "name": "python",
   "nbconvert_exporter": "python",
   "pygments_lexer": "ipython3",
   "version": "3.10.4"
  }
 },
 "nbformat": 4,
 "nbformat_minor": 5
}
