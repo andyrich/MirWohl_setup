{
 "cells": [
  {
   "cell_type": "code",
   "execution_count": null,
   "id": "3e447038-14df-4800-87d8-7b65e381b006",
   "metadata": {},
   "outputs": [],
   "source": [
    "import basic\n",
    "import Hydrographs"
   ]
  },
  {
   "cell_type": "code",
   "execution_count": null,
   "id": "5ee6791b-5dc7-43f3-8bb8-3046b6f33568",
   "metadata": {
    "tags": []
   },
   "outputs": [],
   "source": [
    "\n",
    "ml = basic.load_model(path = 'temp/June2020')\n",
    "run_name = 'June2020'\n",
    "info, swr_info, sfr_info, riv_keys_info = basic.load_params(run_name)\n",
    "\n",
    "datestart = info['start_date']\n",
    "numdays = info['numdays']\n",
    "name = info['name']\n",
    "\n",
    "out_folder = basic.out_folder(run_name)\n",
    "\n",
    "print(datestart)\n",
    "print(out_folder)\n",
    "\n",
    "wells_mod = Hydrographs.load_wells_mod(ml)\n",
    "\n",
    "obsall = Hydrographs.do_hydros(ml, wells_mod, out_folder, datestart, numdays, skip_plotting = True)\n",
    "# Hydrographs.plot_one_to_one(obsall, out_folder, byzone=True)\n",
    "\n"
   ]
  },
  {
   "cell_type": "code",
   "execution_count": null,
   "id": "8edd7c67-f536-4a49-8216-0e767294706d",
   "metadata": {},
   "outputs": [],
   "source": [
    "def plot_residual(allobs, out_folder, ml):\n",
    "\n",
    "    locs = allobs.drop_duplicates('well').loc[:,['geometry','well']]\n",
    "    \n",
    "    allobs.loc[:,'residual'] = allobs.loc[:, 'Observed'] - allobs.loc[:,'Simulated']\n",
    "    \n",
    "    allobs = allobs.drop(columns = 'geometry').groupby('well').mean().reset_index()\n",
    "    \n",
    "    \n",
    "    merged = pd.merge(allobs, locs, on = 'well')\n",
    "    merged = gpd.GeoDataFrame(merged, geometry = 'geometry', crs = 2226)\n",
    "    \n",
    "    fig, ax = basic.map_river(m = ml,add_basemap=True)\n",
    "    ph.remove_ctx_annotations(ax)\n",
    "    # fig, ax = basic.swr_map(m = ml)\n",
    "    # fig, ax = basic.basic_map(m = ml)\n",
    "    basic.set_bounds(ax)\n",
    "    \n",
    "    merged.plot('residual', markersize = 15, edgecolor = 'k', ax = ax, legend = True,\n",
    "                cmap = 'jet', legend_kwds = {'title':'Residual (Obs. - Sim.)', 'loc':'upper left',\n",
    "                                            'bbox_to_anchor':(1,1)},\n",
    "              classification_kwds = {'bins':np.arange(-25,26,5)},\n",
    "                scheme  = 'UserDefined', zorder = 105)\n",
    "\n",
    "    ph.label_points(ax = ax, gdf = merged,fmt = \".1f\",  colname = 'residual',basin_name=None)\n",
    "    \n",
    "    ax.text(1,0, 'Labels are residuals',ha = 'right',  transform = ax.transAxes)\n",
    "    \n",
    "    plt.savefig(os.path.join(out_folder, 'residuals.png'), dpi=250, bbox_inches='tight')"
   ]
  },
  {
   "cell_type": "code",
   "execution_count": null,
   "id": "99bf6f60-c458-458d-bd42-74dcbd2ec5f1",
   "metadata": {},
   "outputs": [],
   "source": [
    "import pandas as pd\n",
    "import geopandas as gpd\n",
    "import numpy as np\n",
    "import conda_scripts.plot_help as ph\n",
    "import matplotlib.pyplot as plt\n",
    "import os"
   ]
  },
  {
   "cell_type": "code",
   "execution_count": null,
   "id": "93401c5b-513a-4d26-8fe9-1a834651cca3",
   "metadata": {},
   "outputs": [],
   "source": []
  },
  {
   "cell_type": "code",
   "execution_count": null,
   "id": "b7bd1f3a-1b7a-41f5-bb96-913a36772e15",
   "metadata": {},
   "outputs": [],
   "source": [
    "plot_residual(obsall, out_folder=out_folder, ml = ml)"
   ]
  },
  {
   "cell_type": "code",
   "execution_count": null,
   "id": "fdee0788-a96b-4d2d-9447-144c1fc0a864",
   "metadata": {},
   "outputs": [],
   "source": []
  }
 ],
 "metadata": {
  "kernelspec": {
   "display_name": "Python 3 (ipykernel)",
   "language": "python",
   "name": "python3"
  },
  "language_info": {
   "codemirror_mode": {
    "name": "ipython",
    "version": 3
   },
   "file_extension": ".py",
   "mimetype": "text/x-python",
   "name": "python",
   "nbconvert_exporter": "python",
   "pygments_lexer": "ipython3",
   "version": "3.10.4"
  }
 },
 "nbformat": 4,
 "nbformat_minor": 5
}
