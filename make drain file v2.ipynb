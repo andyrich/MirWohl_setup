{
 "cells": [
  {
   "cell_type": "code",
   "execution_count": null,
   "id": "3ebce1f4-4687-480c-8c0e-6d876123d430",
   "metadata": {},
   "outputs": [],
   "source": [
    "import flopy\n",
    "import os\n",
    "import geopandas as gpd\n",
    "import matplotlib.patches as mpatches\n",
    "import matplotlib.pyplot as plt\n",
    "import geopandas as gpd\n",
    "import basic\n",
    "import contextily as ctx\n",
    "import pandas as pd\n",
    "import numpy as np\n",
    "import cartopy.crs as ccrs\n",
    "import os\n",
    "import matplotlib.pyplot as plt\n",
    "\n",
    "import warnings"
   ]
  },
  {
   "cell_type": "markdown",
   "id": "18a43ac3-f80a-4ced-b250-66ffbcb034b3",
   "metadata": {},
   "source": [
    "# create drains wherever SWR, SFR or GHB are not located"
   ]
  },
  {
   "cell_type": "code",
   "execution_count": null,
   "id": "aeae7476-c362-4b91-a624-49b495491981",
   "metadata": {},
   "outputs": [],
   "source": [
    "import os\n",
    "os.getcwd()"
   ]
  },
  {
   "cell_type": "code",
   "execution_count": null,
   "id": "6f280664-a296-40d2-a04c-28d489028a2f",
   "metadata": {},
   "outputs": [],
   "source": [
    "m = basic.load_model()\n",
    "m.free_format_input = True"
   ]
  },
  {
   "cell_type": "code",
   "execution_count": null,
   "id": "641924a9-e669-4476-9525-c8b5cefab219",
   "metadata": {},
   "outputs": [],
   "source": []
  },
  {
   "cell_type": "code",
   "execution_count": null,
   "id": "020a0305-17a2-44d2-b04f-1222e3f87105",
   "metadata": {},
   "outputs": [],
   "source": []
  },
  {
   "cell_type": "code",
   "execution_count": null,
   "id": "31667857-7755-4439-976d-24b740be020a",
   "metadata": {},
   "outputs": [],
   "source": []
  },
  {
   "cell_type": "code",
   "execution_count": null,
   "id": "ffb26105-48a1-4c8d-a56c-efde71caabdf",
   "metadata": {},
   "outputs": [],
   "source": [
    "pond_grid = gpd.read_file('ponds/ponds.geojson')\n",
    "pond_grid = pond_grid.query(\"name=='Two' or name=='Three'\")\n",
    "pond_grid.plot('name')\n",
    "pond = np.zeros((m.nrow, m.ncol), dtype = bool)\n",
    "\n",
    "pond[pond_grid.row-1, pond_grid.column-1] = True\n",
    "plt.figure()\n",
    "plt.imshow(pond)"
   ]
  },
  {
   "cell_type": "code",
   "execution_count": null,
   "id": "b506029b-1eb6-4cdc-b415-243cc19218e2",
   "metadata": {},
   "outputs": [],
   "source": []
  },
  {
   "cell_type": "code",
   "execution_count": null,
   "id": "21ae0b43-3d85-446d-8c09-436f495d2262",
   "metadata": {},
   "outputs": [],
   "source": [
    "ghb = m.ghb.stress_period_data\n",
    "ghbdf = pd.DataFrame(ghb[0])\n",
    "\n",
    "ghb_ar = np.zeros((m.nrow, m.ncol), dtype = bool)\n",
    "\n",
    "ghb_ar[ghbdf.i, ghbdf.j] = True\n",
    "\n",
    "plt.imshow(ghb_ar)\n"
   ]
  },
  {
   "cell_type": "code",
   "execution_count": null,
   "id": "d68d45f9-c8bf-4db3-84ea-30e2fb226677",
   "metadata": {},
   "outputs": [],
   "source": [
    "# get stream thalwegs to use as drain reach\n",
    "\n",
    "swr = gpd.read_file('GIS/nhd_hr_demo_sfr_cells.shp')\n",
    "\n",
    "swr_ar = np.zeros((m.nrow, m.ncol), dtype = bool)\n",
    "\n",
    "swr_ar[swr.i, swr.j] = True\n",
    "\n",
    "plt.imshow(swr_ar)\n"
   ]
  },
  {
   "cell_type": "code",
   "execution_count": null,
   "id": "80e8e629-4074-435f-b698-21babd7ff178",
   "metadata": {},
   "outputs": [],
   "source": [
    "top = m.dis.top.array\n",
    "ibnd = m.bas6.ibound.array[0]\n",
    "ibnd = ibnd ==0\n"
   ]
  },
  {
   "cell_type": "code",
   "execution_count": null,
   "id": "ced3f442-c1af-4aa1-b58d-31550ce69dbb",
   "metadata": {},
   "outputs": [],
   "source": []
  },
  {
   "cell_type": "code",
   "execution_count": null,
   "id": "d8efbdc2-217b-412c-8edd-2e8fa79b0d86",
   "metadata": {},
   "outputs": [],
   "source": [
    "# made df with above\n",
    "mask = np.stack([ibnd, swr_ar, pond])\n",
    "mask = mask.any(axis = 0)\n",
    "i, j = np.indices(mask.shape)\n",
    "df  = np.hstack([top.reshape((-1,1)), mask.reshape((-1,1)), i.reshape((-1,1)), j.reshape((-1,1))])\n",
    "\n",
    "df  = pd.DataFrame(df, columns = ['modeltop', 'mask', 'i', 'j'])\n",
    "\n",
    "df = df.loc[df.loc[:,'mask'] ==0,:]\n",
    "df.loc[:,'k'] = 0\n",
    "df.loc[:,'cond'] = 1/84600\n",
    "stress_period = df.loc[:,['k', 'i' , 'j', 'modeltop', 'cond']]\n",
    "stress_period.head()"
   ]
  },
  {
   "cell_type": "code",
   "execution_count": null,
   "id": "e5e11d46-dd52-46a2-8b50-574b4318b680",
   "metadata": {},
   "outputs": [],
   "source": []
  },
  {
   "cell_type": "code",
   "execution_count": null,
   "id": "5f5163f7-e2b7-493f-82d1-a26fd3a20261",
   "metadata": {},
   "outputs": [],
   "source": []
  },
  {
   "cell_type": "code",
   "execution_count": null,
   "id": "065d9f33-de26-42a5-8504-9f13544bdc97",
   "metadata": {},
   "outputs": [],
   "source": [
    "\n"
   ]
  },
  {
   "cell_type": "code",
   "execution_count": null,
   "id": "e551ef39-0ed6-4249-a67b-6b85d411fc3a",
   "metadata": {},
   "outputs": [],
   "source": []
  },
  {
   "cell_type": "code",
   "execution_count": null,
   "id": "138c9227-91ec-45ed-a462-91e033d7bb4b",
   "metadata": {},
   "outputs": [],
   "source": []
  },
  {
   "cell_type": "code",
   "execution_count": null,
   "id": "aeb9e747-08f8-4297-85c1-1ebf6aff57cb",
   "metadata": {},
   "outputs": [],
   "source": []
  },
  {
   "cell_type": "code",
   "execution_count": null,
   "id": "4104fc6b-23bf-4911-81bc-c9f591fb9373",
   "metadata": {},
   "outputs": [],
   "source": [
    "#add 5 feet above model top in order to reduce impact of drains"
   ]
  },
  {
   "cell_type": "code",
   "execution_count": null,
   "id": "bacc01be-f0da-483c-92a0-ccc38228dea0",
   "metadata": {},
   "outputs": [],
   "source": [
    "sp = flopy.modflow.ModflowDrn.get_empty(stress_period.shape[0])\n",
    "sp['i'] = stress_period.loc[:,'i']\n",
    "sp['j'] = stress_period.loc[:,'j']\n",
    "sp['elev'] = stress_period.loc[:,'modeltop'] + 5 \n",
    "sp['cond'] = stress_period.loc[:,'cond'].astype('<f4')\n",
    "sp['cond'] = 1/86400\n",
    "sp"
   ]
  },
  {
   "cell_type": "code",
   "execution_count": null,
   "id": "f5899201-ef5e-4926-b5af-990135ccb8b9",
   "metadata": {
    "tags": []
   },
   "outputs": [],
   "source": [
    "allsp = {x:(sp if x==0 else -1)  for x  in range(m.dis.nper-1)}\n",
    "allsp"
   ]
  },
  {
   "cell_type": "code",
   "execution_count": null,
   "id": "758a5e5d-3d34-4f2f-a228-b803e5eb7b7a",
   "metadata": {
    "tags": []
   },
   "outputs": [],
   "source": [
    "mnew = basic.load_model(path = 'temp/June2012')"
   ]
  },
  {
   "cell_type": "code",
   "execution_count": null,
   "id": "f4564696-c894-4273-b038-1270177be35f",
   "metadata": {
    "tags": []
   },
   "outputs": [],
   "source": [
    "mnew.run_model()"
   ]
  },
  {
   "cell_type": "code",
   "execution_count": null,
   "id": "0000cbd9-08b6-44da-8829-6a0265153b54",
   "metadata": {},
   "outputs": [],
   "source": [
    "drn = flopy.modflow.mfdrn.ModflowDrn(m, stress_period_data= allsp)"
   ]
  },
  {
   "cell_type": "code",
   "execution_count": null,
   "id": "2ae0ea06-ae79-45f4-aa7f-9b54c1fda028",
   "metadata": {},
   "outputs": [],
   "source": [
    "drn.write_file()\n",
    "drn.plot(kper = 0, mflay  = 0, ibnd = 'r')"
   ]
  },
  {
   "cell_type": "code",
   "execution_count": null,
   "id": "631f32af-8b95-45ad-a86c-ac361264bfa9",
   "metadata": {},
   "outputs": [],
   "source": []
  },
  {
   "cell_type": "code",
   "execution_count": null,
   "id": "b41e3c8c-2033-481b-b023-e14a434086bf",
   "metadata": {},
   "outputs": [],
   "source": []
  },
  {
   "cell_type": "code",
   "execution_count": null,
   "id": "f1c45412-c6de-4ef0-95af-92f12586cabc",
   "metadata": {},
   "outputs": [],
   "source": []
  },
  {
   "cell_type": "code",
   "execution_count": null,
   "id": "aa67eca9-a2c9-405f-9c83-3730ae5a7270",
   "metadata": {},
   "outputs": [],
   "source": []
  },
  {
   "cell_type": "code",
   "execution_count": null,
   "id": "99384390-1477-4184-86c7-df54af952060",
   "metadata": {},
   "outputs": [],
   "source": []
  },
  {
   "cell_type": "code",
   "execution_count": null,
   "id": "33d0353e-9ade-47cf-a8c0-5224b1fc0fa7",
   "metadata": {},
   "outputs": [],
   "source": []
  },
  {
   "cell_type": "code",
   "execution_count": null,
   "id": "35b0e526-031c-45da-a1ab-23311b67d9ce",
   "metadata": {},
   "outputs": [],
   "source": []
  },
  {
   "cell_type": "code",
   "execution_count": null,
   "id": "5eab5d92-b490-41f5-af92-0e943ea10106",
   "metadata": {},
   "outputs": [],
   "source": [
    "\n"
   ]
  },
  {
   "cell_type": "code",
   "execution_count": null,
   "id": "123d495d-7de0-4b98-a215-d17c2821020b",
   "metadata": {},
   "outputs": [],
   "source": []
  }
 ],
 "metadata": {
  "kernelspec": {
   "display_name": "Python 3 (ipykernel)",
   "language": "python",
   "name": "python3"
  },
  "language_info": {
   "codemirror_mode": {
    "name": "ipython",
    "version": 3
   },
   "file_extension": ".py",
   "mimetype": "text/x-python",
   "name": "python",
   "nbconvert_exporter": "python",
   "pygments_lexer": "ipython3",
   "version": "3.10.4"
  }
 },
 "nbformat": 4,
 "nbformat_minor": 5
}
