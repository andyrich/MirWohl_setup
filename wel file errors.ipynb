{
 "cells": [
  {
   "cell_type": "code",
   "execution_count": null,
   "id": "19163cd2-f725-4580-ae56-a6a71fa7abb5",
   "metadata": {},
   "outputs": [],
   "source": [
    "import basic\n",
    "import geopandas as gpd\n",
    "import pandas as pd\n",
    "import numpy as np\n",
    "import flopy\n",
    "import pathlib\n",
    "import make_wells\n",
    "\n",
    "import os"
   ]
  },
  {
   "cell_type": "code",
   "execution_count": null,
   "id": "0dff6161-ae51-438b-9f61-12a8e29ce405",
   "metadata": {},
   "outputs": [],
   "source": [
    "\n",
    "\n",
    "riv_dtype = flopy.modflow.ModflowWel.get_default_dtype()\n",
    "\n",
    "\n",
    "stress_period_data = np.zeros((3), dtype=riv_dtype)\n",
    "stress_period_data = stress_period_data.view(np.recarray)\n",
    "print(\"stress_period_data: \", stress_period_data)\n",
    "print(\"type is: \", type(stress_period_data))\n",
    "\n"
   ]
  },
  {
   "cell_type": "code",
   "execution_count": null,
   "id": "1947da54-e09d-4abd-9c54-57f28f1b75c9",
   "metadata": {},
   "outputs": [],
   "source": [
    "\n",
    "\n",
    "# stress_period_data[0] = (2., 100., 200., -1.75121117E-05)"
   ]
  },
  {
   "cell_type": "code",
   "execution_count": null,
   "id": "259b6e67-5da7-465f-b603-81252846cdd2",
   "metadata": {},
   "outputs": [],
   "source": [
    "dtypes = flopy.modflow.ModflowWel.get_default_dtype()\n",
    "group = pd.DataFrame(np.zeros((3,4)), columns = ['k','i','j', 'qcell'])\n",
    "group = group.astype({'qcell':np.float32})\n",
    "group.loc[:,'k'] = 200\n",
    "group.loc[:,'i'] = 200\n",
    "group.loc[:,'j'] = 200\n",
    "group.loc[:,'qcell'] = -1.75127531E-010\n",
    "\n",
    "sp = np.zeros(group.shape[0], dtype=dtypes)\n",
    "sp = sp.view(np.recarray)\n",
    "sp['i'] = group.loc[:,'i'].astype(float).values.tolist()\n",
    "sp['j'] = group.loc[:, 'j'].astype(float).values.tolist()\n",
    "sp['k'] = group.loc[:, 'k'].astype(float).values.tolist()\n",
    "sp['flux'] = group.loc[:, 'qcell'].values.tolist()"
   ]
  },
  {
   "cell_type": "code",
   "execution_count": null,
   "id": "969e273e-ad91-4004-b5fc-6b27b238efe7",
   "metadata": {},
   "outputs": [],
   "source": [
    "sp"
   ]
  },
  {
   "cell_type": "code",
   "execution_count": null,
   "id": "44a1b06e-2342-4d01-a662-64d326261e3e",
   "metadata": {},
   "outputs": [],
   "source": [
    "# workspace = os.mkdir('test')\n",
    "\n",
    "m = flopy.modflow.Modflow(modelname=\"test\")"
   ]
  },
  {
   "cell_type": "code",
   "execution_count": null,
   "id": "a67b6cde-6301-4396-84e1-6d0b96de8f6f",
   "metadata": {},
   "outputs": [],
   "source": [
    "riv = flopy.modflow.ModflowWel(m, stress_period_data={0:sp})\n",
    "m.write_input()\n",
    "!head -n 10 'test.riv'"
   ]
  },
  {
   "cell_type": "code",
   "execution_count": null,
   "id": "454895b3-91a2-4e0e-928c-8300ea5f3f75",
   "metadata": {},
   "outputs": [],
   "source": [
    "flopy.modflow.ModflowWel.load('test.wel' )"
   ]
  },
  {
   "cell_type": "code",
   "execution_count": null,
   "id": "eb1b1604-92a2-4234-a0a4-634aacf1669b",
   "metadata": {},
   "outputs": [],
   "source": []
  }
 ],
 "metadata": {
  "kernelspec": {
   "display_name": "Python 3 (ipykernel)",
   "language": "python",
   "name": "python3"
  },
  "language_info": {
   "codemirror_mode": {
    "name": "ipython",
    "version": 3
   },
   "file_extension": ".py",
   "mimetype": "text/x-python",
   "name": "python",
   "nbconvert_exporter": "python",
   "pygments_lexer": "ipython3",
   "version": "3.10.4"
  }
 },
 "nbformat": 4,
 "nbformat_minor": 5
}
