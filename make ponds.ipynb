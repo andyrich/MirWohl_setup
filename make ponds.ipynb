{
 "cells": [
  {
   "cell_type": "code",
   "execution_count": null,
   "id": "a6b97677-a0fa-4ee7-a108-ee243250b74e",
   "metadata": {},
   "outputs": [],
   "source": [
    "import flopy\n",
    "import os\n",
    "import geopandas as gpd\n",
    "import basic\n",
    "import contextily as ctx\n",
    "import pandas as pd\n",
    "import numpy as np\n",
    "import os\n",
    "import matplotlib.pyplot as plt\n",
    "\n",
    "import pathlib\n",
    "import geopandas as gpd\n",
    "import conda_scripts.plot_help as ph\n",
    "import basic\n",
    "import conda_scripts.arich_functions as af\n",
    "import cartopy.crs as ccrs\n",
    "\n",
    "import pathlib "
   ]
  },
  {
   "cell_type": "code",
   "execution_count": null,
   "id": "5f33a4f8-8e2c-4cb4-b573-fa1e93dfad06",
   "metadata": {},
   "outputs": [],
   "source": [
    "import postprocess"
   ]
  },
  {
   "cell_type": "code",
   "execution_count": null,
   "id": "7a1d3c49-3913-45a3-a130-747ffc2fbc3e",
   "metadata": {},
   "outputs": [],
   "source": [
    "import basic\n",
    "\n",
    "m = basic.load_model()"
   ]
  },
  {
   "cell_type": "code",
   "execution_count": null,
   "id": "75fdb96f-41f8-4c08-92d1-3ed5ca806ff5",
   "metadata": {},
   "outputs": [],
   "source": [
    "ISWRPQAQ, ISWRPRGF, ISWRPSTG, ISWRPSTR, ISWRPQM = postprocess.SWR(m, datestart, max_reach = 116, remove_ponds = True  )"
   ]
  },
  {
   "cell_type": "code",
   "execution_count": null,
   "id": "cd1ea0c0-7aed-4e24-b916-fa9e5f344c39",
   "metadata": {},
   "outputs": [],
   "source": []
  },
  {
   "cell_type": "code",
   "execution_count": null,
   "id": "611bf98b-b53b-4edf-b1d4-a1262dbd69e3",
   "metadata": {},
   "outputs": [],
   "source": [
    "ax = ISWRPQAQ.plot(figsize = (15, 10), subplots = True, title = 'Pond Water Levels', color = 'b')\n",
    "\n",
    "wl.plot(ax = ax, subplots = True, color = 'k')"
   ]
  },
  {
   "cell_type": "code",
   "execution_count": null,
   "id": "c806b8ae-40be-44d0-bc8d-2beaae0334ed",
   "metadata": {},
   "outputs": [],
   "source": [
    "postprocess.plot_rds_stage(m, datestart, out_folder, numdays = 109)"
   ]
  },
  {
   "cell_type": "code",
   "execution_count": null,
   "id": "6f41c1fc-c1a3-44dd-8131-d897bafb57c9",
   "metadata": {},
   "outputs": [],
   "source": [
    "ISWRPQAQ, wl = postprocess.plot_ponds(m, datestart)"
   ]
  },
  {
   "cell_type": "code",
   "execution_count": null,
   "id": "8eee8b09-a1ab-40c3-aa77-5412f7a70951",
   "metadata": {
    "tags": []
   },
   "outputs": [],
   "source": [
    "import pond_inflows\n",
    "\n",
    "pond_inflows.run('June2012')"
   ]
  },
  {
   "cell_type": "code",
   "execution_count": null,
   "id": "869aa232-1d7c-4897-95f4-d39a780023e5",
   "metadata": {},
   "outputs": [],
   "source": [
    "import geopandas as gpd\n",
    "import numpy as np"
   ]
  },
  {
   "cell_type": "code",
   "execution_count": null,
   "id": "d403f652-0ed7-4b54-9d0e-de8c6c246b2b",
   "metadata": {},
   "outputs": [],
   "source": [
    "pp = gpd.read_file(\"ponds/ponds.geojson\")"
   ]
  },
  {
   "cell_type": "code",
   "execution_count": null,
   "id": "c80381f4-eee6-448c-a51e-a870eb5ae015",
   "metadata": {},
   "outputs": [],
   "source": [
    "import pandas as pd\n",
    "import pathlib"
   ]
  },
  {
   "cell_type": "code",
   "execution_count": null,
   "id": "1887cf9a-11a9-45d1-b71c-444ad4f58ae5",
   "metadata": {},
   "outputs": [],
   "source": [
    "def isnumber(x):\n",
    "    try:\n",
    "        float(x)\n",
    "        return x\n",
    "    except:\n",
    "        return np.nan"
   ]
  },
  {
   "cell_type": "code",
   "execution_count": null,
   "id": "2d79bc56-2964-4098-80f3-99f492bffc52",
   "metadata": {},
   "outputs": [],
   "source": [
    "def load_pond_wl(pond = 1):\n",
    "    p =r\"file:///T:\\arich\\Russian_River\\MirabelWohler_2022\\Waterlevel_Data\\MWs_Caissons%20-%20AvailableDailyAverages\\DailyData\\InfiltrationPonds\"\n",
    "    \n",
    "    path = pathlib.Path(p).joinpath(f\"Pond{pond}WaterLevel.csv\")\n",
    "    \n",
    "    tab = pd.read_csv(path).set_index('DateTime').loc[:,['Value']]\n",
    "    \n",
    "    tab.index = pd.to_datetime(tab.index)\n",
    "    \n",
    "    tab.loc[:,'Value'] = tab.loc[:,'Value'].apply(isnumber)\n",
    "    tab = tab.astype({'Value':np.float64})\n",
    "    \n",
    "    tab.loc[tab.loc[:,'Value'].abs()>10] = np.nan\n",
    "    tab.loc[tab.loc[:,'Value']<0] = 0.0\n",
    "    \n",
    "    return tab\n",
    "\n",
    "pond = load_pond_wl(4)\n",
    "    "
   ]
  },
  {
   "cell_type": "code",
   "execution_count": null,
   "id": "aefaf037-b5b0-4974-bf92-16d08e68115c",
   "metadata": {},
   "outputs": [],
   "source": [
    "pond.head().values"
   ]
  },
  {
   "cell_type": "code",
   "execution_count": null,
   "id": "1c59990f-30af-4151-9308-be2fe85ed791",
   "metadata": {},
   "outputs": [],
   "source": [
    "pond.plot()"
   ]
  },
  {
   "cell_type": "code",
   "execution_count": null,
   "id": "ae1356db-94ef-4c24-af63-bdcd2cdf8b4f",
   "metadata": {},
   "outputs": [],
   "source": [
    "m = basic.load_model()\n",
    "\n",
    "info, swr_info, sfr_info, riv_keys_info = basic.load_params('June2012')\n",
    "\n",
    "datestart = info['start_date']\n",
    "numdays = info['numdays']\n",
    "\n",
    "name = info['name']\n",
    "\n",
    "out_folder = basic.out_folder('June2012')\n",
    "\n",
    "basic\n",
    "print(datestart)\n",
    "print(out_folder)"
   ]
  },
  {
   "cell_type": "code",
   "execution_count": null,
   "id": "5e09a969-7e66-45f6-9ae7-205c01c9a173",
   "metadata": {},
   "outputs": [],
   "source": [
    "info"
   ]
  },
  {
   "cell_type": "code",
   "execution_count": null,
   "id": "0ecd7e89-0d4e-4602-ae10-07b520ffe630",
   "metadata": {},
   "outputs": [],
   "source": [
    "grid = gpd.read_file(\"GIS/grid.shp\")"
   ]
  },
  {
   "cell_type": "code",
   "execution_count": null,
   "id": "c07d6ed1-156e-47e5-9b07-afe374873020",
   "metadata": {},
   "outputs": [],
   "source": [
    "ponds = gpd.read_file(r\"C:\\Users\\arich\\Documents\\ArcGIS\\Projects\\MirabelWohler_MODFLOW\\MirabelWohler_MODFLOW.gdb\", layer = 'ponds')"
   ]
  },
  {
   "cell_type": "code",
   "execution_count": null,
   "id": "2c4b4941-add5-43ec-addb-7847705f3310",
   "metadata": {},
   "outputs": [],
   "source": []
  },
  {
   "cell_type": "code",
   "execution_count": null,
   "id": "30ebc7aa-8cd7-4171-b702-6e621d58e6c5",
   "metadata": {},
   "outputs": [],
   "source": [
    "pond_grid = gpd.sjoin( grid, ponds).drop_duplicates('node')\n",
    "ax = pond_grid.plot('name', edgecolor = 'k')\n",
    "\n",
    "ponds.plot('name',ax = ax, edgecolor = 'w',facecolor = \"None\", hatch = '\\\\\\\\')\n",
    "\n",
    "_gdf = pond_grid.dissolve('name').reset_index()\n",
    "_gdf = _gdf.set_geometry(_gdf.geometry.representative_point())\n",
    "\n",
    "_gdf.plot(ax = ax)"
   ]
  },
  {
   "cell_type": "code",
   "execution_count": null,
   "id": "2f0c8418-41b7-4c7a-9352-d5d91f594cd8",
   "metadata": {},
   "outputs": [],
   "source": []
  },
  {
   "cell_type": "code",
   "execution_count": null,
   "id": "5becb4c7-f969-4473-bbbe-e9e3e8a2e58b",
   "metadata": {},
   "outputs": [],
   "source": []
  },
  {
   "cell_type": "code",
   "execution_count": null,
   "id": "64be1e3b-fab2-4984-9d0d-609b172c03be",
   "metadata": {},
   "outputs": [],
   "source": []
  },
  {
   "cell_type": "code",
   "execution_count": null,
   "id": "05faafa7-1ae1-4365-94c9-63eb962296c0",
   "metadata": {},
   "outputs": [],
   "source": []
  },
  {
   "cell_type": "code",
   "execution_count": null,
   "id": "e5368b5d-3256-402d-bc2a-c3e87718ca76",
   "metadata": {},
   "outputs": [],
   "source": []
  },
  {
   "cell_type": "code",
   "execution_count": null,
   "id": "e217c915-4624-4a9a-8f32-db585226083d",
   "metadata": {},
   "outputs": [],
   "source": [
    "fig, ax = basic.basic_map()\n",
    "basic.set_bounds_to_shape(ax, pond_grid.buffer(5000))\n",
    "pond_grid.sort_values('name').plot('name', ax = ax, legend = False, edgecolor = 'k')\n",
    "ax.set_title('Mirabel-Wohler Infiltration Ponds')\n",
    "\n",
    "_gdf = pond_grid.dissolve('name').reset_index()\n",
    "_gdf = _gdf.set_geometry(_gdf.geometry.representative_point())\n",
    "\n",
    "ph.label_points(ax, _gdf,\n",
    "                'name', basin_name = None, fmt = 's', text_color = 'y')\n",
    "plt.savefig(os.path.join(out_folder, 'pondloc.png'), dpi = 250)"
   ]
  },
  {
   "cell_type": "code",
   "execution_count": null,
   "id": "1abe827d-a3eb-4a3b-87c5-4d4349067b95",
   "metadata": {},
   "outputs": [],
   "source": [
    "max_reach = 116\n",
    "\n",
    "pond_grid.loc[:,'rno'] = np.arange(max_reach+1, max_reach + pond_grid.shape[0]+1)\n",
    "\n",
    "pond_grid.loc[:,'irgnum'] = pond_grid.loc[:,'name'].replace({'One':1, 'Two':2, 'Three':3, 'Four':4})+max_reach\n",
    "\n",
    "pond_grid = pond_grid.sort_values(['irgnum','rno'])\n",
    "\n",
    "top = m.dis.top\n",
    "\n",
    "pond_grid.loc[:,'top'] = top[pond_grid.loc[:,'row']-1, pond_grid.loc[:,'column']-1]"
   ]
  },
  {
   "cell_type": "code",
   "execution_count": null,
   "id": "57241af5-9f74-4ea4-92b4-d95785d0a0ad",
   "metadata": {},
   "outputs": [],
   "source": [
    "def assign_inflow(df_pond):\n",
    "    \n",
    "    dfall = pd.DataFrame()\n",
    "    \n",
    "    for _, pond in df_pond.groupby('name'):\n",
    "        pond.loc[:,'inflow'] = False\n",
    "        \n",
    "        pond.loc[pond.loc[:,'top'].idxmin(),'inflow'] = True\n",
    "        \n",
    "        pond.loc[:, 'mean_elev'] = pond.loc[:, 'top'].mean()\n",
    "        \n",
    "        dfall = dfall.append(pond)\n",
    "        \n",
    "    return dfall\n",
    "\n",
    "pond_grid = assign_inflow(pond_grid)"
   ]
  },
  {
   "cell_type": "code",
   "execution_count": null,
   "id": "7fb32481-252a-4608-8267-fc44d8a9405a",
   "metadata": {},
   "outputs": [],
   "source": []
  },
  {
   "cell_type": "code",
   "execution_count": null,
   "id": "5263883c-190e-42d6-8e70-c0263956a7eb",
   "metadata": {},
   "outputs": [],
   "source": [
    "\n",
    "fig, ax = basic.basic_map(maptype = None)\n",
    "basic.set_bounds_to_shape(ax, pond_grid.buffer(1000))\n",
    "pond_grid.sort_values('name').plot('name', ax = ax, legend = False, edgecolor = 'k')\n",
    "ax.set_title('Mirabel-Wohler Infiltration Ponds Inflow Locations')\n",
    "\n",
    "\n",
    "ax = pond_grid.plot('top', ax = ax, legend = True, legend_kwds = {'shrink': .2})\n",
    "\n",
    "pond_grid.set_geometry(pond_grid.geometry.centroid).loc[pond_grid.loc[:,'inflow']].plot(ax = ax, color = 'k')\n",
    "\n",
    "pond_grid.plot(ax = ax, facecolor = \"None\")\n",
    "\n",
    "ph.label_points(ax, pond_grid.set_geometry(pond_grid.geometry.centroid).loc[pond_grid.loc[:,'inflow']],\n",
    "                'name', basin_name = None, fmt = 's', text_color = 'k')\n",
    "\n",
    "af.add_basemaps(ax, maptype = \"ctx.Esri.NatGeoWorldMap\")\n",
    "\n",
    "plt.savefig(os.path.join(out_folder, 'pondloc_inflow.png'), dpi = 250)"
   ]
  },
  {
   "cell_type": "code",
   "execution_count": null,
   "id": "cd68c5f5-b3e5-4bb7-bcc8-310af229f544",
   "metadata": {},
   "outputs": [],
   "source": [
    "tarray = top.array"
   ]
  },
  {
   "cell_type": "code",
   "execution_count": null,
   "id": "b7e5cdf9-9ad5-414d-9172-1d5cda85e54a",
   "metadata": {},
   "outputs": [],
   "source": [
    "pd.DataFrame(pond_grid).loc[:,['name', 'mean_elev','top']].hist(by = 'name')"
   ]
  },
  {
   "cell_type": "code",
   "execution_count": null,
   "id": "cf818448-755f-44f1-b01e-0927bdaf046f",
   "metadata": {},
   "outputs": [],
   "source": [
    "tarray[pond_grid.loc[:,'row']-1, pond_grid.loc[:,'column']-1] =  pond_grid.loc[:,'mean_elev']"
   ]
  },
  {
   "cell_type": "code",
   "execution_count": null,
   "id": "1d3dc27d-24c3-4abe-a980-a91aa5ac8483",
   "metadata": {},
   "outputs": [],
   "source": [
    "np.savetxt('RR_2022/inputs/lay_1_top.csv', tarray, fmt = '%.3f', delimiter = ',')"
   ]
  },
  {
   "cell_type": "code",
   "execution_count": null,
   "id": "517fc57f-ab9e-471d-be8d-f8160e3accbf",
   "metadata": {},
   "outputs": [],
   "source": [
    "pond_grid.to_file('ponds/ponds.geojson', )"
   ]
  },
  {
   "cell_type": "code",
   "execution_count": null,
   "id": "c9aefb17-b763-4287-8f35-90debea86205",
   "metadata": {},
   "outputs": [],
   "source": [
    "print(pond_grid.rno.max())"
   ]
  },
  {
   "cell_type": "code",
   "execution_count": null,
   "id": "f0bc0131-6a20-4511-99e2-2db094b60bc8",
   "metadata": {},
   "outputs": [],
   "source": [
    "def check_lastline(file):\n",
    "    with open(file,'r') as dr:\n",
    "        d = dr.readlines()\n",
    "    \n",
    "    if '\\n' in d[-1]:\n",
    "        pass\n",
    "    else:\n",
    "        with open(file, 'a') as wr:\n",
    "            wr.write('\\n')\n",
    "\n",
    "# Function to find adjacent\n",
    "# elements in List\n",
    "def findAdjacentElements(index, test_list):\n",
    "    res = []\n",
    "    for idx, ele in enumerate(test_list):\n",
    "    # for idx, ele in zip(index, test_list):\n",
    "  \n",
    "        # Checking for all cases to append\n",
    "        if idx == 0:\n",
    "            res.append((1, test_list[idx + 1]-1))\n",
    "        elif idx == (len(test_list) -1):\n",
    "            res.append((1, test_list[idx - 1]-1))\n",
    "            print(idx)\n",
    "        else:\n",
    "            res.append((2, index[idx]-1, test_list[idx]))\n",
    "    return dict(zip(index, res))\n",
    "\n",
    "def find_route(sfr, IROUTETYPE  = 4, rchlen = 100 ):\n",
    "\n",
    "    \n",
    "    sfr = sfr.sort_values('rno')\n",
    "    # min_r = sfr.rno.min() - 1 # offset to get reach 1 \n",
    "    sfr.loc[:,'rno_og'] = sfr.loc[:,'rno'].copy()\n",
    "    # sfr.loc[:,'rno'] = np.arange(1, sfr.shape[0]+1)\n",
    "    sfr.loc[:,'outreach'] = sfr.loc[:,'rno'].shift(-1, fill_value=-999)\n",
    "    # sfr.loc[:,'rno'] =  sfr.loc[:,'rno'] - min_r\n",
    "    # sfr.loc[:,'outreach'] =  sfr.loc[:,'outreach'] - min_r\n",
    "    sfr.loc[:,'ieqn'] = IROUTETYPE \n",
    "    # sfr.loc[:,'irgnum'] = sfr.loc[:,'rno']\n",
    "    sfr.loc[:,'krch'] = 1 # layer 1\n",
    "    sfr.loc[:,'IRCH'] = sfr.loc[:,'row']\n",
    "    sfr.loc[:,'JRCH'] = sfr.loc[:,'column']\n",
    "    sfr.loc[:,'rchlen'] = rchlen\n",
    "    # reach location data\n",
    "    #IREACH IEQN IRGNUM KRCH   IRCH JRCH   RLEN\n",
    "       # 1    4     01    1     161  62  304.8\n",
    "       # 2    4     02    1     162  62  304.8\n",
    "       # 3    4     03    1     163  61  304.8\n",
    "       # 4    4     04    1     164  61  304.8\n",
    "       # 5    4     05    1     165  61  304.8\n",
    "    reach_loc = sfr.loc[:,['rno','ieqn', 'irgnum', 'krch', 'IRCH', 'JRCH', 'rchlen' ]]\n",
    "\n",
    "    rout = findAdjacentElements(sfr.loc[:,'rno'].values, sfr.loc[:,'outreach'].values, )\n",
    "        \n",
    "    return sfr, reach_loc, rout\n",
    "\n",
    "def write_reach_connect(rout):\n",
    "    check_lastline('RR_2022/inputs/rout.txt')\n",
    "    with open('RR_2022/inputs/rout.txt','a') as r:\n",
    "        for key, value in rout.items():\n",
    "            v = '    '.join([str(v) for v in value])\n",
    "            r.write(f\"{key}   {v}\\n\")\n",
    "            \n",
    "def write_reach_loc_dat(sfr_filt):\n",
    "    check_lastline('RR_2022/inputs/reach_loc.txt')\n",
    "    sfr_filt.to_csv('RR_2022/inputs/reach_loc.txt', sep = ' ', index = False, header = False, mode = 'a')\n",
    "\n",
    "def write_stress_period(sfr_filt):\n",
    "    '''\n",
    "      # DATASET 5 - STRESS PERIOD 1\n",
    "    # ITMP IRDBND IRDRAI IRDEVP IRDLIN IRDGEO IRDSTR IRDSTG IPTFLG [IRDAUX]\n",
    "     1     5    0     0       1     5      1     5      1      # 5  \n",
    "    \n",
    "    '''\n",
    "\n",
    "    n = sfr_filt.shape[0]\n",
    "    with open(\"RR_2022/inputs/stress_period_data.txt\",'w') as sp:\n",
    "        sp.write(\"# DATASET 5 - STRESS PERIOD\\n\")\n",
    "        sp.write( \"# ITMP IRDBND IRDRAI IRDEVP IRDLIN IRDGEO IRDSTR IRDSTG IPTFLG [IRDAUX]\\n\")\n",
    "        sp.write(f\"     1     {n}    0     0       1     {n}      1     {n}      1      # 5\")\n",
    "        \n",
    "def write_dataset_6(sfr_filt):\n",
    "    check_lastline('RR_2022/inputs/dataset6.txt')\n",
    "    with open('RR_2022/inputs/dataset6.txt','a') as r:\n",
    "        for i in sfr_filt.loc[:,'rno']:\n",
    "            r.write(f\"{i}  1\\n\")\n",
    "    \n",
    "def write_dataset_evap(sfr_filt,evap =0.000):\n",
    "    sfr_filt.loc[:,'evap'] = evap\n",
    "    # sfr_filt.loc[:,['rno','evap']]\n",
    "    sfr_filt.loc[:,['rno','evap']].rename(columns = {'rno':'#rno'}).to_csv('RR_2022/inputs/evap.tab', sep = ' ', index = False)\n",
    "    \n",
    "def write_dataset_rain(sfr_filt,rain =0.000):\n",
    "    sfr_filt.loc[:,'rain'] = rain\n",
    "    # sfr_filt.loc[:,['rno','evap']]\n",
    "    sfr_filt.loc[:,['rno','rain']].rename(columns = {'rno':'#rno'}).to_csv('RR_2022/inputs/rain.tab', sep = ' ', index = False)\n",
    "    \n",
    "def write_dataset_10(sfr_filt, shift = 0):\n",
    "    # DATASET 10 - GEOMETRY ASSIGNMENT DATA\n",
    "    sfr_filt.loc[:,'IGMODRCH'] = sfr_filt.loc[:,'rno']\n",
    "    sfr_filt.loc[:,'IGEONUMR'] = sfr_filt.loc[:,'rno']\n",
    "    sfr_filt.loc[:,'GZSHIFT'] = shift\n",
    "    #IGMODRCH IGEONUMR GZSHIFT \n",
    "    check_lastline('RR_2022/inputs/dataset_10.txt')\n",
    "    sfr_filt.loc[:,['IGMODRCH','IGEONUMR','GZSHIFT' ]].rename(columns = {\"IGMODRCH\":\"#IGMODRCH\"}).to_csv('RR_2022/inputs/dataset_10.txt', sep = ' ', index = False, header = False, mode = 'a')\n",
    "    \n",
    "\n",
    "    \n",
    "def write_dataset_14a(sfr_filt, m, shift = 5):\n",
    "    bot = m.dis.top\n",
    "    sfr_filt.loc[:,'top'] = bot[sfr_filt.loc[:,'i'], sfr_filt.loc[:,'j']] + shift\n",
    "    \n",
    "    # print(sfr_filt.loc[:,'top'])\n",
    "    check_lastline('RR_2022/inputs/dataset_14a.txt')\n",
    "    sfr_filt.loc[:,['rno', 'top']].to_csv('RR_2022/inputs/dataset_14a.txt', sep = ' ', index = False, mode = 'a')\n",
    "        \n",
    "        \n",
    "def write_start_stage(sfr_filt):\n",
    "    '''\n",
    "    uses ending heads of last model run to create new starting heads\n",
    "    '''    \n",
    "    check_lastline('RR_2022/inputs/start_stage.tab')\n",
    "    sfr_filt.loc[:,'top'] = 0\n",
    "    sfr_filt.loc[:,['rno','top']].to_csv('RR_2022/inputs/start_stage.tab', sep = '\\t', index = False, header = False, mode = 'a')\n",
    "        \n",
    "def write_geo(sfr_filt,IGEOTYPE = 5, IGCNDOP = 1, GMANNING = 0.025, GLK = 0.001, GETEXTD = 0.1):\n",
    "    \"IGEONUM IGEOTYPE IGCNDOP GMANNING [NGEOPTS] [GWIDTH] [GBELEV] [GSSLOPE] [GCND] [GLK] [GCNDLN] [GETEXTD]\"\n",
    "    \n",
    "    df = sfr_filt.copy()\n",
    "    df.loc[:,'IGEONUM'] = df.loc[:,'rno']\n",
    "    df.loc[:,'IGEOTYPE'] = IGEOTYPE\n",
    "    df.loc[:,'IGCNDOP'] = IGCNDOP\n",
    "    df.loc[:,'GMANNING'] = GMANNING\n",
    "    df.loc[:,'GLK'] = GLK\n",
    "    df.loc[:,'GETEXTD'] = GETEXTD\n",
    "    df.loc[:,[ \"IGEONUM\",\"IGEOTYPE\",\"IGCNDOP\",\"GMANNING\", \"GLK\", \"GETEXTD\"]].to_csv('RR_2022/inputs/dataset11a_with_geo.txt', sep = '\\t', index = False, header = False, mode = 'a')\n",
    "    \n",
    "    \n",
    "    \n",
    "\n",
    "for name, pi in pond_grid.groupby('irgnum'):\n",
    "    sfr_filt, reach_loc, rout = find_route(pi, IROUTETYPE = 1)\n",
    "#     write_reach_connect(rout)\n",
    "    \n",
    "#     write_reach_loc_dat(reach_loc)\n",
    "    \n",
    "#     write_dataset_10(sfr_filt, shift = 0)\n",
    "    \n",
    "#     write_start_stage(sfr_filt)\n",
    "    \n",
    "#     write_dataset_6(reach_loc)\n",
    "    \n",
    "    # write_geo(sfr_filt)\n",
    "    \n",
    "print(f\"structures:\\n{pond_grid.drop_duplicates('name').rno.values}\")\n",
    "# reach_min = 578\n",
    "#     # bottom, n = 10, reach_min = 578, IROUTETYPE  = 4,    \n",
    "# sfr_filt, reach_loc, rout = find_route(sfr, \n",
    "#                                        bottom, \n",
    "#                                        n = None, \n",
    "#                                        reach_min = reach_min,\n",
    "#                                        IROUTETYPE = IROUTETYPE, \n",
    "#                                        use_average_reach_len=use_average_reach_len)\n",
    "\n",
    "# print(sfr_filt.shape)\n",
    "\n",
    "# write_reach_connect(rout)\n",
    "\n",
    "# write_reach_loc_dat(reach_loc)\n",
    "\n",
    "# write_stress_period(sfr_filt)\n",
    "\n",
    "# write_dataset_6(sfr_filt)\n",
    "\n",
    "# write_dataset_evap(sfr_filt,evap)\n",
    "# write_dataset_rain(sfr_filt,rain)\n",
    "\n",
    "# write_dataset_10(sfr_filt)\n",
    "\n",
    "\n",
    "# write_dataset_14a(sfr_filt, m)\n",
    "\n",
    "\n",
    "\n",
    "\n",
    "    \n",
    "# plot_swr(sfr_filt)\n",
    "\n",
    "# reach_loc"
   ]
  },
  {
   "cell_type": "code",
   "execution_count": null,
   "id": "4919053c-1e3a-4ff7-9b10-44a2ab8920c6",
   "metadata": {},
   "outputs": [],
   "source": []
  },
  {
   "cell_type": "code",
   "execution_count": null,
   "id": "675d939d-1bb7-4a39-8bde-fabc23c44044",
   "metadata": {},
   "outputs": [],
   "source": []
  },
  {
   "cell_type": "code",
   "execution_count": null,
   "id": "0c1c532e-9ea7-4bea-b813-d7c49a3c9c63",
   "metadata": {},
   "outputs": [],
   "source": [
    "def load_phist(year = 2020):\n",
    "    p = pathlib.Path(r\"S:\\Ops\\RiverReport\\Production_and_Demand_Report_PHIST01.xlsm\")\n",
    "    \n",
    "    sheet = f\"Data_{year}\"\n",
    "    \n",
    "    tab = pd.read_excel(p, sheet_name=sheet, header = [3,4,5,6,7,8], skiprows=[9,10,11,12], index_col=[0])\n",
    "    \n",
    "    return tab\n",
    "\n",
    "def isnumber(x):\n",
    "    try:\n",
    "        float(x)\n",
    "        return x\n",
    "    except:\n",
    "        return np.nan\n",
    "\n",
    "def load_pond(datestart):\n",
    "    \n",
    "    year = pd.to_datetime(datestart).year\n",
    "    \n",
    "    df = load_phist(year)\n",
    "    \n",
    "    df = df.loc[:,'River Diversion'].iloc[:,:3].droplevel([0,1,3,4], axis = 1)\n",
    "    \n",
    "\n",
    "    df = df.applymap(isnumber).fillna(0)\n",
    "    \n",
    "    # df = df.astype({'Pump 1':np.float64})\n",
    "    print(df.dtypes)\n",
    "    df.loc[:,'Pump 1'] = df.loc[:,'Pump 1'] *18000*60/(7.48*60*60*24)\n",
    "    df.loc[:,'Pump 2'] = df.loc[:,'Pump 2'] *9000*60/(7.48*60*60*24)\n",
    "    df.loc[:,'Pump 3'] = df.loc[:,'Pump 3'] *18000*60/(7.48*60*60*24)\n",
    "    \n",
    "    #get water levels\n",
    "    wl = pd.DataFrame()\n",
    "    for pond in [1,2,3,4]:\n",
    "        p = pathlib.Path(r\"T:\\arich\\Russian_River\\MirabelWohler_2022\\Waterlevel_Data\\MWs_Caissons - AvailableDailyAverages\\DailyData\\InfiltrationPonds\")\n",
    "\n",
    "        p = p.joinpath(f\"Pond{pond}WaterLevel.csv\")\n",
    "        \n",
    "        c = pd.read_csv(p)\n",
    "        c.loc[:,'Value'] = c.loc[:,'Value'].apply(isnumber)\n",
    "        c = c.astype({'Value':np.float64})\n",
    "        c = c.set_index(pd.to_datetime(c.loc[:,'DateTime']))\n",
    "        c = c.loc[:,['Value']].resample('1D').mean()\n",
    "        c = c.rename(columns = {\"Value\":f\"Pond{pond}\"})\n",
    "        wl = wl.join(c, how = 'outer')\n",
    "\n",
    "    wl[wl.abs()>100] = np.nan\n",
    "    wl[wl<0] = 0.\n",
    "    \n",
    "    wl = wl.interpolate('spline',  order=2)\n",
    "    \n",
    "    return df, wl\n",
    "    \n",
    "def get_period(df, start_date, numdays):\n",
    "    \n",
    "    df = df.sum(axis = 1).to_frame(\"Value\")\n",
    "    \n",
    "    df = df.loc[start_date:,:].iloc[:numdays]\n",
    "    \n",
    "    df.loc[:,'Value'] = df.loc[:,'Value'].interpolate()\n",
    "    \n",
    "    assert df.loc[:,'Value'].isnull().sum() ==0 , 'has nans'\n",
    "    \n",
    "    return df\n",
    "    \n",
    "df, wl = load_pond(datestart)\n",
    "\n",
    "df_cur = get_period(df, datestart, numdays)\n",
    "df_cur.head()"
   ]
  },
  {
   "cell_type": "code",
   "execution_count": null,
   "id": "f0ff926a-94df-4955-bee5-268f300a7999",
   "metadata": {},
   "outputs": [],
   "source": [
    "from cycler import cycler\n",
    "import numpy as np\n",
    "import matplotlib.pyplot as plt\n",
    "\n",
    "default_cycler = (cycler(color=['r', 'g', 'b', 'y', 'r', 'g', 'b', 'y']) +\n",
    "                  cycler(linestyle=['-', '-', '-', '-', '--', '--','--','--']))\n",
    "\n",
    "plt.rc('lines', linewidth=4)\n",
    "plt.rc('axes', prop_cycle=default_cycler)"
   ]
  },
  {
   "cell_type": "code",
   "execution_count": null,
   "id": "dcb21623-7c54-43d1-aa9f-882dbfda7944",
   "metadata": {},
   "outputs": [],
   "source": [
    "wl.plot(figsize = (15,10),subplots = True, title = 'Pond Water Levels')"
   ]
  },
  {
   "cell_type": "code",
   "execution_count": null,
   "id": "c5ed53e3-a963-4908-9940-177c9c4b4b13",
   "metadata": {},
   "outputs": [],
   "source": []
  },
  {
   "cell_type": "code",
   "execution_count": null,
   "id": "d9aac8ee-da6e-4844-86b0-1df0104e066d",
   "metadata": {},
   "outputs": [],
   "source": [
    "inflow_fraction = {'One':0, 'Two':.5, 'Three':.5, \"Four\":0}\n",
    "\n",
    "fraction = pd.DataFrame.from_dict(inflow_fraction, orient  = 'index', columns =[ 'fraction'])\n",
    "\n",
    "fraction"
   ]
  },
  {
   "cell_type": "code",
   "execution_count": null,
   "id": "88d07625-82b2-4677-9e59-3590a1ddb956",
   "metadata": {},
   "outputs": [],
   "source": []
  },
  {
   "cell_type": "code",
   "execution_count": null,
   "id": "0e4c1c90-7595-4b0b-99f0-3848c0e5eeec",
   "metadata": {},
   "outputs": [],
   "source": [
    "ax = df_cur.plot(ylabel = 'feet$^3$/s', figsize = (7,7))\n",
    "df_cur_roll = df_cur.rolling(5, min_periods =0).mean(center = False)\n",
    "\n",
    "df_cur_roll.rename(columns = {'Value':'Value, Rolled'}).plot.area(ax = ax)\n",
    "ax.axvline(pd.to_datetime(datestart) + pd.to_timedelta(22, unit = 'D'), c = 'k', ls = '--')\n",
    "ax.set_title('Pond Inflows, Split Between 2 and 3')\n",
    "\n",
    "plt.savefig(os.path.join(out_folder, 'pondQ.png'), dpi = 250)"
   ]
  },
  {
   "cell_type": "code",
   "execution_count": null,
   "id": "5452a7da-e8b3-4a5b-bf2d-399ee0299981",
   "metadata": {},
   "outputs": [],
   "source": [
    "# temp for bug checkking\n",
    "df_cur_roll.iloc[3:30,0] = np.arange(3,30)\n",
    "\n",
    "ax = df_cur_roll.plot()\n",
    "ax.axvline(pd.to_datetime(datestart) + pd.to_timedelta(22, unit = 'D'), c = 'k', ls = '--')"
   ]
  },
  {
   "cell_type": "code",
   "execution_count": null,
   "id": "9699c5c5-2e04-49ab-bdb2-26c5e97a06bc",
   "metadata": {
    "tags": []
   },
   "outputs": [],
   "source": [
    "cnt = 0\n",
    "for ind, d in df_cur_roll.iterrows():\n",
    "    \n",
    "    pinf = pond_grid.query(\"inflow==True\").set_index('rno')\n",
    "\n",
    "    fraction = pd.DataFrame.from_dict(inflow_fraction, orient  = 'index', columns =[ 'fraction'])\n",
    "\n",
    "    pinf = pd.merge(pinf, fraction, left_on = 'name', right_index = True)\n",
    "    pinf = pinf.loc[:,['fraction']]\n",
    "\n",
    "    pinf = pinf*d['Value']\n",
    "    \n",
    "\n",
    "    print(d['Value'])\n",
    "    print(ind)\n",
    "    name = f\"RR_2022/ref/pond/day{cnt}.dat\"\n",
    "    print(name)\n",
    "    with open(name,'w') as out:\n",
    "        \n",
    "        pinf.to_csv(name, header = False)\n",
    "        # out.write(f.format(d['Value'], ind.strftime(\"%y %b %d\")))\n",
    "   \n",
    "    cnt = cnt+1\n",
    "    \n"
   ]
  },
  {
   "cell_type": "code",
   "execution_count": null,
   "id": "543e0fb0-d694-4bf9-b14c-3fab273f1246",
   "metadata": {},
   "outputs": [],
   "source": [
    "df.plot.area(stacked = True, ylabel = 'feet$^3$ per day')"
   ]
  },
  {
   "cell_type": "code",
   "execution_count": null,
   "id": "a62bf08e-d3c4-44d1-832b-6afe1d5e19a6",
   "metadata": {},
   "outputs": [],
   "source": []
  }
 ],
 "metadata": {
  "kernelspec": {
   "display_name": "Python 3 (ipykernel)",
   "language": "python",
   "name": "python3"
  },
  "language_info": {
   "codemirror_mode": {
    "name": "ipython",
    "version": 3
   },
   "file_extension": ".py",
   "mimetype": "text/x-python",
   "name": "python",
   "nbconvert_exporter": "python",
   "pygments_lexer": "ipython3",
   "version": "3.10.4"
  }
 },
 "nbformat": 4,
 "nbformat_minor": 5
}
