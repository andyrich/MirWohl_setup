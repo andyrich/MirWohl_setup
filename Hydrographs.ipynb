{
 "cells": [
  {
   "cell_type": "code",
   "execution_count": null,
   "id": "5f32aba1-6d97-4cf8-bae7-c769ed579690",
   "metadata": {},
   "outputs": [],
   "source": [
    "import flopy\n",
    "import os\n",
    "import geopandas as gpd\n",
    "\n",
    "import contextily as ctx\n",
    "import pandas as pd\n",
    "import numpy as np\n",
    "import sys\n",
    "import matplotlib as mpl\n",
    "import matplotlib.pyplot as plt\n",
    "import cartopy.crs as ccrs\n",
    "import conda_scripts.wiski as wiski\n",
    "import pathlib\n",
    "import basic\n",
    "import matplotlib.dates as mdates\n",
    "import conda_scripts.gwplot_fancy as gwp"
   ]
  },
  {
   "cell_type": "code",
   "execution_count": null,
   "id": "b3f51666-08c5-4cd6-ab47-0d0c9acb4830",
   "metadata": {},
   "outputs": [],
   "source": [
    "info, swr_info, sfr_info, riv_keys_info = basic.load_params('June2016')\n",
    "\n",
    "datestart = info['start_date']\n",
    "\n",
    "name = info['name']\n",
    "\n",
    "out_folder = basic.out_folder('June2016')\n",
    "\n",
    "basic\n",
    "print(datestart)\n",
    "print(out_folder)"
   ]
  },
  {
   "cell_type": "code",
   "execution_count": null,
   "id": "49d102cb-11f2-4383-8d10-7d4881313f9d",
   "metadata": {},
   "outputs": [],
   "source": []
  },
  {
   "cell_type": "code",
   "execution_count": null,
   "id": "ddf79a13-5fae-4d4d-b591-420b1189dafe",
   "metadata": {},
   "outputs": [],
   "source": []
  },
  {
   "cell_type": "code",
   "execution_count": null,
   "id": "bd15f78b-1877-498a-aa63-2367a7b17602",
   "metadata": {},
   "outputs": [],
   "source": [
    "\n",
    "\n",
    "from flopy.utils.postprocessing import (\n",
    "    get_transmissivities,\n",
    "    get_water_table,\n",
    "    get_gradients,\n",
    ")\n",
    "import flopy.utils.binaryfile as bf\n",
    "\n",
    "print(sys.version)\n",
    "print(\"numpy version: {}\".format(np.__version__))\n",
    "print(\"matplotlib version: {}\".format(mpl.__version__))\n",
    "print(\"flopy version: {}\".format(flopy.__version__))"
   ]
  },
  {
   "cell_type": "code",
   "execution_count": null,
   "id": "ab30eac7-06ee-4deb-af00-67be022697c1",
   "metadata": {},
   "outputs": [],
   "source": [
    "ml = basic.load_model()"
   ]
  },
  {
   "cell_type": "code",
   "execution_count": null,
   "id": "3dc7ebe1-419d-4d2e-87c0-34ec859e5975",
   "metadata": {},
   "outputs": [],
   "source": [
    "import conda_scripts.utils as utils"
   ]
  },
  {
   "cell_type": "code",
   "execution_count": null,
   "id": "9f069cef-53ae-4178-93b2-3eac419190d2",
   "metadata": {},
   "outputs": [],
   "source": [
    "ibound = gpd.read_file(\"GIS/iboundlay1.shp\")\n",
    "ibound = ibound.query(\"ibound_1==1\")\n",
    "ibound.head(1)\n",
    "\n",
    "swr = gpd.read_file(\"GIS/SWR_Reaches.shp\")\n",
    "\n",
    "sfr = gpd.read_file('SFR_files/only_sfr_cells.shp')"
   ]
  },
  {
   "cell_type": "code",
   "execution_count": null,
   "id": "eaaee06a-87b5-499a-bef4-07d5486395f8",
   "metadata": {},
   "outputs": [],
   "source": [
    "def get_well_locations():\n",
    "    p = r\"T:\\smaples\\USGS-LBNL_WQ\\Wohler_MW_inventory\\Monitoring Wells Site Visit Notes - Wohler+Mirabel_car.xlsx\"\n",
    "    \n",
    "    t = pd.read_excel(p)\n",
    "    t = t.loc[t.loc[:,'Longitude (iphone gps)'].notnull(),:]\n",
    "    df = gpd.GeoDataFrame(t, geometry = gpd.points_from_xy(t.loc[:,'Longitude (iphone gps)'], t.loc[:,'Latitude (iphone gps)'], crs = 4326))\n",
    "    \n",
    "    df = df.to_crs(2226)\n",
    "    \n",
    "    return df\n",
    "\n",
    "def get_wiski():\n",
    "    # gw = wiski.wiski.get_gw_stations_in_basin(basins= ['LRR*'], final_only = False)\n",
    "\n",
    "    meta = wiski.wiski.get_gw_stations_wellmeta_in_basin(basins = ['LRR*'])\n",
    "    meta = meta.dropna(subset  = 'station_name')\n",
    "    meta = gpd.GeoDataFrame(meta, geometry = gpd.points_from_xy(meta.station_longitude, meta.station_latitude), crs  = 4326).to_crs(2226)\n",
    "    \n",
    "    return  meta\n",
    "\n"
   ]
  },
  {
   "cell_type": "code",
   "execution_count": null,
   "id": "a6a7ea25-a4ae-4873-8f6c-7f6aef50f9e2",
   "metadata": {},
   "outputs": [],
   "source": [
    "wiski_meta = get_wiski()\n",
    "\n",
    "wells = get_well_locations()\n",
    "\n"
   ]
  },
  {
   "cell_type": "code",
   "execution_count": null,
   "id": "929244e2-37fe-4a52-b221-ce96c9774aae",
   "metadata": {},
   "outputs": [],
   "source": []
  },
  {
   "cell_type": "code",
   "execution_count": null,
   "id": "08a70bc0-e571-456d-a898-47beb5ffc8f9",
   "metadata": {},
   "outputs": [],
   "source": [
    "wells_mod = pd.merge(wiski_meta, wells.loc[:,['Well Name', 'WISKI','Notes_SX', 'Notes_SRM', \n",
    "                  'USGS Map ID (https://pubs.usgs.gov/ds/610/pdf/ds610.pdf)','USGS NWIS ID',\n",
    "                 'WCR (Y/N)','Total completed depth (ft bgs)', 'Total depth (ft bgs)',\n",
    "                'Screened interval (ft bgs)', 'casing diameter (inches)',]] ,\n",
    "                     left_on = 'station_name', right_on = 'WISKI', how = 'inner')\n",
    "\n",
    "wells_mod = gpd.GeoDataFrame(wells_mod, geometry = gpd.points_from_xy(wells_mod.station_longitude, wells_mod.station_latitude), crs  = 4326).to_crs(2226)\n"
   ]
  },
  {
   "cell_type": "code",
   "execution_count": null,
   "id": "ae14dee8-54c6-4f7c-94d1-5ffae156b8c9",
   "metadata": {},
   "outputs": [],
   "source": [
    "wells_mod.to_html(os.path.join(out_folder,'observation_wells.html'))"
   ]
  },
  {
   "cell_type": "code",
   "execution_count": null,
   "id": "1ef84b94-2698-4ae9-8d41-96c83328311c",
   "metadata": {},
   "outputs": [],
   "source": [
    "\n",
    "\n",
    "grid = flopy.utils.gridintersect.GridIntersect(ml.modelgrid)\n",
    "\n",
    "inx = [grid.intersect(x, shapetype = 'point').cellids for x in wells_mod.geometry.tolist() ]\n",
    "r = [x[0][0] if len(x)>0 else np.nan for x in inx]\n",
    "c = [x[0][1] if len(x)>0 else np.nan for x in inx]\n",
    "inside = [True if len(x)>0 else False for x in inx]\n",
    "\n",
    "wells_mod.loc[:,'i_r'] = r\n",
    "wells_mod.loc[:,'j_c'] = c\n",
    "wells_mod.loc[:,'inmodearea'] = inside\n",
    "\n",
    "wells_mod.columns"
   ]
  },
  {
   "cell_type": "code",
   "execution_count": null,
   "id": "d4ab413b-479b-4b4c-ad44-26698267563b",
   "metadata": {},
   "outputs": [],
   "source": [
    "x = \"\"\"<div class=\"gallery\">\n",
    "  <a target=\"_blank\" href=\"hydrographs/{:}\">\n",
    "    <img src=\"hydrographs/{:}\" alt=\"{:}\" width=\"600\" height=\"400\">\n",
    "  </a>\n",
    "  <div class=\"desc\">{:}</div>\n",
    "</div>\"\"\".format\n",
    "f = os.listdir(os.path.join(out_folder,'hydrographs'))\n",
    "\n",
    "[print(x(i, i, i.strip('.png'),  i.strip('.png'))) for i in f]"
   ]
  },
  {
   "cell_type": "code",
   "execution_count": null,
   "id": "ccea340e-d2cc-40c1-b613-ef475b14af61",
   "metadata": {},
   "outputs": [],
   "source": []
  },
  {
   "cell_type": "code",
   "execution_count": null,
   "id": "e100946c-086f-488e-a795-7c617be70e05",
   "metadata": {},
   "outputs": [],
   "source": [
    "wells_mod.to_file(\"GIS/wells_mod.geojson\")\n",
    "wells_mod.to_file(\"GIS/wells_mod.shp\")"
   ]
  },
  {
   "cell_type": "code",
   "execution_count": null,
   "id": "91b7066d-81d7-4acc-ad2b-52403b90a6e9",
   "metadata": {},
   "outputs": [],
   "source": [
    "gpd.read_file(\"GIS/wells_mod.geojson\")"
   ]
  },
  {
   "cell_type": "code",
   "execution_count": null,
   "id": "0aad84d3-0ec3-4352-a17d-87d924695a58",
   "metadata": {},
   "outputs": [],
   "source": [
    "wells_mod.filter(regex = 'geom|Web_Station_Name|_r|_c')"
   ]
  },
  {
   "cell_type": "code",
   "execution_count": null,
   "id": "49403092-0be4-4b7d-85d3-8ba5d5a82fe8",
   "metadata": {},
   "outputs": [],
   "source": [
    "import conda_scripts.arich_functions as af"
   ]
  },
  {
   "cell_type": "code",
   "execution_count": null,
   "id": "2321d770-4ea0-4719-b449-70a9c96df91a",
   "metadata": {},
   "outputs": [],
   "source": []
  },
  {
   "cell_type": "code",
   "execution_count": null,
   "id": "0aba9f8b-bc40-45ae-888c-0ec613f07b7a",
   "metadata": {},
   "outputs": [],
   "source": [
    "\n",
    "\n",
    "m = wells_mod.filter(regex = 'geom|Name|_r|_c').explore( marker_kwds = {'radius':5, 'color':'black'}, name = 'Monitoring Wells Sites Visit Notes')\n",
    "\n",
    "ibound.explore(m = m, style_kwds = {'weight':1,'fill':False}, name = 'Model Boundary')\n",
    "swr.explore(m = m, style_kwds = {'weight':3,'fill':True, 'color':'green'}, name = \"SWR Cells\")\n",
    "sfr.explore(m = m, style_kwds = {'weight':3,'fill':True, 'color':'grey'}, name = 'SFR Cells')\n",
    "\n",
    "\n",
    "# wiski_meta.explore( marker_kwds = {'radius':5, 'color':'cyan'}, m = m, name = 'Wiski Wells')\n",
    "utils.folium_maps.add_layers(m)\n",
    "m.save(os.path.join(out_folder, 'wells.html'))\n",
    "m\n"
   ]
  },
  {
   "cell_type": "code",
   "execution_count": null,
   "id": "08e8c59c-e5bf-4e91-9b5b-f9a85bb25397",
   "metadata": {},
   "outputs": [],
   "source": [
    "\n"
   ]
  },
  {
   "cell_type": "code",
   "execution_count": null,
   "id": "79f74a60-24dd-4aa9-87ad-2dcf8388ec9b",
   "metadata": {},
   "outputs": [],
   "source": []
  },
  {
   "cell_type": "code",
   "execution_count": null,
   "id": "dcec0efe-6ba0-440b-a553-4d02d9a2d23a",
   "metadata": {},
   "outputs": [],
   "source": []
  },
  {
   "cell_type": "code",
   "execution_count": null,
   "id": "5f7868d2-493e-4c98-8ae6-7745788328f9",
   "metadata": {},
   "outputs": [],
   "source": []
  },
  {
   "cell_type": "code",
   "execution_count": null,
   "id": "e6cc3b78-6d6c-427e-9ed1-105f8c8e0ee7",
   "metadata": {},
   "outputs": [],
   "source": []
  },
  {
   "cell_type": "code",
   "execution_count": null,
   "id": "ec815bb1-2579-4dca-8b05-cefa41f01903",
   "metadata": {},
   "outputs": [],
   "source": []
  },
  {
   "cell_type": "code",
   "execution_count": null,
   "id": "72992b2d-ba8e-4b2d-8697-e36c7acaed08",
   "metadata": {},
   "outputs": [],
   "source": [
    "\n",
    "def get_ts(idx, datestart):\n",
    "    ts = hdsobj.get_ts(idx)\n",
    "    \n",
    "    df = pd.DataFrame(ts[:,1], columns = [ 'Simulated'])\n",
    "    \n",
    "    df = df.set_index(pd.to_datetime(datestart)+ pd.to_timedelta(ts[:,0], unit = 's'))\n",
    "    \n",
    "    \n",
    "    return df\n",
    "\n",
    "def load_obs(name, datestart = None, end_time = None):\n",
    "    \n",
    "    \n",
    "    fold = r\"T:\\arich\\Russian_River\\MirabelWohler_2022\\Waterlevel_Data\\MWs_Caissons - AvailableDailyAverages\\DailyData\\MonitoringWells\"\n",
    "    \n",
    "    path = pathlib.Path(fold).joinpath(name.replace(' ','').replace('-','_')+'.csv')\n",
    "    \n",
    "    if path.exists():\n",
    "        print(f\"----------\\path does exist:\\n{path.name}\")\n",
    "        stg = pd.read_csv(path, parse_dates=[0])\n",
    "        stg = stg.set_index(stg.columns[0])\n",
    "        stg = stg.resample('1D').mean()\n",
    "        \n",
    "        if datestart is not None:\n",
    "            stg = stg.loc[datestart:,:].iloc[:109]\n",
    "    \n",
    "        \n",
    "    else:\n",
    "        print(f\"path does not exist:\\n{path}\")\n",
    "        stg = pd.DataFrame()\n",
    "    \n",
    "    return stg\n",
    "    "
   ]
  },
  {
   "cell_type": "code",
   "execution_count": null,
   "id": "1ccbc7bc-2f9b-42e5-a910-16d5e96f2a45",
   "metadata": {},
   "outputs": [],
   "source": []
  },
  {
   "cell_type": "code",
   "execution_count": null,
   "id": "aca07a3f-0d7f-4249-883c-edb186a38b30",
   "metadata": {},
   "outputs": [],
   "source": []
  },
  {
   "cell_type": "code",
   "execution_count": null,
   "id": "8d63239e-df53-4bc6-9faa-b5cf59f44567",
   "metadata": {},
   "outputs": [],
   "source": []
  },
  {
   "cell_type": "code",
   "execution_count": null,
   "id": "51e6a8cc-7293-4910-90ed-02eb3b7a67d1",
   "metadata": {},
   "outputs": [],
   "source": [
    "wells_mod"
   ]
  },
  {
   "cell_type": "code",
   "execution_count": null,
   "id": "72ffd5ac-8f48-4d7d-93d0-be6fb217c5ca",
   "metadata": {},
   "outputs": [],
   "source": []
  },
  {
   "cell_type": "code",
   "execution_count": null,
   "id": "06d160c8-1e94-40e0-80e5-1d4348a22974",
   "metadata": {},
   "outputs": [],
   "source": []
  },
  {
   "cell_type": "code",
   "execution_count": null,
   "id": "757ea1fb-09fe-4016-bb74-976588fe9f41",
   "metadata": {
    "tags": []
   },
   "outputs": [],
   "source": [
    "\n",
    "\n",
    "hds, hdsobj = basic.get_heads(ml)\n",
    "\n",
    "partics = os.path.join(out_folder,'hydrographs')\n",
    "for _,  wel in wells_mod.iterrows():\n",
    "    \n",
    "    idx = (0, wel.loc['i_r'], wel.loc['j_c'])\n",
    "    head = get_ts(idx, datestart)\n",
    "    obs = load_obs(wel.loc['Well Name'], datestart,1)\n",
    "    \n",
    "    if obs.shape[0]==0:\n",
    "        skip_gw_data = False\n",
    "    else:\n",
    "        skip_gw_data = True\n",
    "    \n",
    "    f = wel['station_no']\n",
    "    station_name = wel['station_name']\n",
    "    filename=os.path.join(partics,f'{f}.png')\n",
    "    # if not os.path.exists(filename):\n",
    "    nwp = gwp.fancy_plot(station_name,group = None, \n",
    "                         filename=os.path.join(partics,f'{f}.png'),\n",
    "                         allinfo=None,do_regress=False)\n",
    "\n",
    "    nwp.do_plot(False, skip_gw_data=skip_gw_data, map_buffer_size = 2500, seasonal = False, plot_dry = False, plot_wet = False,\n",
    "              maptype =  'USA_Topo_Maps')\n",
    "    \n",
    "\n",
    "\n",
    "    head.plot(ax = nwp.upleft)\n",
    "    minya, maxya = head.loc[:,'Simulated'].min(), head.loc[:,'Simulated'].max()\n",
    "    nwp.upleft.set_ylim([minya-10, maxya+10])\n",
    "    if obs.shape[0]>1:\n",
    "        obs.rename(columns = {'Value':'Observed'}).plot(ax = nwp.upleft)\n",
    "        miny, maxy = obs.loc[:,'Value'].min(), obs.loc[:,'Value'].max()\n",
    "        nwp.upleft.set_ylim([np.nanmin([miny,minya])-10, np.nanmax([maxy,maxya])+10])\n",
    "        \n",
    "    if not skip_gw_data:\n",
    "        \n",
    "        nwp.upleft.set_xlim(left = head.index.min()-pd.to_timedelta('1 w'), right = head.index.max()+pd.to_timedelta('1 w'))\n",
    "        \n",
    "    nwp.upleft.xaxis.set_major_locator(mdates.AutoDateLocator())\n",
    "    nwp.upleft.xaxis.set_minor_locator(mdates.DayLocator())\n",
    "    nwp.upleft.xaxis.set_major_formatter(\n",
    "                mdates.ConciseDateFormatter(nwp.upleft.xaxis.get_major_locator()))\n",
    "        \n",
    "        \n",
    "    plt.savefig(filename,dpi = 250, bbox_inches ='tight')\n",
    "\n",
    "    "
   ]
  },
  {
   "cell_type": "code",
   "execution_count": null,
   "id": "67c431fb-b271-4033-9178-fc86e46132f5",
   "metadata": {},
   "outputs": [],
   "source": [
    "# for _,    wel in wells_mod.iterrows():\n",
    "\n",
    "#     idx = (0, wel.loc['i_r'], wel.loc['j_c'])\n",
    "#     head = get_ts(idx, datestart)\n",
    "#     obs = load_obs(wel.loc['Well Name'], datestart,1)\n",
    "#     ax = head.plot()\n",
    "#     if obs.shape[0]>1:\n",
    "#         ax = obs.rename(columns = {'Value':'Observed'}).plot(ax = ax)"
   ]
  },
  {
   "cell_type": "code",
   "execution_count": null,
   "id": "c6ad7c15-eca2-4a42-8656-d3b6b2affc50",
   "metadata": {},
   "outputs": [],
   "source": []
  },
  {
   "cell_type": "code",
   "execution_count": null,
   "id": "a9f49e39-b64a-40c5-9b61-0c90af778fd8",
   "metadata": {},
   "outputs": [],
   "source": []
  }
 ],
 "metadata": {
  "kernelspec": {
   "display_name": "Python 3 (ipykernel)",
   "language": "python",
   "name": "python3"
  },
  "language_info": {
   "codemirror_mode": {
    "name": "ipython",
    "version": 3
   },
   "file_extension": ".py",
   "mimetype": "text/x-python",
   "name": "python",
   "nbconvert_exporter": "python",
   "pygments_lexer": "ipython3",
   "version": "3.9.16"
  }
 },
 "nbformat": 4,
 "nbformat_minor": 5
}
