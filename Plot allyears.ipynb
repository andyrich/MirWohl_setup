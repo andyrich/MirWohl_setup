{
 "cells": [
  {
   "cell_type": "code",
   "execution_count": null,
   "id": "8cb3d75f-6188-4061-8cf1-53bfacc7092e",
   "metadata": {},
   "outputs": [],
   "source": [
    "import geopandas as gpd\n",
    "import pandas as pd\n",
    "import os, sys\n",
    "import basic, write_pond_inflows_rch, write_inflows\n",
    "import matplotlib.pyplot as plt\n",
    "from  matplotlib import dates"
   ]
  },
  {
   "cell_type": "code",
   "execution_count": null,
   "id": "15d69888-1fca-4172-802c-6f56b7b29a2d",
   "metadata": {},
   "outputs": [],
   "source": [
    "df = write_pond_inflows_rch.load_pond()\n",
    "\n",
    "datestart = '1/1/2012'\n",
    "numdays = (pd.to_datetime('12/31/2021') - pd.to_datetime(datestart)).days\n",
    "df_cur = write_pond_inflows_rch.get_period(df, datestart, numdays)"
   ]
  },
  {
   "cell_type": "code",
   "execution_count": null,
   "id": "79989deb-a5c3-4575-9dc7-478f49de75d3",
   "metadata": {},
   "outputs": [],
   "source": []
  },
  {
   "cell_type": "code",
   "execution_count": null,
   "id": "7dd16c56-dea3-4bd8-a0f9-3db4699e556b",
   "metadata": {},
   "outputs": [],
   "source": [
    "fig, axes = plt.subplots(ncols = int(df_cur.index.year.nunique()/2), nrows = 2\n",
    "                         , figsize = (14,6), sharey = True, gridspec_kw = {'wspace':.05})\n",
    "axes = axes.flat\n",
    "for cnt, year in enumerate(df_cur.index.year.unique()):\n",
    "    df = df_cur.loc[df_cur.index.year == year]\n",
    "    # axes[cnt].plot(df.index, df.Value)\n",
    "    axes[cnt].fill_between(df.index, df.Value, facecolor = 'k')\n",
    "    axes[cnt].xaxis.set_minor_locator(dates.MonthLocator(interval=1))\n",
    "    axes[cnt].xaxis.set_major_locator(dates.MonthLocator(interval=2))\n",
    "    axes[cnt].xaxis.set_major_formatter(dates.DateFormatter('%b'))\n",
    "    axes[cnt].text(1., 1., year, horizontalalignment='right',\n",
    "     verticalalignment='bottom', transform=axes[cnt].transAxes)\n",
    "    axes[cnt].set_ylim([0, None])\n",
    "    axes[cnt].grid(True)\n",
    "    \n",
    "fig.suptitle('RDS Diversions')\n",
    "fig.text(0.04, 0.5, 'ft$^3$/s', va='center', rotation='vertical')\n",
    "plt.savefig('versions/website_info/RDS_diversions_allyears.png', dpi = 250, bbox_inches = 'tight')"
   ]
  },
  {
   "cell_type": "code",
   "execution_count": null,
   "id": "db50859e-3718-443d-9659-012fcdde3d78",
   "metadata": {},
   "outputs": [],
   "source": [
    "datestart = '1/1/2012'\n",
    "numdays = (pd.to_datetime('12/31/2021') - pd.to_datetime(datestart)).days"
   ]
  },
  {
   "cell_type": "code",
   "execution_count": null,
   "id": "efdbd9d6-387b-49d6-8174-61cf53290795",
   "metadata": {},
   "outputs": [],
   "source": [
    "rr, dry, mw, total, stg = write_inflows.run('SWR_short_2lays_hiK', m = None, datestart = datestart, numdays = numdays , write_output=False\n",
    "                   )"
   ]
  },
  {
   "cell_type": "code",
   "execution_count": null,
   "id": "35da1a0b-908c-4049-8608-55f76f8d49d0",
   "metadata": {},
   "outputs": [],
   "source": [
    "import datetime"
   ]
  },
  {
   "cell_type": "code",
   "execution_count": null,
   "id": "2f803ae2-0b13-49cf-83fd-97bb0db8a405",
   "metadata": {},
   "outputs": [],
   "source": [
    "datetime.datetime()"
   ]
  },
  {
   "cell_type": "code",
   "execution_count": null,
   "id": "b7b5dfbc-fe1e-4656-a2b6-b0893daa190b",
   "metadata": {},
   "outputs": [],
   "source": [
    "fig, axes = plt.subplots(ncols = int(stg.index.year.nunique()/2), nrows = 2\n",
    "                         , figsize = (14,6), sharey = True, gridspec_kw = {'wspace':.05})\n",
    "axes = axes.flat\n",
    "for cnt, year in enumerate(stg.index.year.unique()):\n",
    "    df = stg.loc[stg.index.year == year]\n",
    "    # axes[cnt].plot(df.index, df.INTERP)\n",
    "    axes[cnt].fill_between(df.index, df.INTERP, facecolor = 'k')\n",
    "    axes[cnt].set_xlim([datetime.datetime(year, 1,1), datetime.datetime(year, 12,31) ])\n",
    "    axes[cnt].xaxis.set_minor_locator(dates.MonthLocator(interval=1))\n",
    "    axes[cnt].xaxis.set_major_locator(dates.MonthLocator(interval=2))\n",
    "    axes[cnt].xaxis.set_major_formatter(dates.DateFormatter('%b'))\n",
    "    axes[cnt].text(1., 1., year, horizontalalignment='right',\n",
    "     verticalalignment='bottom', transform=axes[cnt].transAxes)\n",
    "    axes[cnt].set_ylim([28, 40])\n",
    "    axes[cnt].grid(True)\n",
    "    \n",
    "    \n",
    "fig.suptitle('Dam Elevation')\n",
    "fig.text(0.04, 0.5, 'ft, elevation', va='center', rotation='vertical')\n",
    "plt.savefig('versions/website_info/dam_elevation_allyears.png', dpi = 250, bbox_inches = 'tight')"
   ]
  },
  {
   "cell_type": "code",
   "execution_count": null,
   "id": "d3186ebb-09db-4eeb-aa33-28ef06d0cca9",
   "metadata": {},
   "outputs": [],
   "source": []
  },
  {
   "cell_type": "code",
   "execution_count": null,
   "id": "a8120da4-f8cb-4dc1-8dfe-5732874d3b20",
   "metadata": {},
   "outputs": [],
   "source": [
    "fig, axes = plt.subplots(ncols = int(total.index.year.nunique()/2), nrows = 2\n",
    "                         , figsize = (14,6), sharey = True, gridspec_kw = {'wspace':.05})\n",
    "axes = axes.flat\n",
    "for cnt, year in enumerate(total.index.year.unique()):\n",
    "    df = total.loc[total.index.year == year]\n",
    "    axes[cnt].set_yscale('log')\n",
    "    # axes[cnt].plot(df.index, df.INTERP)\n",
    "    axes[cnt].fill_between(df.index, df.rrtotal, facecolor = 'k')\n",
    "    axes[cnt].set_xlim([datetime.datetime(year, 1,1), datetime.datetime(year, 12,31) ])\n",
    "    axes[cnt].xaxis.set_minor_locator(dates.MonthLocator(interval=1))\n",
    "    axes[cnt].xaxis.set_major_locator(dates.MonthLocator(interval=2))\n",
    "    axes[cnt].xaxis.set_major_formatter(dates.DateFormatter('%b'))\n",
    "    axes[cnt].text(1., 1., year, horizontalalignment='right',\n",
    "     verticalalignment='bottom', transform=axes[cnt].transAxes)\n",
    "    axes[cnt].set_ylim([100, 25000])\n",
    "    axes[cnt].grid(True)\n",
    "    \n",
    "fig.suptitle('Russian River Discharge\\nHealdsburg + Dry Creek')\n",
    "fig.text(0.04, 0.5, 'ft$^3$/s', va='center', rotation='vertical')\n",
    "plt.savefig('versions/website_info/russian_river_q_allyears.png', dpi = 250, bbox_inches = 'tight')"
   ]
  },
  {
   "cell_type": "code",
   "execution_count": null,
   "id": "70f27db5-5ed0-4110-933a-47adbb1d65fc",
   "metadata": {},
   "outputs": [],
   "source": []
  }
 ],
 "metadata": {
  "kernelspec": {
   "display_name": "Python 3 (ipykernel)",
   "language": "python",
   "name": "python3"
  },
  "language_info": {
   "codemirror_mode": {
    "name": "ipython",
    "version": 3
   },
   "file_extension": ".py",
   "mimetype": "text/x-python",
   "name": "python",
   "nbconvert_exporter": "python",
   "pygments_lexer": "ipython3",
   "version": "3.9.16"
  }
 },
 "nbformat": 4,
 "nbformat_minor": 5
}
