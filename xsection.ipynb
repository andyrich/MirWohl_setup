{
 "cells": [
  {
   "cell_type": "code",
   "execution_count": null,
   "id": "ad4a999f-6ad6-4cee-81aa-f832c86cf686",
   "metadata": {},
   "outputs": [],
   "source": [
    "import py3dep\n",
    "import geopandas as gpd\n",
    "import matplotlib.patches as mpatches\n",
    "import matplotlib.pyplot as plt\n",
    "import numpy as np\n",
    "import pandas as pd\n",
    "import pynhd as nhd\n",
    "import flopy\n",
    "import geopandas as gpd\n",
    "from pynhd import NLDI, NHDPlusHR, WaterData\n",
    "import contextily as ctx\n",
    "import numpy as np\n",
    "\n",
    "from flopy.utils import Raster\n",
    "import os\n",
    "\n",
    "import geopandas as gpd"
   ]
  },
  {
   "cell_type": "code",
   "execution_count": null,
   "id": "6a6a0bf0-44fd-4d85-8da8-3384fb364cfe",
   "metadata": {},
   "outputs": [],
   "source": [
    "from xrspatial import zonal_stats\n",
    "from rasterio import features\n",
    "from rasterio.enums import MergeAlg\n",
    "from rasterio.plot import show\n",
    "import rasterio\n",
    "import xarray as xr"
   ]
  },
  {
   "cell_type": "markdown",
   "id": "5a95ca88-7e3d-4af5-8348-2ede75002e8b",
   "metadata": {},
   "source": [
    "use xarray zonal stats to calculate minimum elelvation for grid cells\n",
    "\n",
    "\n",
    "https://pygis.io/docs/e_raster_rasterize.html"
   ]
  },
  {
   "cell_type": "code",
   "execution_count": null,
   "id": "f228a293-a86f-41f8-b4c0-5dedeffd5aa9",
   "metadata": {},
   "outputs": [],
   "source": [
    "import basic"
   ]
  },
  {
   "cell_type": "code",
   "execution_count": null,
   "id": "25639d89-dc99-4576-90aa-233ded4deed0",
   "metadata": {},
   "outputs": [],
   "source": [
    "m = basic.load_model()"
   ]
  },
  {
   "cell_type": "code",
   "execution_count": null,
   "id": "cc7d93f4-a7b4-4f96-b58a-80f961a7a5d3",
   "metadata": {},
   "outputs": [],
   "source": [
    "x = m.modelgrid.get_xcellcenters_for_layer(1)\n",
    "y = m.modelgrid.get_ycellcenters_for_layer(1)\n"
   ]
  },
  {
   "cell_type": "code",
   "execution_count": null,
   "id": "7cbcfe94-d6d3-4aae-a740-5ffd68b3d182",
   "metadata": {},
   "outputs": [],
   "source": [
    "mgrid = m.modelgrid"
   ]
  },
  {
   "cell_type": "code",
   "execution_count": null,
   "id": "68420927-3cf5-42cd-91aa-a3beff2da502",
   "metadata": {},
   "outputs": [],
   "source": []
  },
  {
   "cell_type": "code",
   "execution_count": null,
   "id": "01033ebe-5f6d-44d3-b242-da0ade669cac",
   "metadata": {},
   "outputs": [],
   "source": [
    "\n",
    "dst_crs = 'EPSG:2226'\n",
    "raster_ws = os.path.join(\"GIS\", \"DEM\")\n",
    "raster_name = \"output_be_DTM.tif\"\n",
    "rast = os.path.join(raster_ws, raster_name)\n",
    "rio = Raster.load(rast)\n",
    "\n"
   ]
  },
  {
   "cell_type": "code",
   "execution_count": null,
   "id": "9da74352-7279-4cfc-8e0a-e5e10cf484b6",
   "metadata": {},
   "outputs": [],
   "source": [
    "\n",
    "\n",
    "arr = rio.get_array(1)\n",
    "idx = np.isfinite(arr)\n",
    "\n",
    "vmin, vmax = arr[idx].min(), arr[idx].max()\n",
    "vmin, vmax\n",
    "\n"
   ]
  },
  {
   "cell_type": "code",
   "execution_count": null,
   "id": "476c5db0-10c6-4d8a-8686-de268dc09558",
   "metadata": {},
   "outputs": [],
   "source": [
    "fig = plt.figure(figsize=(12, 12))\n",
    "ax = fig.add_subplot(1, 1, 1, aspect=\"equal\")\n",
    "\n",
    "ax = rio.plot(ax=ax, vmin=vmin, vmax=vmax)\n",
    "plt.colorbar(ax.images[0], shrink=0.7);\n",
    "\n",
    "\n",
    "\n"
   ]
  },
  {
   "cell_type": "code",
   "execution_count": null,
   "id": "3f23d592-1ddb-4020-89d3-d012388dcc14",
   "metadata": {},
   "outputs": [],
   "source": [
    "rio.bounds"
   ]
  },
  {
   "cell_type": "code",
   "execution_count": null,
   "id": "471d44c2-d862-42b4-ab97-27ebba2439ef",
   "metadata": {},
   "outputs": [],
   "source": [
    "fig = plt.figure(figsize=(12, 12))\n",
    "ax = fig.add_subplot(1, 1, 1, aspect=\"equal\")\n",
    "\n",
    "ax = rio.plot(ax=ax, vmin=vmin, vmax=vmax)\n",
    "plt.colorbar(ax.images[0], shrink=0.7)\n",
    "pmv = flopy.plot.PlotMapView(modelgrid=m.modelgrid)\n",
    "pmv.plot_grid(ax=ax, lw=0.5, color=\"black\");"
   ]
  },
  {
   "cell_type": "code",
   "execution_count": null,
   "id": "9f7c9e86-933a-43ed-bdb2-d522253890ef",
   "metadata": {},
   "outputs": [],
   "source": [
    "import cartopy.crs as ccrs\n",
    "\n",
    "def coordXform(orig_crs, target_crs, x, y):\n",
    "    return target_crs.transform_point(  x, y, orig_crs )\n",
    "\n",
    "crs_longlat = ccrs.PlateCarree() \n",
    "crs_3857 = ccrs.epsg(2226)\n",
    "\n",
    "coordXform(crs_longlat,crs_3857, start[1], start[0] )"
   ]
  },
  {
   "cell_type": "code",
   "execution_count": null,
   "id": "0ce41440-28c5-4488-a36b-f1e99a9a0a1e",
   "metadata": {},
   "outputs": [],
   "source": [
    "start = ( -122.876894, 38.492277)\n",
    "stop = (  -122.876925, 38.494097)\n",
    "\n",
    "start = coordXform(crs_longlat,crs_3857, start[0], start[1] )\n",
    "stop = coordXform(crs_longlat,crs_3857, stop[0], stop[1] )\n",
    "\n",
    "num_points = 90\n",
    "\n",
    "# def line_slope_intercept(x1, y1, x2, y2):\n",
    "#     \"\"\"Calculate the slope and intercept of a line between two points.\"\"\"\n",
    "#     slope = (y2 - y1) / (x2 - x1)\n",
    "#     intercept = y1 - slope * x1\n",
    "#     return slope, intercept\n",
    "\n",
    "def points_on_line(slope, intercept, start, end, num_points):\n",
    "    \"\"\"Generate equally spaced points on a line defined by its slope and intercept.\"\"\"\n",
    "    points = np.linspace(start, end, num_points)\n",
    "    # y_values = slope * x_values + intercept\n",
    "    # points = np.column_stack((x_values, y_values))\n",
    "    \n",
    "    return points\n",
    "\n",
    "# slope, intercept = line_slope_intercept(start[0], start[1], stop[0], stop[1])\n",
    "points = points_on_line(slope, intercept, start, stop, num_points)"
   ]
  },
  {
   "cell_type": "code",
   "execution_count": null,
   "id": "fa7bfa8b-d92b-498c-bf7d-b34d0d54a68e",
   "metadata": {},
   "outputs": [],
   "source": [
    "np.linspace(start, stop, num_points)"
   ]
  },
  {
   "cell_type": "code",
   "execution_count": null,
   "id": "203ff131-3519-453b-a14b-103643ffaf7e",
   "metadata": {},
   "outputs": [],
   "source": [
    "points"
   ]
  },
  {
   "cell_type": "code",
   "execution_count": null,
   "id": "2925bdce-83a2-4b7e-a84d-644847f31e79",
   "metadata": {},
   "outputs": [],
   "source": []
  },
  {
   "cell_type": "code",
   "execution_count": null,
   "id": "085ed15e-1b1d-4f45-8b8a-f8373e4e18e6",
   "metadata": {},
   "outputs": [],
   "source": [
    "fig = plt.figure(figsize=(12, 12))\n",
    "ax = fig.add_subplot(1, 1, 1, aspect=\"equal\")\n",
    "\n",
    "ax = rio.plot(ax=ax, vmin=vmin, vmax=vmax)\n",
    "plt.colorbar(ax.images[0], shrink=0.7)\n",
    "pmv = flopy.plot.PlotMapView(modelgrid=m.modelgrid)\n",
    "pmv.plot_grid(ax=ax, lw=0.5, color=\"black\");\n",
    "\n",
    "ax.scatter(start[0], start[1])\n",
    "ax.scatter(stop[0], stop[1])\n",
    "\n",
    "ax.scatter(points[:,0], points[:,1])\n"
   ]
  },
  {
   "cell_type": "code",
   "execution_count": null,
   "id": "4fe1d004-3b6c-447b-bd61-0e8a413a3e82",
   "metadata": {},
   "outputs": [],
   "source": [
    "from scipy.spatial.distance import pdist, squareform"
   ]
  },
  {
   "cell_type": "code",
   "execution_count": null,
   "id": "e2b16304-bcb1-472c-81e4-efd8727608ee",
   "metadata": {},
   "outputs": [],
   "source": []
  },
  {
   "cell_type": "code",
   "execution_count": null,
   "id": "80307390-ca7d-4e32-94cd-c7727af46d8c",
   "metadata": {},
   "outputs": [],
   "source": [
    "rio.sample_point((6310688.157792784, 1942309.427433906))"
   ]
  },
  {
   "cell_type": "code",
   "execution_count": null,
   "id": "f14d7a53-bdfc-4fb2-a598-ee471bd0b63d",
   "metadata": {},
   "outputs": [],
   "source": [
    "values = [rio.sample_point(p) for p in points]"
   ]
  },
  {
   "cell_type": "code",
   "execution_count": null,
   "id": "f31f0ad9-1018-48db-8a16-de6bb818d13c",
   "metadata": {},
   "outputs": [],
   "source": [
    "dist = squareform(pdist(points))[0]"
   ]
  },
  {
   "cell_type": "code",
   "execution_count": null,
   "id": "cbe7b99c-2fdf-4491-8b39-1b30e3b3bc2c",
   "metadata": {},
   "outputs": [],
   "source": [
    "profile = np.vstack([dist, values]).T"
   ]
  },
  {
   "cell_type": "code",
   "execution_count": null,
   "id": "aa323119-6b41-410a-ab96-0174ef78068d",
   "metadata": {},
   "outputs": [],
   "source": [
    "plt.scatter(profile[:,0],profile[:,1])\n",
    "n = 34\n",
    "# locs = np.arange(n,n+9*2,2)\n",
    "locs = [ 34, 39, 40, 41, 42,44, 46, 52]\n",
    "plt.scatter(profile[:,0][locs],profile[:,1][locs])\n",
    "\n",
    "df = pd.DataFrame(profile[locs,:], columns = ['distance','height'])\n",
    "\n",
    "df.loc[:,'distance'] = df.loc[:,'distance']-df.loc[:,'distance'].min()\n",
    "df.loc[:,'height'] = df.loc[:,'height']-df.loc[:,'height'].min()\n",
    "df.to_csv(r'GIS\\Stream_GEO\\markwest_creek_xsection.csv')"
   ]
  },
  {
   "cell_type": "code",
   "execution_count": null,
   "id": "89187bc2-412c-417d-a246-8027a6771d7c",
   "metadata": {},
   "outputs": [],
   "source": []
  }
 ],
 "metadata": {
  "kernelspec": {
   "display_name": "Python 3 (ipykernel)",
   "language": "python",
   "name": "python3"
  },
  "language_info": {
   "codemirror_mode": {
    "name": "ipython",
    "version": 3
   },
   "file_extension": ".py",
   "mimetype": "text/x-python",
   "name": "python",
   "nbconvert_exporter": "python",
   "pygments_lexer": "ipython3",
   "version": "3.10.4"
  }
 },
 "nbformat": 4,
 "nbformat_minor": 5
}
