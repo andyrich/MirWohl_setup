{
 "cells": [
  {
   "cell_type": "markdown",
   "metadata": {
    "cell_marker": "\"\"\""
   },
   "source": [
    "# River Network"
   ]
  },
  {
   "cell_type": "code",
   "execution_count": null,
   "metadata": {
    "tags": []
   },
   "outputs": [],
   "source": [
    "import geopandas as gpd\n",
    "import matplotlib.patches as mpatches\n",
    "import matplotlib.pyplot as plt\n",
    "import numpy as np\n",
    "import pandas as pd\n",
    "import pynhd as nhd\n",
    "from pynhd import NLDI, NHDPlusHR, WaterData\n",
    "import contextily as ctx"
   ]
  },
  {
   "cell_type": "code",
   "execution_count": null,
   "metadata": {},
   "outputs": [],
   "source": []
  },
  {
   "cell_type": "code",
   "execution_count": null,
   "metadata": {},
   "outputs": [],
   "source": [
    "import sfrmaker"
   ]
  },
  {
   "cell_type": "code",
   "execution_count": null,
   "metadata": {},
   "outputs": [],
   "source": []
  },
  {
   "cell_type": "code",
   "execution_count": null,
   "metadata": {},
   "outputs": [],
   "source": [
    "import flopy"
   ]
  },
  {
   "cell_type": "code",
   "execution_count": null,
   "metadata": {},
   "outputs": [],
   "source": [
    "import basic\n",
    "m = basic.load_model()"
   ]
  },
  {
   "cell_type": "code",
   "execution_count": null,
   "metadata": {
    "tags": []
   },
   "outputs": [],
   "source": [
    "import warnings\n",
    "\n",
    "warnings.filterwarnings(\"ignore\")"
   ]
  },
  {
   "cell_type": "markdown",
   "metadata": {},
   "source": [
    "[PyNHD](https://github.com/cheginit/pynhd) provides access to the Hydro Network-Linked Data Index ([NLDI](https://labs.waterdata.usgs.gov/about-nldi/index.html)) and the [WaterData](https://labs.waterdata.usgs.gov/geoserver/web/wicket/bookmarkable/org.geoserver.web.demo.MapPreviewPage?1) web services for navigating and subsetting [NHDPlus](https://nhdplus.com/NHDPlus) V2 database. Additionally, you can download NHDPlus High Resolution data as well.\n",
    "\n",
    "First, let's get the watershed geometry of the contributing basin of a USGS station using `NLDI`:"
   ]
  },
  {
   "cell_type": "code",
   "execution_count": null,
   "metadata": {
    "tags": []
   },
   "outputs": [],
   "source": [
    "nldi = NLDI()\n",
    "station_id = \"11467000\"\n",
    "\n",
    "basin = nldi.get_basins(station_id)"
   ]
  },
  {
   "cell_type": "markdown",
   "metadata": {},
   "source": [
    "The `navigate_byid` class method can be used to navigate NHDPlus in both upstream and downstream of any point in the database. The available feature sources are ``comid``, ``huc12pp``, ``nwissite``, ``wade``, ``wqp``. Let's get ComIDs and flowlines of the tributaries and the main river channel in the upstream of the station."
   ]
  },
  {
   "cell_type": "code",
   "execution_count": null,
   "metadata": {
    "tags": []
   },
   "outputs": [],
   "source": [
    "flw_main = nldi.navigate_byid(\n",
    "    fsource=\"nwissite\",\n",
    "    fid=f\"USGS-{station_id}\",\n",
    "    navigation=\"upstreamMain\",\n",
    "    source=\"flowlines\",\n",
    "    distance=1000,\n",
    ")\n",
    "\n",
    "flw_trib = nldi.navigate_byid(\n",
    "    fsource=\"nwissite\",\n",
    "    fid=f\"USGS-{station_id}\",\n",
    "    navigation=\"upstreamTributaries\",\n",
    "    source=\"flowlines\",\n",
    "    distance=1000,\n",
    ")"
   ]
  },
  {
   "cell_type": "markdown",
   "metadata": {},
   "source": [
    "We can get other USGS stations upstream (or downstream) of the station and even set a distance limit (in km):"
   ]
  },
  {
   "cell_type": "code",
   "execution_count": null,
   "metadata": {
    "tags": []
   },
   "outputs": [],
   "source": [
    "st_all = nldi.navigate_byid(\n",
    "    fsource=\"nwissite\",\n",
    "    fid=f\"USGS-{station_id}\",\n",
    "    navigation=\"upstreamTributaries\",\n",
    "    source=\"nwissite\",\n",
    "    distance=1000,\n",
    ")\n",
    "\n",
    "st_d20 = nldi.navigate_byid(\n",
    "    fsource=\"nwissite\",\n",
    "    fid=f\"USGS-{station_id}\",\n",
    "    navigation=\"upstreamTributaries\",\n",
    "    source=\"nwissite\",\n",
    "    distance=20,\n",
    ")"
   ]
  },
  {
   "cell_type": "markdown",
   "metadata": {},
   "source": [
    "Now, let's get the [HUC12 pour points](https://www.sciencebase.gov/catalog/item/5762b664e4b07657d19a71ea):"
   ]
  },
  {
   "cell_type": "code",
   "execution_count": null,
   "metadata": {
    "tags": []
   },
   "outputs": [],
   "source": [
    "pp = nldi.navigate_byid(\n",
    "    fsource=\"nwissite\",\n",
    "    fid=f\"USGS-{station_id}\",\n",
    "    navigation=\"upstreamTributaries\",\n",
    "    source=\"huc12pp\",\n",
    "    distance=1000,\n",
    ")"
   ]
  },
  {
   "cell_type": "markdown",
   "metadata": {},
   "source": [
    "Let's plot the vector data:"
   ]
  },
  {
   "cell_type": "code",
   "execution_count": null,
   "metadata": {
    "tags": []
   },
   "outputs": [],
   "source": [
    "ax = basin.plot(facecolor=\"none\", edgecolor=\"k\", figsize=(8, 8))\n",
    "st_all.plot(ax=ax, label=\"USGS stations\", marker=\"*\", markersize=300, zorder=4, color=\"b\")\n",
    "st_d20.plot(\n",
    "    ax=ax,\n",
    "    label=\"USGS stations up to 20 km\",\n",
    "    marker=\"v\",\n",
    "    markersize=100,\n",
    "    zorder=5,\n",
    "    color=\"darkorange\",\n",
    ")\n",
    "pp.plot(ax=ax, label=\"HUC12 pour points\", marker=\"o\", markersize=50, color=\"k\", zorder=3)\n",
    "flw_main.plot(ax=ax, lw=3, color=\"r\", zorder=2, label=\"Main\")\n",
    "flw_trib.plot(ax=ax, lw=1, zorder=1, label=\"Tributaries\")\n",
    "ax.legend(loc=\"best\")\n",
    "ax.set_aspect(\"auto\")\n",
    "ax.figure.set_dpi(100)\n",
    "ax.figure.savefig(\"GIS/nhdplus_navigation.png\", bbox_inches=\"tight\", facecolor=\"w\")"
   ]
  },
  {
   "cell_type": "markdown",
   "metadata": {},
   "source": [
    "Next, we get the slope data for each river segment from NHDPlus VAA database:"
   ]
  },
  {
   "cell_type": "code",
   "execution_count": null,
   "metadata": {},
   "outputs": [],
   "source": [
    "flw_trib.filter(regex = 'id').columns"
   ]
  },
  {
   "cell_type": "code",
   "execution_count": null,
   "metadata": {
    "tags": []
   },
   "outputs": [],
   "source": [
    "vaa = nhd.nhdplus_vaa(\"GIS/nhdplus_vaa.parquet\")\n",
    "\n",
    "flw_trib[\"comid\"] = pd.to_numeric(flw_trib.nhdplus_comid)\n",
    "slope = gpd.GeoDataFrame(\n",
    "    pd.merge(flw_trib, vaa[[\"comid\", \"slope\"]], left_on=\"comid\", right_on=\"comid\"),\n",
    "    crs=flw_trib.crs,\n",
    ")\n",
    "slope[slope.slope < 0] = np.nan"
   ]
  },
  {
   "cell_type": "code",
   "execution_count": null,
   "metadata": {
    "tags": []
   },
   "outputs": [],
   "source": [
    "slope.plot(\n",
    "    figsize=(8, 8),\n",
    "    column=\"slope\",\n",
    "    cmap=\"plasma\",\n",
    "    legend=True,\n",
    "    legend_kwds={\"label\": \"Slope (m/m)\"},\n",
    ")"
   ]
  },
  {
   "cell_type": "code",
   "execution_count": null,
   "metadata": {},
   "outputs": [],
   "source": [
    "# import py3dep"
   ]
  },
  {
   "cell_type": "code",
   "execution_count": null,
   "metadata": {},
   "outputs": [],
   "source": [
    "# x = m.modelgrid.get_xcellcenters_for_layer(1)\n",
    "# y = m.modelgrid.get_ycellcenters_for_layer(1)\n",
    "\n"
   ]
  },
  {
   "cell_type": "code",
   "execution_count": null,
   "metadata": {},
   "outputs": [],
   "source": [
    "\n",
    "# elevation = py3dep.elevation_bycoords(list(zip(x.reshape((-1)),y.reshape((-1)))), crs=\"epsg:2226\", source=\"airmap\")"
   ]
  },
  {
   "cell_type": "code",
   "execution_count": null,
   "metadata": {},
   "outputs": [],
   "source": [
    "# np.max(elevation)"
   ]
  },
  {
   "cell_type": "code",
   "execution_count": null,
   "metadata": {},
   "outputs": [],
   "source": [
    "# elev_array = np.reshape(elevation,x.shape)\n",
    "\n",
    "# plt.imshow(elev_array)\n",
    "\n",
    "# np.savetxt(\"GIS/lay_1_top.csv\", elev_array*3.28, delimiter=\",\", fmt =\"%.1f\")"
   ]
  },
  {
   "cell_type": "code",
   "execution_count": null,
   "metadata": {},
   "outputs": [],
   "source": [
    "import pyproj\n",
    "import proplot as pplt"
   ]
  },
  {
   "cell_type": "code",
   "execution_count": null,
   "metadata": {},
   "outputs": [],
   "source": [
    "import rioxarray  # noqa: F401\n",
    "import xarray as xr"
   ]
  },
  {
   "cell_type": "markdown",
   "metadata": {},
   "source": [
    "Now, let's use [WaterData](https://labs.waterdata.usgs.gov/geoserver/web/) service to get the headwater catchments for this basin:"
   ]
  },
  {
   "cell_type": "code",
   "execution_count": null,
   "metadata": {},
   "outputs": [],
   "source": [
    "lines = sfrmaker.Lines.from_nhdplus_hr(r\"C:\\GIS\\shapefiles\\NHD\\NHDPLUS_H_1801_HU4_GDB\\NHDPLUS_H_1801_HU4_GDB.gdb\")"
   ]
  },
  {
   "cell_type": "code",
   "execution_count": null,
   "metadata": {
    "tags": []
   },
   "outputs": [],
   "source": [
    "sfrdata = lines.to_sfr( model=m, model_length_units='feet')"
   ]
  },
  {
   "cell_type": "code",
   "execution_count": null,
   "metadata": {
    "tags": []
   },
   "outputs": [],
   "source": [
    "\n",
    "\n",
    "sfrdata = lines.to_sfr(model = m)\n",
    "\n"
   ]
  },
  {
   "cell_type": "code",
   "execution_count": null,
   "metadata": {
    "tags": []
   },
   "outputs": [],
   "source": [
    "sfrdata.write_package(filename='nhd_hr_demo.sfr', version='mfnwt')"
   ]
  },
  {
   "cell_type": "code",
   "execution_count": null,
   "metadata": {},
   "outputs": [],
   "source": [
    "sfrdata.write_shapefiles(r'GIS\\nhd_hr_demo')"
   ]
  },
  {
   "cell_type": "code",
   "execution_count": null,
   "metadata": {},
   "outputs": [],
   "source": [
    "mod = gpd.read_file('GIS/grid.shp')"
   ]
  },
  {
   "cell_type": "code",
   "execution_count": null,
   "metadata": {},
   "outputs": [],
   "source": [
    "outlets"
   ]
  },
  {
   "cell_type": "code",
   "execution_count": null,
   "metadata": {},
   "outputs": [],
   "source": [
    "cells.query(\"name=='Russian River'\").sort_values('outreach')"
   ]
  },
  {
   "cell_type": "code",
   "execution_count": null,
   "metadata": {},
   "outputs": [],
   "source": [
    "routing = gpd.read_file('GIS/nhd_hr_demo_sfr_routing.shp')\n",
    "cells = gpd.read_file('GIS/nhd_hr_demo_sfr_cells.shp')\n",
    "outlets = gpd.read_file('GIS/nhd_hr_demo_sfr_outlets.shp')\n",
    "model_boundary_5070 = mod.to_crs(epsg=2226)\n",
    "\n",
    "fig, ax = plt.subplots(figsize=(10,8))\n",
    "cells.plot('name',ax = ax, zorder = 2, facecolor = 'None')\n",
    "routing.plot(ax=ax, zorder=3)\n",
    "outlets.plot(ax=ax, c='red', zorder=4, label='outlets')\n",
    "model_boundary_5070.plot(ax=ax, facecolor='None', \n",
    "                         edgecolor='gray',\n",
    "                         zorder=1\n",
    "                        ) \n",
    "\n",
    "LegendElement = [\n",
    "    mpatches.mlines.Line2D([], [], color='red', linewidth=0., marker='o', label='sfr outlet'),\n",
    "    mpatches.mlines.Line2D([], [], color='#1f77b4', label='sfr routing'),\n",
    "    mpatches.Patch(facecolor='None', edgecolor='gray', label='Model Boundary\\n(active area)')\n",
    "]\n",
    "\n",
    "ax.legend(handles=LegendElement, loc='upper left')\n",
    "\n",
    "\n",
    "f = flopy.plot.PlotMapView(m, ax =  ax)\n",
    "# f.plot_array(m.bas6.ibound[0])\n",
    "f.plot_ibound(color_noflow = 'black', alpha = .1)\n",
    "ctx.add_basemap(ax, crs = 2226)\n",
    "plt.show()"
   ]
  },
  {
   "cell_type": "code",
   "execution_count": null,
   "metadata": {},
   "outputs": [],
   "source": []
  },
  {
   "cell_type": "code",
   "execution_count": null,
   "metadata": {},
   "outputs": [],
   "source": []
  },
  {
   "cell_type": "code",
   "execution_count": null,
   "metadata": {},
   "outputs": [],
   "source": []
  },
  {
   "cell_type": "code",
   "execution_count": null,
   "metadata": {},
   "outputs": [],
   "source": [
    "\n",
    "\n",
    "flopy_grid = flopy.discretization.StructuredGrid(delr=delr, delc=delc,\n",
    "                                                 xoff=682688, yoff=5139052,  # lower left corner of model grid\n",
    "                                                 angrot=0,  # grid is unrotated\n",
    "                                                 # projected coordinate system of model (UTM NAD27 zone 15 North)\n",
    "                                                 proj4='epsg:26715'\n",
    "                                                 )"
   ]
  },
  {
   "cell_type": "code",
   "execution_count": null,
   "metadata": {
    "tags": []
   },
   "outputs": [],
   "source": [
    "flw_mr = nhdp_mr.bybox(basin.geometry[0].bounds)\n",
    "\n",
    "nhdp_hr = NHDPlusHR(\"flowline\")\n",
    "flw_hr = nhdp_hr.bygeom(basin.geometry[0].bounds)"
   ]
  },
  {
   "cell_type": "code",
   "execution_count": null,
   "metadata": {
    "tags": []
   },
   "outputs": [],
   "source": [
    "fig, (ax1, ax2) = plt.subplots(1, 2, figsize=(12, 8), facecolor=\"w\")\n",
    "\n",
    "flw_mr.plot(ax=ax1)\n",
    "ax1.set_title(\"NHDPlus Medium Resolution\")\n",
    "flw_hr.plot(ax=ax2)\n",
    "ax2.set_title(\"NHDPlus High Resolution\")\n",
    "fig.savefig(\"GIS/hr_mr.png\", bbox_inches=\"tight\", facecolor=\"w\")"
   ]
  },
  {
   "cell_type": "code",
   "execution_count": null,
   "metadata": {},
   "outputs": [],
   "source": []
  },
  {
   "cell_type": "code",
   "execution_count": null,
   "metadata": {},
   "outputs": [],
   "source": [
    "\n"
   ]
  },
  {
   "cell_type": "code",
   "execution_count": null,
   "metadata": {},
   "outputs": [],
   "source": []
  },
  {
   "cell_type": "code",
   "execution_count": null,
   "metadata": {},
   "outputs": [],
   "source": [
    "flw.columns"
   ]
  },
  {
   "cell_type": "markdown",
   "metadata": {},
   "source": [
    "Since NHDPlus HR is still at the pre-release stage, let's use the MR flowlines to demonstrate the vector-based accumulation.\n",
    "\n",
    "Based on a topological sorted river network ``pynhd.vector_accumulation`` computes flow accumulation in the network. It returns a dataframe which is sorted from upstream to downstream that shows the accumulated flow in each node.\n",
    "\n",
    "PyNHD has a utility called ``prepare_nhdplus`` that identifies such relationship among other things such as fixing some common issues with NHDPlus flowlines. But first we need to get all the NHDPlus attributes for each ComID since `NLDI` only provides the flowlines' geometries and ComIDs which is useful for navigating the vector river network data. For getting the NHDPlus database we use ``WaterData``. The WaterData web service layers are  ``nhdflowline_network``, ``nhdarea``, ``nhdwaterbody``, ``catchmentsp``, ``gagesii``, ``huc08``, ``huc12``, ``huc12agg``, and ``huc12all``. Let's use the ``nhdflowline_network`` layer to get required info."
   ]
  },
  {
   "cell_type": "code",
   "execution_count": null,
   "metadata": {
    "tags": []
   },
   "outputs": [],
   "source": [
    "comids = [int(c) for c in flw_trib.nhdplus_comid.to_list()]\n",
    "nhdp_trib = nhdp_mr.byid(\"comid\", comids)\n",
    "flw = nhd.prepare_nhdplus(nhdp_trib, 0, 0, purge_non_dendritic=False)"
   ]
  },
  {
   "cell_type": "markdown",
   "metadata": {},
   "source": [
    "To demonstrate the use of routing, let's use `nhdplus_attrs` function to get list of available NHDPlus attributes from [Select Attributes for NHDPlus Version 2.1 Reach Catchments and Modified Network Routed Upstream Watersheds for the Conterminous United States](https://www.sciencebase.gov/catalog/item/5669a79ee4b08895842a1d47) item on `ScienceBase` service. These attributes are in catchment-scale and are available in three categories:\n",
    "\n",
    "1. Local (`local`): For individual reach catchments,\n",
    "2. Total (`upstream_acc`): For network-accumulated values using total cumulative drainage area,\n",
    "3. Divergence (`div_routing`): For network-accumulated values using divergence-routed."
   ]
  },
  {
   "cell_type": "code",
   "execution_count": null,
   "metadata": {
    "tags": []
   },
   "outputs": [],
   "source": [
    "char_ids = nldi.get_validchars(\"local\")\n",
    "char_ids.head(5)"
   ]
  },
  {
   "cell_type": "markdown",
   "metadata": {},
   "source": [
    "Let's get Mean Annual Groundwater Recharge, ``RECHG``, using ``getcharacteristic_byid`` class method and carry out the flow accumulation."
   ]
  },
  {
   "cell_type": "code",
   "execution_count": null,
   "metadata": {},
   "outputs": [],
   "source": []
  },
  {
   "cell_type": "code",
   "execution_count": null,
   "metadata": {
    "tags": []
   },
   "outputs": [],
   "source": [
    "char = \"CAT_RECHG\"\n",
    "area = \"areasqkm\"\n",
    "\n",
    "local = nldi.getcharacteristic_byid(comids, \"local\", char_ids=char)\n",
    "flw = flw.merge(local[char], left_on=\"comid\", right_index=True)\n",
    "\n",
    "\n",
    "def runoff_acc(qin, q, a):\n",
    "    return qin + q * a\n",
    "\n",
    "\n",
    "flw_r = flw[[\"comid\", \"tocomid\", char, area]]\n",
    "runoff = nhd.vector_accumulation(flw_r, runoff_acc, char, [char, area])\n",
    "\n",
    "\n",
    "def area_acc(ain, a):\n",
    "    return ain + a\n",
    "\n",
    "\n",
    "flw_a = flw[[\"comid\", \"tocomid\", area]]\n",
    "areasqkm = nhd.vector_accumulation(flw_a, area_acc, area, [area])\n",
    "\n",
    "runoff /= areasqkm"
   ]
  },
  {
   "cell_type": "markdown",
   "metadata": {},
   "source": [
    "Since these are catchment-scale characteristic, let's get the catchments then add the accumulated characteristic as a new column and plot the results."
   ]
  },
  {
   "cell_type": "code",
   "execution_count": null,
   "metadata": {},
   "outputs": [],
   "source": [
    "import networkx as nx\n",
    "import pylab as plt\n",
    "from networkx.drawing.nx_agraph import graphviz_layout, to_agraph\n",
    "import pygraphviz as pgv\n",
    "import osmnx as ox\n",
    "from osgeo import ogr, osr\n",
    "from shapely.geometry import shape\n",
    "from shapely.geometry import LineString"
   ]
  },
  {
   "cell_type": "code",
   "execution_count": null,
   "metadata": {},
   "outputs": [],
   "source": [
    "G = ox.graph_from_place(\"Santa Rosa, California, USA\", network_type=\"drive\")"
   ]
  },
  {
   "cell_type": "code",
   "execution_count": null,
   "metadata": {},
   "outputs": [],
   "source": [
    "G"
   ]
  },
  {
   "cell_type": "code",
   "execution_count": null,
   "metadata": {},
   "outputs": [],
   "source": [
    "def nodes_to_linestring(path):\n",
    "    coords_list = [(G.nodes[i]['x'], G.nodes[i]['y']) for i in path ]\n",
    "    #print(coords_list)\n",
    "    line = LineString(coords_list)\n",
    "    \n",
    "    return(line)\n",
    "\n",
    "def shortestpath(o_lat, o_long, d_lat, d_long):\n",
    "    \n",
    "    nearestnode_origin, dist_o_to_onode = ox.distance.nearest_nodes(G, o_long,  o_lat,  return_dist=True)\n",
    "    nearestnode_dest, dist_d_to_dnode = ox.distance.nearest_nodes(G,  d_long, d_lat,  return_dist=True)\n",
    "    \n",
    "    #Add up distance to nodes from both o and d ends. This is the distance that's not covered by the network\n",
    "    dist_to_network = dist_o_to_onode + dist_d_to_dnode\n",
    "    \n",
    "    shortest_p = nx.shortest_path(G,nearestnode_origin, nearestnode_dest) \n",
    "    \n",
    "\n",
    "    route = nodes_to_linestring(shortest_p) #Method defined above\n",
    "    \n",
    "    # Calculating length of the route requires projection into UTM system.  \n",
    "    inSpatialRef = osr.SpatialReference()\n",
    "    inSpatialRef.ImportFromEPSG(4326)\n",
    "    outSpatialRef = osr.SpatialReference()\n",
    "    outSpatialRef.ImportFromEPSG(4326)\n",
    "    coordTransform = osr.CoordinateTransformation(inSpatialRef, outSpatialRef)\n",
    "    \n",
    "    #route.wkt returns wkt of the shapely object. This step was necessary as transformation can be applied \n",
    "    #only on an ogr object. Used EPSG 32643 as Bangalore is in 43N UTM grid zone.\n",
    "    geom = ogr.CreateGeometryFromWkt(route.wkt)\n",
    "   \n",
    "    geom.Transform(coordTransform)\n",
    "    length = geom.Length()\n",
    "    \n",
    "    #Total length to be covered is length along network between the nodes plus the distance from the O,D points to their nearest nodes\n",
    "    total_length = length + dist_to_network\n",
    "    #in metres\n",
    "    \n",
    "    return(route, total_length )\n",
    "\n",
    "\n",
    "# coords = [(-103.801086, 40.26772), (-103.80097, 40.270568)]\n",
    "up = (-122.83164 ,38.44970)\n",
    "down =  (-122.70897, 38.43966)\n",
    "coords = [up, down]\n",
    "\n",
    "out,l = shortestpath(up[1],up[0],down[1],down[0])"
   ]
  },
  {
   "cell_type": "code",
   "execution_count": null,
   "metadata": {},
   "outputs": [],
   "source": [
    "import pynhd\n",
    "# nx=pynhd.network_tools.nhdflw2nx(flw_hr, id_col='NHDFlowline.comid', toid_col='NHDFlowline.tocomid', edge_attr=None)\n",
    "G=pynhd.network_tools.nhdflw2nx(flw)\n",
    "\n",
    "# G.graph['crs'] = flw_mr.crs\n",
    "\n",
    "x, y = nx.get_node_attributes(G, \"x\").values(), nx.get_node_attributes(G, \"y\").values()\n",
    "\n",
    "nx.set_node_attributes(G, dict(zip(G.nodes(), x)), \"x\")\n",
    "nx.set_node_attributes(G, dict(zip(G.nodes(), y)), \"y\")\n",
    "\n",
    "nx.shortest_path("
   ]
  },
  {
   "cell_type": "code",
   "execution_count": null,
   "metadata": {},
   "outputs": [],
   "source": [
    "flw.columns.tolist()"
   ]
  },
  {
   "cell_type": "code",
   "execution_count": null,
   "metadata": {},
   "outputs": [],
   "source": []
  },
  {
   "cell_type": "code",
   "execution_count": null,
   "metadata": {},
   "outputs": [],
   "source": [
    "fls"
   ]
  },
  {
   "cell_type": "code",
   "execution_count": null,
   "metadata": {},
   "outputs": [],
   "source": [
    "flw.set_index('comid').loc[fls[0][:-1],:].plot()"
   ]
  },
  {
   "cell_type": "code",
   "execution_count": null,
   "metadata": {},
   "outputs": [],
   "source": [
    "flw.head()"
   ]
  },
  {
   "cell_type": "code",
   "execution_count": null,
   "metadata": {},
   "outputs": [],
   "source": [
    "flw_hr"
   ]
  },
  {
   "cell_type": "code",
   "execution_count": null,
   "metadata": {},
   "outputs": [],
   "source": []
  },
  {
   "cell_type": "code",
   "execution_count": null,
   "metadata": {},
   "outputs": [],
   "source": [
    "ls.LineString"
   ]
  },
  {
   "cell_type": "code",
   "execution_count": null,
   "metadata": {},
   "outputs": [],
   "source": [
    "import shapely\n",
    "\n",
    "ls = shapely.geometry.linestring\n",
    "\n",
    "flw.geometry.apply(lambda x: isinstance(x, ls.LineString)).sort_values()"
   ]
  },
  {
   "cell_type": "code",
   "execution_count": null,
   "metadata": {},
   "outputs": [],
   "source": []
  },
  {
   "cell_type": "code",
   "execution_count": null,
   "metadata": {},
   "outputs": [],
   "source": []
  },
  {
   "cell_type": "code",
   "execution_count": null,
   "metadata": {},
   "outputs": [],
   "source": []
  },
  {
   "cell_type": "code",
   "execution_count": null,
   "metadata": {},
   "outputs": [],
   "source": [
    "nhdp_mr = WaterData(\"nhdflowline_network\")\n"
   ]
  },
  {
   "cell_type": "code",
   "execution_count": null,
   "metadata": {},
   "outputs": [],
   "source": [
    "vaa = nhd.nhdplus_vaa(\"input_data/nhdplus_vaa.parquet\")"
   ]
  },
  {
   "cell_type": "code",
   "execution_count": null,
   "metadata": {},
   "outputs": [],
   "source": [
    "upf = nldi.navigate_byloc(up,     navigation=\"upstreamTributaries\",\n",
    "    source=\"flowlines\",)\n",
    "\n",
    "downf = nldi.navigate_byloc(down,     navigation=\"upstreamTributaries\",\n",
    "    source=\"flowlines\",)\n",
    "\n",
    "def gt_(df):\n",
    "    df[\"comid\"] = pd.to_numeric(df.nhdplus_comid)\n",
    "\n",
    "    df = gpd.GeoDataFrame(\n",
    "        pd.merge(df, vaa, left_on=\"comid\", right_on=\"comid\"),\n",
    "        crs=flw_trib.crs,\n",
    "    )\n",
    "    return df\n",
    "\n",
    "upf = gt_(upf)"
   ]
  },
  {
   "cell_type": "code",
   "execution_count": null,
   "metadata": {},
   "outputs": [],
   "source": []
  },
  {
   "cell_type": "code",
   "execution_count": null,
   "metadata": {},
   "outputs": [],
   "source": [
    "nldi.navigate_byloc(down,     navigation=\"pp\",\n",
    "    source=\"flowlines\",)"
   ]
  },
  {
   "cell_type": "code",
   "execution_count": null,
   "metadata": {},
   "outputs": [],
   "source": [
    "pynhd.network_resample(upf.set_crs(4326).to_crs(2226), 50)"
   ]
  },
  {
   "cell_type": "code",
   "execution_count": null,
   "metadata": {},
   "outputs": [],
   "source": [
    "import folium"
   ]
  },
  {
   "cell_type": "markdown",
   "metadata": {},
   "source": [
    "extract basin for downstream  \n",
    "find nearest node to upstream\n",
    "- get node\n",
    "- use downstream node and route to upstream node\n",
    "- get nodes in route"
   ]
  },
  {
   "cell_type": "code",
   "execution_count": null,
   "metadata": {},
   "outputs": [],
   "source": [
    "sort,route, G = pynhd.network_tools.topoogical_sort(flw.rename(columns = {'comid':'ID','tocomid':'toID'}))"
   ]
  },
  {
   "cell_type": "code",
   "execution_count": null,
   "metadata": {},
   "outputs": [],
   "source": [
    "flw.geometry.centroid"
   ]
  },
  {
   "cell_type": "code",
   "execution_count": null,
   "metadata": {},
   "outputs": [],
   "source": [
    "flw.geometry.centroid.x"
   ]
  },
  {
   "cell_type": "code",
   "execution_count": null,
   "metadata": {},
   "outputs": [],
   "source": []
  },
  {
   "cell_type": "code",
   "execution_count": null,
   "metadata": {},
   "outputs": [],
   "source": [
    "pos = flw.assign(x =flw.geometry.centroid.x, y =flw.geometry.centroid.y).set_index('comid').loc[:,['x','y']].T.to_dict()\n",
    "pos = {k:(v['x'], v['y']) for k,v in pos.items()}"
   ]
  },
  {
   "cell_type": "code",
   "execution_count": null,
   "metadata": {},
   "outputs": [],
   "source": [
    "fff = pynhd.nhdflw2nx(flw)\n",
    "\n",
    "flw.sort_values('tocomid')"
   ]
  },
  {
   "cell_type": "code",
   "execution_count": null,
   "metadata": {},
   "outputs": [],
   "source": [
    "import contextily as ctx\n",
    "import cartopy\n",
    "import cartopy.crs as ccrs"
   ]
  },
  {
   "cell_type": "code",
   "execution_count": null,
   "metadata": {},
   "outputs": [],
   "source": []
  },
  {
   "cell_type": "code",
   "execution_count": null,
   "metadata": {},
   "outputs": [],
   "source": [
    "tb = flw.to_crs(epsg=4326).total_bounds\n",
    "box = [tb[0], tb[2], tb[1], tb[3]]\n",
    "\n",
    "fig = plt.figure(figsize = (10,10))\n",
    "ax = fig.add_subplot(1, 1, 1, projection=ccrs.PlateCarree())\n",
    "\n",
    "ax.set_extent(box, crs=ccrs.PlateCarree())\n",
    "\n",
    "# Put a background image on for nice sea rendering.\n",
    "# ax.stock_img()\n",
    "\n",
    "\n",
    "\n",
    "nx.draw_networkx(pynhd.nhdflw2nx(flw.drop(62)), pos = pos,ax= ax)\n",
    "ctx.add_basemap(ax, crs = 4326)"
   ]
  },
  {
   "cell_type": "code",
   "execution_count": null,
   "metadata": {},
   "outputs": [],
   "source": [
    "G.add_node("
   ]
  },
  {
   "cell_type": "code",
   "execution_count": null,
   "metadata": {},
   "outputs": [],
   "source": []
  },
  {
   "cell_type": "code",
   "execution_count": null,
   "metadata": {},
   "outputs": [],
   "source": [
    "def near(pt, flow):\n",
    "    print(pt)\n",
    "    g = gpd.points_from_xy([pt[0]], [pt[1]])\n",
    "    gdf = gpd.GeoDataFrame([\"meas\"], columns = ['h'],geometry = g, crs = 4326).to_crs(2226)\n",
    "    \n",
    "    nearest = gpd.sjoin_nearest(gdf, flow.to_crs(2226))\n",
    "    \n",
    "    n = nearest.loc[:,'comid'].values[0]\n",
    "    print(n)\n",
    "        \n",
    "    return n, gdf\n",
    "\n",
    "def route(G, up, down):\n",
    "\n",
    "    upcom, up_df = near(up, flw)\n",
    "    dcom, down_df = near(down, flw)    \n",
    "    \n",
    "    route_df = nx.shortest_path(G,dcom, upcom)\n",
    "    \n",
    "    route_df = flw.set_index('comid').loc[route_df]\n",
    "    return route_df, up_df, down_df\n",
    "\n",
    "\n",
    "\n",
    "route_df, up_df, down_df = route(G, up, down)\n",
    "m = plot_route(route_df.reset_index(), up_df, down_df )\n",
    "m"
   ]
  },
  {
   "cell_type": "code",
   "execution_count": null,
   "metadata": {},
   "outputs": [],
   "source": [
    "def plot_route(route_df, up, down):\n",
    "    m  = route_df.loc[:,['comid','gnis_name','lengthkm','reachcode','flowdir','ftype','geometry']].explore()\n",
    "    \n",
    "\n",
    "    # up.explore(m = ax,popup = ['Top'])\n",
    "    # up.explore(m=m)\n",
    "    # down.explore(m=m)\n",
    "    folium.Marker((up.to_crs(4326).geometry.y,up.to_crs(4326).geometry.x) ).add_to(m)\n",
    "    folium.Marker((down.to_crs(4326).geometry.y,down.to_crs(4326).geometry.x) ).add_to(m)\n",
    "    # folium.Marker(up[::-1], ).add_to(ax)\n",
    "    # ax\n",
    "    # ax.scatter(down0], down[1])\n",
    "    \n",
    "    return m\n",
    "\n"
   ]
  },
  {
   "cell_type": "code",
   "execution_count": null,
   "metadata": {},
   "outputs": [],
   "source": []
  },
  {
   "cell_type": "code",
   "execution_count": null,
   "metadata": {},
   "outputs": [],
   "source": []
  },
  {
   "cell_type": "code",
   "execution_count": null,
   "metadata": {},
   "outputs": [],
   "source": [
    "pynhd.network_tools.network_resample(upf.set_crs(4326).to_crs(2226),100.)"
   ]
  },
  {
   "cell_type": "code",
   "execution_count": null,
   "metadata": {},
   "outputs": [],
   "source": [
    "dire = r'c:\\GSP\\SRP\\Seepage_Runs'\n",
    "f = os.path.join(dire, 'flow_routing.csv')\n",
    "nw = pd.read_csv(f)\n",
    "locs = gpd.read_file(r\"C:\\GSP\\srp\\Seepage_runs\\GIS\\all_obs_locs.shp\").to_crs(4326)\n",
    "nw"
   ]
  },
  {
   "cell_type": "code",
   "execution_count": null,
   "metadata": {},
   "outputs": [],
   "source": [
    "G = nx.Graph()\n",
    "\n",
    "for _,row in nw.iterrows():\n",
    "    row = row.dropna()\n",
    "    G.add_node(row['node'])\n",
    "    \n",
    "    for i in range(row.shape[0]-2):\n",
    "        i = i+1\n",
    "        print(f'from{i}')\n",
    "        G.add_edge(row['node'], row[f'from{i}'])\n"
   ]
  },
  {
   "cell_type": "code",
   "execution_count": null,
   "metadata": {},
   "outputs": [],
   "source": [
    "tb = locs.to_crs(epsg=4326).total_bounds\n",
    "box = [tb[0], tb[2], tb[1], tb[3]]\n",
    "\n",
    "fig = plt.figure(figsize = (10,10))\n",
    "ax = fig.add_subplot(1, 1, 1, projection=ccrs.PlateCarree())\n",
    "\n",
    "ax.set_extent(box, crs=ccrs.PlateCarree())\n",
    "\n",
    "pos = locs.assign(x =locs.geometry.centroid.x, y =locs.geometry.centroid.y).set_index('name').loc[:,['x','y']].T.to_dict()\n",
    "pos = {k:(v['x'], v['y']) for k,v in pos.items()}\n",
    "nx.draw_networkx(G, pos = pos)\n",
    "\n",
    "ctx.add_basemap(ax, crs = 4326)"
   ]
  },
  {
   "cell_type": "code",
   "execution_count": null,
   "metadata": {},
   "outputs": [],
   "source": []
  },
  {
   "cell_type": "code",
   "execution_count": null,
   "metadata": {},
   "outputs": [],
   "source": [
    "upcom"
   ]
  },
  {
   "cell_type": "code",
   "execution_count": null,
   "metadata": {},
   "outputs": [],
   "source": [
    "dcom"
   ]
  },
  {
   "cell_type": "code",
   "execution_count": null,
   "metadata": {},
   "outputs": [],
   "source": []
  },
  {
   "cell_type": "code",
   "execution_count": null,
   "metadata": {},
   "outputs": [],
   "source": [
    "res = pynhd.network_tools.network_resample(flw.to_crs(2226),50)"
   ]
  },
  {
   "cell_type": "code",
   "execution_count": null,
   "metadata": {},
   "outputs": [],
   "source": [
    "pynhd.topoogical_sort(flw)"
   ]
  },
  {
   "cell_type": "code",
   "execution_count": null,
   "metadata": {
    "tags": []
   },
   "outputs": [],
   "source": [
    "catchments = wd_cat.byid(\"featureid\", comids)\n",
    "\n",
    "c_local = catchments.merge(local, left_on=\"featureid\", right_index=True)\n",
    "c_acc = catchments.merge(runoff, left_on=\"featureid\", right_index=True)"
   ]
  },
  {
   "cell_type": "code",
   "execution_count": null,
   "metadata": {
    "tags": [
     "nbsphinx-thumbnail"
    ]
   },
   "outputs": [],
   "source": [
    "fig, (ax1, ax2) = plt.subplots(1, 2, figsize=(12, 8), facecolor=\"w\")\n",
    "\n",
    "cmap = \"viridis\"\n",
    "norm = plt.Normalize(vmin=c_local.CAT_RECHG.min(), vmax=c_acc.acc_CAT_RECHG.max())\n",
    "\n",
    "c_local.plot(ax=ax1, column=char, cmap=cmap, norm=norm)\n",
    "flw.plot(ax=ax1, column=\"streamorde\", cmap=\"Blues\")\n",
    "ax1.set_title(\"Groundwater Recharge (mm/yr)\")\n",
    "\n",
    "c_acc.plot(ax=ax2, column=f\"acc_{char}\", cmap=cmap, norm=norm)\n",
    "flw.plot(ax=ax2, column=\"streamorde\", cmap=\"Blues\")\n",
    "ax2.set_title(\"Accumulated Groundwater Recharge (mm/yr)\")\n",
    "\n",
    "cax = fig.add_axes(\n",
    "    [\n",
    "        ax2.get_position().x1 + 0.01,\n",
    "        ax2.get_position().y0,\n",
    "        0.02,\n",
    "        ax2.get_position().height,\n",
    "    ]\n",
    ")\n",
    "sm = plt.cm.ScalarMappable(cmap=cmap, norm=norm)\n",
    "fig.colorbar(sm, cax=cax)\n",
    "fig.savefig(\"_static/flow_accumulation.png\", bbox_inches=\"tight\", facecolor=\"w\")"
   ]
  },
  {
   "cell_type": "code",
   "execution_count": null,
   "metadata": {},
   "outputs": [],
   "source": []
  }
 ],
 "metadata": {
  "interpreter": {
   "hash": "003c82ad5971cfdf345b67bc4c483230f4144cd11e9aff06d93cf3af71d62f25"
  },
  "kernelspec": {
   "display_name": "Python 3 (ipykernel)",
   "language": "python",
   "name": "python3"
  },
  "language_info": {
   "codemirror_mode": {
    "name": "ipython",
    "version": 3
   },
   "file_extension": ".py",
   "mimetype": "text/x-python",
   "name": "python",
   "nbconvert_exporter": "python",
   "pygments_lexer": "ipython3",
   "version": "3.10.4"
  }
 },
 "nbformat": 4,
 "nbformat_minor": 4
}
