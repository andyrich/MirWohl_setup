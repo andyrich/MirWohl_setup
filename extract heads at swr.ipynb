{
 "cells": [
  {
   "cell_type": "code",
   "execution_count": null,
   "id": "4d3c46b3-d65f-4a78-ab55-e6f406167729",
   "metadata": {},
   "outputs": [],
   "source": [
    "import flopy\n",
    "import os\n",
    "import geopandas as gpd\n",
    "import matplotlib.patches as mpatches\n",
    "import matplotlib.pyplot as plt\n",
    "import geopandas as gpd\n",
    "import basic\n",
    "import contextily as ctx\n",
    "import pandas as pd\n",
    "import numpy as np\n",
    "import cartopy.crs as ccrs\n",
    "import os\n",
    "import matplotlib.pyplot as plt\n",
    "\n"
   ]
  },
  {
   "cell_type": "code",
   "execution_count": null,
   "id": "1a68a94a-27fd-484a-b33a-d37719e786f6",
   "metadata": {},
   "outputs": [],
   "source": [
    "info, swr_info, sfr_info, riv_keys_info = basic.load_params()\n",
    "\n",
    "datestart = info['start_date']\n",
    "\n",
    "name = info['name']\n",
    "\n",
    "out_folder = basic.out_folder()\n",
    "print(datestart)"
   ]
  },
  {
   "cell_type": "code",
   "execution_count": null,
   "id": "cb190a79-304f-47c2-89be-b415b47139a2",
   "metadata": {},
   "outputs": [],
   "source": [
    "m = basic.load_model()"
   ]
  },
  {
   "cell_type": "code",
   "execution_count": null,
   "id": "846ad8d6-6302-485b-9da6-30abf28783b3",
   "metadata": {},
   "outputs": [],
   "source": [
    "swr = gpd.read_file(\"GIS/SWR_Reaches.shp\")"
   ]
  },
  {
   "cell_type": "code",
   "execution_count": null,
   "id": "56e32dc2-dd0b-4fb3-9b05-670f6bc77452",
   "metadata": {},
   "outputs": [],
   "source": []
  },
  {
   "cell_type": "code",
   "execution_count": null,
   "id": "49db4d7b-cd59-4e23-a8eb-b06b447ca63e",
   "metadata": {},
   "outputs": [],
   "source": [
    "srt = m.bas6.strt.array[0]\n",
    "top = m.dis.top.array\n",
    "bot = m.dis.botm.array[0]\n",
    "plt.imshow(srt)"
   ]
  },
  {
   "cell_type": "code",
   "execution_count": null,
   "id": "c496245e-c9eb-4454-a462-6c8e0b9274a0",
   "metadata": {},
   "outputs": [],
   "source": [
    "swr.loc[:,'starting_heads'] = srt[swr.loc[:,'i'], swr.loc[:,'j']]\n",
    "swr.loc[:,'top'] = top[swr.loc[:,'i'], swr.loc[:,'j']]\n",
    "swr.loc[:,'bottom'] = bot[swr.loc[:,'i'], swr.loc[:,'j']]\n",
    "hds, hdsall = basic.get_heads(m)\n",
    "\n",
    "swr.loc[:,'final_head'] = hds[0][swr.loc[:,'i'], swr.loc[:,'j']]"
   ]
  },
  {
   "cell_type": "code",
   "execution_count": null,
   "id": "3ec36950-cf37-4b9c-b94b-aad17177eb1f",
   "metadata": {},
   "outputs": [],
   "source": [
    "srt_stage = pd.read_csv(os.path.join('RR_2022/inputs/start_stage.tab'), sep = '\\t',header = None)\n",
    "srt_stage.columns = ['rno','start_stage']\n",
    "\n",
    "if srt_stage.at[0,'rno']==1:\n",
    "    pass\n",
    "else:\n",
    "    srt_stage = srt_stage.loc[1:]\n",
    "    srt_stage = srt_stage.astype({'rno':int,'start_stage':np.float64})\n",
    "srt_stage.dtypes"
   ]
  },
  {
   "cell_type": "code",
   "execution_count": null,
   "id": "79aa79e4-0d7b-4f4b-9f88-6248f2c07e0e",
   "metadata": {},
   "outputs": [],
   "source": [
    "min_elev = pd.read_csv(os.path.join('RR_2022/inputs/stream_thalwegs.txt')).set_index('reach')\n",
    "min_elev.head(1)"
   ]
  },
  {
   "cell_type": "code",
   "execution_count": null,
   "id": "ce753f32-8c0b-4ab1-b058-b23cfd612dc5",
   "metadata": {},
   "outputs": [],
   "source": [
    "ax = pd.DataFrame(swr.set_index('rno').loc[:,['starting_heads']]).plot(figsize = (10,10))\n",
    "ax = pd.DataFrame(srt_stage.set_index('rno').loc[:,['start_stage']]).plot(ax = ax, color = 'green', ls = '-',lw = 3)\n",
    "ax = pd.DataFrame(swr.set_index('rno').loc[:,['top']]).plot(ax = ax)\n",
    "ax = pd.DataFrame(swr.set_index('rno').loc[:,['bottom']]).plot(ax = ax)\n",
    "ax = pd.DataFrame(swr.set_index('rno').loc[:,['final_head']]).plot(ax = ax, color = 'k',lw = 3)\n",
    "min_elev.plot(ax = ax, color = 'r', ls = '--',lw = 3)\n",
    "\n",
    "plt.savefig(os.path.join(out_folder, 'star_stage.png'), dpi = 250)"
   ]
  },
  {
   "cell_type": "code",
   "execution_count": null,
   "id": "c947903d-93cc-43b8-b902-1411872f253d",
   "metadata": {},
   "outputs": [],
   "source": []
  },
  {
   "cell_type": "code",
   "execution_count": null,
   "id": "7374b40a-d18c-4542-9c4e-3ec4fb681ed1",
   "metadata": {},
   "outputs": [],
   "source": []
  },
  {
   "cell_type": "code",
   "execution_count": null,
   "id": "df1e9af9-a909-469f-b5e9-ceb203c477e3",
   "metadata": {},
   "outputs": [],
   "source": []
  },
  {
   "cell_type": "code",
   "execution_count": null,
   "id": "abec6007-7aea-4fed-9c1c-3697c6131b9d",
   "metadata": {},
   "outputs": [],
   "source": []
  },
  {
   "cell_type": "code",
   "execution_count": null,
   "id": "666bbebc-64ec-4f08-a488-6cf4b972cf9e",
   "metadata": {},
   "outputs": [],
   "source": []
  },
  {
   "cell_type": "code",
   "execution_count": null,
   "id": "c12e9684-631c-461f-abd9-681be312a78f",
   "metadata": {},
   "outputs": [],
   "source": []
  }
 ],
 "metadata": {
  "kernelspec": {
   "display_name": "Python 3 (ipykernel)",
   "language": "python",
   "name": "python3"
  },
  "language_info": {
   "codemirror_mode": {
    "name": "ipython",
    "version": 3
   },
   "file_extension": ".py",
   "mimetype": "text/x-python",
   "name": "python",
   "nbconvert_exporter": "python",
   "pygments_lexer": "ipython3",
   "version": "3.10.4"
  }
 },
 "nbformat": 4,
 "nbformat_minor": 5
}
