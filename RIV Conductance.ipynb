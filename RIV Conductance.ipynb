{
 "cells": [
  {
   "cell_type": "code",
   "execution_count": null,
   "id": "7529d3bf-3709-415f-aed4-814e5a516966",
   "metadata": {
    "tags": []
   },
   "outputs": [],
   "source": [
    "import pandas as pd\n",
    "import os"
   ]
  },
  {
   "cell_type": "code",
   "execution_count": null,
   "id": "e42ed24e-c9ce-4472-94c3-87b43184427c",
   "metadata": {
    "tags": []
   },
   "outputs": [],
   "source": [
    "import shutil"
   ]
  },
  {
   "cell_type": "code",
   "execution_count": null,
   "id": "9d908a66-a444-4d66-8d67-2ae0bb27a003",
   "metadata": {
    "tags": []
   },
   "outputs": [],
   "source": [
    "n = 2853\n",
    "nrows = 76\n",
    "# with open(r\"C:\\modeling\\MirabelWohler\\temp\\RIVnoSWR_v1\\SWR_riv_output_filt.riv\", 'r') as out:\n",
    "#     out.write('')\n",
    "# \"C:\\modeling\\MirabelWohler\\RR_2022\\SWR_riv_output.riv\"\n",
    "os.remove(\"C:\\modeling\\MirabelWohler\\RR_2022\\SWR_riv_output_filt.riv\")\n",
    "with open(r\"C:\\modeling\\MirabelWohler\\RR_2022\\SWR_riv_output.riv\", 'r') as inputs:\n",
    "    with open(r\"C:\\modeling\\MirabelWohler\\RR_2022\\SWR_riv_output_filt.riv\", 'a') as out:\n",
    "        for i in range(2):\n",
    "            out.write(inputs.readline())\n",
    "        for i in range(n):\n",
    "            out.write(inputs.readline())\n",
    "            # df = pd.read_csv(inputs)\n",
    "\n",
    "            df = [inputs.readline().strip().split() for  i in range(nrows)]\n",
    "            df = pd.DataFrame(df)\n",
    "            df = df.astype({4:float})\n",
    "            # c = df.iloc[:,4]>0.1\n",
    "            df.iloc[:,4] = df.iloc[:,4] * .5\n",
    "            # print(df)\n",
    "            df.to_csv(out, index = False, header = False, float_format =\"%.5f\",  lineterminator = '\\n')"
   ]
  },
  {
   "cell_type": "code",
   "execution_count": null,
   "id": "3e6ec2ba-651f-4b91-a75d-0374d1aa71af",
   "metadata": {},
   "outputs": [],
   "source": []
  }
 ],
 "metadata": {
  "kernelspec": {
   "display_name": "Python 3 (ipykernel)",
   "language": "python",
   "name": "python3"
  },
  "language_info": {
   "codemirror_mode": {
    "name": "ipython",
    "version": 3
   },
   "file_extension": ".py",
   "mimetype": "text/x-python",
   "name": "python",
   "nbconvert_exporter": "python",
   "pygments_lexer": "ipython3",
   "version": "3.9.16"
  }
 },
 "nbformat": 4,
 "nbformat_minor": 5
}
