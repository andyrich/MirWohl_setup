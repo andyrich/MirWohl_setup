{
 "cells": [
  {
   "cell_type": "code",
   "execution_count": null,
   "id": "08b2052c-7d48-4051-a5c5-ac3d8fa5de9b",
   "metadata": {},
   "outputs": [],
   "source": [
    "import flopy\n",
    "import os\n",
    "import geopandas as gpd\n",
    "import matplotlib.patches as mpatches\n",
    "import matplotlib.pyplot as plt\n",
    "import geopandas as gpd\n",
    "import basic\n",
    "import contextily as ctx\n",
    "import pandas as pd\n",
    "import numpy as np\n",
    "import cartopy.crs as ccrs\n",
    "import os\n",
    "import matplotlib.pyplot as plt\n",
    "import pathlib\n",
    "import conda_scripts.plot_help as ph\n",
    "from scipy.spatial.distance import pdist, squareform\n",
    "\n",
    "\n",
    "import flopy.utils.binaryfile as bf\n",
    "\n",
    "import warnings"
   ]
  },
  {
   "cell_type": "code",
   "execution_count": null,
   "id": "b462763f-6c3b-41be-aaf6-5c93d5214d05",
   "metadata": {},
   "outputs": [],
   "source": []
  },
  {
   "cell_type": "code",
   "execution_count": null,
   "id": "e989407b-bcfa-477b-8f07-23190ed9c521",
   "metadata": {},
   "outputs": [],
   "source": [
    "info, swr_info, sfr_info, riv_keys_info = basic.load_params('June2016')\n",
    "\n",
    "datestart = info['start_date']\n",
    "\n",
    "name = info['name']\n",
    "\n",
    "out_folder = basic.out_folder('June2016')\n",
    "\n",
    "\n",
    "print(datestart)\n",
    "print(out_folder)"
   ]
  },
  {
   "cell_type": "code",
   "execution_count": null,
   "id": "7ff62dd4-069a-4417-bd90-4fe4101de56c",
   "metadata": {},
   "outputs": [],
   "source": [
    "import conda_scripts.arich_functions as af"
   ]
  },
  {
   "cell_type": "code",
   "execution_count": null,
   "id": "0d282a56-5db7-44af-b0c7-037ab19c1298",
   "metadata": {},
   "outputs": [],
   "source": [
    "basic"
   ]
  },
  {
   "cell_type": "code",
   "execution_count": null,
   "id": "6351f7f6-c390-4581-b9d6-ff7f3e28649d",
   "metadata": {},
   "outputs": [],
   "source": []
  },
  {
   "cell_type": "code",
   "execution_count": null,
   "id": "4713bbf2-eb4f-44b4-9cde-c96374138830",
   "metadata": {},
   "outputs": [],
   "source": []
  },
  {
   "cell_type": "code",
   "execution_count": null,
   "id": "d6cd0da4-f262-441e-937a-ff2465e03fa7",
   "metadata": {},
   "outputs": [],
   "source": []
  },
  {
   "cell_type": "code",
   "execution_count": null,
   "id": "85b1e612-4f34-4d09-919a-d25e8e62de7e",
   "metadata": {},
   "outputs": [],
   "source": []
  },
  {
   "cell_type": "code",
   "execution_count": null,
   "id": "1610c134-afd0-4285-926e-99be04e61c01",
   "metadata": {},
   "outputs": [],
   "source": [
    "grid = gpd.read_file(\"GIS/grid.shp\")\n"
   ]
  },
  {
   "cell_type": "code",
   "execution_count": null,
   "id": "d456b42a-f4cf-4076-a97e-1b411becd79e",
   "metadata": {},
   "outputs": [],
   "source": [
    "m = basic.load_model()\n"
   ]
  },
  {
   "cell_type": "code",
   "execution_count": null,
   "id": "a9cf7590-f0ba-4e80-8cda-205c4c5de6e7",
   "metadata": {},
   "outputs": [],
   "source": [
    "routing = gpd.read_file('GIS/nhd_hr_demo_sfr_routing.shp')"
   ]
  },
  {
   "cell_type": "code",
   "execution_count": null,
   "id": "326bd902-0887-4334-847e-b574abf2aec3",
   "metadata": {},
   "outputs": [],
   "source": [
    "sfr = gpd.read_file('GIS/nhd_hr_demo_sfr_cells.shp')\n",
    "sfr = sfr.query(\"name=='Russian River'\")\n",
    "\n",
    "fig, ax  = basic.map_river()\n",
    "\n",
    "sfr.plot(ax = ax, color = 'r',zorder = 100)"
   ]
  },
  {
   "cell_type": "code",
   "execution_count": null,
   "id": "e6583f42-53bd-43de-a2b9-1726b91b0dd6",
   "metadata": {},
   "outputs": [],
   "source": [
    "# bottom = 765\n"
   ]
  },
  {
   "cell_type": "code",
   "execution_count": null,
   "id": "cab322dd-4ab6-4965-ae6f-225d87d6839a",
   "metadata": {},
   "outputs": [],
   "source": [
    "# kper = None"
   ]
  },
  {
   "cell_type": "code",
   "execution_count": null,
   "id": "8a421d44-b83e-4684-9008-ac6b45b683e3",
   "metadata": {},
   "outputs": [],
   "source": [
    "# def load_params():\n",
    "    \n",
    "#     import json\n",
    "\n",
    "#     with open(\"model_params.txt\") as json_data_file:\n",
    "#         data = json.load(json_data_file)\n",
    "    \n",
    "#     info = data['calibration']\n",
    "#     swr = data['calibration']['parameters']['SWR']\n",
    "#     sfr = data['calibration']['parameters']['SFR']\n",
    "#     riv_keys = data['riv_keys']\n",
    "    \n",
    "#     return info, swr, sfr, riv_keys\n",
    "\n",
    "\n",
    "\n",
    "info, swr_info,sfr_info, riv_keys = basic.load_params()\n",
    "riv_keys"
   ]
  },
  {
   "cell_type": "code",
   "execution_count": null,
   "id": "f650f1d2-0634-439b-a831-985f457b7bdf",
   "metadata": {},
   "outputs": [],
   "source": [
    "swr_info"
   ]
  },
  {
   "cell_type": "code",
   "execution_count": null,
   "id": "cefe6e3d-9f22-4a00-b4cb-dcb4349c417b",
   "metadata": {},
   "outputs": [],
   "source": [
    "IGEOTYPE = swr_info[\"IGEOTYPE\"] \n",
    "IGCNDOP = swr_info[\"IGCNDOP\" ]\n",
    "GMANNING = swr_info[\"GMANNING\" ]   \n",
    "LEAKANCE = swr_info[\"LEAKANCE\"]\n",
    "getextd = swr_info[\"getextd\"] \n",
    "bottom = swr_info['dam_swr_rno']\n",
    "reach_min = swr_info[\"reach_main\"]\n",
    "IROUTETYPE = swr_info[\"IROUTETYPE\"]\n",
    "use_average_reach_len = swr_info[\"use_average_reach_len\"]\n",
    "use_thalweg = swr_info['use_thalweg']\n",
    "kper = None if swr_info[\"kper\"].lower()=='none' else swr_info[\"kper\"]\n",
    "SWR_processor = swr_info[\"SWR_processor\"]\n",
    "rain = swr_info['rain']\n",
    "evap = swr_info['evap']\n",
    "\n",
    "kper"
   ]
  },
  {
   "cell_type": "code",
   "execution_count": null,
   "id": "3574a612-5d1a-4aec-a901-72c9cbefbb17",
   "metadata": {},
   "outputs": [],
   "source": []
  },
  {
   "cell_type": "code",
   "execution_count": null,
   "id": "e8c3f8e2-c779-4fd9-bdc6-fd74d2a69863",
   "metadata": {},
   "outputs": [],
   "source": [
    "# Function to find adjacent\n",
    "# elements in List\n",
    "def findAdjacentElements(index, test_list):\n",
    "    res = []\n",
    "    for idx, ele in enumerate(test_list):\n",
    "    # for idx, ele in zip(index, test_list):\n",
    "  \n",
    "        # Checking for all cases to append\n",
    "        if idx == 0:\n",
    "            res.append((1, test_list[idx + 1]-1))\n",
    "        elif idx == len(test_list) - 1:\n",
    "            res.append((1, test_list[idx - 1]-1))\n",
    "        else:\n",
    "            res.append((2, test_list[idx - 1]-1, test_list[idx + 1]-1))\n",
    "    return dict(zip(index, res))\n",
    "\n",
    "def find_route(sfr, bottom, n = 10, reach_min = 578, IROUTETYPE  = 4, use_average_reach_len = False ):\n",
    "    if reach_min is None:\n",
    "        reach_min = bottom-n\n",
    "    print(f'\\nselecting reaches:\\t{bottom} to {reach_min}')\n",
    "    \n",
    "    sfr = sfr.query(f\"rno<={bottom} & rno>={reach_min} \")\n",
    "    \n",
    "    print('dropping duplicates')\n",
    "    sh = sfr.shape\n",
    "    sfr = sfr.drop_duplicates(['k','i','j'])\n",
    "    print(f'\\nold length: {sh[0]}\\nnew length: {sfr.shape[0]}\\n')\n",
    "    \n",
    "    sfr = sfr.sort_values('rno')\n",
    "    \n",
    "    min_r = sfr.rno.min() - 1 # offset to get reach 1 \n",
    "    sfr.loc[:,'rno_og'] = sfr.loc[:,'rno'].copy()\n",
    "    sfr.loc[:,'rno'] = np.arange(1, sfr.shape[0]+1)\n",
    "    sfr.loc[:,'outreach'] = np.arange(2, sfr.shape[0]+2) #sfr.loc[:,'rno'].shift(-1, fill_value=-999)\n",
    "    # sfr.loc[:,'rno'] =  sfr.loc[:,'rno'] - min_r\n",
    "    # sfr.loc[:,'outreach'] =  sfr.loc[:,'outreach'] - min_r\n",
    "    sfr.loc[:,'ieqn'] = IROUTETYPE \n",
    "    sfr.loc[:,'irgnum'] = sfr.loc[:,'rno']\n",
    "    sfr.loc[:,'krch'] = 1 # layer 1\n",
    "    sfr.loc[:,'IRCH'] = sfr.loc[:,'i']+1\n",
    "    sfr.loc[:,'JRCH'] = sfr.loc[:,'j']+1\n",
    "    \n",
    "    # reach location data\n",
    "    #IREACH IEQN IRGNUM KRCH   IRCH JRCH   RLEN\n",
    "       # 1    4     01    1     161  62  304.8\n",
    "       # 2    4     02    1     162  62  304.8\n",
    "       # 3    4     03    1     163  61  304.8\n",
    "       # 4    4     04    1     164  61  304.8\n",
    "       # 5    4     05    1     165  61  304.8\n",
    "    reach_loc = sfr.loc[:,['rno','ieqn', 'irgnum', 'krch', 'IRCH', 'JRCH', 'rchlen' ]]\n",
    "    \n",
    "    if use_average_reach_len:\n",
    "        warnings.warn('\\nusing average reach lengths, not actual reach lengths\\n'*3)\n",
    "        reach_loc.loc[:,'rchlen'] = reach_loc.loc[:,'rchlen'].mean()\n",
    "    \n",
    "    rout = findAdjacentElements(sfr.loc[:,'rno'].values, sfr.loc[:,'outreach'].values, )\n",
    "        \n",
    "    return sfr, reach_loc, rout\n",
    "\n",
    "def write_reach_connect(rout):\n",
    "    with open('RR_2022/inputs/rout.txt','w') as r:\n",
    "        for key, value in rout.items():\n",
    "            v = '    '.join([str(v) for v in value])\n",
    "            r.write(f\"{key}   {v}\\n\")\n",
    "            \n",
    "def write_reach_loc_dat(sfr_filt):\n",
    "    sfr_filt.to_csv('RR_2022/inputs/reach_loc.txt', sep = ' ', index = False, header = False)\n",
    "\n",
    "def write_stress_period(sfr_filt):\n",
    "    '''\n",
    "      # DATASET 5 - STRESS PERIOD 1\n",
    "    # ITMP IRDBND IRDRAI IRDEVP IRDLIN IRDGEO IRDSTR IRDSTG IPTFLG [IRDAUX]\n",
    "     1     5    0     0       1     5      1     5      1      # 5  \n",
    "    \n",
    "    '''\n",
    "\n",
    "    n = sfr_filt.shape[0]\n",
    "    with open(\"RR_2022/inputs/stress_period_data.txt\",'w') as sp:\n",
    "        sp.write(\"# DATASET 5 - STRESS PERIOD\\n\")\n",
    "        sp.write( \"# ITMP IRDBND IRDRAI IRDEVP IRDLIN IRDGEO IRDSTR IRDSTG IPTFLG [IRDAUX]\\n\")\n",
    "        sp.write(f\"     1     {n}    0     0       1     {n}      1     {n}      1      # 5\")\n",
    "        \n",
    "def write_dataset_6(sfr_filt):\n",
    "        with open('RR_2022/inputs/dataset6.txt','w') as r:\n",
    "            for i in sfr_filt.loc[:,'rno']:\n",
    "                r.write(f\"{i}  1\\n\")\n",
    "    \n",
    "def write_dataset_evap(sfr_filt,evap =0.000):\n",
    "    sfr_filt.loc[:,'evap'] = evap\n",
    "    # sfr_filt.loc[:,['rno','evap']]\n",
    "    sfr_filt.loc[:,['rno','evap']].rename(columns = {'rno':'#rno'}).to_csv('RR_2022/inputs/evap.tab', sep = ' ', index = False)\n",
    "    \n",
    "def write_dataset_rain(sfr_filt,rain =0.000):\n",
    "    sfr_filt.loc[:,'rain'] = rain\n",
    "    # sfr_filt.loc[:,['rno','evap']]\n",
    "    sfr_filt.loc[:,['rno','rain']].rename(columns = {'rno':'#rno'}).to_csv('RR_2022/inputs/rain.tab', sep = ' ', index = False)\n",
    "    \n",
    "def write_dataset_10(sfr_filt, shift = 0):\n",
    "    # DATASET 10 - GEOMETRY ASSIGNMENT DATA\n",
    "    sfr_filt.loc[:,'IGMODRCH'] = sfr_filt.loc[:,'rno']\n",
    "    sfr_filt.loc[:,'IGEONUMR'] = sfr_filt.loc[:,'rno']\n",
    "    sfr_filt.loc[:,'GZSHIFT'] = shift\n",
    "    #IGMODRCH IGEONUMR GZSHIFT \n",
    "    sfr_filt.loc[:,['IGMODRCH','IGEONUMR','GZSHIFT' ]].rename(columns = {\"IGMODRCH\":\"#IGMODRCH\"}).to_csv('RR_2022/inputs/dataset_10.txt', sep = ' ', index = False)\n",
    "    \n",
    "\n",
    "    \n",
    "def write_dataset_14a(sfr_filt, m, shift = 5):\n",
    "    bot = m.dis.top\n",
    "    sfr_filt.loc[:,'top'] = bot[sfr_filt.loc[:,'i'], sfr_filt.loc[:,'j']] + shift\n",
    "    \n",
    "    # print(sfr_filt.loc[:,'top'])\n",
    "    sfr_filt.loc[:,['rno', 'top']].to_csv('RR_2022/inputs/dataset_14a.txt', sep = ' ', index = False)\n",
    "        \n",
    "        \n",
    "def write_start_stage(sfr_filt, stage_shift_from_mod_top = .5, use_thalweg = True, kper = None):\n",
    "    '''\n",
    "    uses ending heads of last model run to create new starting heads\n",
    "    '''    \n",
    "    path = pathlib.Path(m.model_ws, 'Results', 'ISWRPSTG.dat')\n",
    "    # path = os.path.join\n",
    "    if path.exists() and (os.path.getsize(path)>1000):\n",
    "        ISWRPSTG = pd.read_csv(path).rename(columns = lambda x: x.strip())\n",
    "        ISWRPSTG = ISWRPSTG.set_index(['TOTIME','SWRDT','KPER','KSTP','KSWR'])   \n",
    "        \n",
    "        if kper is not None:\n",
    "            filt = f\"KPER=={kper}\"\n",
    "            print(f'selecting starting heads with {filt}')\n",
    "            ISWRPSTG = ISWRPSTG.query(filt)\n",
    "        \n",
    "        endh= ISWRPSTG.tail().mean().dropna().to_frame('endheads')\n",
    "    else:\n",
    "        class obj:\n",
    "            def __init__(self):\n",
    "                self.shape = [0,0]\n",
    "        \n",
    "        endh = obj()\n",
    "        \n",
    "    \n",
    "    if endh.shape[0] == sfr_filt.shape[0] and not use_thalweg:\n",
    "        print('using ending stage values from previous run')\n",
    "        endh.insert(0,'reach', value  = np.arange(endh.shape[0]) + 1 )\n",
    "        # display(endh.head())\n",
    "        endh.rename(columns = {'reach':'#rno'}).to_csv('RR_2022/inputs/start_stage.tab', sep = '\\t', index = False)\n",
    "        return endh\n",
    "    else:\n",
    "        print('using stream thalwegs')\n",
    "        df = pd.read_csv(os.path.join('RR_2022/inputs/stream_thalwegs.txt'))\n",
    "        df.loc[:,'thalwegs'] = df.loc[:,'thalweg']+stage_shift_from_mod_top\n",
    "        print(f'using thalweg + {stage_shift_from_mod_top:.2f}ft for each reach starting stage')\n",
    "\n",
    "        df.loc[:,['reach','thalweg']].rename(columns = {'reach':'#rno'}).to_csv('RR_2022/inputs/start_stage.tab', sep = '\\t', index = False)\n",
    "        return df.loc[:,['reach','thalweg']].rename(columns = {'reach':'#rno'})\n",
    "        \n",
    "def plot_swr(sfr_filt):\n",
    "    fig,ax = plt.subplots()\n",
    "    \n",
    "    ax.plot(sfr_filt.rno, sfr_filt.top)\n",
    "    \n",
    "    roll = sfr_filt.set_index('rno').loc[:,'top'].rolling(20,min_periods = 0).min()\n",
    "    # display(roll)\n",
    "    ax.plot(roll.index, roll.values)\n",
    "    \n",
    "    \n",
    "# reach_min = 578\n",
    "    # bottom, n = 10, reach_min = 578, IROUTETYPE  = 4,    \n",
    "sfr_filt, reach_loc, rout = find_route(sfr, \n",
    "                                       bottom, \n",
    "                                       n = None, \n",
    "                                       reach_min = reach_min,\n",
    "                                       IROUTETYPE = IROUTETYPE, \n",
    "                                       use_average_reach_len=use_average_reach_len)\n",
    "\n",
    "print(sfr_filt.shape)\n",
    "\n",
    "write_reach_connect(rout)\n",
    "\n",
    "write_reach_loc_dat(reach_loc)\n",
    "\n",
    "write_stress_period(sfr_filt)\n",
    "\n",
    "write_dataset_6(sfr_filt)\n",
    "\n",
    "write_dataset_evap(sfr_filt,evap)\n",
    "write_dataset_rain(sfr_filt,rain)\n",
    "\n",
    "write_dataset_10(sfr_filt)\n",
    "\n",
    "\n",
    "write_dataset_14a(sfr_filt, m)\n",
    "\n",
    "\n",
    "\n",
    "\n",
    "    \n",
    "plot_swr(sfr_filt)\n",
    "\n",
    "# reach_loc"
   ]
  },
  {
   "cell_type": "code",
   "execution_count": null,
   "id": "ea22ffbb-fe8c-4f15-886c-63cd721e6677",
   "metadata": {},
   "outputs": [],
   "source": [
    "endh = write_start_stage(sfr_filt, stage_shift_from_mod_top =.51, use_thalweg = use_thalweg, kper = 10)\n",
    "\n",
    "ax = endh.set_index('reach').rename(columns = {'endheads':'starting stage'}).plot(title = 'starting stage', marker = '.', figsize = (10,4))\n",
    "ax.grid(True)\n",
    "plt.savefig(os.path.join(out_folder, 'star_stage'))"
   ]
  },
  {
   "cell_type": "code",
   "execution_count": null,
   "id": "95dea25e-fff8-4330-8993-e8a93afa3d8b",
   "metadata": {},
   "outputs": [],
   "source": [
    "\n"
   ]
  },
  {
   "cell_type": "markdown",
   "id": "5c27c11d-8309-4428-afc7-4c66a872a21e",
   "metadata": {},
   "source": [
    "# use model top as starting heads"
   ]
  },
  {
   "cell_type": "code",
   "execution_count": null,
   "id": "f57308ab-efb1-4cdd-a677-95ef9ce52209",
   "metadata": {},
   "outputs": [],
   "source": []
  },
  {
   "cell_type": "code",
   "execution_count": null,
   "id": "fa22619a-e4a4-4328-9035-fbf2269626cc",
   "metadata": {},
   "outputs": [],
   "source": [
    "def set_top_as_start():\n",
    "    hdsobj = bf.HeadFile(os.path.join(m.model_ws, 'Results','RRbin.hds'))\n",
    "    hds = hdsobj.get_data(kstpkper=hdsobj.get_kstpkper()[-1])\n",
    "    hds.shape\n",
    "\n",
    "    fig, axes = plt.subplots(1, 3, figsize=(20, 8.5), subplot_kw=dict(projection=ccrs.epsg(2226)))\n",
    "    axes = axes.flat\n",
    "    grid = m.modelgrid\n",
    "    for i, hdslayer in enumerate([m.dis.top.array, m.dis.top.array,m.dis.top.array]):\n",
    "\n",
    "        filename = os.path.join(m.model_ws, 'inputs', f\"start_head_lay{i+1}.txt\")\n",
    "        np.savetxt(filename, hdslayer, fmt = '%.3f', delimiter = ',')\n",
    "\n",
    "        mapview = flopy.plot.PlotMapView(m,ax = axes[i])\n",
    "        linecollection = mapview.plot_grid(linewidth = .3)\n",
    "\n",
    "        quadmesh = mapview.plot_array(hdslayer, vmax = 80,vmin  =20,cmap = 'gist_ncar_r')\n",
    "        ctx.add_basemap(axes[i], crs = 2226)\n",
    "        mapview.plot_ibound()\n",
    "        # ax.set_title(f\"layer {lay+1} elevation (feet)\")\n",
    "        # Hide X and Y axes tick marks\n",
    "        axes[i].set_xticks([])\n",
    "        axes[i].set_yticks([])\n",
    "        basic.set_bounds(axes[i], 'mirabel')\n",
    "\n",
    "        # hdslayer[hdslayer==-999] = np.nan\n",
    "        # im = axes[i].imshow(hdslayer, vmin=0, vmax=75)\n",
    "        axes[i].set_title(\"Layer {}\".format(i + 1))\n",
    "        ctr = axes[i].contour(hdslayer, colors=\"k\", linewidths=0.5, vmin = 0, vmax = 75)\n",
    "\n",
    "        # export head rasters\n",
    "        # (GeoTiff export requires the rasterio package; for ascii grids, just change the extension to *.asc)\n",
    "        flopy.export.utils.export_array(\n",
    "            grid, \"Output_heads/heads{}.tif\".format(i + 1), hdslayer\n",
    "        )\n",
    "\n",
    "        # export head contours to a shapefile\n",
    "        flopy.export.utils.export_array_contours(\n",
    "            grid, \"Output_heads/heads{}.shp\".format(i + 1), hdslayer\n",
    "        )\n",
    "\n",
    "    # fig.delaxes(axes[-1])\n",
    "    fig.subplots_adjust(right=0.8)\n",
    "    cbar_ax = fig.add_axes([0.85, 0.15, 0.03, 0.7])\n",
    "    fig.colorbar(quadmesh, cax=cbar_ax, label=\"Head\");\n"
   ]
  },
  {
   "cell_type": "markdown",
   "id": "0c0eac6b-e994-4def-b742-abc816d7a98d",
   "metadata": {},
   "source": [
    "# set ending heads as starting heads for model..."
   ]
  },
  {
   "cell_type": "code",
   "execution_count": null,
   "id": "ae633ec7-b5ba-4805-b2f4-e3b4fa334278",
   "metadata": {},
   "outputs": [],
   "source": [
    "vmax = 60\n",
    "vmin  =20"
   ]
  },
  {
   "cell_type": "code",
   "execution_count": null,
   "id": "d48f49df-9a78-4740-b44f-d04539653220",
   "metadata": {},
   "outputs": [],
   "source": []
  },
  {
   "cell_type": "code",
   "execution_count": null,
   "id": "881f0ad3-d3b8-4f63-bfe3-bf7bb69adb3d",
   "metadata": {},
   "outputs": [],
   "source": [
    "\n",
    "def set_starting_heads(kper = None):\n",
    "    hdsobj = bf.HeadFile(os.path.join(m.model_ws, 'Results','RRbin.hds'))\n",
    "    if kper is None:\n",
    "        hds = hdsobj.get_data(kstpkper=hdsobj.get_kstpkper()[-1])\n",
    "    else:\n",
    "        kx = hdsobj.get_kstpkper()[kper]\n",
    "        print(f\"using stress period: {kx[1]}, ts {kx[0]} as starting heads\")\n",
    "        hds = hdsobj.get_data(kstpkper=kx)\n",
    "    hds.shape\n",
    "\n",
    "    fig, axes = plt.subplots(1, 3, figsize=(20, 8.5), subplot_kw=dict(projection=ccrs.epsg(2226)))\n",
    "    axes = axes.flat\n",
    "    grid = m.modelgrid\n",
    "    for i, hdslayer in enumerate(hds):\n",
    "\n",
    "        # if i==0:\n",
    "        #     warnings.warn('setting thalweg elevations as starting heads')\n",
    "        #     hdslayer[min_elev.loc[:,'i'],min_elev.loc[:,'j']] = min_elev.loc[:,'thalweg']\n",
    "\n",
    "        filename = os.path.join(m.model_ws, 'inputs', f\"start_head_lay{i+1}.txt\")\n",
    "        np.savetxt(filename, hdslayer, fmt = '%.3f', delimiter = ',')\n",
    "\n",
    "        mapview = flopy.plot.PlotMapView(m,ax = axes[i])\n",
    "        linecollection = mapview.plot_grid(linewidth = .3)\n",
    "\n",
    "        quadmesh = mapview.plot_array(hdslayer, vmax = vmax,vmin  =vmin, cmap = 'gist_ncar_r')\n",
    "        ctx.add_basemap(axes[i], crs = 2226)\n",
    "        # ax.set_title(f\"layer {lay+1} elevation (feet)\")\n",
    "        # Hide X and Y axes tick marks\n",
    "        axes[i].set_xticks([])\n",
    "        axes[i].set_yticks([])\n",
    "        basic.set_bounds(axes[i], 'mirabel')\n",
    "\n",
    "        sfr_filt.plot(ax = axes[i], facecolor = \"None\")\n",
    "\n",
    "        # hdslayer[hdslayer==-999] = np.nan\n",
    "        # im = axes[i].imshow(hdslayer, vmin=0, vmax=75)\n",
    "        axes[i].set_title(\"Layer {}\".format(i + 1))\n",
    "        # ctr = axes[i].contour(hdslayer, colors=\"k\", linewidths=0.5, vmax = 80,vmin  =20,cmap = 'gist_ncar_r')\n",
    "\n",
    "        # export head rasters\n",
    "        # (GeoTiff export requires the rasterio package; for ascii grids, just change the extension to *.asc)\n",
    "        flopy.export.utils.export_array(\n",
    "            grid, \"Output_heads/heads{}.tif\".format(i + 1), hdslayer\n",
    "        )\n",
    "\n",
    "        # export head contours to a shapefile\n",
    "        flopy.export.utils.export_array_contours(\n",
    "            grid, \"Output_heads/heads{}.shp\".format(i + 1), hdslayer\n",
    "        )\n",
    "\n",
    "    # fig.delaxes(axes[-1])\n",
    "    fig.subplots_adjust(right=0.8)\n",
    "    cbar_ax = fig.add_axes([0.85, 0.15, 0.03, 0.7])\n",
    "    fig.colorbar(quadmesh, cax=cbar_ax, label=\"Head\")\n",
    "\n",
    "    \n",
    "# set_starting_heads(20)"
   ]
  },
  {
   "cell_type": "markdown",
   "id": "035d668e-74bd-4332-b66c-a1bfe9d9d73a",
   "metadata": {},
   "source": [
    "# change starting heads as starting heads for model...\n",
    "\n",
    "\n",
    "## burning in the streambed thalweg"
   ]
  },
  {
   "cell_type": "code",
   "execution_count": null,
   "id": "fd3eb931-2e32-475d-b0fe-9e6ff2be9c51",
   "metadata": {},
   "outputs": [],
   "source": []
  },
  {
   "cell_type": "code",
   "execution_count": null,
   "id": "5385bd54-4fe8-4aba-9cf3-ed3d5bd564b7",
   "metadata": {},
   "outputs": [],
   "source": [
    "def set_start_with_burn():\n",
    "    \n",
    "    swr = gpd.read_file(\"GIS/SWR_Reaches.shp\")\n",
    "    min_elev = pd.read_csv(os.path.join('RR_2022/inputs/stream_thalwegs.txt')).set_index('reach')\n",
    "    min_elev = pd.merge(min_elev, swr.loc[:,['i','j','rno']], left_index = True, right_on = 'rno').drop(columns = 'rno')\n",
    "    strt = m.bas6.strt.array\n",
    "\n",
    "    fig, axes = plt.subplots(1, 3, figsize=(20, 8.5), subplot_kw=dict(projection=ccrs.epsg(2226)))\n",
    "    axes = axes.flat\n",
    "    grid = m.modelgrid\n",
    "    for i, hdslayer in enumerate(strt):\n",
    "\n",
    "        if i==0:\n",
    "            warnings.warn('setting thalweg elevations as starting heads')\n",
    "            hdslayer[min_elev.loc[:,'i'],min_elev.loc[:,'j']] = min_elev.loc[:,'thalweg']\n",
    "\n",
    "        filename = os.path.join(m.model_ws, 'inputs', f\"start_head_lay{i+1}.txt\")\n",
    "        np.savetxt(filename, hdslayer, fmt = '%.3f', delimiter = ',')\n",
    "\n",
    "        mapview = flopy.plot.PlotMapView(m,ax = axes[i])\n",
    "        linecollection = mapview.plot_grid(linewidth = .3)\n",
    "\n",
    "        quadmesh = mapview.plot_array(hdslayer, vmax = 80,vmin  =20, cmap = 'gist_ncar_r')\n",
    "        ctx.add_basemap(axes[i], crs = 2226)\n",
    "        # ax.set_title(f\"layer {lay+1} elevation (feet)\")\n",
    "        # Hide X and Y axes tick marks\n",
    "        axes[i].set_xticks([])\n",
    "        axes[i].set_yticks([])\n",
    "        basic.set_bounds(axes[i], 'mirabel')\n",
    "\n",
    "        sfr_filt.plot(ax = axes[i], facecolor = \"None\")\n",
    "\n",
    "        # hdslayer[hdslayer==-999] = np.nan\n",
    "        # im = axes[i].imshow(hdslayer, vmin=0, vmax=75)\n",
    "        axes[i].set_title(\"Layer {}\".format(i + 1))\n",
    "        # ctr = axes[i].contour(hdslayer, colors=\"k\", linewidths=0.5, vmax = 80,vmin  =20,cmap = 'gist_ncar_r')\n",
    "\n",
    "        # export head rasters\n",
    "        # (GeoTiff export requires the rasterio package; for ascii grids, just change the extension to *.asc)\n",
    "        flopy.export.utils.export_array(\n",
    "            grid, \"Output_heads/heads{}.tif\".format(i + 1), hdslayer\n",
    "        )\n",
    "\n",
    "        # export head contours to a shapefile\n",
    "        flopy.export.utils.export_array_contours(\n",
    "            grid, \"Output_heads/heads{}.shp\".format(i + 1), hdslayer\n",
    "        )\n",
    "\n",
    "    # fig.delaxes(axes[-1])\n",
    "    fig.subplots_adjust(right=0.8)\n",
    "    cbar_ax = fig.add_axes([0.85, 0.15, 0.03, 0.7])\n",
    "    fig.colorbar(quadmesh, cax=cbar_ax, label=\"Head\");"
   ]
  },
  {
   "cell_type": "markdown",
   "id": "dd7b0ca3-33c6-4479-a14b-4895ed6104fb",
   "metadata": {},
   "source": [
    "# plot swr model cells"
   ]
  },
  {
   "cell_type": "code",
   "execution_count": null,
   "id": "062a0023-4a65-467b-833a-888937430209",
   "metadata": {},
   "outputs": [],
   "source": [
    "def swr_map():\n",
    "    fig, ax = basic.map_river()\n",
    "    sfr_filt = gpd.read_file('GIS/SWR_reaches.shp')\n",
    "    sfr_filt.plot(ax = ax, facecolor = 'w', edgecolor = 'y', lw = .1, zorder = 100)\n",
    "\n",
    "    sfr_filt.loc[[sfr_filt.rno.idxmax()],:].geometry.centroid.plot(ax = ax, marker = '*', edgecolor = 'c', facecolor = 'c', lw = 1, zorder =101)\n",
    "    sfr_filt.loc[[sfr_filt.rno.idxmin()],:].geometry.centroid.plot(ax = ax,marker = '*', edgecolor = 'orange', facecolor = 'orange', lw = 1, zorder =101)\n",
    "\n",
    "    ax.text(sfr_filt.loc[[sfr_filt.rno.idxmax()],:].geometry.centroid.x, sfr_filt.loc[[sfr_filt.rno.idxmax()],:].geometry.centroid.y, 'Dam',zorder = 102)\n",
    "    ax.text(sfr_filt.loc[[sfr_filt.rno.idxmin()],:].geometry.centroid.x, sfr_filt.loc[[sfr_filt.rno.idxmin()],:].geometry.centroid.y, 'Inflow',zorder = 102)\n",
    "\n",
    "    return fig, ax\n",
    "\n",
    "fig,ax = swr_map()\n",
    "\n",
    "plt.savefig(os.path.join(out_folder, 'sfr_swr_map.png'), dpi = 250)"
   ]
  },
  {
   "cell_type": "code",
   "execution_count": null,
   "id": "c0079c9e-17cc-432b-9cb6-f202d9c5199d",
   "metadata": {},
   "outputs": [],
   "source": []
  },
  {
   "cell_type": "code",
   "execution_count": null,
   "id": "1f7cb966-fe07-4da6-9e36-2627a166cea7",
   "metadata": {},
   "outputs": [],
   "source": [
    "xsect_shape = gpd.read_file(r\"T:\\arich\\Russian_River\\MirabelWohler_2022\\GIS\\GEO\\RAS_xsections.shp\")"
   ]
  },
  {
   "cell_type": "code",
   "execution_count": null,
   "id": "72157aec-101a-4cdf-88e5-141690ef46f5",
   "metadata": {},
   "outputs": [],
   "source": []
  },
  {
   "cell_type": "code",
   "execution_count": null,
   "id": "90cd8a45-0c88-407b-a281-e6e379beb1e2",
   "metadata": {},
   "outputs": [],
   "source": []
  },
  {
   "cell_type": "code",
   "execution_count": null,
   "id": "8c94cd7c-7aff-4a74-97d2-13d589896032",
   "metadata": {},
   "outputs": [],
   "source": [
    "def find_(reach, str):\n",
    "    x= next(line for line in reach if  line.strip().startswith(str))\n",
    "    return x\n",
    "\n",
    "def read_data(reach):\n",
    "    lines = []\n",
    "    for line in reach:\n",
    "        if 'END' in line.strip():\n",
    "            break\n",
    "        else:\n",
    "            lines.append([float(x.strip()) for x in line.split(',') if (len(x.strip())>0)])\n",
    "    return lines"
   ]
  },
  {
   "cell_type": "code",
   "execution_count": null,
   "id": "32ecbd67-6655-4cb1-9906-a21ae65a3345",
   "metadata": {},
   "outputs": [],
   "source": []
  },
  {
   "cell_type": "code",
   "execution_count": null,
   "id": "b3752031-0b41-4e3f-bdf1-e3f4a5596979",
   "metadata": {},
   "outputs": [],
   "source": []
  },
  {
   "cell_type": "code",
   "execution_count": null,
   "id": "1f5424ae-73b6-4761-88be-2bc4e0816664",
   "metadata": {},
   "outputs": [],
   "source": []
  },
  {
   "cell_type": "code",
   "execution_count": null,
   "id": "15262eab-5097-4af0-b04d-fd10dbe59700",
   "metadata": {},
   "outputs": [],
   "source": []
  },
  {
   "cell_type": "code",
   "execution_count": null,
   "id": "6e294e24-771a-4a98-9b20-2e2acec6d824",
   "metadata": {},
   "outputs": [],
   "source": []
  },
  {
   "cell_type": "code",
   "execution_count": null,
   "id": "3a14bc23-8601-43cc-9f08-52a3dc19c50e",
   "metadata": {},
   "outputs": [],
   "source": []
  },
  {
   "cell_type": "code",
   "execution_count": null,
   "id": "292d7f6a-24bd-4d10-b1a3-9920155046c1",
   "metadata": {},
   "outputs": [],
   "source": []
  },
  {
   "cell_type": "code",
   "execution_count": null,
   "id": "153817b6-ee6f-497d-9ecd-396be72bba94",
   "metadata": {},
   "outputs": [],
   "source": []
  },
  {
   "cell_type": "code",
   "execution_count": null,
   "id": "f884d1bb-f7cc-4f39-9569-a17297e49b13",
   "metadata": {},
   "outputs": [],
   "source": []
  },
  {
   "cell_type": "code",
   "execution_count": null,
   "id": "1cdab46e-3b7e-4deb-965e-b506924fe6d9",
   "metadata": {},
   "outputs": [],
   "source": []
  },
  {
   "cell_type": "markdown",
   "id": "fcf6a154-1907-47a5-846b-25494eaebede",
   "metadata": {},
   "source": [
    "# read and import the cross section data exported from HEC-RAS."
   ]
  },
  {
   "cell_type": "code",
   "execution_count": null,
   "id": "6f2f18b0-0f63-46c1-97e5-de07b3de26ae",
   "metadata": {},
   "outputs": [],
   "source": [
    "stream_network = {}\n",
    "xsect = {}\n",
    "cnt = 1\n",
    "with open(r\"T:\\arich\\Russian_River\\MirabelWohler_2022\\GIS\\GEO\\RAS.RASexport.sdf\", 'r') as reach:\n",
    "    # next(line for line in reach if  line.startswith(\"BEGINSTREAMNETWORK:\"))\n",
    "    x = find_(reach,'BEGINSTREAMNETWORK')\n",
    "    print(x)\n",
    "    # get next three lines into a list (empty string for nonexistent lines)\n",
    "    # results = [next(reach, \"\").rstrip() for line in range(3)]\n",
    "    # print(results) \n",
    "    find_(reach,'CENTERLINE:')\n",
    "    stream_network = read_data(reach)\n",
    "\n",
    "    find_(reach,'BEGIN CROSS-SECTIONS:')\n",
    "    while reach:\n",
    "        try:\n",
    "            station = find_(reach, 'STATION').strip().split(':')[1]\n",
    "            find_(reach, 'SURFACE LINE')\n",
    "            section = read_data(reach)\n",
    "\n",
    "            xsect[f\"REACH_{cnt}\"] = section\n",
    "            cnt = cnt+1\n",
    "        except:\n",
    "            break\n",
    "\n",
    "print(len(xsect.items()))\n"
   ]
  },
  {
   "cell_type": "markdown",
   "id": "5f58a2e1-6cf1-4bbe-a069-7e9fdff5d121",
   "metadata": {},
   "source": [
    "# convert cross sections to gdf, then find the nearest cross section to sfr_filt centroids"
   ]
  },
  {
   "cell_type": "code",
   "execution_count": null,
   "id": "5b133e2d-aef4-4caf-a8a7-73690c2109e2",
   "metadata": {},
   "outputs": [],
   "source": []
  },
  {
   "cell_type": "code",
   "execution_count": null,
   "id": "e375a373-ef9b-40dc-83cd-5aeb62d55080",
   "metadata": {},
   "outputs": [],
   "source": []
  },
  {
   "cell_type": "code",
   "execution_count": null,
   "id": "7d100b62-b7a3-4f38-be62-4f1a97a4c7b0",
   "metadata": {},
   "outputs": [],
   "source": []
  },
  {
   "cell_type": "code",
   "execution_count": null,
   "id": "dc868105-c0ae-476f-88ac-4ed48303f028",
   "metadata": {},
   "outputs": [],
   "source": []
  },
  {
   "cell_type": "code",
   "execution_count": null,
   "id": "f212bb4f-ddb5-4a0e-866d-fa8a12fcc05f",
   "metadata": {},
   "outputs": [],
   "source": [
    "dfall = pd.DataFrame()\n",
    "cnt = 0\n",
    "for items in xsect.items():\n",
    "    df = pd.DataFrame(items[1], columns = ['x','y','z'])\n",
    "    df.loc[:,'xsect'] = items[0]\n",
    "    df.loc[:,'dist'] = squareform(pdist(df.loc[:,['x','y']]))[0,:]\n",
    "    df.loc[:,'NGEOPTS'] = df.shape[0]\n",
    "    dfall = pd.concat([dfall,df],ignore_index = True)\n",
    "    cnt=+1\n",
    "\n",
    "dfall = gpd.GeoDataFrame(dfall, geometry = gpd.points_from_xy(dfall.loc[:,'x'], dfall.loc[:,'y']), crs = 2226)\n",
    "\n",
    "def joinish(sfr_filt, dfall):\n",
    "    \n",
    "    s_ = sfr_filt.copy()\n",
    "    \n",
    "    sfr_filt.loc[:,'gcent'] = sfr_filt.geometry.centroid\n",
    "    \n",
    "    sfr_filt =sfr_filt.set_geometry('gcent')\n",
    "    \n",
    "    sfr_filt = sfr_filt.sjoin_nearest(dfall.loc[:,['geometry','xsect', 'NGEOPTS']], how = 'left')\n",
    "    \n",
    "    sfr_filt = sfr_filt.set_geometry('geometry').drop(columns = 'gcent')\n",
    "    \n",
    "    return sfr_filt\n",
    "    \n",
    "sfr_filt_with_xsec = joinish(sfr_filt, dfall)\n",
    "\n"
   ]
  },
  {
   "cell_type": "code",
   "execution_count": null,
   "id": "bd0ee04b-e267-4392-9cae-7c2d1d865487",
   "metadata": {},
   "outputs": [],
   "source": [
    "fig, ax = basic.map_river()\n",
    "sfr_filt_with_xsec.plot('xsect',ax = ax, zorder = 100)\n",
    "dfall.plot('xsect', ax = ax, markersize = 1)\n",
    "\n",
    "\n",
    "plt.savefig(os.path.join(out_folder, 'xsects_loc.png'), dpi = 250)"
   ]
  },
  {
   "cell_type": "code",
   "execution_count": null,
   "id": "3cc1c674-53e6-4f40-bc2d-f03799698c0b",
   "metadata": {},
   "outputs": [],
   "source": []
  },
  {
   "cell_type": "markdown",
   "id": "d10d836c-e5d4-4734-8def-0f772ca0f09e",
   "metadata": {},
   "source": [
    "# export xsections\n"
   ]
  },
  {
   "cell_type": "code",
   "execution_count": null,
   "id": "6ca97e92-36f1-434c-9fc2-db1878070573",
   "metadata": {},
   "outputs": [],
   "source": [
    "folder= os.path.join(m.model_ws,'xsections')\n",
    "\n",
    "if not os.path.exists(folder):\n",
    "    os.mkdir(folder)"
   ]
  },
  {
   "cell_type": "code",
   "execution_count": null,
   "id": "de743243-5229-4019-a0e4-bfb88f096cd5",
   "metadata": {},
   "outputs": [],
   "source": [
    "sfr_filt_with_xsec.head()"
   ]
  },
  {
   "cell_type": "code",
   "execution_count": null,
   "id": "9b4a5ed3-ea27-4a67-9530-d787ca26d9e3",
   "metadata": {},
   "outputs": [],
   "source": []
  },
  {
   "cell_type": "code",
   "execution_count": null,
   "id": "65cb0b38-3667-42fe-933e-39a96b40c6ec",
   "metadata": {},
   "outputs": [],
   "source": [
    "def smooth_thalweg(min_elev):\n",
    "    min_elev = min_elev.loc[:,['THALWEG']].rename(columns = {'THALWEG':'THALWEG_Smoothed'})\n",
    "    ind = min_elev.index\n",
    "\n",
    "    for i in range(100):\n",
    "        min_elev[min_elev.diff().shift(-1)>0] = np.nan\n",
    "        min_elev = min_elev.dropna()\n",
    "    min_elev = min_elev.reindex(ind)\n",
    "    min_elev = min_elev.bfill()\n",
    "    \n",
    "    return min_elev"
   ]
  },
  {
   "cell_type": "code",
   "execution_count": null,
   "id": "824636bb-1a4c-40ba-ac44-bd478d30b9e8",
   "metadata": {},
   "outputs": [],
   "source": [
    "\n",
    "\n"
   ]
  },
  {
   "cell_type": "code",
   "execution_count": null,
   "id": "0dc59f39-bb5c-49f9-9bf8-51b5325a5dc6",
   "metadata": {},
   "outputs": [],
   "source": []
  },
  {
   "cell_type": "code",
   "execution_count": null,
   "id": "49a5c304-6377-4711-9de7-e254049f28c3",
   "metadata": {},
   "outputs": [],
   "source": []
  },
  {
   "cell_type": "code",
   "execution_count": null,
   "id": "2b08394b-2d7e-4e20-8271-09143f6dbe1d",
   "metadata": {},
   "outputs": [],
   "source": [
    "\n",
    "def write_dataset_11a_with_geo(sfr_filt, \n",
    "                               min_elev = None,\n",
    "                               IGEOTYPE = 3, \n",
    "                               IGCNDOP = 1, \n",
    "                               GMANNING = 0.025,   \n",
    "                               LEAKANCE = .000001, \n",
    "                               getextd = 0.25, \n",
    "                               extra = 0.25):\n",
    "    '''\n",
    "    write geo section with actual cross section data\n",
    "    \n",
    "    '''\n",
    "    # IGCNDOP = 0, Fixed conductance is specified for the geometry entry.\n",
    "    # DATASET 11A - GEOMETRY DATA\n",
    "# IGEONUM IGEOTYPE IGCNDOP GMANNING NGEOPTS GWIDTH GBELEV GSSLOPE    GCND      GLK GCNDLN GETEXTD\n",
    "#      1    5         1      .25                                     9.2E-04                   0.25\n",
    "    \n",
    "    if min_elev is None:\n",
    "        print('using observed thalwegs, then smoothing')\n",
    "        min_elev ={}\n",
    "        for xxx in sfr_filt.loc[:,['rno','NGEOPTS', 'xsect']].values:\n",
    "            IGEONUM = xxx[0]\n",
    "            NGEOPTS = xxx[1]\n",
    "            xs = xxx[2]\n",
    "            cur = dfall.query(f\"xsect=='{xs}'\")\n",
    "            cur = cur.loc[:,['dist','z']]\n",
    "            min_elev[IGEONUM] = cur.loc[:,'z'].min()\n",
    "            \n",
    "        min_elev = pd.DataFrame.from_dict(min_elev,orient='index',columns = ['THALWEG'])\n",
    "        min_elev.index = min_elev.index.set_names('reach')\n",
    "        \n",
    "        mv = smooth_thalweg(min_elev)\n",
    "        min_elev = min_elev.join(mv)\n",
    "        # min_elev.loc[:,'THALWEG_Smoothed'] = min_elev.ewm(span = 20).mean()\n",
    "    \n",
    "    with open('RR_2022/inputs/dataset11a_with_geo.txt','w') as r:\n",
    "        r.write(\"# DATASET 11A - GEOMETRY DATA\\n\")\n",
    "        r.write(\"# IGEONUM IGEOTYPE IGCNDOP GMANNING NGEOPTS GWIDTH GBELEV GSSLOPE    LEAKANCE      GLK GCNDLN GETEXTD\\n\")\n",
    "    \n",
    "    with open('RR_2022/inputs/dataset11a_with_geo.txt','a', newline = '') as r:\n",
    "        for xxx in sfr_filt.loc[:,['rno','NGEOPTS', 'xsect']].values:\n",
    "            IGEONUM = xxx[0]\n",
    "            NGEOPTS = xxx[1]\n",
    "            xs = xxx[2]\n",
    "            r.write(f\"    {IGEONUM}\\t{IGEOTYPE}\\t{IGCNDOP}\\t{GMANNING}\\t{NGEOPTS}\\t{LEAKANCE} \\n\")\n",
    "\n",
    "\n",
    "            cur = dfall.query(f\"xsect=='{xs}'\")\n",
    "            cur = cur.loc[:,['dist','z']]\n",
    "            minz = cur.loc[:,'z'].min() - min_elev.at[IGEONUM, 'THALWEG_Smoothed']\n",
    "            cur.loc[:,'z'] = cur.loc[:,'z'] -minz\n",
    "\n",
    "            cur.to_csv(r, sep = '\\t',header = False, index = False)\n",
    "    \n",
    "    \n",
    "    if sfr_filt.filter(regex = 'THALWEG').columns is not None:\n",
    "        sfr_filt = sfr_filt.drop(columns = sfr_filt.filter(regex = 'THALWEG').columns)\n",
    "\n",
    "    \n",
    "    sfr_filt = pd.merge(sfr_filt, min_elev, left_on = 'rno', right_index = True )\n",
    "    sfr_filt = gpd.GeoDataFrame(sfr_filt, geometry = 'geometry', crs = 2226)\n",
    "    \n",
    "    min_elev.to_csv('RR_2022/inputs/stream_thalwegs.txt')\n",
    "    min_elev.plot()\n",
    "    # with open('RR_2022/inputs/stream_thalwegs.txt','w') as mint:\n",
    "    #     mint.write('reach,THALWEG\\n')\n",
    "    #     [mint.write(\"{}, {}\\n\".format(item[0], item[1])) for item in min_elev.items()]\n",
    "    #         # r.write('geo geo geo\\n')\n",
    "           \n",
    "    return min_elev, sfr_filt\n",
    "\n",
    "# min_elev, sfr_filt_with_xsec = \n",
    "\n",
    "min_elev, sfr_filt_with_xsec =  write_dataset_11a_with_geo(sfr_filt_with_xsec,\n",
    "                           IGEOTYPE = IGEOTYPE, \n",
    "                           IGCNDOP = IGCNDOP, \n",
    "                           GMANNING =GMANNING,   \n",
    "                           LEAKANCE = LEAKANCE, \n",
    "                           getextd = getextd, \n",
    "                           )"
   ]
  },
  {
   "cell_type": "code",
   "execution_count": null,
   "id": "2f2ab0d4-ea7a-4348-b041-33adee9b215e",
   "metadata": {},
   "outputs": [],
   "source": []
  },
  {
   "cell_type": "code",
   "execution_count": null,
   "id": "551bcb35-f30b-47f6-b9db-db82a99bc013",
   "metadata": {},
   "outputs": [],
   "source": [
    "\n"
   ]
  },
  {
   "cell_type": "code",
   "execution_count": null,
   "id": "8d319dbd-75ce-402b-955a-86e2a2e18101",
   "metadata": {},
   "outputs": [],
   "source": [
    "\n",
    "sfr_filt_with_xsec.drop_duplicates('xsect').query(f\"xsect=='REACH_418'\").NGEOPTS.values[0]"
   ]
  },
  {
   "cell_type": "code",
   "execution_count": null,
   "id": "ad1e3d81-403c-4dfe-9c04-e39112c0427d",
   "metadata": {},
   "outputs": [],
   "source": [
    "# import warnings\n",
    "# def write_dataset_11a_with_geo_alt(sfr_filt, min_elev = None, \n",
    "#                                    IGEOTYPE = 3, IGCNDOP = 1, GMANNING = 0.025,   LEAKANCE = .000001, getextd = 0.25, extra = 0.25):\n",
    "#     '''\n",
    "#     write geo with constant cross section data, ie reusing cross sections\n",
    "    \n",
    "#     '''\n",
    "#     # IGCNDOP = 0, Fixed conductance is specified for the geometry entry.\n",
    "#     # DATASET 11A - GEOMETRY DATA\n",
    "# # IGEONUM IGEOTYPE IGCNDOP GMANNING NGEOPTS GWIDTH GBELEV GSSLOPE    GCND      GLK GCNDLN GETEXTD\n",
    "# #      1    5         1      .25                                     9.2E-04                   0.25\n",
    "\n",
    "#     if min_elev is None:\n",
    "#         print('using observed thalwegs, then smoothing')\n",
    "#         min_elev ={}\n",
    "#         for xxx in sfr_filt.loc[:,['rno','NGEOPTS', 'xsect']].values:\n",
    "#             IGEONUM = xxx[0]\n",
    "#             NGEOPTS = xxx[1]\n",
    "#             xs = xxx[2]\n",
    "#             cur = dfall.query(f\"xsect=='{xs}'\")\n",
    "#             cur = cur.loc[:,['dist','z']]\n",
    "#             min_elev[IGEONUM] = cur.loc[:,'z'].min()\n",
    "            \n",
    "#         min_elev = pd.DataFrame.from_dict(min_elev,orient='index',columns = ['THALWEG'])\n",
    "#         min_elev.index = min_elev.index.set_names('reach')\n",
    "#         min_elev.loc[:,'THALWEG_Smoothed'] = min_elev.ewm(span = 20).mean()\n",
    "    \n",
    "#     warnings.warn('\\nsimple geo\\n'*10)\n",
    "    \n",
    "#     with open('RR_2022/inputs/dataset11a_with_geo.txt','w') as r:\n",
    "#         r.write(\"# DATASET 11A - GEOMETRY DATA\\n\")\n",
    "#         r.write(\"# IGEONUM IGEOTYPE IGCNDOP GMANNING NGEOPTS GWIDTH GBELEV GSSLOPE    LEAKANCE      GLK GCNDLN GETEXTD\\n\")\n",
    "    \n",
    "#     with open('RR_2022/inputs/dataset11a_with_geo.txt','a', newline = '') as r:\n",
    "#         for xxx in sfr_filt.loc[:,['rno','NGEOPTS', 'xsect']].values:\n",
    "#             IGEONUM = xxx[0]\n",
    "#             xs = 'REACH_418'\n",
    "#             NGEOPTS = sfr_filt.drop_duplicates('xsect').query(f\"xsect=='{xs}'\").NGEOPTS.values[0]\n",
    "\n",
    "            \n",
    "#             # xs = 1\n",
    "#             r.write(f\"    {IGEONUM}\\t{IGEOTYPE}\\t{IGCNDOP}\\t{GMANNING}\\t{NGEOPTS}\\t{LEAKANCE} \\n\")\n",
    "\n",
    "\n",
    "#             cur = dfall.query(f\"xsect=='{xs}'\")\n",
    "#             cur = cur.loc[:,['dist','z']]\n",
    "\n",
    "#             minz = cur.loc[:,'z'].min()  - min_elev.at[IGEONUM, 'THALWEG_Smoothed']\n",
    "#             # minz = cur.loc[:,'z'].min() - (39-IGEONUM*.1)\n",
    "\n",
    "#             cur.loc[:,'z'] = cur.loc[:,'z'] -minz\n",
    "\n",
    "\n",
    "#             cur.to_csv(r, sep = '\\t',header = False, index = False)\n",
    "            \n",
    "#     assert not((min_elev.diff().thalweg>=0).any()), 'there are positive changes in elevation from reach to reach'\n",
    "    \n",
    "#     # with open('RR_2022/inputs/stream_thalwegs.txt','w') as mint:\n",
    "#     #     mint.write('reach,thalweg\\n')\n",
    "#     #     [mint.write(\"{}, {}\\n\".format(item[0], item[1])) for item in min_elev.items()]\n",
    "#     #         # r.write('geo geo geo\\n')\n",
    "    \n",
    "#     if 'THALWEG' in sfr_filt.columns:\n",
    "#         sfr_filt = sfr_filt.drop(columns = 'THALWEG')\n",
    "#     sfr_filt = pd.merge(sfr_filt, min_elev, left_on = 'rno', right_index = True )\n",
    "#     sfr_filt = gpd.GeoDataFrame(sfr_filt, geometry = 'geometry', crs = 2226)\n",
    "           \n",
    "#     return min_elev, sfr_filt\n",
    "# min_elev, sfr_filt_with_xsec = write_dataset_11a_with_geo_alt(sfr_filt_with_xsec,\n",
    "#                            IGEOTYPE = 3, \n",
    "#                            IGCNDOP = 0, \n",
    "#                            GMANNING = 0.35,   \n",
    "#                            LEAKANCE = 0.0030, \n",
    "#                            getextd = 0.25, \n",
    "#                            )\n",
    "\n",
    "# min_elev.add(3.0).to_csv(os.path.join('RR_2022', 'inputs', 'start_stage.tab'), sep = '\\t',header = None)"
   ]
  },
  {
   "cell_type": "code",
   "execution_count": null,
   "id": "2d30f56a-dc7f-43e1-bf15-103506950118",
   "metadata": {},
   "outputs": [],
   "source": [
    "sfr_filt_with_xsec.to_file('GIS/SWR_Reaches.shp')\n",
    "sfr_filt_with_xsec.to_file(r\"T:\\arich\\Russian_River\\MirabelWohler_2022\\GIS\\SWR_reaches.shp\")"
   ]
  },
  {
   "cell_type": "code",
   "execution_count": null,
   "id": "c122c6e8-2185-4d73-a962-aff31ed4c12a",
   "metadata": {},
   "outputs": [],
   "source": []
  },
  {
   "cell_type": "code",
   "execution_count": null,
   "id": "3c96edbd-3af5-4ea5-a871-7936e77b5e33",
   "metadata": {},
   "outputs": [],
   "source": []
  },
  {
   "cell_type": "code",
   "execution_count": null,
   "id": "e57b7a58-0857-4eff-834a-a4775d58a964",
   "metadata": {},
   "outputs": [],
   "source": [
    "\n",
    "    "
   ]
  },
  {
   "cell_type": "code",
   "execution_count": null,
   "id": "3491a056-0191-44fe-87c3-b30f02933d21",
   "metadata": {},
   "outputs": [],
   "source": []
  },
  {
   "cell_type": "code",
   "execution_count": null,
   "id": "ab36dc21-747f-4597-9fee-825bdae7ea75",
   "metadata": {},
   "outputs": [],
   "source": []
  },
  {
   "cell_type": "code",
   "execution_count": null,
   "id": "c5da8b6d-9cd3-4e2f-8f88-6669895f2165",
   "metadata": {},
   "outputs": [],
   "source": []
  },
  {
   "cell_type": "code",
   "execution_count": null,
   "id": "5079aeb2-8c37-4940-ba99-b298a13e6a90",
   "metadata": {},
   "outputs": [],
   "source": []
  },
  {
   "cell_type": "code",
   "execution_count": null,
   "id": "e326949a-a3c0-4cb2-b0ec-db19eeb545c4",
   "metadata": {},
   "outputs": [],
   "source": []
  },
  {
   "cell_type": "code",
   "execution_count": null,
   "id": "bebea1c8-c566-4848-8b00-9ff2fbc83d98",
   "metadata": {},
   "outputs": [],
   "source": [
    "import plotly.graph_objects as go\n",
    "import numpy as np\n",
    "\n",
    "# Create figure\n",
    "fig = go.Figure()\n",
    "\n",
    "stepnames = {}\n",
    "# Add traces, one for each slider step\n",
    "for _,step in sfr_filt_with_xsec.drop_duplicates('xsect').iterrows():\n",
    "    IGEONUM = step['rno']\n",
    "    xs = step.loc['xsect']\n",
    "    cur = dfall.query(f\"xsect=='{xs}'\")\n",
    "    cur = cur.loc[:,['dist','z']]\n",
    "    \n",
    "    stepnames[IGEONUM] = f\"reach: {IGEONUM} xs: {xs}\"\n",
    "    \n",
    "    minz = cur.loc[:,'z'].min() - min_elev[IGEONUM]\n",
    "    cur.loc[:,'z'] = cur.loc[:,'z'] -minz\n",
    "    \n",
    "    fig.add_trace(\n",
    "        go.Scatter(\n",
    "            visible=False,\n",
    "            line=dict(color=\"#00CED1\", width=6),\n",
    "            name=\"𝜈 = \" + xs,\n",
    "            x=cur.loc[:,'dist'],\n",
    "            y=cur.loc[:,'z']))\n",
    "\n",
    "# Make 10th trace visible\n",
    "fig.data[10].visible = True\n",
    "\n",
    "# Create and add slider\n",
    "steps = []\n",
    "# for i in range(len(fig.data)):\n",
    "for i, stepper in enumerate(stepnames.keys()):\n",
    "    step = dict(\n",
    "        method=\"update\",\n",
    "        args=[{\"visible\": [False] * len(fig.data)},\n",
    "              # {\"title\": \"Slider switched to step: \" + str(i)}],  # layout attribute\n",
    "                {\"title\": \"Slider switched to step: \" + stepnames[stepper]}],  # layout attribute\n",
    "    )\n",
    "    step[\"args\"][0][\"visible\"][i] = True  # Toggle i'th trace to \"visible\"\n",
    "    steps.append(step)\n",
    "\n",
    "sliders = [dict(\n",
    "    active=10,\n",
    "    currentvalue={\"prefix\": \"Frequency: \"},\n",
    "    pad={\"t\": 50},\n",
    "    steps=steps\n",
    ")]\n",
    "\n",
    "fig.update_layout(\n",
    "    sliders=sliders\n",
    ")\n",
    "\n",
    "fig.show()"
   ]
  },
  {
   "cell_type": "code",
   "execution_count": null,
   "id": "5f39e5f6-8c2d-4f4f-8896-f5d5a1ec0816",
   "metadata": {},
   "outputs": [],
   "source": [
    "numdays = 3300"
   ]
  },
  {
   "cell_type": "code",
   "execution_count": null,
   "id": "210e1f7f-9612-402d-84ea-456bce40e8c7",
   "metadata": {
    "tags": []
   },
   "outputs": [],
   "source": [
    "cnt = 1\n",
    "for _ in range(numdays+1):\n",
    "   \n",
    "    print(\n",
    "    r\"# ITMP IRDBND IRDRAI IRDEVP IRDLIN IRDGEO IRDSTR IRDSTG IPTFLG [IRDAUX]   #\\\n",
    "    1   -1    0      0       0     -1      2      0       1      # 5              #\\\n",
    "    open/close 'ref\\nstruct.dat'\\n\")\n",
    "    print(f\"    open/close 'ref\\dam_stage\\day{cnt}.dat\")\n",
    "    \n",
    "    cnt = cnt+1"
   ]
  },
  {
   "cell_type": "code",
   "execution_count": null,
   "id": "f6151131-8b67-425f-b1ca-fe63a0ebec69",
   "metadata": {},
   "outputs": [],
   "source": [
    "import basic\n",
    "import numpy as np\n",
    "import flopy\n",
    "import os\n",
    "def write_model_output_control(ml, num_days):\n",
    "    head = 'HEAD PRINT FORMAT   0\\n\\\n",
    "HEAD SAVE UNIT   336\\n\\\n",
    "DRAWDOWN PRINT FORMAT   0\\n\\n'\n",
    "    with open(os.path.join(ml.model_ws, 'RR.oc'), 'w') as oc:\n",
    "        oc.write(head)\n",
    "        for sp in np.arange(1, num_days+1):\n",
    "            oc.write(\"period {:}  step 6  \\nPRINT BUDGET\\nSAVE HEAD\\n\".format(sp))\n"
   ]
  },
  {
   "cell_type": "code",
   "execution_count": null,
   "id": "23aef790-c32f-428d-86a8-afd747fe51ee",
   "metadata": {
    "tags": []
   },
   "outputs": [],
   "source": [
    "ml = basic.load_model()"
   ]
  },
  {
   "cell_type": "code",
   "execution_count": null,
   "id": "c0f2418a-b87e-4f71-98d7-964141d8b124",
   "metadata": {
    "tags": []
   },
   "outputs": [],
   "source": [
    "ml.model_ws"
   ]
  },
  {
   "cell_type": "code",
   "execution_count": null,
   "id": "69f6f1e4-1004-49c8-9bdf-1ff6447f5028",
   "metadata": {
    "tags": []
   },
   "outputs": [],
   "source": [
    "ml = basic.load_model(path = \"temp\\\\SWR_long_2lays_med_SWRK\")"
   ]
  },
  {
   "cell_type": "code",
   "execution_count": null,
   "id": "d6a089f3-3781-47ed-ab9c-3d9766560a16",
   "metadata": {
    "tags": []
   },
   "outputs": [],
   "source": [
    "[h, hds] = basic.get_heads(ml, False)"
   ]
  },
  {
   "cell_type": "code",
   "execution_count": null,
   "id": "ff4fa100-c17b-477f-bdce-0c6382c445ac",
   "metadata": {
    "tags": []
   },
   "outputs": [],
   "source": [
    "hds.get_kstpkper()"
   ]
  },
  {
   "cell_type": "code",
   "execution_count": null,
   "id": "193b0d74-c62a-4ad5-9c87-0f0dba10d2d1",
   "metadata": {
    "tags": []
   },
   "outputs": [],
   "source": [
    "ml.dis.write_file()"
   ]
  },
  {
   "cell_type": "code",
   "execution_count": null,
   "id": "b417b190-5331-4fff-b9b9-8c3b492cd3b7",
   "metadata": {
    "tags": []
   },
   "outputs": [],
   "source": [
    "ml.dis.botm[0].format.array_free_format"
   ]
  },
  {
   "cell_type": "code",
   "execution_count": null,
   "id": "0ff297f7-1982-483f-b10f-be3ff1c3cca6",
   "metadata": {
    "tags": []
   },
   "outputs": [],
   "source": [
    "oc = write_model_output_control(ml, 3286, )"
   ]
  },
  {
   "cell_type": "code",
   "execution_count": null,
   "id": "c28123c8-9076-401b-ab24-9bb9048b0bd3",
   "metadata": {
    "tags": []
   },
   "outputs": [],
   "source": [
    "oc.write_file()"
   ]
  },
  {
   "cell_type": "code",
   "execution_count": null,
   "id": "94feb4fc-26bb-43c5-9fe1-7e97ddca0788",
   "metadata": {
    "tags": []
   },
   "outputs": [],
   "source": [
    "o = ml.oc"
   ]
  },
  {
   "cell_type": "code",
   "execution_count": null,
   "id": "d01adee5-9369-4506-be29-1481b662f3b2",
   "metadata": {
    "tags": []
   },
   "outputs": [],
   "source": [
    "dis = ml.dis"
   ]
  },
  {
   "cell_type": "code",
   "execution_count": null,
   "id": "c197273e-852b-4032-9a80-9722efce8b8a",
   "metadata": {
    "tags": []
   },
   "outputs": [],
   "source": [
    "dis.nstp = 100"
   ]
  },
  {
   "cell_type": "code",
   "execution_count": null,
   "id": "060ae3e1-af0e-4ecf-b1d1-8debd5288128",
   "metadata": {
    "tags": []
   },
   "outputs": [],
   "source": [
    "dis.perlen = 86400"
   ]
  },
  {
   "cell_type": "code",
   "execution_count": null,
   "id": "ab7106c0-b061-4e6c-ad91-315192e41292",
   "metadata": {
    "tags": []
   },
   "outputs": [],
   "source": [
    "dis"
   ]
  },
  {
   "cell_type": "code",
   "execution_count": null,
   "id": "dc236687-f999-433a-b285-339016fdbf7e",
   "metadata": {
    "tags": []
   },
   "outputs": [],
   "source": [
    "path = ml.model_ws\n",
    "verbose = False, \n",
    "# path = None\n",
    "nam = 'RRMF.nam'\n",
    "check = False\n",
    "forgive = True\n",
    "load_only = ['DIS', 'BAS6', 'UPW', 'NWT', 'WEL', 'GHB', 'OC', 'SFR', 'RCH', 'GAGE']\n",
    "load_fast = True"
   ]
  },
  {
   "cell_type": "code",
   "execution_count": null,
   "id": "73a602e3-b415-4496-8c50-8228fc2bf2d9",
   "metadata": {
    "tags": []
   },
   "outputs": [],
   "source": [
    "ml.dis.array_free_format"
   ]
  },
  {
   "cell_type": "code",
   "execution_count": null,
   "id": "ed8d807e-fa4a-4172-be97-755640826a2e",
   "metadata": {
    "tags": []
   },
   "outputs": [],
   "source": [
    "ml.external_fnames"
   ]
  },
  {
   "cell_type": "code",
   "execution_count": null,
   "id": "f07af779-33e8-44f3-9a50-3c2475e4e252",
   "metadata": {
    "tags": []
   },
   "outputs": [],
   "source": [
    "ml = flopy.modflow.Modflow.load(nam,\n",
    "                                load_only= load_only,\n",
    "                                model_ws = path,\n",
    "                                verbose = verbose,\n",
    "                                forgive=forgive,\n",
    "                                version = 'mfnwt', \n",
    "                                exe_name = f\"{path}/MODFLOW-NWT_64.exe\",\n",
    "                                check = check)"
   ]
  },
  {
   "cell_type": "code",
   "execution_count": null,
   "id": "2bd7183f-858c-4c61-a37e-87d3353ac91c",
   "metadata": {
    "tags": []
   },
   "outputs": [],
   "source": [
    "dis.write_file()"
   ]
  },
  {
   "cell_type": "code",
   "execution_count": null,
   "id": "6d77e6ca-3627-4c50-b612-e0f131806d2b",
   "metadata": {
    "tags": []
   },
   "outputs": [],
   "source": [
    "o.write_file()"
   ]
  },
  {
   "cell_type": "code",
   "execution_count": null,
   "id": "b99fc7bf-c08f-4e08-98bb-dfaf6367db9c",
   "metadata": {
    "tags": []
   },
   "outputs": [],
   "source": [
    "import flopy\n",
    "\n",
    "m = flopy.modflow.Modflow()\n",
    "\n",
    "spd = {(0, 0): ['print head'],\n",
    "\n",
    "  (0, 1): [],\n",
    "\n",
    "  (0, 249): ['print head'],\n",
    "\n",
    "  (0, 250): [],\n",
    "\n",
    "  (0, 499): ['print head', 'save ibound'],\n",
    "\n",
    "  (0, 500): [],\n",
    "\n",
    "  (0, 749): ['print head', 'ddreference'],\n",
    "\n",
    "  (0, 750): [],\n",
    "\n",
    "  (0, 999): ['print head']}\n",
    "\n",
    "oc = flopy.modflow.ModflowOc(m, stress_period_data=spd, cboufm='(20i5)')\n",
    "\n",
    "oc.write_file()"
   ]
  },
  {
   "cell_type": "code",
   "execution_count": null,
   "id": "d1b05435-594c-46c3-bf9c-cda873e4a51c",
   "metadata": {
    "tags": []
   },
   "outputs": [],
   "source": [
    "o.stress_period_data"
   ]
  },
  {
   "cell_type": "code",
   "execution_count": null,
   "id": "541fb770-0d25-46b8-9d2a-3e5caff71b3a",
   "metadata": {
    "tags": []
   },
   "outputs": [],
   "source": [
    "o"
   ]
  },
  {
   "cell_type": "code",
   "execution_count": null,
   "id": "7d14c09c-4636-47c7-be26-d9ec417a5bbc",
   "metadata": {},
   "outputs": [],
   "source": []
  }
 ],
 "metadata": {
  "kernelspec": {
   "display_name": "Python 3 (ipykernel)",
   "language": "python",
   "name": "python3"
  },
  "language_info": {
   "codemirror_mode": {
    "name": "ipython",
    "version": 3
   },
   "file_extension": ".py",
   "mimetype": "text/x-python",
   "name": "python",
   "nbconvert_exporter": "python",
   "pygments_lexer": "ipython3",
   "version": "3.9.16"
  }
 },
 "nbformat": 4,
 "nbformat_minor": 5
}
