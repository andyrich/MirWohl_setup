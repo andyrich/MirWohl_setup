{
 "cells": [
  {
   "cell_type": "code",
   "execution_count": null,
   "id": "ea71fda6-7434-4961-ab2c-364040ac663f",
   "metadata": {},
   "outputs": [],
   "source": [
    "import flopy\n",
    "import os\n",
    "import geopandas as gpd\n",
    "import basic\n",
    "import contextily as ctx\n",
    "import pandas as pd\n",
    "import numpy as np\n",
    "import os\n",
    "import matplotlib.pyplot as plt\n",
    "\n",
    "import pathlib\n",
    "import geopandas as gpd\n",
    "\n",
    "import write_inflows\n",
    "import basic"
   ]
  },
  {
   "cell_type": "code",
   "execution_count": null,
   "id": "2016a90d-fd56-4325-8271-3a793413a0ff",
   "metadata": {},
   "outputs": [],
   "source": []
  },
  {
   "cell_type": "code",
   "execution_count": null,
   "id": "5c9eddc3-55f6-4b98-993e-b9d70720aef0",
   "metadata": {},
   "outputs": [],
   "source": [
    "m = basic.load_model()"
   ]
  },
  {
   "cell_type": "code",
   "execution_count": null,
   "id": "e7a8b4e3-94c8-4ba7-a16c-f94b0638a1e1",
   "metadata": {},
   "outputs": [],
   "source": [
    "run = \"June2017\""
   ]
  },
  {
   "cell_type": "code",
   "execution_count": null,
   "id": "58f70726-814d-4d53-ad0a-561145f63463",
   "metadata": {},
   "outputs": [],
   "source": [
    "    \n",
    "info, swr_info, sfr_info, riv_keys_info = basic.load_params(run)\n",
    "\n",
    "datestart = info['start_date']\n",
    "\n",
    "name = info['name']\n",
    "\n",
    "out_folder = basic.out_folder('June2017')\n",
    "print(datestart)\n",
    "print(out_folder)"
   ]
  },
  {
   "cell_type": "code",
   "execution_count": null,
   "id": "e76e4a67-4f6e-4a0e-b471-4dd1ff5111e1",
   "metadata": {},
   "outputs": [],
   "source": [
    "os.getcwd()"
   ]
  },
  {
   "cell_type": "code",
   "execution_count": null,
   "id": "9f86b41e-b078-4f3e-b387-ad0d9ed2d49a",
   "metadata": {},
   "outputs": [],
   "source": []
  },
  {
   "cell_type": "code",
   "execution_count": null,
   "id": "d266c612-7687-4176-b921-83c4a6319493",
   "metadata": {},
   "outputs": [],
   "source": [
    "import conda_scripts.arich_functions as af"
   ]
  },
  {
   "cell_type": "code",
   "execution_count": null,
   "id": "dbb999ac-15c1-4e95-be25-b8cd9fe77436",
   "metadata": {},
   "outputs": [],
   "source": [
    "start_year = pd.to_datetime(datestart).year\n",
    "start_year"
   ]
  },
  {
   "cell_type": "code",
   "execution_count": null,
   "id": "4bebf690-ef57-437c-ae84-f31514d814db",
   "metadata": {},
   "outputs": [],
   "source": [
    "flow_dict = write_inflows.flo_dict()\n",
    "flow_dict"
   ]
  },
  {
   "cell_type": "code",
   "execution_count": null,
   "id": "82a6d421-250a-410b-bdec-435970ef034f",
   "metadata": {},
   "outputs": [],
   "source": [
    "begin_month = 1"
   ]
  },
  {
   "cell_type": "code",
   "execution_count": null,
   "id": "8fe29821-7b03-4fb5-9390-e38abe26cffd",
   "metadata": {},
   "outputs": [],
   "source": [
    "write_inflows.load_riv(station =  flow_dict['Mark']['station'], title =  flow_dict['Mark']['title'],\n",
    "                       file = flow_dict['Mark']['file'], figurename = flow_dict['Mark']['station'], \n",
    "                       datestart=datestart,\n",
    "                   out_folder = out_folder, m = m, numdays = 109, save_fig = False, write_output = False)\n",
    "rr = write_inflows.load_riv(station =  flow_dict['Russian']['station'], title =  flow_dict['Russian']['title'],\n",
    "                            file = flow_dict['Russian']['file'], figurename = flow_dict['Russian']['station'], \n",
    "                             datestart=datestart,\n",
    "                   out_folder = out_folder, m = m, numdays = 109, save_fig = False, write_output = False)\n",
    "dry = write_inflows.load_riv(station =  flow_dict['Dry']['station'], title =  flow_dict['Dry']['title'],\n",
    "                            file = flow_dict['Dry']['file'], figurename = flow_dict['Dry']['station'], \n",
    "                              datestart=datestart,\n",
    "                   out_folder = out_folder, m = m, numdays = 109, save_fig = False, write_output = False)\n",
    "\n",
    "# rr = rrflow(datestart)\n",
    "# dry = dry_flow(datestart)\n",
    "\n",
    "total = dry.loc[:,'Q'] + rr.loc[:,'Q']\n",
    "total = total.to_frame('rrtotal')\n",
    "\n",
    "total.plot()"
   ]
  },
  {
   "cell_type": "code",
   "execution_count": null,
   "id": "eb34efaa-caea-4c44-95d3-d58264979f51",
   "metadata": {},
   "outputs": [],
   "source": []
  },
  {
   "cell_type": "code",
   "execution_count": null,
   "id": "52bde687-8967-49b3-a212-4548e5b04bae",
   "metadata": {},
   "outputs": [],
   "source": []
  },
  {
   "cell_type": "code",
   "execution_count": null,
   "id": "da5db2bc-0ac6-436f-9067-5e28eedce004",
   "metadata": {},
   "outputs": [],
   "source": [
    "# def load_riv(total, datestart = datestart,  minvalue = 29.54, max_value = 38, numdays=109, flow_max = 500, mid_cutoff = 32 ):\n",
    "#     p = pathlib.Path(r\"T:\\arich\\Russian_River\\MirabelWohler_2022\\Waterlevel_Data\\MWs_Caissons - AvailableDailyAverages\\DailyData\")\n",
    "\n",
    "#     rds = 'RiverStageDaily.csv'\n",
    "\n",
    "#     stg = pd.read_csv(p.joinpath(rds), parse_dates=[0]).set_index('StartDateTime')\n",
    "#     stg.loc[:,'Original_Value'] = stg.loc[:,'Value'].copy()\n",
    "#     c = stg.loc[:,'FillValue'].notnull()\n",
    "#     stg.loc[c,'Value'] = stg.loc[c,'FillValue']\n",
    "    \n",
    "#     stg.loc[:,'INTERP'] = stg.loc[:,'INTERP'].replace({'UP':max_value,'DOWN':minvalue})\n",
    "#     stg.loc[:,'INTERP'] = stg.loc[:,'INTERP'].fillna(  method = 'ffill')\n",
    "#     stg.loc[:,'INTERP'] = stg.loc[:,'INTERP'].rolling(14).mean()\n",
    "#     # stg.loc[:,'INTERP'] = stg.loc[:,'INTERP'].ffill()\n",
    "#     stg.plot(subplots =True)\n",
    "    \n",
    "#     return stg\n",
    "    \n",
    "# out = load_riv(total, datestart)"
   ]
  },
  {
   "cell_type": "code",
   "execution_count": null,
   "id": "aff4363a-c1f3-41e7-a66e-ecf06925ffea",
   "metadata": {},
   "outputs": [],
   "source": [
    "# def load_dam(total, datestart, minvalue=29.54, max_value=38, numdays=109, flow_max=500, mid_cutoff=32):\n",
    "#     p = pathlib.Path(\n",
    "#         r\"T:\\arich\\Russian_River\\MirabelWohler_2022\\Waterlevel_Data\\MWs_Caissons - AvailableDailyAverages\\DailyData\")\n",
    "\n",
    "#     rds = 'RiverStageDaily.csv'\n",
    "\n",
    "#     stg = pd.read_csv(p.joinpath(rds), parse_dates=[0]).set_index('StartDateTime')\n",
    "#     print(stg.head())\n",
    "#     stg.loc[stg.loc[:, 'Value'] > 50, 'Value'] = 50.\n",
    "#     stg.loc[:, 'Original_Value'] = stg.loc[:, 'Value'].copy()\n",
    "#     c = stg.loc[:, 'FillValue'].notnull()\n",
    "#     stg.loc[c, 'Value'] = stg.loc[c, 'FillValue']\n",
    "\n",
    "\n",
    "\n",
    "#     stg.loc[:, 'Value'] = stg.loc[:, 'Value'].interpolate()\n",
    "    \n",
    "#     print(stg.head())\n",
    "#     stg.loc[:,'INTERP'] = stg.loc[:,'INTERP'].replace({'UP':max_value,'DOWN':minvalue})\n",
    "#     stg.loc[:,'INTERP'] = stg.loc[:,'INTERP'].fillna(method = 'ffill')\n",
    "#     stg.loc[:,'INTERP'] = stg.loc[:,'INTERP'].rolling(14).mean()\n",
    "\n",
    "#     stg.loc[:,\"Value\"] = stg.loc[:,'INTERP']\n",
    "    \n",
    "#     stg = stg.resample('1D').mean()\n",
    "\n",
    "#     stg = stg.loc[datestart:, :].iloc[:numdays]\n",
    "\n",
    "#     # stg.loc[stg.loc[:, 'Value'] < minvalue, 'Value'] = minvalue\n",
    "#     # stg.loc[stg.loc[:, 'Value'] > max_value, 'Value'] = max_value\n",
    "#     #\n",
    "#     # stg = stg.join(total)\n",
    "#     #\n",
    "#     # stg.loc[stg.loc[:, 'rrtotal'] > flow_max, \"Value\"] = minvalue\n",
    "#     # stg.loc[stg.loc[:, 'Value'] > mid_cutoff, 'Value'] = max_value\n",
    "#     # stg.loc[stg.loc[:, 'Value'] < mid_cutoff, 'Value'] = minvalue\n",
    "\n",
    "#     # stg.loc[:,'Value'] = stg.loc[:,'Value'].rolling(5, min_periods=0).mean()\n",
    "\n",
    "#     assert stg.loc[:, 'Value'].isnull().sum() == 0, 'has nans'\n",
    "\n",
    "#     return stg\n",
    "\n",
    "# load_dam(total, datestart, minvalue=minvalue, max_value=max_value, numdays=numdays, flow_max=flow_max, mid_cutoff=mid_cutoff)"
   ]
  },
  {
   "cell_type": "code",
   "execution_count": null,
   "id": "5e60943c-2c68-449c-8ea6-bbcba3259806",
   "metadata": {},
   "outputs": [],
   "source": [
    "# def load_riv(total, datestart = datestart,  minvalue = 29.54, max_value = 34, numdays=109, flow_max = 500, mid_cutoff = 32 ):\n",
    "#     p = pathlib.Path(r\"T:\\arich\\Russian_River\\MirabelWohler_2022\\Waterlevel_Data\\MWs_Caissons - AvailableDailyAverages\\DailyData\")\n",
    "\n",
    "#     rds = 'RiverStageDaily.csv'\n",
    "\n",
    "#     stg = pd.read_csv(p.joinpath(rds), parse_dates=[0]).set_index('StartDateTime')\n",
    "#     stg.loc[:,'Original_Value'] = stg.loc[:,'Value'].copy()\n",
    "#     c = stg.loc[:,'FillValue'].notnull()\n",
    "#     stg.loc[c,'Value'] = stg.loc[c,'FillValue']\n",
    "\n",
    "#     stg = stg.resample('1D').mean()\n",
    "\n",
    "#     stg = stg.loc[datestart:,:].iloc[:numdays]\n",
    "\n",
    "#     stg.loc[:,'Value'] = stg.loc[:,'Value'].interpolate()\n",
    "    \n",
    "#     stg.loc[stg.loc[:,'Value']<minvalue, 'Value'] = minvalue\n",
    "#     stg.loc[stg.loc[:,'Value']>max_value, 'Value'] = max_value\n",
    "\n",
    "    \n",
    "#     stg = stg.join(total)\n",
    "    \n",
    "#     stg.loc[stg.loc[:,'rrtotal']>flow_max,\"Value\"] = minvalue\n",
    "#     stg.loc[stg.loc[:,'Value']>mid_cutoff,'Value'] = max_value\n",
    "#     stg.loc[stg.loc[:,'Value']<mid_cutoff,'Value'] = minvalue\n",
    "    \n",
    "    \n",
    "    \n",
    "#     # stg.loc[:,'Value'] = stg.loc[:,'Value'].rolling(5, min_periods=0).mean()\n",
    "\n",
    "#     assert stg.loc[:,'Value'].isnull().sum() ==0 , 'has nans'\n",
    "\n",
    "#     return stg\n",
    "\n",
    "# def plot_dam(stg, datestart ,  minvalue , max_value , numdays,flow_max ,\n",
    "#                mid_cutoff ):\n",
    "\n",
    "#     fig, (ax, ax1) = plt.subplots(2, 1, sharex = True, figsize = (8,8))\n",
    "#     ax = stg.filter(regex = 'Value').plot(marker = '.', ax = ax)\n",
    "\n",
    "#     ax.axhline(minvalue,c = 'c', ls = '-.',label = 'Min Dam Stage')\n",
    "#     ax.axhline(max_value,c = 'r', ls = '-.', label = 'Max Dam Stage')\n",
    "#     ax.axhline(mid_cutoff, c = 'pink', ls = '--',label = 'mid_cutoff (dam values below\\nbecome minvalue, above become max)')\n",
    "#     ax.legend(bbox_to_anchor = (1,1), loc = 'upper left')\n",
    "#     ax1.set_title('Russian River Inflows')\n",
    "#     ax.set_title('Dam Elevations')\n",
    "#     stg.loc[:,'rrtotal'].plot(ax = ax1, c = 'r')\n",
    "\n",
    "\n",
    "minvalue = 29.54 \n",
    "max_value = 38\n",
    "mid_cutoff = 32\n",
    "flow_max = 300\n",
    "numdays = 109\n",
    "\n",
    "stg = write_inflows.load_dam(total, datestart, minvalue=minvalue, max_value=max_value, numdays=numdays, flow_max=flow_max, mid_cutoff=mid_cutoff)\n",
    "\n",
    "write_inflows.plot_dam(stg,minvalue = minvalue, max_value = max_value,\n",
    "             mid_cutoff = mid_cutoff, out_folder = out_folder, save_fig = False)\n",
    "\n",
    "# plt.savefig(os.path.join(out_folder, 'dam_elevation.png'),bbox_inches = 'tight', dpi = 250)"
   ]
  },
  {
   "cell_type": "code",
   "execution_count": null,
   "id": "93cbbd1f-b011-40a6-8467-6fc39d7c7e22",
   "metadata": {},
   "outputs": [],
   "source": []
  },
  {
   "cell_type": "code",
   "execution_count": null,
   "id": "0b692ae6-1f15-4bfe-add7-99aac4ce85ee",
   "metadata": {},
   "outputs": [],
   "source": []
  },
  {
   "cell_type": "code",
   "execution_count": null,
   "id": "b4536962-a9b3-4c33-a6d2-def024b3e4d0",
   "metadata": {},
   "outputs": [],
   "source": []
  },
  {
   "cell_type": "code",
   "execution_count": null,
   "id": "af9658d8-f489-4e21-a7bc-8374ce668c37",
   "metadata": {},
   "outputs": [],
   "source": []
  },
  {
   "cell_type": "code",
   "execution_count": null,
   "id": "36f92e0f-370f-4e2e-af9f-c46d1278beef",
   "metadata": {},
   "outputs": [],
   "source": []
  },
  {
   "cell_type": "code",
   "execution_count": null,
   "id": "3d20b77b-39e4-4650-96de-3b1e78e70c1c",
   "metadata": {},
   "outputs": [],
   "source": [
    "def plot_all_dam_periods():\n",
    "    for run in ['June2012', 'June2013', 'June2014', 'June2015', 'June2016', 'June2017', 'June2018', 'June2019', 'June2020']:\n",
    "\n",
    "\n",
    "        info, swr_info, sfr_info, riv_keys_info = basic.load_params(run)\n",
    "\n",
    "        datestart = info['start_date']\n",
    "        \n",
    "        print(run)\n",
    "        print(datestart)\n",
    "        name = info['name']\n",
    "\n",
    "        out_folder = basic.out_folder(run)\n",
    "        \n",
    "        start_year = pd.to_datetime(datestart).year\n",
    "\n",
    "        rr = write_inflows.load_riv(station =  flow_dict['Russian']['station'], title =  flow_dict['Russian']['title'],\n",
    "                                    file = flow_dict['Russian']['file'], figurename = flow_dict['Russian']['station'], \n",
    "                                     datestart=datestart,\n",
    "                           out_folder = out_folder, m = m, numdays = 109, save_fig = False, write_output = False)\n",
    "        dry = write_inflows.load_riv(station =  flow_dict['Dry']['station'], title =  flow_dict['Dry']['title'],\n",
    "                                    file = flow_dict['Dry']['file'], figurename = flow_dict['Dry']['station'], \n",
    "                                      datestart=datestart,\n",
    "                           out_folder = out_folder, m = m, numdays = 109, save_fig = False, write_output = False)\n",
    "\n",
    "        total = dry.loc[:,'Q'] + rr.loc[:,'Q']\n",
    "        total = total.to_frame('rrtotal')\n",
    "        \n",
    "        print(f\"{total.index.min()} to {total.index.max()}\")\n",
    "        \n",
    "        stg = write_inflows.load_dam(total, datestart, minvalue=minvalue, max_value=max_value, numdays=numdays, flow_max=flow_max, mid_cutoff=mid_cutoff)\n",
    "        print(f\"{stg.index.min()} to {stg.index.max()}\")\n",
    "        write_inflows.plot_dam(stg,minvalue = minvalue, max_value = max_value,\n",
    "                     mid_cutoff = mid_cutoff, out_folder = out_folder, save_fig = False)\n",
    "        \n",
    "        \n",
    "plot_all_dam_periods()"
   ]
  },
  {
   "cell_type": "code",
   "execution_count": null,
   "id": "76d2a3cb-c083-4899-863d-6f30821aba75",
   "metadata": {},
   "outputs": [],
   "source": [
    "ax = m.plot(inactive = False)"
   ]
  },
  {
   "cell_type": "code",
   "execution_count": null,
   "id": "e02f8d98-24b1-4958-b345-3bf5e702961f",
   "metadata": {},
   "outputs": [],
   "source": [
    "f =    \"1         1       0      11         51      9\\n \\\n",
    "116       1       0        6          0.61   0.5  {:}          10.00       0.25       1     56    1 #{:}\\n\"\n",
    "f.format(1,2)"
   ]
  },
  {
   "cell_type": "code",
   "execution_count": null,
   "id": "4a9ab9f6-703d-4b3e-9667-944dde8d967e",
   "metadata": {
    "tags": []
   },
   "outputs": [],
   "source": [
    "cnt = 0\n",
    "for ind, d in stg.iterrows():\n",
    "    print(d['Value'])\n",
    "    print(ind)\n",
    "    name = f\"RR_2022/ref/dam_stage/day{cnt}.dat\"\n",
    "    print(name)\n",
    "    with open(name,'w') as out:\n",
    "        out.write(f.format(d['Value'], ind.strftime(\"%y %b %d\")))\n",
    "   \n",
    "    cnt = cnt+1\n",
    "    \n"
   ]
  },
  {
   "cell_type": "code",
   "execution_count": null,
   "id": "97e19c3c-fd6b-481a-b2eb-c727de4c1a5e",
   "metadata": {},
   "outputs": [],
   "source": []
  },
  {
   "cell_type": "code",
   "execution_count": null,
   "id": "a708245c-d28d-4426-83ef-4a19fa161515",
   "metadata": {
    "tags": []
   },
   "outputs": [],
   "source": [
    "\n",
    "\n",
    "cnt = 1\n",
    "# for ind, d in stg.iterrows():\n",
    "for ind in range(2,367):\n",
    "   \n",
    "    print(\n",
    "r\"# ITMP IRDBND IRDRAI IRDEVP IRDLIN IRDGEO IRDSTR IRDSTG IPTFLG [IRDAUX]   #\\\n",
    "    1    -1    0      0       0       -1      2       0    1   # 5              #\")\n",
    "    print(f\"#open/close 'ref\\pond\\day{ind}.dat\")\n",
    "    print(r\"open/close 'ref\\nstruct.dat'\")\n",
    "    print(f\"open/close 'ref\\dam_stage\\day{ind}.dat'\")\n",
    "    \n",
    "    # cnt = cnt+1"
   ]
  },
  {
   "cell_type": "code",
   "execution_count": null,
   "id": "eda3a20f-4add-4716-b05f-a63d40a87bb2",
   "metadata": {},
   "outputs": [],
   "source": []
  },
  {
   "cell_type": "code",
   "execution_count": null,
   "id": "9d6e8c77-fd01-41c3-963e-4beeebf73892",
   "metadata": {},
   "outputs": [],
   "source": []
  },
  {
   "cell_type": "code",
   "execution_count": null,
   "id": "612c3f5e-823d-4942-aaf4-9ab5f127a445",
   "metadata": {},
   "outputs": [],
   "source": []
  }
 ],
 "metadata": {
  "kernelspec": {
   "display_name": "Python 3 (ipykernel)",
   "language": "python",
   "name": "python3"
  },
  "language_info": {
   "codemirror_mode": {
    "name": "ipython",
    "version": 3
   },
   "file_extension": ".py",
   "mimetype": "text/x-python",
   "name": "python",
   "nbconvert_exporter": "python",
   "pygments_lexer": "ipython3",
   "version": "3.10.4"
  }
 },
 "nbformat": 4,
 "nbformat_minor": 5
}
