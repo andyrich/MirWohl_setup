{
 "cells": [
  {
   "cell_type": "markdown",
   "metadata": {
    "cell_marker": "\"\"\""
   },
   "source": [
    "# River Network"
   ]
  },
  {
   "cell_type": "code",
   "execution_count": null,
   "metadata": {
    "tags": []
   },
   "outputs": [],
   "source": [
    "import geopandas as gpd\n",
    "import matplotlib.patches as mpatches\n",
    "import matplotlib.pyplot as plt\n",
    "import numpy as np\n",
    "import pandas as pd\n",
    "\n",
    "import contextily as ctx\n",
    "import os"
   ]
  },
  {
   "cell_type": "code",
   "execution_count": null,
   "metadata": {},
   "outputs": [],
   "source": [
    "import sfrmaker"
   ]
  },
  {
   "cell_type": "code",
   "execution_count": null,
   "metadata": {},
   "outputs": [],
   "source": [
    "import flopy"
   ]
  },
  {
   "cell_type": "code",
   "execution_count": null,
   "metadata": {},
   "outputs": [],
   "source": [
    "import basic\n",
    "m = basic.load_model()"
   ]
  },
  {
   "cell_type": "code",
   "execution_count": null,
   "metadata": {
    "tags": []
   },
   "outputs": [],
   "source": [
    "import warnings\n",
    "\n",
    "warnings.filterwarnings(\"ignore\")"
   ]
  },
  {
   "cell_type": "code",
   "execution_count": null,
   "metadata": {},
   "outputs": [],
   "source": [
    "import pyproj\n",
    "import proplot as pplt"
   ]
  },
  {
   "cell_type": "code",
   "execution_count": null,
   "metadata": {},
   "outputs": [],
   "source": [
    "import rioxarray  # noqa: F401\n",
    "import xarray as xr"
   ]
  },
  {
   "cell_type": "markdown",
   "metadata": {},
   "source": [
    "Now, let's use [WaterData](https://labs.waterdata.usgs.gov/geoserver/web/) service to get the headwater catchments for this basin:"
   ]
  },
  {
   "cell_type": "code",
   "execution_count": null,
   "metadata": {},
   "outputs": [],
   "source": [
    "lines = sfrmaker.Lines.from_nhdplus_hr(r\"C:\\GIS\\shapefiles\\NHD\\NHDPLUS_H_1801_HU4_GDB\\NHDPLUS_H_1801_HU4_GDB.gdb\")"
   ]
  },
  {
   "cell_type": "markdown",
   "metadata": {},
   "source": [
    "## if running again, check to make sure of the following\n",
    "- that the streamflow ending at TOP of SWR does not get routed to next SFR via SFR. this has lead to double counting of flow below SWR\n",
    "- make sure that the number of days in tab files matches length of run \n",
    "- the re-read (-1) at end of file is copied number of days"
   ]
  },
  {
   "cell_type": "code",
   "execution_count": null,
   "metadata": {
    "tags": []
   },
   "outputs": [],
   "source": [
    "sfrdata = lines.to_sfr( model=m, model_length_units='feet')"
   ]
  },
  {
   "cell_type": "code",
   "execution_count": null,
   "metadata": {},
   "outputs": [],
   "source": [
    "# load SWR cells to remove from processing\n",
    "\n",
    "swr = gpd.read_file(\"GIS/SWR_Reaches.shp\")\n",
    "\n",
    "ib1 = m.bas6.ibound.array[0]\n",
    "ib1[swr.loc[:,'i'],swr.loc[:,'j']] = 0\n",
    "ib2 = m.bas6.ibound.array[1]\n",
    "ib2[swr.loc[:,'i'],swr.loc[:,'j']] = 0\n",
    "ib3 = m.bas6.ibound.array[2]\n",
    "ib3[swr.loc[:,'i'],swr.loc[:,'j']] = 0\n",
    "\n",
    "plt.imshow(ib1)\n",
    "\n",
    "m.bas6.ibound = [ib1, ib2, ib3]\n",
    "\n",
    "\n",
    "plt.figure()\n",
    "m.bas6.ibound.plot( inactive  = True)"
   ]
  },
  {
   "cell_type": "code",
   "execution_count": null,
   "metadata": {
    "tags": []
   },
   "outputs": [],
   "source": [
    "\n",
    "\n",
    "sfrdata = lines.to_sfr( model=m, model_length_units='feet')\n",
    "\n"
   ]
  },
  {
   "cell_type": "code",
   "execution_count": null,
   "metadata": {},
   "outputs": [],
   "source": []
  },
  {
   "cell_type": "code",
   "execution_count": null,
   "metadata": {},
   "outputs": [],
   "source": []
  },
  {
   "cell_type": "code",
   "execution_count": null,
   "metadata": {},
   "outputs": [],
   "source": [
    "plt.imshow(np.ma.array(m.dis.top.array, mask = m.bas6.ibound.array[0]==0), vmax = 200, vmin = 30)"
   ]
  },
  {
   "cell_type": "code",
   "execution_count": null,
   "metadata": {},
   "outputs": [],
   "source": []
  },
  {
   "cell_type": "code",
   "execution_count": null,
   "metadata": {},
   "outputs": [],
   "source": [
    "sfrdata.mf5names"
   ]
  },
  {
   "cell_type": "code",
   "execution_count": null,
   "metadata": {},
   "outputs": [],
   "source": [
    "sfr_reach = sfrdata.reach_data\n",
    "sfr_reach.loc[:,'width'] = sfr_reach.loc[:,'width'].where(sfr_reach.loc[:,'width']<30,30)\n",
    "sfr_reach.loc[:,'model_top'] = m.dis.top.array[sfr_reach.loc[:,'i'], sfr_reach.loc[:,'j']]\n",
    "\n",
    "sfr_reach.loc[:,'top_diff'] = sfr_reach.loc[:,'model_top'] - sfr_reach.loc[:,'strtop']\n",
    "\n",
    "display(sfr_reach.filter(regex = 'top').describe())\n",
    "\n",
    "plt.scatter(sfr_reach.loc[:,'model_top'],sfr_reach.loc[:,'strtop'])\n",
    "plt.figure()\n",
    "plt.scatter(sfr_reach.loc[:,'model_top'],sfr_reach.loc[:,'top_diff'])"
   ]
  },
  {
   "cell_type": "code",
   "execution_count": null,
   "metadata": {},
   "outputs": [],
   "source": []
  },
  {
   "cell_type": "markdown",
   "metadata": {},
   "source": [
    "# update sfr strtop to top of model top"
   ]
  },
  {
   "cell_type": "code",
   "execution_count": null,
   "metadata": {},
   "outputs": [],
   "source": [
    "# sfrdata.reach_data.loc[:,'strtop'] = m.dis.top.array[sfrdata.reach_data.loc[:,'i'], sfrdata.reach_data.loc[:,'j']]\n",
    "# sfrdata.reach_data.loc[:,'strhc1'] = sfr_info['hcond1'] # hyd k =0.4m/day from zhang\n",
    "# sfrdata.reach_data.loc[:,'strhc1'] = 1e-15\n",
    "# # sfrdata.reach_data.loc[:,'hcond1'] = 0.000015 # hyd k =0.4m/day from zhang\n",
    "# sfr_flopy.reach_data['strthick'] = 10."
   ]
  },
  {
   "cell_type": "markdown",
   "metadata": {},
   "source": [
    "# info for tabfiles"
   ]
  },
  {
   "cell_type": "code",
   "execution_count": null,
   "metadata": {},
   "outputs": [],
   "source": [
    "\n",
    "info, swr_info,sfr_info, riv_keys = basic.load_params(run_name='pest2014trans')\n",
    "riv_keys\n",
    "\n",
    "# get length of files\n",
    "for k in riv_keys:\n",
    "\n",
    "    x =  riv_keys[k]\n",
    "    with open(os.path.join(m.model_ws,'ref', x['file']), 'r') as temp:\n",
    "        num = temp.readlines()\n",
    "    x['numval'] = len(num)\n",
    "    riv_keys[k] =x\n",
    "\n",
    "tabfiles_dict = {riv_keys[key]['iseg']:{'numval':riv_keys[key]['numval'],\n",
    "                                       'inuit':riv_keys[key]['inuit']} \n",
    "                 for key in riv_keys.keys()}\n",
    "tabfiles = True\n",
    "tabfiles_dict"
   ]
  },
  {
   "cell_type": "code",
   "execution_count": null,
   "metadata": {},
   "outputs": [],
   "source": []
  },
  {
   "cell_type": "code",
   "execution_count": null,
   "metadata": {},
   "outputs": [],
   "source": []
  },
  {
   "cell_type": "code",
   "execution_count": null,
   "metadata": {},
   "outputs": [],
   "source": [
    "dataset5 = sfrdata.modflow_sfr2.dataset_5\n",
    "for x in  np.arange(1,m.dis.nper):\n",
    "    dataset5[x]=[-1,0,0] "
   ]
  },
  {
   "cell_type": "code",
   "execution_count": null,
   "metadata": {},
   "outputs": [],
   "source": [
    "filename = 'RR_2022/sfr_only.sfr'"
   ]
  },
  {
   "cell_type": "code",
   "execution_count": null,
   "metadata": {},
   "outputs": [],
   "source": [
    "sfr_flopy = sfrdata.modflow_sfr2"
   ]
  },
  {
   "cell_type": "code",
   "execution_count": null,
   "metadata": {},
   "outputs": [],
   "source": [
    "icalc = 2"
   ]
  },
  {
   "cell_type": "code",
   "execution_count": null,
   "metadata": {},
   "outputs": [],
   "source": [
    "if icalc ==1:\n",
    "    sfr_flopy.segment_data[0]['width2'] = np.where(sfr_flopy.segment_data[0]['width2']<30,\n",
    "                                                   sfr_flopy.segment_data[0]['width2'], 30 )\n",
    "elif icalc ==2:\n",
    "    # sfr_flopy.segment_data[0]['width2']\n",
    "    sfr_flopy.segment_data[0]['icalc'] = 2\n",
    "    \n",
    "    sfr_flopy.segment_data[0]['roughbk'] = 0.037"
   ]
  },
  {
   "cell_type": "code",
   "execution_count": null,
   "metadata": {},
   "outputs": [],
   "source": []
  },
  {
   "cell_type": "code",
   "execution_count": null,
   "metadata": {},
   "outputs": [],
   "source": [
    "pd.DataFrame(sfr_flopy.segment_data[0]).columns"
   ]
  },
  {
   "cell_type": "code",
   "execution_count": null,
   "metadata": {},
   "outputs": [],
   "source": [
    "sfr_flopy.dataset_5 = dataset5\n",
    "sfr_flopy.tabfiles = tabfiles\n",
    "sfr_flopy.numtab = 3\n",
    "sfr_flopy.tabfiles_dict = tabfiles_dict\n",
    "sfr_flopy.istcb2 = 746\n",
    "sfr_flopy.ipakcb = 1\n",
    "sfr_flopy.const = 1.486"
   ]
  },
  {
   "cell_type": "code",
   "execution_count": null,
   "metadata": {},
   "outputs": [],
   "source": [
    "sfr_flopy.maxval = 1095"
   ]
  },
  {
   "cell_type": "code",
   "execution_count": null,
   "metadata": {},
   "outputs": [],
   "source": []
  },
  {
   "cell_type": "code",
   "execution_count": null,
   "metadata": {},
   "outputs": [],
   "source": [
    "sfr_flopy.options= flopy.modflow.mfsfr2.OptionBlock('tabfiles 3 365\\ntransroute\\n', flopy.modflow.ModflowSfr2)\n",
    "# sfr_flopy.options= flopy.modflow.mfsfr2.OptionBlock('tabfiles 3 365', flopy.modflow.ModflowSfr2)"
   ]
  },
  {
   "cell_type": "code",
   "execution_count": null,
   "metadata": {},
   "outputs": [],
   "source": [
    "sfr_flopy.options"
   ]
  },
  {
   "cell_type": "code",
   "execution_count": null,
   "metadata": {},
   "outputs": [],
   "source": [
    "sfr_flopy.reach_data['strtop'] = m.dis.top.array[sfr_flopy.reach_data['i'], sfr_flopy.reach_data['j']]\n",
    "sfr_flopy.reach_data['strhc1'] = sfr_info['hcond1'] # hyd k =0.4m/day from zhang\n",
    "# sfr_flopy.reach_data['strhc1'] = 1e-15\n",
    "# sfrdata.reach_data.loc[:,'hcond1'] = 0.000015 # hyd k =0.4m/day from zhang\n",
    "sfr_flopy.reach_data['strthick'] = 10."
   ]
  },
  {
   "cell_type": "code",
   "execution_count": null,
   "metadata": {},
   "outputs": [],
   "source": [
    "sfr_info['hcond1']"
   ]
  },
  {
   "cell_type": "code",
   "execution_count": null,
   "metadata": {},
   "outputs": [],
   "source": [
    "pd.DataFrame(sfr_flopy.segment_data[0]).columns"
   ]
  },
  {
   "cell_type": "code",
   "execution_count": null,
   "metadata": {},
   "outputs": [],
   "source": [
    "pd.DataFrame(sfr_flopy.reach_data).head()"
   ]
  },
  {
   "cell_type": "code",
   "execution_count": null,
   "metadata": {},
   "outputs": [],
   "source": [
    "from io import StringIO"
   ]
  },
  {
   "cell_type": "code",
   "execution_count": null,
   "metadata": {},
   "outputs": [],
   "source": [
    "# cross section geometry from section 98 (or 97 ??) from SWR geometry\n",
    "geo = '''0.0\t63.199999999999996\n",
    "26.854843138249844\t58.559999999999995\n",
    "42.997819711460366\t55.53\n",
    "58.380553268229235\t54.54\n",
    "73.38335574147675\t54.15\n",
    "78.1642028035381\t54.65\n",
    "86.67570651494495\t56.91\n",
    "91.34657355283481\t55.78\n",
    "103.7588935940099\t55.08\n",
    "119.42176685959176\t54.269999999999996\n",
    "136.15482694333704\t54.05\n",
    "147.48677127115275\t53.489999999999995\n",
    "162.79951750498233\t53.46\n",
    "164.01986769830236\t52.28\n",
    "169.2308272737203\t53.089999999999996\n",
    "173.37160003861277\t53.72\n",
    "192.30502281487412\t53.6\n",
    "205.4374026310002\t53.86\n",
    "208.6279667253115\t52.23\n",
    "212.65856883664918\t53.519999999999996\n",
    "220.7501488107839\t52.41\n",
    "227.27125159109005\t50.48\n",
    "237.09308910196404\t50.129999999999995\n",
    "240.07369139428582\t50.03\n",
    "244.72456210984552\t50.57\n",
    "258.8571414888715\t48.449999999999996\n",
    "268.3790338300319\t44.94\n",
    "277.48081194892603\t42.239999999999995\n",
    "285.2922522600216\t40.559999999999995\n",
    "293.11369074091533\t39.309999999999995\n",
    "306.41623080319374\t38.559999999999995\n",
    "336.14188804643715\t37.85\n",
    "340.7727625558931\t37.44\n",
    "359.52641029550983\t35.629999999999995\n",
    "373.03891191108704\t34.48\n",
    "402.00451800913913\t33.86\n",
    "434.5506159238245\t33.559999999999995\n",
    "452.2240794116301\t33.33\n",
    "466.4866344274813\t31.04\n",
    "470.13730558191816\t32.26\n",
    "474.4482396420468\t33.68\n",
    "475.37845239256797\t34.199999999999996\n",
    "480.999528585266\t37.3\n",
    "481.30947092255474\t37.75\n",
    "483.4900297828913\t40.76\n",
    "487.19069161842543\t43.16\n",
    "492.76177712960526\t46.75\n",
    "497.0725183507133\t49.55\n",
    "498.63280678181485\t49.69\n",
    "503.4836404488846\t50.19\n",
    "509.5348295253918\t50.94\n",
    "513.0955174234158\t51.26\n",
    "513.7557805019808\t51.269999999999996\n",
    "514.5458263354556\t51.35\n",
    "519.9169491364388\t51.87\n",
    "526.6182101860251\t52.51\n",
    "532.9193527160802\t53.19\n",
    "533.2694805629903\t53.23\n",
    "538.3002806047947\t54.879999999999995\n",
    "542.7311924883978\t56.449999999999996\n",
    "545.3416713393804\t57.489999999999995\n",
    "546.2018971951618\t57.769999999999996\n",
    "547.3220745591356\t58.1\n",
    "549.9225552742004\t58.089999999999996\n",
    "552.3030770321495\t57.699999999999996\n",
    "555.02353535676\t57.79\n",
    "558.724197166263\t58.589999999999996\n",
    "562.414860845214\t58.79\n",
    "566.4056616946841\t58.71\n",
    "571.1665120606534\t59.269999999999996\n",
    "572.1167211327994\t59.26\n",
    "573.3070786229205\t59.01\n",
    "575.1973054525124\t58.96\n",
    "575.2672923946767\t58.94\n",
    "577.6778085570465\t58.21\n",
    "579.0381343224805\t58.28\n",
    "581.5586299756314\t58.78\n",
    "584.1391144232833\t59.54\n",
    "584.7791881555926\t59.53\n",
    "587.0295409942454\t58.739999999999995\n",
    "588.5898294223513\t58.83\n",
    "589.670207488491\t59.12\n",
    "591.100326932042\t59.42\n",
    "595.1811110067642\t59.48\n",
    "596.4514535985497\t59.41\n",
    "603.3926698255411\t59.22\n",
    "605.6832084507809\t59.309999999999995\n",
    "607.1135211803471\t59.559999999999995\n",
    "612.4944489543274\t60.739999999999995\n",
    "615.3050837587494\t61.08\n",
    "619.6658155003944\t61.39\n",
    "623.8765752933208\t61.93\n",
    "627.3972707138291\t62.199999999999996\n",
    "629.0475423206332\t62.35\n",
    "631.9481602939568\t62.8'''\n",
    "\n",
    "\n",
    "geo = pd.read_csv(StringIO(geo), sep=\"\\t\", names = ['x','SWR Geometry'])\n",
    "\n",
    "ax = geo.set_index('x').plot(label = 'raw points')\n",
    "print(geo.shape)\n",
    "pts = [0, 20,29,34, 37, 38,49 ,  geo.shape[0]-1]\n",
    "\n",
    "geo.loc[pts].set_index('x').rename(columns = {'SWR Geometry':\"SFR Geometry\"}).plot(\n",
    "    ls = '-', c = 'r', ax = ax, marker = 'o')\n",
    "\n",
    "geo = [geo.loc[pts,'x'].apply(lambda x: np.round(x,0)).values, geo.loc[pts,'SWR Geometry'].values, ]\n",
    "geo"
   ]
  },
  {
   "cell_type": "code",
   "execution_count": null,
   "metadata": {},
   "outputs": [],
   "source": [
    "\n"
   ]
  },
  {
   "cell_type": "code",
   "execution_count": null,
   "metadata": {},
   "outputs": [],
   "source": []
  },
  {
   "cell_type": "code",
   "execution_count": null,
   "metadata": {},
   "outputs": [],
   "source": [
    "geo"
   ]
  },
  {
   "cell_type": "code",
   "execution_count": null,
   "metadata": {},
   "outputs": [],
   "source": []
  },
  {
   "cell_type": "code",
   "execution_count": null,
   "metadata": {},
   "outputs": [],
   "source": [
    "\n",
    "if icalc==2:\n",
    "    \n",
    "    markwest_geo = pd.read_csv('GIS\\Stream_GEO\\markwest_creek_xsection.csv', index_col = [0])\n",
    "    \n",
    "    markwest_geo = [markwest_geo.values[:,0], markwest_geo.values[:,1]]\n",
    "    \n",
    "    # including both makes it crash...\n",
    "    # mw_segments = [50, 55]\n",
    "    #downstream only\n",
    "    mw_segments = [55]\n",
    "    # geo = [[0,1,2,3,4],[10,1,2,10,30]]\n",
    "    # geo = [[0,\t11.1,\t22.21,\t33.31,\t44.41,\t55.51,\t66.62,\t120],\n",
    "    # [7.77,\t3.11,\t2.33,\t0,\t0.78,\t2.33,\t3.11,\t10]]\n",
    "\n",
    "    fig, ax = plt.subplots()\n",
    "    ax.scatter(geo[0], geo[1])\n",
    "    ax.set_title('geometry points for channel geometry')\n",
    "    \n",
    "    channel_geo =  {x:geo for x in\n",
    "                sfr_flopy.segment_data[0].nseg}\n",
    "    \n",
    "    for seg in mw_segments:\n",
    "        channel_geo[seg] = markwest_geo\n",
    "        \n",
    "    channel_geo = {0:channel_geo}\n",
    "    \n",
    "    \n",
    "    \n",
    "    sfr_flopy.channel_geometry_data = channel_geo"
   ]
  },
  {
   "cell_type": "code",
   "execution_count": null,
   "metadata": {},
   "outputs": [],
   "source": [
    "testing = False"
   ]
  },
  {
   "cell_type": "code",
   "execution_count": null,
   "metadata": {},
   "outputs": [],
   "source": []
  },
  {
   "cell_type": "code",
   "execution_count": null,
   "metadata": {},
   "outputs": [],
   "source": [
    "if testing:\n",
    "    print(f\"writing testing file for sfr {filename.replace('sfr_','sfr_test')}\")\n",
    "    sfr_flopy.write_file(filename=filename.replace('sfr_',\"sfr_test\"))\n",
    "else:\n",
    "    sfr_flopy.write_file(filename=filename)"
   ]
  },
  {
   "cell_type": "code",
   "execution_count": null,
   "metadata": {},
   "outputs": [],
   "source": []
  },
  {
   "cell_type": "code",
   "execution_count": null,
   "metadata": {},
   "outputs": [],
   "source": []
  },
  {
   "cell_type": "code",
   "execution_count": null,
   "metadata": {},
   "outputs": [],
   "source": []
  },
  {
   "cell_type": "code",
   "execution_count": null,
   "metadata": {},
   "outputs": [],
   "source": []
  },
  {
   "cell_type": "code",
   "execution_count": null,
   "metadata": {},
   "outputs": [],
   "source": []
  },
  {
   "cell_type": "code",
   "execution_count": null,
   "metadata": {},
   "outputs": [],
   "source": []
  },
  {
   "cell_type": "code",
   "execution_count": null,
   "metadata": {},
   "outputs": [],
   "source": [
    "import conda_scripts.arich_functions as af\n",
    "import conda_scripts.utils as rg"
   ]
  },
  {
   "cell_type": "code",
   "execution_count": null,
   "metadata": {},
   "outputs": [],
   "source": []
  },
  {
   "cell_type": "code",
   "execution_count": null,
   "metadata": {},
   "outputs": [],
   "source": [
    "sfr_flopy.options"
   ]
  },
  {
   "cell_type": "code",
   "execution_count": null,
   "metadata": {},
   "outputs": [],
   "source": [
    "geom = af.get_model_shp(m.modelgrid, 2226)\n",
    "sfr_data_spat = pd.DataFrame(sfr_flopy.reach_data)\n",
    "\n",
    "sfr_data_spat = gpd.GeoDataFrame(pd.merge(geom, sfr_data_spat), geometry = 'geometry', crs = 2226)"
   ]
  },
  {
   "cell_type": "code",
   "execution_count": null,
   "metadata": {},
   "outputs": [],
   "source": []
  },
  {
   "cell_type": "code",
   "execution_count": null,
   "metadata": {},
   "outputs": [],
   "source": []
  },
  {
   "cell_type": "code",
   "execution_count": null,
   "metadata": {},
   "outputs": [],
   "source": [
    "mmm= sfr_data_spat.astype({'iseg':np.float64}).explore( name = 'sfr')\n",
    "mmm"
   ]
  },
  {
   "cell_type": "code",
   "execution_count": null,
   "metadata": {},
   "outputs": [],
   "source": [
    "swr = gpd.read_file(r'SFR_files\\only_sfr_cells.shp')\n",
    "swr.explore()"
   ]
  },
  {
   "cell_type": "code",
   "execution_count": null,
   "metadata": {},
   "outputs": [],
   "source": [
    "swr = gpd.read_file(r'SFR_files\\only_sfr_cells.shp')\n",
    "mmm= sfr_data_spat.loc[~sfr_data_spat.loc[:,'node'].isin(swr.node)].explore(style_kwds  = dict(fillColor  = 'w', color = 'r'), name = 'sfr')\n",
    "\n",
    "# swr.explore(m = mmm, style_kwds  = dict(fillColor  = 'c'), name = 'swr')\n",
    "rg.folium_maps.add_layers(mmm)\n",
    "mmm"
   ]
  },
  {
   "cell_type": "code",
   "execution_count": null,
   "metadata": {},
   "outputs": [],
   "source": [
    "pd.DataFrame(sfr_flopy.segment_data[0]).width2"
   ]
  },
  {
   "cell_type": "code",
   "execution_count": null,
   "metadata": {},
   "outputs": [],
   "source": []
  },
  {
   "cell_type": "code",
   "execution_count": null,
   "metadata": {},
   "outputs": [],
   "source": []
  },
  {
   "cell_type": "code",
   "execution_count": null,
   "metadata": {},
   "outputs": [],
   "source": []
  },
  {
   "cell_type": "code",
   "execution_count": null,
   "metadata": {
    "tags": []
   },
   "outputs": [],
   "source": [
    "\n",
    "# sfrdata.write_package(filename=filename, version='mfnwt',\n",
    "#                                  tabfiles=tabfiles,\n",
    "#                                 tabfiles_dict=tabfiles_dict,\n",
    "#                       dataset_5= dataset5\n",
    "#                                  )\n",
    "\n",
    "with open(filename, 'a') as temp:\n",
    "    for _ in range(m.dis.nper*4):\n",
    "        temp.write('-1\\n')\n"
   ]
  },
  {
   "cell_type": "code",
   "execution_count": null,
   "metadata": {},
   "outputs": [],
   "source": [
    "sfrdata.write_shapefiles(r'SFR_files\\sfr_only.shp')"
   ]
  },
  {
   "cell_type": "code",
   "execution_count": null,
   "metadata": {},
   "outputs": [],
   "source": [
    "mod = gpd.read_file('GIS/grid.shp')"
   ]
  },
  {
   "cell_type": "code",
   "execution_count": null,
   "metadata": {},
   "outputs": [],
   "source": [
    "outlets"
   ]
  },
  {
   "cell_type": "code",
   "execution_count": null,
   "metadata": {},
   "outputs": [],
   "source": [
    "cells.query(\"name=='Russian River'\").sort_values('outreach')"
   ]
  },
  {
   "cell_type": "code",
   "execution_count": null,
   "metadata": {},
   "outputs": [],
   "source": []
  },
  {
   "cell_type": "code",
   "execution_count": null,
   "metadata": {},
   "outputs": [],
   "source": []
  },
  {
   "cell_type": "code",
   "execution_count": null,
   "metadata": {},
   "outputs": [],
   "source": [
    "mod_boundary = gpd.read_file(\"GIS/model_boundary.shp\")\n",
    "mod_boundary = gpd.GeoDataFrame(mod_boundary)"
   ]
  },
  {
   "cell_type": "code",
   "execution_count": null,
   "metadata": {},
   "outputs": [],
   "source": []
  },
  {
   "cell_type": "code",
   "execution_count": null,
   "metadata": {},
   "outputs": [],
   "source": [
    "mw = cells.explore('name')\n",
    "\n",
    "swr.explore(color = 'black', m = mw, name = 'SWR Reaches')\n",
    "# mod_boundary.explore(m=m, style_kwds = {'fill':False})\n"
   ]
  },
  {
   "cell_type": "code",
   "execution_count": null,
   "metadata": {},
   "outputs": [],
   "source": [
    "# routing = gpd.read_file('SFR_files\\only_sfr_routing.shp')\n",
    "cells = gpd.read_file('SFR_files\\only_sfr_cells.shp')\n",
    "outlets = gpd.read_file('SFR_files\\only_sfr_outlets.shp')\n",
    "model_boundary_5070 = mod.to_crs(epsg=2226)\n",
    "\n",
    "fig, ax = plt.subplots(figsize=(10,8))\n",
    "cells.plot('name',ax = ax, zorder = 200, facecolor = 'r')\n",
    "# routing.plot(ax=ax, zorder=3)\n",
    "outlets.plot(ax=ax, c='red', zorder=4, label='outlets')\n",
    "model_boundary_5070.plot(ax=ax, facecolor='None', \n",
    "                         edgecolor='gray',\n",
    "                         zorder=1\n",
    "                        ) \n",
    "\n",
    "LegendElement = [\n",
    "    mpatches.mlines.Line2D([], [], color='red', linewidth=0., marker='o', label='sfr outlet'),\n",
    "    mpatches.mlines.Line2D([], [], color='#1f77b4', label='sfr routing'),\n",
    "    mpatches.Patch(facecolor='None', edgecolor='gray', label='Model Boundary\\n(active area)')\n",
    "]\n",
    "\n",
    "ax.legend(handles=LegendElement, loc='upper left')\n",
    "\n",
    "\n",
    "f = flopy.plot.PlotMapView(m, ax =  ax)\n",
    "# f.plot_array(m.bas6.ibound[0])\n",
    "f.plot_ibound(color_noflow = 'black', alpha = .1)\n",
    "ctx.add_basemap(ax, crs = 2226)\n",
    "plt.show()"
   ]
  },
  {
   "cell_type": "code",
   "execution_count": null,
   "metadata": {},
   "outputs": [],
   "source": [
    "mlnew = basic.load_model()"
   ]
  },
  {
   "cell_type": "code",
   "execution_count": null,
   "metadata": {},
   "outputs": [],
   "source": [
    "mlnew.sfr.check()"
   ]
  },
  {
   "cell_type": "code",
   "execution_count": null,
   "metadata": {},
   "outputs": [],
   "source": [
    "mlnew.sfr.stress_period_data.df"
   ]
  },
  {
   "cell_type": "code",
   "execution_count": null,
   "metadata": {},
   "outputs": [],
   "source": [
    "mlnew.sfr.plot()"
   ]
  },
  {
   "cell_type": "code",
   "execution_count": null,
   "metadata": {},
   "outputs": [],
   "source": []
  }
 ],
 "metadata": {
  "interpreter": {
   "hash": "003c82ad5971cfdf345b67bc4c483230f4144cd11e9aff06d93cf3af71d62f25"
  },
  "kernelspec": {
   "display_name": "Python 3 (ipykernel)",
   "language": "python",
   "name": "python3"
  },
  "language_info": {
   "codemirror_mode": {
    "name": "ipython",
    "version": 3
   },
   "file_extension": ".py",
   "mimetype": "text/x-python",
   "name": "python",
   "nbconvert_exporter": "python",
   "pygments_lexer": "ipython3",
   "version": "3.9.16"
  }
 },
 "nbformat": 4,
 "nbformat_minor": 4
}
