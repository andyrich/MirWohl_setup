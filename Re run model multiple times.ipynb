{
 "cells": [
  {
   "cell_type": "code",
   "execution_count": null,
   "id": "7161c940-b5c3-4bfd-94a1-139a1b5c0a80",
   "metadata": {},
   "outputs": [],
   "source": [
    "import flopy\n",
    "import os\n",
    "import geopandas as gpd\n",
    "import matplotlib.patches as mpatches\n",
    "import matplotlib.pyplot as plt\n",
    "import geopandas as gpd\n",
    "import basic\n",
    "import contextily as ctx\n",
    "import pandas as pd\n",
    "import numpy as np\n",
    "import cartopy.crs as ccrs\n",
    "import os\n",
    "import matplotlib.pyplot as plt\n",
    "\n",
    "import flopy.utils.binaryfile as bf"
   ]
  },
  {
   "cell_type": "code",
   "execution_count": null,
   "id": "5ca6a646-7e39-409b-8ff6-dd8ab7e08653",
   "metadata": {},
   "outputs": [],
   "source": [
    "m = basic.load_model()"
   ]
  },
  {
   "cell_type": "code",
   "execution_count": null,
   "id": "9d7f3e48-4fc8-4f2a-ba86-5107f0f2af95",
   "metadata": {},
   "outputs": [],
   "source": [
    "\n",
    "def set_starting_heads():\n",
    "    hdsobj = bf.HeadFile(os.path.join(m.model_ws, 'Results','RRbin.hds'))\n",
    "    hds = hdsobj.get_data(kstpkper=hdsobj.get_kstpkper()[-1])\n",
    "    hds.shape\n",
    "    swr = gpd.read_file(\"GIS/SWR_Reaches.shp\")\n",
    "    fig, axes = plt.subplots(1, 3, figsize=(20, 8.5), subplot_kw=dict(projection=ccrs.epsg(2226)))\n",
    "    axes = axes.flat\n",
    "    grid = m.modelgrid\n",
    "    for i, hdslayer in enumerate(hds):\n",
    "\n",
    "        # if i==0:\n",
    "        #     warnings.warn('setting thalweg elevations as starting heads')\n",
    "        #     hdslayer[min_elev.loc[:,'i'],min_elev.loc[:,'j']] = min_elev.loc[:,'thalweg']\n",
    "\n",
    "        filename = os.path.join(m.model_ws, 'inputs', f\"start_head_lay{i+1}.txt\")\n",
    "        np.savetxt(filename, hdslayer, fmt = '%.3f', delimiter = ',')\n",
    "\n",
    "        mapview = flopy.plot.PlotMapView(m,ax = axes[i])\n",
    "        linecollection = mapview.plot_grid(linewidth = .3)\n",
    "\n",
    "        quadmesh = mapview.plot_array(hdslayer, vmax = 80,vmin  =20, cmap = 'gist_ncar_r')\n",
    "        ctx.add_basemap(axes[i], crs = 2226)\n",
    "        # ax.set_title(f\"layer {lay+1} elevation (feet)\")\n",
    "        # Hide X and Y axes tick marks\n",
    "        axes[i].set_xticks([])\n",
    "        axes[i].set_yticks([])\n",
    "        basic.set_bounds(axes[i], 'mirabel')\n",
    "\n",
    "        swr.plot(ax = axes[i], facecolor = \"None\")\n",
    "\n",
    "        # hdslayer[hdslayer==-999] = np.nan\n",
    "        # im = axes[i].imshow(hdslayer, vmin=0, vmax=75)\n",
    "        axes[i].set_title(\"Layer {}\".format(i + 1))\n",
    "        # ctr = axes[i].contour(hdslayer, colors=\"k\", linewidths=0.5, vmax = 80,vmin  =20,cmap = 'gist_ncar_r')\n",
    "\n",
    "#         # export head rasters\n",
    "#         # (GeoTiff export requires the rasterio package; for ascii grids, just change the extension to *.asc)\n",
    "#         flopy.export.utils.export_array(\n",
    "#             grid, \"Output_heads/heads{}.tif\".format(i + 1), hdslayer\n",
    "#         )\n",
    "\n",
    "#         # export head contours to a shapefile\n",
    "#         flopy.export.utils.export_array_contours(\n",
    "#             grid, \"Output_heads/heads{}.shp\".format(i + 1), hdslayer\n",
    "#         )\n",
    "\n",
    "    # fig.delaxes(axes[-1])\n",
    "    fig.subplots_adjust(right=0.8)\n",
    "    cbar_ax = fig.add_axes([0.85, 0.15, 0.03, 0.7])\n",
    "    fig.colorbar(quadmesh, cax=cbar_ax, label=\"Head\")\n",
    "\n",
    "    \n"
   ]
  },
  {
   "cell_type": "code",
   "execution_count": null,
   "id": "4dee0a80-ed78-461c-b538-067e9ce181eb",
   "metadata": {},
   "outputs": [],
   "source": [
    "m.run_model(silent = Fa)"
   ]
  },
  {
   "cell_type": "code",
   "execution_count": null,
   "id": "e78e56ff-1c13-41b8-a8cc-c794dd186f50",
   "metadata": {},
   "outputs": [],
   "source": [
    "for i in range(5):\n",
    "    print(f\"running {i}\")\n",
    "    success, buff = m.run_model(silent = True)\n",
    "    if not success:\n",
    "        raise Exception(\"MODFLOW did not terminate normally.\")\n",
    "    else:\n",
    "        set_starting_heads()"
   ]
  }
 ],
 "metadata": {
  "kernelspec": {
   "display_name": "Python 3 (ipykernel)",
   "language": "python",
   "name": "python3"
  },
  "language_info": {
   "codemirror_mode": {
    "name": "ipython",
    "version": 3
   },
   "file_extension": ".py",
   "mimetype": "text/x-python",
   "name": "python",
   "nbconvert_exporter": "python",
   "pygments_lexer": "ipython3",
   "version": "3.10.4"
  }
 },
 "nbformat": 4,
 "nbformat_minor": 5
}
